{
 "cells": [
  {
   "cell_type": "code",
   "execution_count": 1,
   "metadata": {},
   "outputs": [],
   "source": [
    "%matplotlib inline\n",
    "\n",
    "import numpy as np\n",
    "import matplotlib.pyplot as plt"
   ]
  },
  {
   "cell_type": "code",
   "execution_count": 2,
   "metadata": {},
   "outputs": [
    {
     "data": {
      "text/plain": [
       "True"
      ]
     },
     "execution_count": 2,
     "metadata": {},
     "output_type": "execute_result"
    }
   ],
   "source": [
    "st = '20200202'\n",
    "st == st[::-1]"
   ]
  },
  {
   "cell_type": "code",
   "execution_count": 3,
   "metadata": {},
   "outputs": [],
   "source": [
    "days = [31, 29, 31, 30, 31, 30, 31, 31, 30, 31, 30, 31]"
   ]
  },
  {
   "cell_type": "code",
   "execution_count": 6,
   "metadata": {},
   "outputs": [
    {
     "data": {
      "text/plain": [
       "'03'"
      ]
     },
     "execution_count": 6,
     "metadata": {},
     "output_type": "execute_result"
    }
   ],
   "source": [
    "'3'.zfill(2)"
   ]
  },
  {
   "cell_type": "code",
   "execution_count": 8,
   "metadata": {},
   "outputs": [],
   "source": [
    "def palindrome(st):\n",
    "    return st==st[::-1]"
   ]
  },
  {
   "cell_type": "code",
   "execution_count": 14,
   "metadata": {},
   "outputs": [
    {
     "name": "stdout",
     "output_type": "stream",
     "text": [
      "20011002 是回文日!\n",
      "20100102 是回文日!\n",
      "20111102 是回文日!\n",
      "20200202 是回文日!\n",
      "20211202 是回文日!\n",
      "20300302 是回文日!\n",
      "20400402 是回文日!\n",
      "20500502 是回文日!\n",
      "20600602 是回文日!\n",
      "20700702 是回文日!\n",
      "20800802 是回文日!\n",
      "20900902 是回文日!\n"
     ]
    }
   ],
   "source": [
    "for year in range(100):\n",
    "    sty = str(2000+year)\n",
    "    for m in range(1, 13):\n",
    "        stm = sty + str(m).zfill(2)\n",
    "        for d in range(1, days[m-1]+1):\n",
    "            std = stm + str(d).zfill(2)\n",
    "            if palindrome(std):\n",
    "                print(std, '是回文日!')"
   ]
  },
  {
   "cell_type": "code",
   "execution_count": 13,
   "metadata": {},
   "outputs": [
    {
     "data": {
      "text/plain": [
       "'2099010102030405060708091011121314151617181920212223242526272829303102010203040506070809101112131415161718192021222324252627282903010203040506070809101112131415161718192021222324252627282930310401020304050607080910111213141516171819202122232425262728293005010203040506070809101112131415161718192021222324252627282930310601020304050607080910111213141516171819202122232425262728293007010203040506070809101112131415161718192021222324252627282930310801020304050607080910111213141516171819202122232425262728293031090102030405060708091011121314151617181920212223242526272829301001020304050607080910111213141516171819202122232425262728293031110102030405060708091011121314151617181920212223242526272829301201020304050607080910111213141516171819202122232425262728293031'"
      ]
     },
     "execution_count": 13,
     "metadata": {},
     "output_type": "execute_result"
    }
   ],
   "source": [
    "st"
   ]
  },
  {
   "cell_type": "code",
   "execution_count": null,
   "metadata": {},
   "outputs": [],
   "source": []
  }
 ],
 "metadata": {
  "kernelspec": {
   "display_name": "Python 3",
   "language": "python",
   "name": "python3"
  },
  "language_info": {
   "codemirror_mode": {
    "name": "ipython",
    "version": 3
   },
   "file_extension": ".py",
   "mimetype": "text/x-python",
   "name": "python",
   "nbconvert_exporter": "python",
   "pygments_lexer": "ipython3",
   "version": "3.7.3"
  }
 },
 "nbformat": 4,
 "nbformat_minor": 2
}
