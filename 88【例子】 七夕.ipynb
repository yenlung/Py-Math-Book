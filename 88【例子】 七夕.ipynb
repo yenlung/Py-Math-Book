{
 "cells": [
  {
   "cell_type": "code",
   "execution_count": 1,
   "metadata": {},
   "outputs": [],
   "source": [
    "from ipywidgets import interact"
   ]
  },
  {
   "cell_type": "code",
   "execution_count": 2,
   "metadata": {},
   "outputs": [
    {
     "name": "stdout",
     "output_type": "stream",
     "text": [
      "(●゜▽゜●)ゞ                                    ヾ(●゜▽゜●)\n"
     ]
    }
   ],
   "source": [
    "print(\"(●゜▽゜●)ゞ\" + \" \"*36 + \"ヾ(●゜▽゜●)\")"
   ]
  },
  {
   "cell_type": "code",
   "execution_count": 3,
   "metadata": {},
   "outputs": [],
   "source": [
    "def move(n=0):\n",
    "    if n<18:\n",
    "        print(\" \"*n + \"(●゜▽゜●)ゞ\" + \" \"*(36-2*n) + \"ヾ(●゜▽゜●)\")\n",
    "    else:\n",
    "        k = n%2\n",
    "        print(\" \"*(18-k) + \"♡\"*(k+1) + \"(● ´∀｀●)人(●´∀｀ ●)\" + \"♡\"*(k+1))"
   ]
  },
  {
   "cell_type": "code",
   "execution_count": 4,
   "metadata": {},
   "outputs": [
    {
     "data": {
      "application/vnd.jupyter.widget-view+json": {
       "model_id": "2f3a5e55d94f43cd8f9ee7da3e35cebb",
       "version_major": 2,
       "version_minor": 0
      },
      "text/plain": [
       "interactive(children=(IntSlider(value=0, description='n', max=36), Output()), _dom_classes=('widget-interact',…"
      ]
     },
     "metadata": {},
     "output_type": "display_data"
    }
   ],
   "source": [
    "interact(move, n=(0,36));"
   ]
  },
  {
   "cell_type": "code",
   "execution_count": null,
   "metadata": {},
   "outputs": [],
   "source": []
  }
 ],
 "metadata": {
  "kernelspec": {
   "display_name": "Python 3",
   "language": "python",
   "name": "python3"
  },
  "language_info": {
   "codemirror_mode": {
    "name": "ipython",
    "version": 3
   },
   "file_extension": ".py",
   "mimetype": "text/x-python",
   "name": "python",
   "nbconvert_exporter": "python",
   "pygments_lexer": "ipython3",
   "version": "3.7.3"
  }
 },
 "nbformat": 4,
 "nbformat_minor": 4
}
