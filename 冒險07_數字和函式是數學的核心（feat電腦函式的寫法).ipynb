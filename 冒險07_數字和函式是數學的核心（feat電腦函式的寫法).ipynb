{
  "cells": [
    {
      "cell_type": "markdown",
      "metadata": {
        "id": "view-in-github",
        "colab_type": "text"
      },
      "source": [
        "<a href=\"https://colab.research.google.com/github/yenlung/Py-Math-Book/blob/main/%E5%86%92%E9%9A%AA07_%E6%95%B8%E5%AD%97%E5%92%8C%E5%87%BD%E5%BC%8F%E6%98%AF%E6%95%B8%E5%AD%B8%E7%9A%84%E6%A0%B8%E5%BF%83%EF%BC%88feat%E9%9B%BB%E8%85%A6%E5%87%BD%E5%BC%8F%E7%9A%84%E5%AF%AB%E6%B3%95).ipynb\" target=\"_parent\"><img src=\"https://colab.research.google.com/assets/colab-badge.svg\" alt=\"Open In Colab\"/></a>"
      ]
    },
    {
      "cell_type": "code",
      "execution_count": 1,
      "metadata": {
        "id": "bkDXTyaJ7hjn"
      },
      "outputs": [],
      "source": [
        "%matplotlib inline\n",
        "\n",
        "import numpy as np\n",
        "import sympy as sp\n",
        "import pandas as pd\n",
        "import matplotlib.pyplot as plt"
      ]
    },
    {
      "cell_type": "markdown",
      "metadata": {
        "id": "9Lg9O-vU7hjs"
      },
      "source": [
        "### 1. 可以做個轉換讓加起來的值等於 1 嗎?\n",
        "\n",
        "a, b, c 三個數字想轉成 $\\alpha$, $\\beta$, $\\gamma$, 使得\n",
        "\n",
        "$$\\alpha + \\beta + \\gamma = 1$$\n",
        "\n",
        "數字大的還是要保持比較大, 你會怎麼做呢?\n"
      ]
    },
    {
      "cell_type": "code",
      "execution_count": 2,
      "metadata": {
        "id": "tS6NHc-E7hju"
      },
      "outputs": [],
      "source": [
        "a = 2.3\n",
        "b = 1\n",
        "c = 0.4"
      ]
    },
    {
      "cell_type": "code",
      "execution_count": 3,
      "metadata": {
        "id": "PQiff-0n7hjv"
      },
      "outputs": [],
      "source": [
        "s = a + b + c\n",
        "\n",
        "α = a/s\n",
        "β = b/s\n",
        "γ = c/s"
      ]
    },
    {
      "cell_type": "code",
      "execution_count": 4,
      "metadata": {
        "id": "_eLEqT047hjw",
        "outputId": "c6020841-9755-4c27-a7b0-44676d910f29",
        "colab": {
          "base_uri": "https://localhost:8080/"
        }
      },
      "outputs": [
        {
          "output_type": "stream",
          "name": "stdout",
          "text": [
            "小潔: 0.6216216216216216\n",
            "小純: 0.2702702702702703\n",
            "小佑: 0.10810810810810813\n"
          ]
        }
      ],
      "source": [
        "print(\"小潔:\", α)\n",
        "print(\"小純:\", β)\n",
        "print(\"小佑:\", γ)"
      ]
    },
    {
      "cell_type": "markdown",
      "metadata": {
        "id": "x4PsbT_o7hjy"
      },
      "source": [
        "### 2. 出現負數會出問題"
      ]
    },
    {
      "cell_type": "code",
      "execution_count": 5,
      "metadata": {
        "id": "lgyTwDtm7hjy"
      },
      "outputs": [],
      "source": [
        "a = 3\n",
        "b = 5\n",
        "c = -2"
      ]
    },
    {
      "cell_type": "code",
      "execution_count": 6,
      "metadata": {
        "id": "6hPPLV5w7hjz"
      },
      "outputs": [],
      "source": [
        "s = a + b + c"
      ]
    },
    {
      "cell_type": "code",
      "execution_count": 7,
      "metadata": {
        "id": "6pD8gAGm7hjz"
      },
      "outputs": [],
      "source": [
        "a1 = a/s\n",
        "b1 = b/s\n",
        "c1 = c/s"
      ]
    },
    {
      "cell_type": "code",
      "execution_count": 8,
      "metadata": {
        "id": "tmm7EO497hj0",
        "outputId": "0e039081-2ea5-45ae-b708-6a3651c1e88c",
        "colab": {
          "base_uri": "https://localhost:8080/"
        }
      },
      "outputs": [
        {
          "output_type": "execute_result",
          "data": {
            "text/plain": [
              "1.0000000000000002"
            ]
          },
          "metadata": {},
          "execution_count": 8
        }
      ],
      "source": [
        "a1 + b1 + c1"
      ]
    },
    {
      "cell_type": "code",
      "execution_count": 9,
      "metadata": {
        "id": "t-OA_FgU7hj0",
        "outputId": "65170851-3f77-412d-da48-92856599db0e",
        "colab": {
          "base_uri": "https://localhost:8080/"
        }
      },
      "outputs": [
        {
          "output_type": "stream",
          "name": "stdout",
          "text": [
            "A: 0.5 B: 0.8333333333333334 C: -2\n"
          ]
        }
      ],
      "source": [
        "print(\"A:\", a1, \"B:\", b1, \"C:\", c)"
      ]
    },
    {
      "cell_type": "markdown",
      "metadata": {
        "id": "07kqfdVR7hj1"
      },
      "source": [
        "### 3. 絕對值可以解決問題嗎?"
      ]
    },
    {
      "cell_type": "code",
      "execution_count": 10,
      "metadata": {
        "id": "uc5jDg_a7hj1"
      },
      "outputs": [],
      "source": [
        "a = 3\n",
        "b = 5\n",
        "c = -10"
      ]
    },
    {
      "cell_type": "code",
      "execution_count": 11,
      "metadata": {
        "id": "FZ0YskVB7hj1"
      },
      "outputs": [],
      "source": [
        "a0 = abs(a)\n",
        "b0 = abs(b)\n",
        "c0 = abs(c)"
      ]
    },
    {
      "cell_type": "code",
      "execution_count": 12,
      "metadata": {
        "id": "QDVVdjbM7hj2"
      },
      "outputs": [],
      "source": [
        "s = a0 + b0 + c0"
      ]
    },
    {
      "cell_type": "code",
      "execution_count": 13,
      "metadata": {
        "id": "QmQMmzRE7hj2"
      },
      "outputs": [],
      "source": [
        "a1 = a0/s\n",
        "b1 = b0/s\n",
        "c1 = c0/s"
      ]
    },
    {
      "cell_type": "code",
      "execution_count": 14,
      "metadata": {
        "id": "zRFEHVFm7hj2",
        "outputId": "64664fd3-cf7f-431d-a4b9-2c21238969fe",
        "colab": {
          "base_uri": "https://localhost:8080/"
        }
      },
      "outputs": [
        {
          "output_type": "execute_result",
          "data": {
            "text/plain": [
              "1.0"
            ]
          },
          "metadata": {},
          "execution_count": 14
        }
      ],
      "source": [
        "a1 + b1 + c1"
      ]
    },
    {
      "cell_type": "code",
      "execution_count": 15,
      "metadata": {
        "id": "nSU7wMPU7hj2",
        "outputId": "d344a13d-4bab-46fe-d4c8-6b5c4520081f",
        "colab": {
          "base_uri": "https://localhost:8080/"
        }
      },
      "outputs": [
        {
          "output_type": "stream",
          "name": "stdout",
          "text": [
            "A: 0.16666666666666666 B: 0.2777777777777778 C: 0.5555555555555556\n"
          ]
        }
      ],
      "source": [
        "print(\"A:\", a1, \"B:\", b1, \"C:\", c1)"
      ]
    },
    {
      "cell_type": "markdown",
      "metadata": {
        "id": "R-0mmpJ37hj3"
      },
      "source": [
        "### 4. 函數的四大天王"
      ]
    },
    {
      "cell_type": "markdown",
      "metadata": {
        "id": "SOFrIcLV7hj3"
      },
      "source": [
        "#### (1) 多項式函數"
      ]
    },
    {
      "cell_type": "code",
      "execution_count": 16,
      "metadata": {
        "id": "HK3rCzbm7hj3"
      },
      "outputs": [],
      "source": [
        "x = np.linspace(-2, 4, 200)\n",
        "y = x**2 - 2*x - 1"
      ]
    },
    {
      "cell_type": "code",
      "execution_count": 17,
      "metadata": {
        "id": "Vq89HbyS7hj3",
        "outputId": "a8a652ee-6030-499a-cc1c-c9422fa1f022",
        "colab": {
          "base_uri": "https://localhost:8080/",
          "height": 284
        }
      },
      "outputs": [
        {
          "output_type": "execute_result",
          "data": {
            "text/plain": [
              "[<matplotlib.lines.Line2D at 0x7efd2b776990>]"
            ]
          },
          "metadata": {},
          "execution_count": 17
        },
        {
          "output_type": "display_data",
          "data": {
            "text/plain": [
              "<Figure size 432x288 with 1 Axes>"
            ],
            "image/png": "[encoded data removed]"
          },
          "metadata": {
            "needs_background": "light"
          }
        }
      ],
      "source": [
        "plt.plot(x, y, c='k', lw=15)"
      ]
    },
    {
      "cell_type": "markdown",
      "metadata": {
        "id": "WpSaDBrM7hj3"
      },
      "source": [
        "#### (2) 指數函數"
      ]
    },
    {
      "cell_type": "code",
      "execution_count": 18,
      "metadata": {
        "id": "oQd4gY1c7hj4"
      },
      "outputs": [],
      "source": [
        "x = np.linspace(-2, 2, 200)\n",
        "y = np.exp(x)"
      ]
    },
    {
      "cell_type": "code",
      "execution_count": 19,
      "metadata": {
        "id": "pfASYSBH7hj4",
        "outputId": "38d1eec6-2b22-4175-bf24-10b12c195663",
        "colab": {
          "base_uri": "https://localhost:8080/",
          "height": 284
        }
      },
      "outputs": [
        {
          "output_type": "execute_result",
          "data": {
            "text/plain": [
              "[<matplotlib.lines.Line2D at 0x7efd2b255cd0>]"
            ]
          },
          "metadata": {},
          "execution_count": 19
        },
        {
          "output_type": "display_data",
          "data": {
            "text/plain": [
              "<Figure size 432x288 with 1 Axes>"
            ],
            "image/png": "[encoded data removed]"
          },
          "metadata": {
            "needs_background": "light"
          }
        }
      ],
      "source": [
        "plt.plot(x, y, c='k', lw=10)"
      ]
    },
    {
      "cell_type": "markdown",
      "metadata": {
        "id": "K9BNCSoZ7hj4"
      },
      "source": [
        "#### (3) 對數函數"
      ]
    },
    {
      "cell_type": "code",
      "execution_count": 20,
      "metadata": {
        "id": "e-x2pj927hj4"
      },
      "outputs": [],
      "source": [
        "x = np.linspace(0.1, 2, 200)\n",
        "y = np.log(x)"
      ]
    },
    {
      "cell_type": "code",
      "execution_count": 21,
      "metadata": {
        "scrolled": true,
        "id": "NJTBl7fU7hj4",
        "outputId": "cd35a64d-8b95-4d93-a6e7-d7618ba6a693",
        "colab": {
          "base_uri": "https://localhost:8080/",
          "height": 284
        }
      },
      "outputs": [
        {
          "output_type": "execute_result",
          "data": {
            "text/plain": [
              "[<matplotlib.lines.Line2D at 0x7efd2b1e2390>]"
            ]
          },
          "metadata": {},
          "execution_count": 21
        },
        {
          "output_type": "display_data",
          "data": {
            "text/plain": [
              "<Figure size 432x288 with 1 Axes>"
            ],
            "image/png": "[encoded data removed]"
          },
          "metadata": {
            "needs_background": "light"
          }
        }
      ],
      "source": [
        "plt.plot(x, y, c='k', lw=10)"
      ]
    },
    {
      "cell_type": "markdown",
      "metadata": {
        "id": "VfNg31eu7hj5"
      },
      "source": [
        "#### (4) 三角函數"
      ]
    },
    {
      "cell_type": "code",
      "execution_count": 22,
      "metadata": {
        "id": "T5fi_t-87hj5"
      },
      "outputs": [],
      "source": [
        "θ = np.linspace(-2*np.pi, 2*np.pi, 200)\n",
        "y = np.sin(θ)"
      ]
    },
    {
      "cell_type": "code",
      "execution_count": 23,
      "metadata": {
        "id": "eWSBM6AG7hj5",
        "outputId": "98d39d78-1d4a-46f8-ec38-799fd6de98d7",
        "colab": {
          "base_uri": "https://localhost:8080/",
          "height": 284
        }
      },
      "outputs": [
        {
          "output_type": "execute_result",
          "data": {
            "text/plain": [
              "[<matplotlib.lines.Line2D at 0x7efd2b15b050>]"
            ]
          },
          "metadata": {},
          "execution_count": 23
        },
        {
          "output_type": "display_data",
          "data": {
            "text/plain": [
              "<Figure size 432x288 with 1 Axes>"
            ],
            "image/png": "[encoded data removed]"
          },
          "metadata": {
            "needs_background": "light"
          }
        }
      ],
      "source": [
        "plt.plot(θ, y, c='k', lw=10)"
      ]
    },
    {
      "cell_type": "markdown",
      "metadata": {
        "id": "WtcFscTt7hj5"
      },
      "source": [
        "### 5. Softmax 為什麼成為標準加起來等於 1 的轉換?"
      ]
    },
    {
      "cell_type": "code",
      "execution_count": 24,
      "metadata": {
        "id": "cTpf6PwF7hj5"
      },
      "outputs": [],
      "source": [
        "a = 3\n",
        "b = 5\n",
        "c = -10"
      ]
    },
    {
      "cell_type": "code",
      "execution_count": 25,
      "metadata": {
        "id": "thaMJiz97hj5"
      },
      "outputs": [],
      "source": [
        "a0 = np.exp(a)\n",
        "b0 = np.exp(b)\n",
        "c0 = np.exp(c)"
      ]
    },
    {
      "cell_type": "code",
      "execution_count": 26,
      "metadata": {
        "id": "Bax3kKZi7hj5"
      },
      "outputs": [],
      "source": [
        "s = a0 + b0 + c0\n",
        "\n",
        "a1 = a0/s\n",
        "b1 = b0/s\n",
        "c1 = c0/s"
      ]
    },
    {
      "cell_type": "code",
      "execution_count": 27,
      "metadata": {
        "id": "Wx3Lerdf7hj6",
        "outputId": "7773a637-725e-4a9d-f3e0-4af2f845ecd1",
        "colab": {
          "base_uri": "https://localhost:8080/"
        }
      },
      "outputs": [
        {
          "output_type": "stream",
          "name": "stdout",
          "text": [
            "A: 0.11920288990434479\n",
            "B: 0.8807968406578577\n",
            "C: 2.694377974479156e-07\n"
          ]
        }
      ],
      "source": [
        "print(\"A:\", a1)\n",
        "print(\"B:\", b1)\n",
        "print(\"C:\", c1)"
      ]
    },
    {
      "cell_type": "markdown",
      "metadata": {
        "id": "wR3o9ClT7hj6"
      },
      "source": [
        "### 6. f-string 印出美美的數字"
      ]
    },
    {
      "cell_type": "code",
      "execution_count": 28,
      "metadata": {
        "id": "NCnahayJ7hj6",
        "outputId": "adc9cd3c-88c6-4c65-8ee8-41b11e3141d0",
        "colab": {
          "base_uri": "https://localhost:8080/"
        }
      },
      "outputs": [
        {
          "output_type": "stream",
          "name": "stdout",
          "text": [
            "B: 0.8807968406578577\n"
          ]
        }
      ],
      "source": [
        "print(f\"B: {b1}\")"
      ]
    },
    {
      "cell_type": "code",
      "execution_count": 29,
      "metadata": {
        "id": "thMrTtlK7hj6",
        "outputId": "a1961c9b-075d-4832-8a10-e907c83b232a",
        "colab": {
          "base_uri": "https://localhost:8080/"
        }
      },
      "outputs": [
        {
          "output_type": "stream",
          "name": "stdout",
          "text": [
            "B 的值為 0.88\n"
          ]
        }
      ],
      "source": [
        "print(f\"B 的值為 {b1:.2f}\")"
      ]
    },
    {
      "cell_type": "code",
      "execution_count": 30,
      "metadata": {
        "id": "iRE5AF8F7hj6",
        "outputId": "dbab02f2-6028-4f35-c204-25d5b23aee0b",
        "colab": {
          "base_uri": "https://localhost:8080/"
        }
      },
      "outputs": [
        {
          "output_type": "stream",
          "name": "stdout",
          "text": [
            "B 的值為       0.88\n"
          ]
        }
      ],
      "source": [
        "print(f\"B 的值為 {b1:10.2f}\")"
      ]
    },
    {
      "cell_type": "code",
      "execution_count": 31,
      "metadata": {
        "id": "nKDsgURd7hj6",
        "outputId": "ab5e606c-b147-4212-9de0-b68e8eaccce4",
        "colab": {
          "base_uri": "https://localhost:8080/"
        }
      },
      "outputs": [
        {
          "output_type": "stream",
          "name": "stdout",
          "text": [
            "X|O|X\n"
          ]
        }
      ],
      "source": [
        "x, y, z = 'X', 'O', 'X'\n",
        "\n",
        "print(f\"{x}|{y}|{z}\")"
      ]
    },
    {
      "cell_type": "markdown",
      "metadata": {
        "id": "AySerK2P7hj7"
      },
      "source": [
        "### 7. 寫成函式就可以一直用一直用"
      ]
    },
    {
      "cell_type": "code",
      "execution_count": 32,
      "metadata": {
        "id": "TT-uMEVl7hj7"
      },
      "outputs": [],
      "source": [
        "def square(x):\n",
        "    y = x**2\n",
        "    return y"
      ]
    },
    {
      "cell_type": "code",
      "execution_count": 33,
      "metadata": {
        "id": "ZnLJ0ZSp7hj7",
        "outputId": "6aa67c44-8786-4b5e-8c95-8056f349e51f",
        "colab": {
          "base_uri": "https://localhost:8080/"
        }
      },
      "outputs": [
        {
          "output_type": "execute_result",
          "data": {
            "text/plain": [
              "9"
            ]
          },
          "metadata": {},
          "execution_count": 33
        }
      ],
      "source": [
        "square(3)"
      ]
    },
    {
      "cell_type": "code",
      "execution_count": 34,
      "metadata": {
        "id": "ALLMyF687hj7"
      },
      "outputs": [],
      "source": [
        "def 平方(x):\n",
        "    y = x**2\n",
        "    print(y)"
      ]
    },
    {
      "cell_type": "code",
      "execution_count": 35,
      "metadata": {
        "id": "eE5rxXGj7hj7",
        "outputId": "ded38fac-5a84-4a14-d118-8f766dfed0a1",
        "colab": {
          "base_uri": "https://localhost:8080/"
        }
      },
      "outputs": [
        {
          "output_type": "stream",
          "name": "stdout",
          "text": [
            "9\n"
          ]
        }
      ],
      "source": [
        "平方(3)"
      ]
    },
    {
      "cell_type": "code",
      "execution_count": 36,
      "metadata": {
        "id": "PAANHmVd7hj7",
        "outputId": "0e6011dc-2fde-4287-9f3c-2e7be56ec9c9",
        "colab": {
          "base_uri": "https://localhost:8080/"
        }
      },
      "outputs": [
        {
          "output_type": "stream",
          "name": "stdout",
          "text": [
            "7569\n"
          ]
        }
      ],
      "source": [
        "egg = square(87)\n",
        "print(egg)"
      ]
    },
    {
      "cell_type": "code",
      "execution_count": 37,
      "metadata": {
        "id": "q3dS-B9u7hj7",
        "outputId": "f47df2cf-c391-48a6-e6cf-bffb0382885a",
        "colab": {
          "base_uri": "https://localhost:8080/"
        }
      },
      "outputs": [
        {
          "output_type": "stream",
          "name": "stdout",
          "text": [
            "7569\n"
          ]
        }
      ],
      "source": [
        "ham = 平方(87)"
      ]
    },
    {
      "cell_type": "code",
      "execution_count": 38,
      "metadata": {
        "id": "hhhfhzPt7hj7",
        "outputId": "0cce2e51-b30c-4e3a-d7e5-1d2809b2b922",
        "colab": {
          "base_uri": "https://localhost:8080/"
        }
      },
      "outputs": [
        {
          "output_type": "stream",
          "name": "stdout",
          "text": [
            "None\n"
          ]
        }
      ],
      "source": [
        "print(ham)"
      ]
    },
    {
      "cell_type": "markdown",
      "metadata": {
        "id": "U_pJzNrT7hj8"
      },
      "source": [
        "### 8. `softmax` 變成函式\n",
        "\n",
        "為了不要每次都這麼複雜, 我們把三個數字轉換成加起來等於 1 的, 變成函式。\n",
        "\n",
        "(表演 Copy & Paste 寫程式大法!)"
      ]
    },
    {
      "cell_type": "code",
      "execution_count": 39,
      "metadata": {
        "id": "HYS_QJRS7hj8"
      },
      "outputs": [],
      "source": [
        "def softmax(a, b, c):\n",
        "    a0, b0, c0 = np.exp(a), np.exp(b), np.exp(c)\n",
        "    s = a0 + b0 + c0\n",
        "    return a0/s, b0/s, c0/s"
      ]
    },
    {
      "cell_type": "code",
      "execution_count": 40,
      "metadata": {
        "id": "qMq2I2ua7hj8",
        "outputId": "42df1221-7629-439c-a786-fec53164919d",
        "colab": {
          "base_uri": "https://localhost:8080/"
        }
      },
      "outputs": [
        {
          "output_type": "execute_result",
          "data": {
            "text/plain": [
              "(0.11920288990434479, 0.8807968406578577, 2.694377974479156e-07)"
            ]
          },
          "metadata": {},
          "execution_count": 40
        }
      ],
      "source": [
        "softmax(3, 5, -10)"
      ]
    },
    {
      "cell_type": "code",
      "execution_count": 41,
      "metadata": {
        "id": "H0PSLKGZ7hj8",
        "outputId": "e57ce758-4d00-4db6-c6cd-d1de57fe1d09",
        "colab": {
          "base_uri": "https://localhost:8080/"
        }
      },
      "outputs": [
        {
          "output_type": "execute_result",
          "data": {
            "text/plain": [
              "(0.01714782554552039, 0.04661262257797389, 0.9362395518765058)"
            ]
          },
          "metadata": {},
          "execution_count": 41
        }
      ],
      "source": [
        "softmax(2, 3, 6)"
      ]
    },
    {
      "cell_type": "code",
      "execution_count": 42,
      "metadata": {
        "id": "ehNcoeW07hj9",
        "outputId": "0809915d-f8ee-419b-b234-757fa2e131eb",
        "colab": {
          "base_uri": "https://localhost:8080/"
        }
      },
      "outputs": [
        {
          "output_type": "stream",
          "name": "stdout",
          "text": [
            "高級 AI 系統判斷, 機率是:\n",
            "小潔: 11.92%\n",
            "小純: 88.08%\n",
            "小佑: 0.00%\n"
          ]
        }
      ],
      "source": [
        "a = 3\n",
        "b = 5\n",
        "c = -10\n",
        "\n",
        "a1, b1, c1 = softmax(a,b,c)\n",
        "\n",
        "print(\"高級 AI 系統判斷, 機率是:\")\n",
        "print(f\"小潔: {a1*100:.2f}%\")\n",
        "print(f\"小純: {b1*100:.2f}%\")\n",
        "print(f\"小佑: {c1*100:.2f}%\")"
      ]
    },
    {
      "cell_type": "code",
      "execution_count": 43,
      "metadata": {
        "id": "g4uh4VV17hj9",
        "outputId": "06fcfb8f-9d76-4a6d-a431-a207fbf61fad",
        "colab": {
          "base_uri": "https://localhost:8080/"
        }
      },
      "outputs": [
        {
          "output_type": "stream",
          "name": "stdout",
          "text": [
            "高級 AI 系統判斷, 機率是:\n",
            "小潔: 40.10%\n",
            "小純: 48.97%\n",
            "小佑: 10.93%\n"
          ]
        }
      ],
      "source": [
        "a = 3\n",
        "b = 5\n",
        "c = -10\n",
        "\n",
        "a1, b1, c1 = softmax(a/10,b/10,c/10)\n",
        "\n",
        "print(\"高級 AI 系統判斷, 機率是:\")\n",
        "print(f\"小潔: {a1*100:.2f}%\")\n",
        "print(f\"小純: {b1*100:.2f}%\")\n",
        "print(f\"小佑: {c1*100:.2f}%\")"
      ]
    },
    {
      "cell_type": "markdown",
      "source": [
        "### 9. 假的 AI 咖啡推薦系統"
      ],
      "metadata": {
        "id": "enZ7u3kGAjak"
      }
    },
    {
      "cell_type": "code",
      "source": [
        "np.random.rand(3)"
      ],
      "metadata": {
        "colab": {
          "base_uri": "https://localhost:8080/"
        },
        "id": "SPucn9y_BnM4",
        "outputId": "e484c921-b320-4832-aca1-4f85a97099de"
      },
      "execution_count": 44,
      "outputs": [
        {
          "output_type": "execute_result",
          "data": {
            "text/plain": [
              "array([0.15738461, 0.94524911, 0.77574073])"
            ]
          },
          "metadata": {},
          "execution_count": 44
        }
      ]
    },
    {
      "cell_type": "code",
      "source": [
        "a, b, c = np.random.rand(3)\n",
        "\n",
        "egg = softmax(a, b, c)"
      ],
      "metadata": {
        "id": "DdfXnMtxEVMd"
      },
      "execution_count": 45,
      "outputs": []
    },
    {
      "cell_type": "code",
      "source": [
        "egg"
      ],
      "metadata": {
        "colab": {
          "base_uri": "https://localhost:8080/"
        },
        "id": "Wj6Ly8d2E11p",
        "outputId": "3ece36c4-7414-4e18-e57e-cc315af1cfea"
      },
      "execution_count": 46,
      "outputs": [
        {
          "output_type": "execute_result",
          "data": {
            "text/plain": [
              "(0.33302818554872876, 0.2742507263001402, 0.39272108815113105)"
            ]
          },
          "metadata": {},
          "execution_count": 46
        }
      ]
    },
    {
      "cell_type": "code",
      "source": [
        "np.argmax(egg)"
      ],
      "metadata": {
        "colab": {
          "base_uri": "https://localhost:8080/"
        },
        "id": "TBnmERydE4Nw",
        "outputId": "6729b288-0849-49f3-db70-166802789964"
      },
      "execution_count": 47,
      "outputs": [
        {
          "output_type": "execute_result",
          "data": {
            "text/plain": [
              "2"
            ]
          },
          "metadata": {},
          "execution_count": 47
        }
      ]
    },
    {
      "cell_type": "code",
      "source": [
        "def coffee():\n",
        "    egg = input(\">> 請輸入你的生日: \")\n",
        "    egg = input(\">> 請輸入你的血型: \")\n",
        "    egg = input(\">> 看著鏡頭, 微笑, 按 enter 鍵拍一張!\")\n",
        "    p = softmax(a, b, c)\n",
        "    labels = [\"衣索比亞水洗\", \"哥倫比亞厭氧發酵\", \"肯亞日曬\"]\n",
        "    mycoffee = labels[np.argmax(p)]\n",
        "    print()\n",
        "    print(f\"我們 AI 模型推薦您: {mycoffee}\")\n",
        "    print(f\"AI 推薦前三名速配: \")\n",
        "    for i in range(3):\n",
        "        print(f\"[{i+1}] {labels[i]}: {p[i]:.2f}%\")\n"
      ],
      "metadata": {
        "id": "-_Vwh2MwAzOR"
      },
      "execution_count": 48,
      "outputs": []
    },
    {
      "cell_type": "code",
      "source": [
        "coffee()"
      ],
      "metadata": {
        "colab": {
          "base_uri": "https://localhost:8080/"
        },
        "id": "1piOMXudIRim",
        "outputId": "4a5138c5-282c-4c58-9899-88c3467a0b89"
      },
      "execution_count": 49,
      "outputs": [
        {
          "output_type": "stream",
          "name": "stdout",
          "text": [
            ">> 請輸入你的生日: 12/15\n",
            ">> 請輸入你的血型: A\n",
            ">> 看著鏡頭, 微笑, 按 enter 鍵拍一張!\n",
            "\n",
            "我們 AI 模型推薦您: 肯亞日曬\n",
            "AI 推薦前三名速配: \n",
            "[1] 衣索比亞水洗: 0.33%\n",
            "[2] 哥倫比亞厭氧發酵: 0.27%\n",
            "[3] 肯亞日曬: 0.39%\n"
          ]
        }
      ]
    }
  ],
  "metadata": {
    "kernelspec": {
      "display_name": "Python 3",
      "language": "python",
      "name": "python3"
    },
    "language_info": {
      "codemirror_mode": {
        "name": "ipython",
        "version": 3
      },
      "file_extension": ".py",
      "mimetype": "text/x-python",
      "name": "python",
      "nbconvert_exporter": "python",
      "pygments_lexer": "ipython3",
      "version": "3.7.3"
    },
    "colab": {
      "provenance": [],
      "include_colab_link": true
    }
  },
  "nbformat": 4,
  "nbformat_minor": 0
}