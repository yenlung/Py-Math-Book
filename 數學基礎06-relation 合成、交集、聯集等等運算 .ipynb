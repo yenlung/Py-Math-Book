{
 "cells": [
  {
   "cell_type": "code",
   "execution_count": 8,
   "metadata": {},
   "outputs": [],
   "source": [
    "%matplotlib inline\n",
    "\n",
    "import numpy as np\n",
    "import sympy as sp\n",
    "import matplotlib.pyplot as plt"
   ]
  },
  {
   "cell_type": "markdown",
   "metadata": {},
   "source": [
    "### 01. 我們先來定義一個 relation"
   ]
  },
  {
   "cell_type": "code",
   "execution_count": 9,
   "metadata": {},
   "outputs": [],
   "source": [
    "A = ['小花', '小明', '小光']\n",
    "B = ['西瓜', '香蕉', '蘋果', '香瓜']"
   ]
  },
  {
   "cell_type": "code",
   "execution_count": 10,
   "metadata": {},
   "outputs": [],
   "source": [
    "R = [('小花', '西瓜'), ('小花', '香瓜'), ('小明','蘋果'), \n",
    "     ('小光', '香蕉'), ('小光', '西瓜') ]"
   ]
  },
  {
   "cell_type": "markdown",
   "metadata": {},
   "source": [
    "#### 給個代號也許比較容易!\n",
    "\n",
    "* '小花' = 1, '小明' = 2, '小光' = 3\n",
    "* '西瓜' = a, '香蕉' = b, '蘋果' = c, '香瓜' = d"
   ]
  },
  {
   "cell_type": "code",
   "execution_count": 11,
   "metadata": {},
   "outputs": [],
   "source": [
    "from sympy.abc import a, b, c, d"
   ]
  },
  {
   "cell_type": "code",
   "execution_count": 12,
   "metadata": {},
   "outputs": [],
   "source": [
    "As = [1, 2, 3]\n",
    "Bs = [a, b, c, d]"
   ]
  },
  {
   "cell_type": "code",
   "execution_count": 13,
   "metadata": {},
   "outputs": [],
   "source": [
    "Rs = [(1,a), (1,d), (2, c), (3, b), (3, c)]"
   ]
  },
  {
   "cell_type": "markdown",
   "metadata": {},
   "source": [
    "#### 作業\n",
    "\n",
    "舉一個實際的例子, 做出幾個關係, 並想辦法做下列其中一種運算:\n",
    "\n",
    "1. 做兩個 (或多個) 關係的合成\n",
    "2. 做兩個關係的聯集和交集\n",
    "\n",
    "不管做哪一項, 都要解釋在你做出來的項目中, 有什麼樣的意義。"
   ]
  },
  {
   "cell_type": "markdown",
   "metadata": {},
   "source": [
    "### 02. 隨機生的關係\n",
    "\n",
    "之前我們是想出一實際的例子, 建一個關係出來。一般這樣才是對的, 但有時我們想做一些實驗、研究, 會想要任意生成一些關係來。這要怎麼做呢?\n",
    "\n",
    "我們這裡以 binary relation 為範例, 也就是一個集合 $A$, 我們考慮一個 relation $R$ 是:\n",
    "\n",
    "$$R \\subset A \\times A$$"
   ]
  },
  {
   "cell_type": "code",
   "execution_count": 29,
   "metadata": {},
   "outputs": [],
   "source": [
    "A = list('abcdefg')"
   ]
  },
  {
   "cell_type": "code",
   "execution_count": 30,
   "metadata": {},
   "outputs": [
    {
     "data": {
      "text/plain": [
       "['a', 'b', 'c', 'd', 'e', 'f', 'g']"
      ]
     },
     "execution_count": 30,
     "metadata": {},
     "output_type": "execute_result"
    }
   ],
   "source": [
    "A"
   ]
  },
  {
   "cell_type": "markdown",
   "metadata": {},
   "source": [
    "我們現在要任意做連線, 但之前我們先做 $A \\times A$ 這個笛卡兒乘積。"
   ]
  },
  {
   "cell_type": "code",
   "execution_count": 31,
   "metadata": {},
   "outputs": [],
   "source": [
    "egg = [(x, y) for x in A for y in A]"
   ]
  },
  {
   "cell_type": "code",
   "execution_count": 32,
   "metadata": {},
   "outputs": [
    {
     "data": {
      "text/plain": [
       "[('a', 'a'),\n",
       " ('a', 'b'),\n",
       " ('a', 'c'),\n",
       " ('a', 'd'),\n",
       " ('a', 'e'),\n",
       " ('a', 'f'),\n",
       " ('a', 'g'),\n",
       " ('b', 'a'),\n",
       " ('b', 'b'),\n",
       " ('b', 'c'),\n",
       " ('b', 'd'),\n",
       " ('b', 'e'),\n",
       " ('b', 'f'),\n",
       " ('b', 'g'),\n",
       " ('c', 'a'),\n",
       " ('c', 'b'),\n",
       " ('c', 'c'),\n",
       " ('c', 'd'),\n",
       " ('c', 'e'),\n",
       " ('c', 'f'),\n",
       " ('c', 'g'),\n",
       " ('d', 'a'),\n",
       " ('d', 'b'),\n",
       " ('d', 'c'),\n",
       " ('d', 'd'),\n",
       " ('d', 'e'),\n",
       " ('d', 'f'),\n",
       " ('d', 'g'),\n",
       " ('e', 'a'),\n",
       " ('e', 'b'),\n",
       " ('e', 'c'),\n",
       " ('e', 'd'),\n",
       " ('e', 'e'),\n",
       " ('e', 'f'),\n",
       " ('e', 'g'),\n",
       " ('f', 'a'),\n",
       " ('f', 'b'),\n",
       " ('f', 'c'),\n",
       " ('f', 'd'),\n",
       " ('f', 'e'),\n",
       " ('f', 'f'),\n",
       " ('f', 'g'),\n",
       " ('g', 'a'),\n",
       " ('g', 'b'),\n",
       " ('g', 'c'),\n",
       " ('g', 'd'),\n",
       " ('g', 'e'),\n",
       " ('g', 'f'),\n",
       " ('g', 'g')]"
      ]
     },
     "execution_count": 32,
     "metadata": {},
     "output_type": "execute_result"
    }
   ],
   "source": [
    "egg"
   ]
  },
  {
   "cell_type": "markdown",
   "metadata": {},
   "source": [
    "我們先來設有幾個連線 (關係)。要隨機、不重覆的選取, 該怎麼做呢? 其實有很多種作法, 我們用最標準的 Python 套件來做。"
   ]
  },
  {
   "cell_type": "code",
   "execution_count": 33,
   "metadata": {},
   "outputs": [],
   "source": [
    "k = 10"
   ]
  },
  {
   "cell_type": "code",
   "execution_count": 34,
   "metadata": {},
   "outputs": [],
   "source": [
    "from random import shuffle"
   ]
  },
  {
   "cell_type": "code",
   "execution_count": 35,
   "metadata": {},
   "outputs": [],
   "source": [
    "shuffle(egg)"
   ]
  },
  {
   "cell_type": "code",
   "execution_count": 36,
   "metadata": {},
   "outputs": [
    {
     "data": {
      "text/plain": [
       "[('e', 'd'),\n",
       " ('a', 'f'),\n",
       " ('a', 'a'),\n",
       " ('c', 'd'),\n",
       " ('e', 'g'),\n",
       " ('d', 'c'),\n",
       " ('d', 'a'),\n",
       " ('c', 'b'),\n",
       " ('c', 'e'),\n",
       " ('b', 'd'),\n",
       " ('f', 'c'),\n",
       " ('f', 'b'),\n",
       " ('b', 'c'),\n",
       " ('d', 'd'),\n",
       " ('f', 'g'),\n",
       " ('d', 'e'),\n",
       " ('e', 'f'),\n",
       " ('a', 'g'),\n",
       " ('d', 'g'),\n",
       " ('f', 'a'),\n",
       " ('d', 'b'),\n",
       " ('b', 'e'),\n",
       " ('g', 'g'),\n",
       " ('g', 'e'),\n",
       " ('f', 'f'),\n",
       " ('e', 'c'),\n",
       " ('c', 'f'),\n",
       " ('a', 'c'),\n",
       " ('a', 'b'),\n",
       " ('g', 'a'),\n",
       " ('g', 'd'),\n",
       " ('d', 'f'),\n",
       " ('b', 'f'),\n",
       " ('g', 'c'),\n",
       " ('b', 'g'),\n",
       " ('c', 'a'),\n",
       " ('f', 'e'),\n",
       " ('b', 'a'),\n",
       " ('c', 'c'),\n",
       " ('e', 'a'),\n",
       " ('e', 'b'),\n",
       " ('b', 'b'),\n",
       " ('e', 'e'),\n",
       " ('a', 'e'),\n",
       " ('g', 'b'),\n",
       " ('c', 'g'),\n",
       " ('g', 'f'),\n",
       " ('f', 'd'),\n",
       " ('a', 'd')]"
      ]
     },
     "execution_count": 36,
     "metadata": {},
     "output_type": "execute_result"
    }
   ],
   "source": [
    "egg"
   ]
  },
  {
   "cell_type": "markdown",
   "metadata": {},
   "source": [
    "我們可以看到, 順序弄亂了! 所以要隨機選 k 個, 我們就選前 k 個就是了!"
   ]
  },
  {
   "cell_type": "code",
   "execution_count": 37,
   "metadata": {},
   "outputs": [],
   "source": [
    "R = egg[:k]"
   ]
  },
  {
   "cell_type": "code",
   "execution_count": 38,
   "metadata": {},
   "outputs": [
    {
     "data": {
      "text/plain": [
       "[('e', 'd'),\n",
       " ('a', 'f'),\n",
       " ('a', 'a'),\n",
       " ('c', 'd'),\n",
       " ('e', 'g'),\n",
       " ('d', 'c'),\n",
       " ('d', 'a'),\n",
       " ('c', 'b'),\n",
       " ('c', 'e'),\n",
       " ('b', 'd')]"
      ]
     },
     "execution_count": 38,
     "metadata": {},
     "output_type": "execute_result"
    }
   ],
   "source": [
    "R"
   ]
  },
  {
   "cell_type": "markdown",
   "metadata": {},
   "source": [
    "瞬間可以做出一個來! 我們還可以重覆做不同的關係, 甚至可以更多或更少的連線。"
   ]
  },
  {
   "cell_type": "markdown",
   "metadata": {},
   "source": [
    "### 03. 畫出圖形來\n",
    "\n",
    "我們剛剛隨機產生的關係 (或是我們自己做出的關係), 要是能畫出來是不是很令人開心? 我們現在就來做做看!"
   ]
  },
  {
   "cell_type": "code",
   "execution_count": 39,
   "metadata": {},
   "outputs": [],
   "source": [
    "import networkx as nx"
   ]
  },
  {
   "cell_type": "code",
   "execution_count": 40,
   "metadata": {},
   "outputs": [],
   "source": [
    "G = nx.Graph()"
   ]
  },
  {
   "cell_type": "code",
   "execution_count": 41,
   "metadata": {},
   "outputs": [],
   "source": [
    "G.add_edges_from(R)"
   ]
  },
  {
   "cell_type": "code",
   "execution_count": 42,
   "metadata": {},
   "outputs": [
    {
     "data": {
      "image/png": "[encoded data removed]",
      "text/plain": [
       "<Figure size 432x288 with 1 Axes>"
      ]
     },
     "metadata": {},
     "output_type": "display_data"
    }
   ],
   "source": [
    "nx.draw(G)"
   ]
  },
  {
   "cell_type": "code",
   "execution_count": null,
   "metadata": {},
   "outputs": [],
   "source": []
  }
 ],
 "metadata": {
  "kernelspec": {
   "display_name": "Python 3",
   "language": "python",
   "name": "python3"
  },
  "language_info": {
   "codemirror_mode": {
    "name": "ipython",
    "version": 3
   },
   "file_extension": ".py",
   "mimetype": "text/x-python",
   "name": "python",
   "nbconvert_exporter": "python",
   "pygments_lexer": "ipython3",
   "version": "3.7.3"
  }
 },
 "nbformat": 4,
 "nbformat_minor": 4
}
