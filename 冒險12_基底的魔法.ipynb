{
  "nbformat": 4,
  "nbformat_minor": 0,
  "metadata": {
    "colab": {
      "provenance": [],
      "authorship_tag": "ABX9TyPrXln7BHo/FlHnXTpSaLS6",
      "include_colab_link": true
    },
    "kernelspec": {
      "name": "python3",
      "display_name": "Python 3"
    },
    "language_info": {
      "name": "python"
    },
    "widgets": {
      "application/vnd.jupyter.widget-state+json": {
        "aab18f844c55456d8c07b79ab1c3c466": {
          "model_module": "@jupyter-widgets/controls",
          "model_name": "VBoxModel",
          "model_module_version": "1.5.0",
          "state": {
            "_dom_classes": [
              "widget-interact"
            ],
            "_model_module": "@jupyter-widgets/controls",
            "_model_module_version": "1.5.0",
            "_model_name": "VBoxModel",
            "_view_count": null,
            "_view_module": "@jupyter-widgets/controls",
            "_view_module_version": "1.5.0",
            "_view_name": "VBoxView",
            "box_style": "",
            "children": [
              "IPY_MODEL_1acad807c89e4a8c89fda28d1fcb4886",
              "IPY_MODEL_d8c646985da84e06ada19c7a3490744c",
              "IPY_MODEL_74c41198e6e7465aabf9d8ed41c15b49",
              "IPY_MODEL_c94a80721019460b8107f27837a44f9b"
            ],
            "layout": "IPY_MODEL_923b903e8a924fd6a0dd62e17033e09e"
          }
        },
        "1acad807c89e4a8c89fda28d1fcb4886": {
          "model_module": "@jupyter-widgets/controls",
          "model_name": "FloatSliderModel",
          "model_module_version": "1.5.0",
          "state": {
            "_dom_classes": [],
            "_model_module": "@jupyter-widgets/controls",
            "_model_module_version": "1.5.0",
            "_model_name": "FloatSliderModel",
            "_view_count": null,
            "_view_module": "@jupyter-widgets/controls",
            "_view_module_version": "1.5.0",
            "_view_name": "FloatSliderView",
            "continuous_update": true,
            "description": "r",
            "description_tooltip": null,
            "disabled": false,
            "layout": "IPY_MODEL_5157385cb7f64c82b6723bbc0ac8bbcc",
            "max": 1,
            "min": 0,
            "orientation": "horizontal",
            "readout": true,
            "readout_format": ".2f",
            "step": 0.1,
            "style": "IPY_MODEL_2d0d54e4342f42feb6c666a9c2ad555a",
            "value": 0.8
          }
        },
        "d8c646985da84e06ada19c7a3490744c": {
          "model_module": "@jupyter-widgets/controls",
          "model_name": "FloatSliderModel",
          "model_module_version": "1.5.0",
          "state": {
            "_dom_classes": [],
            "_model_module": "@jupyter-widgets/controls",
            "_model_module_version": "1.5.0",
            "_model_name": "FloatSliderModel",
            "_view_count": null,
            "_view_module": "@jupyter-widgets/controls",
            "_view_module_version": "1.5.0",
            "_view_name": "FloatSliderView",
            "continuous_update": true,
            "description": "g",
            "description_tooltip": null,
            "disabled": false,
            "layout": "IPY_MODEL_4003737b69c44c0594258f7ed720fab1",
            "max": 1,
            "min": 0,
            "orientation": "horizontal",
            "readout": true,
            "readout_format": ".2f",
            "step": 0.1,
            "style": "IPY_MODEL_5826a65525214cc0a309e5916b2a7b0e",
            "value": 0.6
          }
        },
        "74c41198e6e7465aabf9d8ed41c15b49": {
          "model_module": "@jupyter-widgets/controls",
          "model_name": "FloatSliderModel",
          "model_module_version": "1.5.0",
          "state": {
            "_dom_classes": [],
            "_model_module": "@jupyter-widgets/controls",
            "_model_module_version": "1.5.0",
            "_model_name": "FloatSliderModel",
            "_view_count": null,
            "_view_module": "@jupyter-widgets/controls",
            "_view_module_version": "1.5.0",
            "_view_name": "FloatSliderView",
            "continuous_update": true,
            "description": "b",
            "description_tooltip": null,
            "disabled": false,
            "layout": "IPY_MODEL_90ebc4f2bac74e2b8e5974d4ba054e65",
            "max": 1,
            "min": 0,
            "orientation": "horizontal",
            "readout": true,
            "readout_format": ".2f",
            "step": 0.1,
            "style": "IPY_MODEL_3b56c240068b479d91e58ac362caf6a0",
            "value": 0.6
          }
        },
        "c94a80721019460b8107f27837a44f9b": {
          "model_module": "@jupyter-widgets/output",
          "model_name": "OutputModel",
          "model_module_version": "1.0.0",
          "state": {
            "_dom_classes": [],
            "_model_module": "@jupyter-widgets/output",
            "_model_module_version": "1.0.0",
            "_model_name": "OutputModel",
            "_view_count": null,
            "_view_module": "@jupyter-widgets/output",
            "_view_module_version": "1.0.0",
            "_view_name": "OutputView",
            "layout": "IPY_MODEL_c6a2f9df8da9426a87584a5b0863f8c3",
            "msg_id": "",
            "outputs": [
              {
                "output_type": "display_data",
                "data": {
                  "text/plain": "<Figure size 432x288 with 1 Axes>",
                  "image/png": "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\n"
                },
                "metadata": {
                  "needs_background": "light"
                }
              }
            ]
          }
        },
        "923b903e8a924fd6a0dd62e17033e09e": {
          "model_module": "@jupyter-widgets/base",
          "model_name": "LayoutModel",
          "model_module_version": "1.2.0",
          "state": {
            "_model_module": "@jupyter-widgets/base",
            "_model_module_version": "1.2.0",
            "_model_name": "LayoutModel",
            "_view_count": null,
            "_view_module": "@jupyter-widgets/base",
            "_view_module_version": "1.2.0",
            "_view_name": "LayoutView",
            "align_content": null,
            "align_items": null,
            "align_self": null,
            "border": null,
            "bottom": null,
            "display": null,
            "flex": null,
            "flex_flow": null,
            "grid_area": null,
            "grid_auto_columns": null,
            "grid_auto_flow": null,
            "grid_auto_rows": null,
            "grid_column": null,
            "grid_gap": null,
            "grid_row": null,
            "grid_template_areas": null,
            "grid_template_columns": null,
            "grid_template_rows": null,
            "height": null,
            "justify_content": null,
            "justify_items": null,
            "left": null,
            "margin": null,
            "max_height": null,
            "max_width": null,
            "min_height": null,
            "min_width": null,
            "object_fit": null,
            "object_position": null,
            "order": null,
            "overflow": null,
            "overflow_x": null,
            "overflow_y": null,
            "padding": null,
            "right": null,
            "top": null,
            "visibility": null,
            "width": null
          }
        },
        "5157385cb7f64c82b6723bbc0ac8bbcc": {
          "model_module": "@jupyter-widgets/base",
          "model_name": "LayoutModel",
          "model_module_version": "1.2.0",
          "state": {
            "_model_module": "@jupyter-widgets/base",
            "_model_module_version": "1.2.0",
            "_model_name": "LayoutModel",
            "_view_count": null,
            "_view_module": "@jupyter-widgets/base",
            "_view_module_version": "1.2.0",
            "_view_name": "LayoutView",
            "align_content": null,
            "align_items": null,
            "align_self": null,
            "border": null,
            "bottom": null,
            "display": null,
            "flex": null,
            "flex_flow": null,
            "grid_area": null,
            "grid_auto_columns": null,
            "grid_auto_flow": null,
            "grid_auto_rows": null,
            "grid_column": null,
            "grid_gap": null,
            "grid_row": null,
            "grid_template_areas": null,
            "grid_template_columns": null,
            "grid_template_rows": null,
            "height": null,
            "justify_content": null,
            "justify_items": null,
            "left": null,
            "margin": null,
            "max_height": null,
            "max_width": null,
            "min_height": null,
            "min_width": null,
            "object_fit": null,
            "object_position": null,
            "order": null,
            "overflow": null,
            "overflow_x": null,
            "overflow_y": null,
            "padding": null,
            "right": null,
            "top": null,
            "visibility": null,
            "width": null
          }
        },
        "2d0d54e4342f42feb6c666a9c2ad555a": {
          "model_module": "@jupyter-widgets/controls",
          "model_name": "SliderStyleModel",
          "model_module_version": "1.5.0",
          "state": {
            "_model_module": "@jupyter-widgets/controls",
            "_model_module_version": "1.5.0",
            "_model_name": "SliderStyleModel",
            "_view_count": null,
            "_view_module": "@jupyter-widgets/base",
            "_view_module_version": "1.2.0",
            "_view_name": "StyleView",
            "description_width": "",
            "handle_color": null
          }
        },
        "4003737b69c44c0594258f7ed720fab1": {
          "model_module": "@jupyter-widgets/base",
          "model_name": "LayoutModel",
          "model_module_version": "1.2.0",
          "state": {
            "_model_module": "@jupyter-widgets/base",
            "_model_module_version": "1.2.0",
            "_model_name": "LayoutModel",
            "_view_count": null,
            "_view_module": "@jupyter-widgets/base",
            "_view_module_version": "1.2.0",
            "_view_name": "LayoutView",
            "align_content": null,
            "align_items": null,
            "align_self": null,
            "border": null,
            "bottom": null,
            "display": null,
            "flex": null,
            "flex_flow": null,
            "grid_area": null,
            "grid_auto_columns": null,
            "grid_auto_flow": null,
            "grid_auto_rows": null,
            "grid_column": null,
            "grid_gap": null,
            "grid_row": null,
            "grid_template_areas": null,
            "grid_template_columns": null,
            "grid_template_rows": null,
            "height": null,
            "justify_content": null,
            "justify_items": null,
            "left": null,
            "margin": null,
            "max_height": null,
            "max_width": null,
            "min_height": null,
            "min_width": null,
            "object_fit": null,
            "object_position": null,
            "order": null,
            "overflow": null,
            "overflow_x": null,
            "overflow_y": null,
            "padding": null,
            "right": null,
            "top": null,
            "visibility": null,
            "width": null
          }
        },
        "5826a65525214cc0a309e5916b2a7b0e": {
          "model_module": "@jupyter-widgets/controls",
          "model_name": "SliderStyleModel",
          "model_module_version": "1.5.0",
          "state": {
            "_model_module": "@jupyter-widgets/controls",
            "_model_module_version": "1.5.0",
            "_model_name": "SliderStyleModel",
            "_view_count": null,
            "_view_module": "@jupyter-widgets/base",
            "_view_module_version": "1.2.0",
            "_view_name": "StyleView",
            "description_width": "",
            "handle_color": null
          }
        },
        "90ebc4f2bac74e2b8e5974d4ba054e65": {
          "model_module": "@jupyter-widgets/base",
          "model_name": "LayoutModel",
          "model_module_version": "1.2.0",
          "state": {
            "_model_module": "@jupyter-widgets/base",
            "_model_module_version": "1.2.0",
            "_model_name": "LayoutModel",
            "_view_count": null,
            "_view_module": "@jupyter-widgets/base",
            "_view_module_version": "1.2.0",
            "_view_name": "LayoutView",
            "align_content": null,
            "align_items": null,
            "align_self": null,
            "border": null,
            "bottom": null,
            "display": null,
            "flex": null,
            "flex_flow": null,
            "grid_area": null,
            "grid_auto_columns": null,
            "grid_auto_flow": null,
            "grid_auto_rows": null,
            "grid_column": null,
            "grid_gap": null,
            "grid_row": null,
            "grid_template_areas": null,
            "grid_template_columns": null,
            "grid_template_rows": null,
            "height": null,
            "justify_content": null,
            "justify_items": null,
            "left": null,
            "margin": null,
            "max_height": null,
            "max_width": null,
            "min_height": null,
            "min_width": null,
            "object_fit": null,
            "object_position": null,
            "order": null,
            "overflow": null,
            "overflow_x": null,
            "overflow_y": null,
            "padding": null,
            "right": null,
            "top": null,
            "visibility": null,
            "width": null
          }
        },
        "3b56c240068b479d91e58ac362caf6a0": {
          "model_module": "@jupyter-widgets/controls",
          "model_name": "SliderStyleModel",
          "model_module_version": "1.5.0",
          "state": {
            "_model_module": "@jupyter-widgets/controls",
            "_model_module_version": "1.5.0",
            "_model_name": "SliderStyleModel",
            "_view_count": null,
            "_view_module": "@jupyter-widgets/base",
            "_view_module_version": "1.2.0",
            "_view_name": "StyleView",
            "description_width": "",
            "handle_color": null
          }
        },
        "c6a2f9df8da9426a87584a5b0863f8c3": {
          "model_module": "@jupyter-widgets/base",
          "model_name": "LayoutModel",
          "model_module_version": "1.2.0",
          "state": {
            "_model_module": "@jupyter-widgets/base",
            "_model_module_version": "1.2.0",
            "_model_name": "LayoutModel",
            "_view_count": null,
            "_view_module": "@jupyter-widgets/base",
            "_view_module_version": "1.2.0",
            "_view_name": "LayoutView",
            "align_content": null,
            "align_items": null,
            "align_self": null,
            "border": null,
            "bottom": null,
            "display": null,
            "flex": null,
            "flex_flow": null,
            "grid_area": null,
            "grid_auto_columns": null,
            "grid_auto_flow": null,
            "grid_auto_rows": null,
            "grid_column": null,
            "grid_gap": null,
            "grid_row": null,
            "grid_template_areas": null,
            "grid_template_columns": null,
            "grid_template_rows": null,
            "height": null,
            "justify_content": null,
            "justify_items": null,
            "left": null,
            "margin": null,
            "max_height": null,
            "max_width": null,
            "min_height": null,
            "min_width": null,
            "object_fit": null,
            "object_position": null,
            "order": null,
            "overflow": null,
            "overflow_x": null,
            "overflow_y": null,
            "padding": null,
            "right": null,
            "top": null,
            "visibility": null,
            "width": null
          }
        }
      }
    }
  },
  "cells": [
    {
      "cell_type": "markdown",
      "metadata": {
        "id": "view-in-github",
        "colab_type": "text"
      },
      "source": [
        "<a href=\"https://colab.research.google.com/github/yenlung/Py-Math-Book/blob/main/%E5%86%92%E9%9A%AA12_%E5%9F%BA%E5%BA%95%E7%9A%84%E9%AD%94%E6%B3%95.ipynb\" target=\"_parent\"><img src=\"https://colab.research.google.com/assets/colab-badge.svg\" alt=\"Open In Colab\"/></a>"
      ]
    },
    {
      "cell_type": "code",
      "execution_count": null,
      "metadata": {
        "id": "lickiBqWux_2"
      },
      "outputs": [],
      "source": [
        "%matplotlib inline\n",
        "\n",
        "import numpy as np\n",
        "import sympy as sp\n",
        "import pandas as pd\n",
        "import matplotlib.pyplot as plt"
      ]
    },
    {
      "cell_type": "markdown",
      "source": [
        "### 1. 二進位數\n",
        "\n",
        "    0, 1, 2, 3, ...\n",
        "\n",
        "在二進位中變成:\n",
        "\n",
        "    0, 1, 10, 11, ...\n",
        "\n",
        "Python 裡要怎麼轉換呢?\n",
        "\n",
        "#### 10 進位換 2 進位"
      ],
      "metadata": {
        "id": "J8LDXAPovZ_I"
      }
    },
    {
      "cell_type": "code",
      "source": [
        "bin(87)"
      ],
      "metadata": {
        "colab": {
          "base_uri": "https://localhost:8080/",
          "height": 42
        },
        "id": "IYBNPNFevYwH",
        "outputId": "ca876b57-292b-495a-fb22-108a69802e0a"
      },
      "execution_count": 42,
      "outputs": [
        {
          "output_type": "execute_result",
          "data": {
            "text/plain": [
              "'0b1010111'"
            ],
            "application/vnd.google.colaboratory.intrinsic+json": {
              "type": "string"
            }
          },
          "metadata": {},
          "execution_count": 42
        }
      ]
    },
    {
      "cell_type": "markdown",
      "source": [
        "意思是\n",
        "\n",
        "$$87 = 1010111_2$$\n",
        "\n",
        "`0b` 是 Python 的 \"提示\", 說後面那串是 2 進位數!\n",
        "\n",
        "### 2 進位換 10 進位"
      ],
      "metadata": {
        "id": "bnvLxjcqwrH-"
      }
    },
    {
      "cell_type": "code",
      "source": [
        "b = bin(87)"
      ],
      "metadata": {
        "id": "kJaNWdP0wpaX"
      },
      "execution_count": 43,
      "outputs": []
    },
    {
      "cell_type": "code",
      "source": [
        "b"
      ],
      "metadata": {
        "colab": {
          "base_uri": "https://localhost:8080/",
          "height": 42
        },
        "id": "SbdhyHlfxOON",
        "outputId": "bb0038bc-6b71-4a8e-f0aa-15a5861da8ec"
      },
      "execution_count": 44,
      "outputs": [
        {
          "output_type": "execute_result",
          "data": {
            "text/plain": [
              "'0b1010111'"
            ],
            "application/vnd.google.colaboratory.intrinsic+json": {
              "type": "string"
            }
          },
          "metadata": {},
          "execution_count": 44
        }
      ]
    },
    {
      "cell_type": "markdown",
      "source": [
        "用 `int` 就可以把 10 進位換 2 進位!\n",
        "\n",
        "    int(b, 0)\n",
        "\n",
        "後面的 0 是說用字串提示的 (這裡是 `0b`) 轉換。"
      ],
      "metadata": {
        "id": "aLK_y_r8xRYg"
      }
    },
    {
      "cell_type": "code",
      "source": [
        "int(b, 0)"
      ],
      "metadata": {
        "colab": {
          "base_uri": "https://localhost:8080/"
        },
        "id": "cDQ-HoGDxO0G",
        "outputId": "49682ed2-fec3-4cdb-f503-5c45d39f9512"
      },
      "execution_count": 45,
      "outputs": [
        {
          "output_type": "execute_result",
          "data": {
            "text/plain": [
              "87"
            ]
          },
          "metadata": {},
          "execution_count": 45
        }
      ]
    },
    {
      "cell_type": "markdown",
      "source": [
        "我們也可以自行指定基底。"
      ],
      "metadata": {
        "id": "K6pQrrJBvNgy"
      }
    },
    {
      "cell_type": "code",
      "source": [
        "int('1010111', 2)"
      ],
      "metadata": {
        "colab": {
          "base_uri": "https://localhost:8080/"
        },
        "id": "XRxWk-p8vMx9",
        "outputId": "ab3f3a38-cd7e-468b-a95f-83672353d8df"
      },
      "execution_count": 46,
      "outputs": [
        {
          "output_type": "execute_result",
          "data": {
            "text/plain": [
              "87"
            ]
          },
          "metadata": {},
          "execution_count": 46
        }
      ]
    },
    {
      "cell_type": "markdown",
      "source": [
        "### 另一個轉換方式!"
      ],
      "metadata": {
        "id": "rHg5lScrxj_K"
      }
    },
    {
      "cell_type": "code",
      "source": [
        "a = 87\n",
        "print(f'a = {a:b}')"
      ],
      "metadata": {
        "colab": {
          "base_uri": "https://localhost:8080/"
        },
        "id": "SjKlfTV7xQF4",
        "outputId": "96578e0a-7af8-488a-8302-8e802adb596b"
      },
      "execution_count": 47,
      "outputs": [
        {
          "output_type": "stream",
          "name": "stdout",
          "text": [
            "a = 1010111\n"
          ]
        }
      ]
    },
    {
      "cell_type": "markdown",
      "source": [
        "試著把 0 - 15 用 2 進位表示出來!"
      ],
      "metadata": {
        "id": "JosWmC8ax3m-"
      }
    },
    {
      "cell_type": "code",
      "source": [
        "for k in range(16):\n",
        "    print(f'{k} = {k:04b}₂')"
      ],
      "metadata": {
        "colab": {
          "base_uri": "https://localhost:8080/"
        },
        "id": "1Z4g3zYwxwi_",
        "outputId": "7ba5c7ba-4470-4b34-d275-09d00ff00902"
      },
      "execution_count": 48,
      "outputs": [
        {
          "output_type": "stream",
          "name": "stdout",
          "text": [
            "0 = 0000₂\n",
            "1 = 0001₂\n",
            "2 = 0010₂\n",
            "3 = 0011₂\n",
            "4 = 0100₂\n",
            "5 = 0101₂\n",
            "6 = 0110₂\n",
            "7 = 0111₂\n",
            "8 = 1000₂\n",
            "9 = 1001₂\n",
            "10 = 1010₂\n",
            "11 = 1011₂\n",
            "12 = 1100₂\n",
            "13 = 1101₂\n",
            "14 = 1110₂\n",
            "15 = 1111₂\n"
          ]
        }
      ]
    },
    {
      "cell_type": "markdown",
      "source": [
        "### 2. 讀心術\n",
        "\n",
        "現在對任一個 1-15 間的數, 比如說 3 的二進位數是 0011, 我們想表示為:\n",
        "\n",
        "[0, 0, 1, 1]\n",
        "\n",
        "這樣的串列。這該怎麼做呢? 我們先來試試。"
      ],
      "metadata": {
        "id": "c5krA3Ssy45z"
      }
    },
    {
      "cell_type": "code",
      "source": [
        "b = '0011'"
      ],
      "metadata": {
        "id": "pB089z5-y4g8"
      },
      "execution_count": 52,
      "outputs": []
    },
    {
      "cell_type": "code",
      "source": [
        "list(b)"
      ],
      "metadata": {
        "colab": {
          "base_uri": "https://localhost:8080/"
        },
        "id": "2zJ-56L6zYaK",
        "outputId": "6f06bd20-259a-426b-c31f-165c0e6c12cf"
      },
      "execution_count": 53,
      "outputs": [
        {
          "output_type": "execute_result",
          "data": {
            "text/plain": [
              "['0', '0', '1', '1']"
            ]
          },
          "metadata": {},
          "execution_count": 53
        }
      ]
    },
    {
      "cell_type": "code",
      "source": [
        "list(map(int, list(b)))"
      ],
      "metadata": {
        "colab": {
          "base_uri": "https://localhost:8080/"
        },
        "id": "oEcglLVmyG0x",
        "outputId": "e9680f0a-ae8b-4382-ad6c-1fefb05796c4"
      },
      "execution_count": 54,
      "outputs": [
        {
          "output_type": "execute_result",
          "data": {
            "text/plain": [
              "[0, 0, 1, 1]"
            ]
          },
          "metadata": {},
          "execution_count": 54
        }
      ]
    },
    {
      "cell_type": "markdown",
      "source": [
        "這可以, 但有點可怕!!"
      ],
      "metadata": {
        "id": "LzoQgR-hzllJ"
      }
    },
    {
      "cell_type": "code",
      "source": [
        "[int(k) for k in b]"
      ],
      "metadata": {
        "colab": {
          "base_uri": "https://localhost:8080/"
        },
        "id": "979aoW6TziUx",
        "outputId": "510ea2e4-d328-4d0e-e691-8345f1b646c9"
      },
      "execution_count": 55,
      "outputs": [
        {
          "output_type": "execute_result",
          "data": {
            "text/plain": [
              "[0, 0, 1, 1]"
            ]
          },
          "metadata": {},
          "execution_count": 55
        }
      ]
    },
    {
      "cell_type": "markdown",
      "source": [
        "其實這可愛版好像就可以了! 然後我們做成一個字典, 格式是像這樣:\n",
        "\n",
        "    {1:[0,0,0,1], 2:[0,0,1,0], ...}"
      ],
      "metadata": {
        "id": "Hl-1QdQHzrs8"
      }
    },
    {
      "cell_type": "code",
      "source": [
        "d = {}\n",
        "\n",
        "for i in range(1, 16):\n",
        "    b = f'{i:04b}'\n",
        "    print(b)\n",
        "    egg = [int(k) for k in b]\n",
        "    d[i] = egg"
      ],
      "metadata": {
        "id": "y8cy93qCzqYi",
        "colab": {
          "base_uri": "https://localhost:8080/"
        },
        "outputId": "ffcdd1c3-c37a-4e02-ab34-44ed5ffd3eac"
      },
      "execution_count": 56,
      "outputs": [
        {
          "output_type": "stream",
          "name": "stdout",
          "text": [
            "0001\n",
            "0010\n",
            "0011\n",
            "0100\n",
            "0101\n",
            "0110\n",
            "0111\n",
            "1000\n",
            "1001\n",
            "1010\n",
            "1011\n",
            "1100\n",
            "1101\n",
            "1110\n",
            "1111\n"
          ]
        }
      ]
    },
    {
      "cell_type": "markdown",
      "source": [
        "檢查看看是不是和我們想的一樣?"
      ],
      "metadata": {
        "id": "UgE6IQloF6AQ"
      }
    },
    {
      "cell_type": "code",
      "source": [
        "d[3]"
      ],
      "metadata": {
        "id": "CueRlIQ00Awc",
        "colab": {
          "base_uri": "https://localhost:8080/"
        },
        "outputId": "eee7df0b-7fee-4838-eb5d-b23ff81c4ed6"
      },
      "execution_count": 57,
      "outputs": [
        {
          "output_type": "execute_result",
          "data": {
            "text/plain": [
              "[0, 0, 1, 1]"
            ]
          },
          "metadata": {},
          "execution_count": 57
        }
      ]
    },
    {
      "cell_type": "markdown",
      "source": [
        "請你想一個 1-15 的數字, 然後選出有這個數字的卡片, 我就可以猜到你想的數字!\n",
        "\n",
        "![截圖 2022-11-29 下午10.45.51.png](data:image/png;base64,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)"
      ],
      "metadata": {
        "id": "C509Ag_e2mRy"
      }
    },
    {
      "cell_type": "markdown",
      "source": [
        "我們可以把這一張張卡片的內容, 做成一個個的串列嗎?\n",
        "\n",
        "卡片名稱就叫 card[0], card[1], 之類的。\n",
        "\n",
        "比如 card[0] 要放入 [8, 9, 10, 11, ...]\n",
        "\n",
        "我們先找來一個數字, 看要怎麼做。"
      ],
      "metadata": {
        "id": "ZwhtvX_qnjzk"
      }
    },
    {
      "cell_type": "code",
      "source": [
        "k = 11\n",
        "\n",
        "d[k]"
      ],
      "metadata": {
        "id": "OwRs0Aqd2JyK",
        "colab": {
          "base_uri": "https://localhost:8080/"
        },
        "outputId": "92e4b9b7-cfb4-40e7-86ca-b980b2a07c1e"
      },
      "execution_count": 58,
      "outputs": [
        {
          "output_type": "execute_result",
          "data": {
            "text/plain": [
              "[1, 0, 1, 1]"
            ]
          },
          "metadata": {},
          "execution_count": 58
        }
      ]
    },
    {
      "cell_type": "markdown",
      "source": [
        "這串列就叫 `egg` 好了。"
      ],
      "metadata": {
        "id": "UbhpQF6XpKck"
      }
    },
    {
      "cell_type": "code",
      "source": [
        "egg = d[k]"
      ],
      "metadata": {
        "id": "A4F8yEQI2MbT"
      },
      "execution_count": 59,
      "outputs": []
    },
    {
      "cell_type": "markdown",
      "source": [
        "如果 egg[i] 是 1 的話, 第 i 張卡片要把我們的 k 加進去!"
      ],
      "metadata": {
        "id": "_BT0g66NpQ3X"
      }
    },
    {
      "cell_type": "code",
      "source": [
        "cards = ([], [], [], [])\n",
        "\n",
        "for k in range(1, 16):\n",
        "    egg = d[k]\n",
        "    for i in range(4):\n",
        "        if egg[i]:\n",
        "            cards[i].append(k)"
      ],
      "metadata": {
        "id": "4SBXxo-7pO2g"
      },
      "execution_count": 60,
      "outputs": []
    },
    {
      "cell_type": "code",
      "source": [
        "for i in range(4):\n",
        "    print(f'第 {i} 張卡片是 {cards[i]}')"
      ],
      "metadata": {
        "colab": {
          "base_uri": "https://localhost:8080/"
        },
        "id": "kXU5W-rZpw4b",
        "outputId": "9ee721d8-e461-4417-9052-46ea0d5eac94"
      },
      "execution_count": 61,
      "outputs": [
        {
          "output_type": "stream",
          "name": "stdout",
          "text": [
            "第 0 張卡片是 [8, 9, 10, 11, 12, 13, 14, 15]\n",
            "第 1 張卡片是 [4, 5, 6, 7, 12, 13, 14, 15]\n",
            "第 2 張卡片是 [2, 3, 6, 7, 10, 11, 14, 15]\n",
            "第 3 張卡片是 [1, 3, 5, 7, 9, 11, 13, 15]\n"
          ]
        }
      ]
    },
    {
      "cell_type": "markdown",
      "source": [
        "於是你會發現, 要能猜的數字越多, 卡片要越多。\n",
        "\n",
        "現在因為我們是四位的二進位, 可以表示的數字有:\n",
        "\n",
        "$$2^4 = 16$$\n",
        "\n",
        "種。但注意 0 也是一個, 所以大於 0 的數字是 1-15\n",
        "\n",
        "一個二進位數在電腦裡是一個 bit, 上面就是 4 bits, 如果 8 bits 是\n",
        "\n",
        "$$2^8 = 256$$\n",
        "\n",
        "我們也可算算 16 bits 可表示多少個不同情況呢?"
      ],
      "metadata": {
        "id": "a-Slnf7lqDCp"
      }
    },
    {
      "cell_type": "code",
      "source": [
        "2**16"
      ],
      "metadata": {
        "colab": {
          "base_uri": "https://localhost:8080/"
        },
        "id": "HhyyzLnSp7H3",
        "outputId": "4d9904f4-2be7-4733-8091-5e29f9a1319b"
      },
      "execution_count": null,
      "outputs": [
        {
          "output_type": "execute_result",
          "data": {
            "text/plain": [
              "65536"
            ]
          },
          "metadata": {},
          "execution_count": 20
        }
      ]
    },
    {
      "cell_type": "markdown",
      "source": [
        "### 3. 16 進位數\n",
        "\n",
        "16 進位數一個位數剛好是 2 進位 4 位數。和以前一樣, 如果 10 進位要換 16 進位有兩種方式, 先看第一種。"
      ],
      "metadata": {
        "id": "1RooUBwVs63C"
      }
    },
    {
      "cell_type": "code",
      "source": [
        "hex(10)"
      ],
      "metadata": {
        "colab": {
          "base_uri": "https://localhost:8080/",
          "height": 42
        },
        "id": "hUbGapMUqza9",
        "outputId": "47f85793-f31d-45d1-e06e-bd738dbb6d6c"
      },
      "execution_count": 62,
      "outputs": [
        {
          "output_type": "execute_result",
          "data": {
            "text/plain": [
              "'0xa'"
            ],
            "application/vnd.google.colaboratory.intrinsic+json": {
              "type": "string"
            }
          },
          "metadata": {},
          "execution_count": 62
        }
      ]
    },
    {
      "cell_type": "code",
      "source": [
        "int('0xa', 0)"
      ],
      "metadata": {
        "colab": {
          "base_uri": "https://localhost:8080/"
        },
        "id": "g2m4Vn4Vts0l",
        "outputId": "99303823-7c3d-47fe-a942-a26cfd742372"
      },
      "execution_count": 63,
      "outputs": [
        {
          "output_type": "execute_result",
          "data": {
            "text/plain": [
              "10"
            ]
          },
          "metadata": {},
          "execution_count": 63
        }
      ]
    },
    {
      "cell_type": "markdown",
      "source": [
        "當然也可以像以前指定基底。"
      ],
      "metadata": {
        "id": "zf6EK_T9u-Vn"
      }
    },
    {
      "cell_type": "code",
      "source": [
        "int('a', 16)"
      ],
      "metadata": {
        "colab": {
          "base_uri": "https://localhost:8080/"
        },
        "id": "gE2qI2sHvCeS",
        "outputId": "9ced5b90-51c3-482c-b9e0-c5e50e6f1d11"
      },
      "execution_count": 64,
      "outputs": [
        {
          "output_type": "execute_result",
          "data": {
            "text/plain": [
              "10"
            ]
          },
          "metadata": {},
          "execution_count": 64
        }
      ]
    },
    {
      "cell_type": "markdown",
      "source": [
        "所以 16 進位代表是 `0x`"
      ],
      "metadata": {
        "id": "2nK2_zdrtzn-"
      }
    },
    {
      "cell_type": "code",
      "source": [
        "k = 255\n",
        "\n",
        "print(f\"二進位 {k:08b} = 16 進位 {k:02x}\")"
      ],
      "metadata": {
        "colab": {
          "base_uri": "https://localhost:8080/"
        },
        "id": "MRQBSXOatxa0",
        "outputId": "d0ac8947-9bf6-42ba-8cde-b6de94fe8094"
      },
      "execution_count": 65,
      "outputs": [
        {
          "output_type": "stream",
          "name": "stdout",
          "text": [
            "二進位 11111111 = 16 進位 ff\n"
          ]
        }
      ]
    },
    {
      "cell_type": "code",
      "source": [
        "for k in range(256):\n",
        "    print(f\"二進位 {k:08b} = 16 進位 {k:02x}\")"
      ],
      "metadata": {
        "colab": {
          "base_uri": "https://localhost:8080/"
        },
        "id": "iMfa4-OfuNv8",
        "outputId": "89cec075-cca0-4252-b2cd-9804bbfa17f5"
      },
      "execution_count": 66,
      "outputs": [
        {
          "output_type": "stream",
          "name": "stdout",
          "text": [
            "二進位 00000000 = 16 進位 00\n",
            "二進位 00000001 = 16 進位 01\n",
            "二進位 00000010 = 16 進位 02\n",
            "二進位 00000011 = 16 進位 03\n",
            "二進位 00000100 = 16 進位 04\n",
            "二進位 00000101 = 16 進位 05\n",
            "二進位 00000110 = 16 進位 06\n",
            "二進位 00000111 = 16 進位 07\n",
            "二進位 00001000 = 16 進位 08\n",
            "二進位 00001001 = 16 進位 09\n",
            "二進位 00001010 = 16 進位 0a\n",
            "二進位 00001011 = 16 進位 0b\n",
            "二進位 00001100 = 16 進位 0c\n",
            "二進位 00001101 = 16 進位 0d\n",
            "二進位 00001110 = 16 進位 0e\n",
            "二進位 00001111 = 16 進位 0f\n",
            "二進位 00010000 = 16 進位 10\n",
            "二進位 00010001 = 16 進位 11\n",
            "二進位 00010010 = 16 進位 12\n",
            "二進位 00010011 = 16 進位 13\n",
            "二進位 00010100 = 16 進位 14\n",
            "二進位 00010101 = 16 進位 15\n",
            "二進位 00010110 = 16 進位 16\n",
            "二進位 00010111 = 16 進位 17\n",
            "二進位 00011000 = 16 進位 18\n",
            "二進位 00011001 = 16 進位 19\n",
            "二進位 00011010 = 16 進位 1a\n",
            "二進位 00011011 = 16 進位 1b\n",
            "二進位 00011100 = 16 進位 1c\n",
            "二進位 00011101 = 16 進位 1d\n",
            "二進位 00011110 = 16 進位 1e\n",
            "二進位 00011111 = 16 進位 1f\n",
            "二進位 00100000 = 16 進位 20\n",
            "二進位 00100001 = 16 進位 21\n",
            "二進位 00100010 = 16 進位 22\n",
            "二進位 00100011 = 16 進位 23\n",
            "二進位 00100100 = 16 進位 24\n",
            "二進位 00100101 = 16 進位 25\n",
            "二進位 00100110 = 16 進位 26\n",
            "二進位 00100111 = 16 進位 27\n",
            "二進位 00101000 = 16 進位 28\n",
            "二進位 00101001 = 16 進位 29\n",
            "二進位 00101010 = 16 進位 2a\n",
            "二進位 00101011 = 16 進位 2b\n",
            "二進位 00101100 = 16 進位 2c\n",
            "二進位 00101101 = 16 進位 2d\n",
            "二進位 00101110 = 16 進位 2e\n",
            "二進位 00101111 = 16 進位 2f\n",
            "二進位 00110000 = 16 進位 30\n",
            "二進位 00110001 = 16 進位 31\n",
            "二進位 00110010 = 16 進位 32\n",
            "二進位 00110011 = 16 進位 33\n",
            "二進位 00110100 = 16 進位 34\n",
            "二進位 00110101 = 16 進位 35\n",
            "二進位 00110110 = 16 進位 36\n",
            "二進位 00110111 = 16 進位 37\n",
            "二進位 00111000 = 16 進位 38\n",
            "二進位 00111001 = 16 進位 39\n",
            "二進位 00111010 = 16 進位 3a\n",
            "二進位 00111011 = 16 進位 3b\n",
            "二進位 00111100 = 16 進位 3c\n",
            "二進位 00111101 = 16 進位 3d\n",
            "二進位 00111110 = 16 進位 3e\n",
            "二進位 00111111 = 16 進位 3f\n",
            "二進位 01000000 = 16 進位 40\n",
            "二進位 01000001 = 16 進位 41\n",
            "二進位 01000010 = 16 進位 42\n",
            "二進位 01000011 = 16 進位 43\n",
            "二進位 01000100 = 16 進位 44\n",
            "二進位 01000101 = 16 進位 45\n",
            "二進位 01000110 = 16 進位 46\n",
            "二進位 01000111 = 16 進位 47\n",
            "二進位 01001000 = 16 進位 48\n",
            "二進位 01001001 = 16 進位 49\n",
            "二進位 01001010 = 16 進位 4a\n",
            "二進位 01001011 = 16 進位 4b\n",
            "二進位 01001100 = 16 進位 4c\n",
            "二進位 01001101 = 16 進位 4d\n",
            "二進位 01001110 = 16 進位 4e\n",
            "二進位 01001111 = 16 進位 4f\n",
            "二進位 01010000 = 16 進位 50\n",
            "二進位 01010001 = 16 進位 51\n",
            "二進位 01010010 = 16 進位 52\n",
            "二進位 01010011 = 16 進位 53\n",
            "二進位 01010100 = 16 進位 54\n",
            "二進位 01010101 = 16 進位 55\n",
            "二進位 01010110 = 16 進位 56\n",
            "二進位 01010111 = 16 進位 57\n",
            "二進位 01011000 = 16 進位 58\n",
            "二進位 01011001 = 16 進位 59\n",
            "二進位 01011010 = 16 進位 5a\n",
            "二進位 01011011 = 16 進位 5b\n",
            "二進位 01011100 = 16 進位 5c\n",
            "二進位 01011101 = 16 進位 5d\n",
            "二進位 01011110 = 16 進位 5e\n",
            "二進位 01011111 = 16 進位 5f\n",
            "二進位 01100000 = 16 進位 60\n",
            "二進位 01100001 = 16 進位 61\n",
            "二進位 01100010 = 16 進位 62\n",
            "二進位 01100011 = 16 進位 63\n",
            "二進位 01100100 = 16 進位 64\n",
            "二進位 01100101 = 16 進位 65\n",
            "二進位 01100110 = 16 進位 66\n",
            "二進位 01100111 = 16 進位 67\n",
            "二進位 01101000 = 16 進位 68\n",
            "二進位 01101001 = 16 進位 69\n",
            "二進位 01101010 = 16 進位 6a\n",
            "二進位 01101011 = 16 進位 6b\n",
            "二進位 01101100 = 16 進位 6c\n",
            "二進位 01101101 = 16 進位 6d\n",
            "二進位 01101110 = 16 進位 6e\n",
            "二進位 01101111 = 16 進位 6f\n",
            "二進位 01110000 = 16 進位 70\n",
            "二進位 01110001 = 16 進位 71\n",
            "二進位 01110010 = 16 進位 72\n",
            "二進位 01110011 = 16 進位 73\n",
            "二進位 01110100 = 16 進位 74\n",
            "二進位 01110101 = 16 進位 75\n",
            "二進位 01110110 = 16 進位 76\n",
            "二進位 01110111 = 16 進位 77\n",
            "二進位 01111000 = 16 進位 78\n",
            "二進位 01111001 = 16 進位 79\n",
            "二進位 01111010 = 16 進位 7a\n",
            "二進位 01111011 = 16 進位 7b\n",
            "二進位 01111100 = 16 進位 7c\n",
            "二進位 01111101 = 16 進位 7d\n",
            "二進位 01111110 = 16 進位 7e\n",
            "二進位 01111111 = 16 進位 7f\n",
            "二進位 10000000 = 16 進位 80\n",
            "二進位 10000001 = 16 進位 81\n",
            "二進位 10000010 = 16 進位 82\n",
            "二進位 10000011 = 16 進位 83\n",
            "二進位 10000100 = 16 進位 84\n",
            "二進位 10000101 = 16 進位 85\n",
            "二進位 10000110 = 16 進位 86\n",
            "二進位 10000111 = 16 進位 87\n",
            "二進位 10001000 = 16 進位 88\n",
            "二進位 10001001 = 16 進位 89\n",
            "二進位 10001010 = 16 進位 8a\n",
            "二進位 10001011 = 16 進位 8b\n",
            "二進位 10001100 = 16 進位 8c\n",
            "二進位 10001101 = 16 進位 8d\n",
            "二進位 10001110 = 16 進位 8e\n",
            "二進位 10001111 = 16 進位 8f\n",
            "二進位 10010000 = 16 進位 90\n",
            "二進位 10010001 = 16 進位 91\n",
            "二進位 10010010 = 16 進位 92\n",
            "二進位 10010011 = 16 進位 93\n",
            "二進位 10010100 = 16 進位 94\n",
            "二進位 10010101 = 16 進位 95\n",
            "二進位 10010110 = 16 進位 96\n",
            "二進位 10010111 = 16 進位 97\n",
            "二進位 10011000 = 16 進位 98\n",
            "二進位 10011001 = 16 進位 99\n",
            "二進位 10011010 = 16 進位 9a\n",
            "二進位 10011011 = 16 進位 9b\n",
            "二進位 10011100 = 16 進位 9c\n",
            "二進位 10011101 = 16 進位 9d\n",
            "二進位 10011110 = 16 進位 9e\n",
            "二進位 10011111 = 16 進位 9f\n",
            "二進位 10100000 = 16 進位 a0\n",
            "二進位 10100001 = 16 進位 a1\n",
            "二進位 10100010 = 16 進位 a2\n",
            "二進位 10100011 = 16 進位 a3\n",
            "二進位 10100100 = 16 進位 a4\n",
            "二進位 10100101 = 16 進位 a5\n",
            "二進位 10100110 = 16 進位 a6\n",
            "二進位 10100111 = 16 進位 a7\n",
            "二進位 10101000 = 16 進位 a8\n",
            "二進位 10101001 = 16 進位 a9\n",
            "二進位 10101010 = 16 進位 aa\n",
            "二進位 10101011 = 16 進位 ab\n",
            "二進位 10101100 = 16 進位 ac\n",
            "二進位 10101101 = 16 進位 ad\n",
            "二進位 10101110 = 16 進位 ae\n",
            "二進位 10101111 = 16 進位 af\n",
            "二進位 10110000 = 16 進位 b0\n",
            "二進位 10110001 = 16 進位 b1\n",
            "二進位 10110010 = 16 進位 b2\n",
            "二進位 10110011 = 16 進位 b3\n",
            "二進位 10110100 = 16 進位 b4\n",
            "二進位 10110101 = 16 進位 b5\n",
            "二進位 10110110 = 16 進位 b6\n",
            "二進位 10110111 = 16 進位 b7\n",
            "二進位 10111000 = 16 進位 b8\n",
            "二進位 10111001 = 16 進位 b9\n",
            "二進位 10111010 = 16 進位 ba\n",
            "二進位 10111011 = 16 進位 bb\n",
            "二進位 10111100 = 16 進位 bc\n",
            "二進位 10111101 = 16 進位 bd\n",
            "二進位 10111110 = 16 進位 be\n",
            "二進位 10111111 = 16 進位 bf\n",
            "二進位 11000000 = 16 進位 c0\n",
            "二進位 11000001 = 16 進位 c1\n",
            "二進位 11000010 = 16 進位 c2\n",
            "二進位 11000011 = 16 進位 c3\n",
            "二進位 11000100 = 16 進位 c4\n",
            "二進位 11000101 = 16 進位 c5\n",
            "二進位 11000110 = 16 進位 c6\n",
            "二進位 11000111 = 16 進位 c7\n",
            "二進位 11001000 = 16 進位 c8\n",
            "二進位 11001001 = 16 進位 c9\n",
            "二進位 11001010 = 16 進位 ca\n",
            "二進位 11001011 = 16 進位 cb\n",
            "二進位 11001100 = 16 進位 cc\n",
            "二進位 11001101 = 16 進位 cd\n",
            "二進位 11001110 = 16 進位 ce\n",
            "二進位 11001111 = 16 進位 cf\n",
            "二進位 11010000 = 16 進位 d0\n",
            "二進位 11010001 = 16 進位 d1\n",
            "二進位 11010010 = 16 進位 d2\n",
            "二進位 11010011 = 16 進位 d3\n",
            "二進位 11010100 = 16 進位 d4\n",
            "二進位 11010101 = 16 進位 d5\n",
            "二進位 11010110 = 16 進位 d6\n",
            "二進位 11010111 = 16 進位 d7\n",
            "二進位 11011000 = 16 進位 d8\n",
            "二進位 11011001 = 16 進位 d9\n",
            "二進位 11011010 = 16 進位 da\n",
            "二進位 11011011 = 16 進位 db\n",
            "二進位 11011100 = 16 進位 dc\n",
            "二進位 11011101 = 16 進位 dd\n",
            "二進位 11011110 = 16 進位 de\n",
            "二進位 11011111 = 16 進位 df\n",
            "二進位 11100000 = 16 進位 e0\n",
            "二進位 11100001 = 16 進位 e1\n",
            "二進位 11100010 = 16 進位 e2\n",
            "二進位 11100011 = 16 進位 e3\n",
            "二進位 11100100 = 16 進位 e4\n",
            "二進位 11100101 = 16 進位 e5\n",
            "二進位 11100110 = 16 進位 e6\n",
            "二進位 11100111 = 16 進位 e7\n",
            "二進位 11101000 = 16 進位 e8\n",
            "二進位 11101001 = 16 進位 e9\n",
            "二進位 11101010 = 16 進位 ea\n",
            "二進位 11101011 = 16 進位 eb\n",
            "二進位 11101100 = 16 進位 ec\n",
            "二進位 11101101 = 16 進位 ed\n",
            "二進位 11101110 = 16 進位 ee\n",
            "二進位 11101111 = 16 進位 ef\n",
            "二進位 11110000 = 16 進位 f0\n",
            "二進位 11110001 = 16 進位 f1\n",
            "二進位 11110010 = 16 進位 f2\n",
            "二進位 11110011 = 16 進位 f3\n",
            "二進位 11110100 = 16 進位 f4\n",
            "二進位 11110101 = 16 進位 f5\n",
            "二進位 11110110 = 16 進位 f6\n",
            "二進位 11110111 = 16 進位 f7\n",
            "二進位 11111000 = 16 進位 f8\n",
            "二進位 11111001 = 16 進位 f9\n",
            "二進位 11111010 = 16 進位 fa\n",
            "二進位 11111011 = 16 進位 fb\n",
            "二進位 11111100 = 16 進位 fc\n",
            "二進位 11111101 = 16 進位 fd\n",
            "二進位 11111110 = 16 進位 fe\n",
            "二進位 11111111 = 16 進位 ff\n"
          ]
        }
      ]
    },
    {
      "cell_type": "markdown",
      "source": [
        "### 4. 十六進位互動小應用\n",
        "\n",
        "以前可能大家就知道, 一個顏色可以表示成 r, g, b 三個顏色強度的組合。"
      ],
      "metadata": {
        "id": "nC9bvh3lutPw"
      }
    },
    {
      "cell_type": "code",
      "source": [
        "from ipywidgets import interact, interact_manual"
      ],
      "metadata": {
        "id": "tgWc9r6NuXsE"
      },
      "execution_count": 67,
      "outputs": []
    },
    {
      "cell_type": "markdown",
      "source": [
        "定義一個函數, 畫出某個以 r, g, b 決定顏色的球 (好啦, 我知道其實是盤子)。"
      ],
      "metadata": {
        "id": "CbZUix15HKt9"
      }
    },
    {
      "cell_type": "code",
      "source": [
        "def color_ball(r, g, b):\n",
        "    π = np.pi\n",
        "    θ = np.linspace(0, 2*π, 200)\n",
        "    x = np.cos(θ)\n",
        "    y = np.sin(θ)\n",
        "    plt.axis('equal')\n",
        "    plt.axis('off')\n",
        "    plt.fill(x, y, c=(r,g,b))"
      ],
      "metadata": {
        "id": "6pGdU-cvva7m"
      },
      "execution_count": 68,
      "outputs": []
    },
    {
      "cell_type": "markdown",
      "source": [
        "試用 \n",
        "\n",
        "    r=0.3, g=0.5, b=0.3\n",
        "\n",
        "這個顏色。"
      ],
      "metadata": {
        "id": "VETQuZDKIStU"
      }
    },
    {
      "cell_type": "code",
      "source": [
        "color_ball(0.3, 0.5, 0.3)"
      ],
      "metadata": {
        "colab": {
          "base_uri": "https://localhost:8080/",
          "height": 248
        },
        "id": "fC8ohDWxwI53",
        "outputId": "cc5bdd91-6b04-4765-e1f1-cb5243060984"
      },
      "execution_count": 69,
      "outputs": [
        {
          "output_type": "display_data",
          "data": {
            "text/plain": [
              "<Figure size 432x288 with 1 Axes>"
            ],
            "image/png": "[encoded data removed]"
          },
          "metadata": {
            "needs_background": "light"
          }
        }
      ]
    },
    {
      "cell_type": "markdown",
      "source": [
        "做成互動版的, 調出自己愛的顏色。"
      ],
      "metadata": {
        "id": "tN1Zs5K0Id8e"
      }
    },
    {
      "cell_type": "code",
      "source": [
        "interact(color_ball, r=(0.,1), g=(0.,1), b=(0.,1));"
      ],
      "metadata": {
        "colab": {
          "base_uri": "https://localhost:8080/",
          "height": 344,
          "referenced_widgets": [
            "aab18f844c55456d8c07b79ab1c3c466",
            "1acad807c89e4a8c89fda28d1fcb4886",
            "d8c646985da84e06ada19c7a3490744c",
            "74c41198e6e7465aabf9d8ed41c15b49",
            "c94a80721019460b8107f27837a44f9b",
            "923b903e8a924fd6a0dd62e17033e09e",
            "5157385cb7f64c82b6723bbc0ac8bbcc",
            "2d0d54e4342f42feb6c666a9c2ad555a",
            "4003737b69c44c0594258f7ed720fab1",
            "5826a65525214cc0a309e5916b2a7b0e",
            "90ebc4f2bac74e2b8e5974d4ba054e65",
            "3b56c240068b479d91e58ac362caf6a0",
            "c6a2f9df8da9426a87584a5b0863f8c3"
          ]
        },
        "id": "7xRYk1ibwLya",
        "outputId": "d090f0f6-fa94-4afe-f5f4-3452c4df7de4"
      },
      "execution_count": 70,
      "outputs": [
        {
          "output_type": "display_data",
          "data": {
            "text/plain": [
              "interactive(children=(FloatSlider(value=0.5, description='r', max=1.0), FloatSlider(value=0.5, description='g'…"
            ],
            "application/vnd.jupyter.widget-view+json": {
              "version_major": 2,
              "version_minor": 0,
              "model_id": "aab18f844c55456d8c07b79ab1c3c466"
            }
          },
          "metadata": {}
        }
      ]
    },
    {
      "cell_type": "code",
      "source": [
        "def to_hex(r,g,b):\n",
        "    rx = hex(int(r*255))[2:]\n",
        "    gx = hex(int(g*255))[2:]\n",
        "    bx = hex(int(b*255))[2:]\n",
        "    print(f'#{rx}{gx}{bx}')"
      ],
      "metadata": {
        "id": "Ib4n5k4Owf7g"
      },
      "execution_count": 71,
      "outputs": []
    },
    {
      "cell_type": "code",
      "source": [
        "to_hex(0.8, 0.6, 0.6)"
      ],
      "metadata": {
        "colab": {
          "base_uri": "https://localhost:8080/"
        },
        "id": "YsuAN1SnxWki",
        "outputId": "821873fe-67d0-4a5e-f8ce-6c679d8851c1"
      },
      "execution_count": 72,
      "outputs": [
        {
          "output_type": "stream",
          "name": "stdout",
          "text": [
            "#cc9999\n"
          ]
        }
      ]
    },
    {
      "cell_type": "markdown",
      "source": [
        "### 5. `display` 讓輸出更美!"
      ],
      "metadata": {
        "id": "ArXZx-qTxlAr"
      }
    },
    {
      "cell_type": "code",
      "source": [
        "from IPython.display import display, HTML, Markdown"
      ],
      "metadata": {
        "id": "vWbDWzPJxZ_R"
      },
      "execution_count": 73,
      "outputs": []
    },
    {
      "cell_type": "code",
      "source": [
        "egg = HTML(r'<h2 style=\"color:#cc9999;\">你好，世界!<h2>')"
      ],
      "metadata": {
        "id": "MX1s1B2ZxugX"
      },
      "execution_count": 74,
      "outputs": []
    },
    {
      "cell_type": "code",
      "source": [
        "display(egg)"
      ],
      "metadata": {
        "colab": {
          "base_uri": "https://localhost:8080/",
          "height": 78
        },
        "id": "jCsioQgHyJiV",
        "outputId": "21778f23-8b7e-4cd5-a0d7-8939b8f52ac0"
      },
      "execution_count": 75,
      "outputs": [
        {
          "output_type": "display_data",
          "data": {
            "text/plain": [
              "<IPython.core.display.HTML object>"
            ],
            "text/html": [
              "<h2 style=\"color:#cc9999;\">你好，世界!<h2>"
            ]
          },
          "metadata": {}
        }
      ]
    },
    {
      "cell_type": "code",
      "source": [
        "ham = Markdown(r'''## 大標題\n",
        "不如來段數學 $f(x) = x^2$''')"
      ],
      "metadata": {
        "id": "ZlvsOgm0yKpI"
      },
      "execution_count": 76,
      "outputs": []
    },
    {
      "cell_type": "code",
      "source": [
        "display(ham)"
      ],
      "metadata": {
        "colab": {
          "base_uri": "https://localhost:8080/",
          "height": 94
        },
        "id": "evIL8Vl-yo-5",
        "outputId": "7c133710-ca0f-4dfc-c234-9486a46ce0c5"
      },
      "execution_count": 77,
      "outputs": [
        {
          "output_type": "display_data",
          "data": {
            "text/plain": [
              "<IPython.core.display.Markdown object>"
            ],
            "text/markdown": "## 大標題\n不如來段數學 $f(x) = x^2$"
          },
          "metadata": {}
        }
      ]
    }
  ]
}