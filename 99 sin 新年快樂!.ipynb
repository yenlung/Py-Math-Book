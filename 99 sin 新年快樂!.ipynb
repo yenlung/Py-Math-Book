{
 "metadata": {
  "name": "",
  "signature": "sha256:12f25d43fce49a8ec45a2e31061a9dd57e6473e80a66142dfa4ac1581bab4bb8"
 },
 "nbformat": 3,
 "nbformat_minor": 0,
 "worksheets": [
  {
   "cells": [
    {
     "cell_type": "code",
     "collapsed": false,
     "input": [
      "from math import *"
     ],
     "language": "python",
     "metadata": {},
     "outputs": [],
     "prompt_number": 1
    },
    {
     "cell_type": "code",
     "collapsed": false,
     "input": [
      "def newyear(npi):\n",
      "    k = npi + 3\n",
      "    for i in range(k):\n",
      "        sp = int(abs(tan(pi/npi * i))*7)\n",
      "        print \" \"*sp + \"\u65b0\u5e74\u5feb\u6a02\""
     ],
     "language": "python",
     "metadata": {},
     "outputs": [],
     "prompt_number": 2
    },
    {
     "cell_type": "code",
     "collapsed": false,
     "input": [
      "newyear(17)"
     ],
     "language": "python",
     "metadata": {},
     "outputs": [
      {
       "output_type": "stream",
       "stream": "stdout",
       "text": [
        "\u65b0\u5e74\u5feb\u6a02\n",
        " \u65b0\u5e74\u5feb\u6a02\n",
        "  \u65b0\u5e74\u5feb\u6a02\n",
        "    \u65b0\u5e74\u5feb\u6a02\n",
        "      \u65b0\u5e74\u5feb\u6a02\n",
        "         \u65b0\u5e74\u5feb\u6a02\n",
        "              \u65b0\u5e74\u5feb\u6a02\n",
        "                        \u65b0\u5e74\u5feb\u6a02\n",
        "                                                                           \u65b0\u5e74\u5feb\u6a02\n",
        "                                                                           \u65b0\u5e74\u5feb\u6a02\n",
        "                        \u65b0\u5e74\u5feb\u6a02\n",
        "              \u65b0\u5e74\u5feb\u6a02\n",
        "         \u65b0\u5e74\u5feb\u6a02\n",
        "      \u65b0\u5e74\u5feb\u6a02\n",
        "    \u65b0\u5e74\u5feb\u6a02\n",
        "  \u65b0\u5e74\u5feb\u6a02\n",
        " \u65b0\u5e74\u5feb\u6a02\n",
        "\u65b0\u5e74\u5feb\u6a02\n",
        " \u65b0\u5e74\u5feb\u6a02\n",
        "  \u65b0\u5e74\u5feb\u6a02\n"
       ]
      }
     ],
     "prompt_number": 3
    },
    {
     "cell_type": "code",
     "collapsed": false,
     "input": [],
     "language": "python",
     "metadata": {},
     "outputs": []
    }
   ],
   "metadata": {}
  }
 ]
}