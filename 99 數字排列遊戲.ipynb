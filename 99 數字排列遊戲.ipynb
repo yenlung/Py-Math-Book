{
 "cells": [
  {
   "cell_type": "markdown",
   "metadata": {},
   "source": [
    "## 我們今天要做一個遊戲\n",
    "\n",
    "首先, 電腦會把 0 到 9 數字亂排, 像是\n",
    "\n",
    "<b style=\"color:green;\">1782560943</b>\n",
    "\n",
    "接著, 你可以『倒轉』倒數 k 個數字。比方說, k 是 3, 那會變成\n",
    "\n",
    "<b style=\"color:green;\">1782560349</b>\n",
    "\n",
    "我們的目標是做到\n",
    "\n",
    "<b style=\"color:green;\">0123456789</b>\n",
    "\n",
    "為止。\n"
   ]
  },
  {
   "cell_type": "code",
   "execution_count": null,
   "metadata": {},
   "outputs": [
    {
     "name": "stdout",
     "output_type": "stream",
     "text": [
      "6802579314\n"
     ]
    }
   ],
   "source": [
    "%run game.py"
   ]
  },
  {
   "cell_type": "code",
   "execution_count": null,
   "metadata": {
    "collapsed": true
   },
   "outputs": [],
   "source": []
  }
 ],
 "metadata": {
  "kernelspec": {
   "display_name": "Python 3",
   "language": "python",
   "name": "python3"
  },
  "language_info": {
   "codemirror_mode": {
    "name": "ipython",
    "version": 3
   },
   "file_extension": ".py",
   "mimetype": "text/x-python",
   "name": "python",
   "nbconvert_exporter": "python",
   "pygments_lexer": "ipython3",
   "version": "3.7.3"
  }
 },
 "nbformat": 4,
 "nbformat_minor": 1
}
