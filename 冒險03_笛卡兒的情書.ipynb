{
  "nbformat": 4,
  "nbformat_minor": 0,
  "metadata": {
    "colab": {
      "provenance": [],
      "include_colab_link": true
    },
    "kernelspec": {
      "name": "python3",
      "display_name": "Python 3"
    },
    "language_info": {
      "name": "python"
    }
  },
  "cells": [
    {
      "cell_type": "markdown",
      "metadata": {
        "id": "view-in-github",
        "colab_type": "text"
      },
      "source": [
        "<a href=\"https://colab.research.google.com/github/yenlung/Py-Math-Book/blob/main/%E5%86%92%E9%9A%AA03_%E7%AC%9B%E5%8D%A1%E5%85%92%E7%9A%84%E6%83%85%E6%9B%B8.ipynb\" target=\"_parent\"><img src=\"https://colab.research.google.com/assets/colab-badge.svg\" alt=\"Open In Colab\"/></a>"
      ]
    },
    {
      "cell_type": "markdown",
      "source": [
        "### 1. 讀入標準套件\n",
        "\n",
        "照例, 我們先讀入標準套件!"
      ],
      "metadata": {
        "id": "h3ZbVbUFUtOP"
      }
    },
    {
      "cell_type": "code",
      "execution_count": 1,
      "metadata": {
        "id": "p8aFa-lzOFga"
      },
      "outputs": [],
      "source": [
        "%matplotlib inline\n",
        "\n",
        "import numpy as np\n",
        "import sympy as sp\n",
        "import pandas as pd\n",
        "import matplotlib.pyplot as plt"
      ]
    },
    {
      "cell_type": "markdown",
      "source": [
        "### 2. 複習畫圖\n",
        "\n",
        "假設我們要畫這幾個點、再連起來。\n",
        "\n",
        "    (8,7), (9,8), (20,19), (30,-6), (31, -1)\n",
        "\n",
        "記得 Python 喜歡把 X 的座標和 Y 的座標分開!"
      ],
      "metadata": {
        "id": "S0dzQsO2P-ay"
      }
    },
    {
      "cell_type": "code",
      "source": [
        "x = [8, 9, 20, 30, 31]\n",
        "y = [7, 8, 19, -6, -1]"
      ],
      "metadata": {
        "id": "rAhLWW4VPNuS"
      },
      "execution_count": 2,
      "outputs": []
    },
    {
      "cell_type": "markdown",
      "source": [
        "接著用 `plt.plot` 畫出來即可。"
      ],
      "metadata": {
        "id": "BLIoZiP4VInl"
      }
    },
    {
      "cell_type": "code",
      "source": [
        "plt.plot(x, y)"
      ],
      "metadata": {
        "colab": {
          "base_uri": "https://localhost:8080/",
          "height": 285
        },
        "id": "HNtgULRKRNNZ",
        "outputId": "e583e330-ff34-4a23-9ebc-0ce9ce347082"
      },
      "execution_count": 3,
      "outputs": [
        {
          "output_type": "execute_result",
          "data": {
            "text/plain": [
              "[<matplotlib.lines.Line2D at 0x7f6cde679250>]"
            ]
          },
          "metadata": {},
          "execution_count": 3
        },
        {
          "output_type": "display_data",
          "data": {
            "text/plain": [
              "<Figure size 432x288 with 1 Axes>"
            ],
            "image/png": "[encoded data removed]"
          },
          "metadata": {
            "needs_background": "light"
          }
        }
      ]
    },
    {
      "cell_type": "markdown",
      "source": [
        "除了 `plt.plot`, 另一個重要的是用 `plt.scatter` 畫散佈圖。"
      ],
      "metadata": {
        "id": "u2lVVxHjVPCy"
      }
    },
    {
      "cell_type": "code",
      "source": [
        "plt.scatter(x, y)"
      ],
      "metadata": {
        "colab": {
          "base_uri": "https://localhost:8080/",
          "height": 285
        },
        "id": "DbXdQs_ZRSff",
        "outputId": "574c13b9-19a6-47f2-923c-f2b35f4672df"
      },
      "execution_count": 4,
      "outputs": [
        {
          "output_type": "execute_result",
          "data": {
            "text/plain": [
              "<matplotlib.collections.PathCollection at 0x7f6cde14fd90>"
            ]
          },
          "metadata": {},
          "execution_count": 4
        },
        {
          "output_type": "display_data",
          "data": {
            "text/plain": [
              "<Figure size 432x288 with 1 Axes>"
            ],
            "image/png": "[encoded data removed]"
          },
          "metadata": {
            "needs_background": "light"
          }
        }
      ]
    },
    {
      "cell_type": "markdown",
      "source": [
        "### 3. 極座標畫圖\n",
        "\n",
        "Colab (Jupyter Notebook) 有個很酷的希臘字母輸入法。那就是使用 LaTeX 語法 (大家可以 Google 搜尋), 打入希臘字母, 再按下我們天下第一鍵 `TAB` 鍵即可!\n",
        "\n",
        "比如要打入 $\\pi$ 是這樣做:\n",
        "\n",
        "    \\pi + TAB鍵\n",
        "\n",
        "如果要打入 $\\theta$ 則是這樣。\n",
        "\n",
        "    \\theta + TAB鍵\n",
        "\n",
        "`numpy` 這個套件, 是記得 $\\pi$ 的值的。"
      ],
      "metadata": {
        "id": "6ydeFMdKXTXG"
      }
    },
    {
      "cell_type": "code",
      "source": [
        "np.pi"
      ],
      "metadata": {
        "colab": {
          "base_uri": "https://localhost:8080/"
        },
        "id": "KFy_aEw-Rn9l",
        "outputId": "3e22dd4c-790d-4fef-d5f4-6c72c0b47fe0"
      },
      "execution_count": 6,
      "outputs": [
        {
          "output_type": "execute_result",
          "data": {
            "text/plain": [
              "3.141592653589793"
            ]
          },
          "metadata": {},
          "execution_count": 6
        }
      ]
    },
    {
      "cell_type": "markdown",
      "source": [
        "我們可以把 $\\pi$ 當變數名稱, 值就真的是 $\\pi$ 的值。"
      ],
      "metadata": {
        "id": "63Z9MD3RWMig"
      }
    },
    {
      "cell_type": "code",
      "source": [
        "π = np.pi"
      ],
      "metadata": {
        "id": "vr_V9FMWXpXv"
      },
      "execution_count": 7,
      "outputs": []
    },
    {
      "cell_type": "markdown",
      "source": [
        "於是, $\\pi$ 就是 $\\pi$ 了 (這在說什麼)。"
      ],
      "metadata": {
        "id": "rIz4q4IUWV8y"
      }
    },
    {
      "cell_type": "code",
      "source": [
        "π"
      ],
      "metadata": {
        "colab": {
          "base_uri": "https://localhost:8080/"
        },
        "id": "RTUL09HlYn9c",
        "outputId": "66c08fc3-b999-469d-f31c-dcfa421ce285"
      },
      "execution_count": 8,
      "outputs": [
        {
          "output_type": "execute_result",
          "data": {
            "text/plain": [
              "3.141592653589793"
            ]
          },
          "metadata": {},
          "execution_count": 8
        }
      ]
    },
    {
      "cell_type": "markdown",
      "source": [
        "你是否記得, 極座準轉成平面座標系統的方法?\n",
        "\n",
        "$$\\begin{cases}\n",
        "x = r \\cos(\\theta) \\\\\n",
        "y = r \\sin(\\theta)\n",
        "\\end{cases}$$\n",
        "\n",
        "於是, 極座標方程式要畫出來, 其實就是轉成直角座標系統, 再畫出來就好。\n",
        "\n",
        "比如, 我們想畫:\n",
        "\n",
        "$$r = 1$$\n",
        "\n",
        "這是一個半徑為 1 的圓, 我們稱為「單位圓」。"
      ],
      "metadata": {
        "id": "YmYff1oZWfWo"
      }
    },
    {
      "cell_type": "code",
      "source": [
        "θ = np.linspace(0, 2*π, 780)"
      ],
      "metadata": {
        "id": "CeGnti-wYrRw"
      },
      "execution_count": 9,
      "outputs": []
    },
    {
      "cell_type": "markdown",
      "source": [
        "接著下來是主軸, 我們今天會看到很多次!"
      ],
      "metadata": {
        "id": "_NytQTKCXXcF"
      }
    },
    {
      "cell_type": "code",
      "source": [
        "r = 1\n",
        "x = r * np.cos(θ)\n",
        "y = r * np.sin(θ)"
      ],
      "metadata": {
        "id": "Qfb50SQ6aAS_"
      },
      "execution_count": 10,
      "outputs": []
    },
    {
      "cell_type": "markdown",
      "source": [
        "未來會發現, 這種 array 的「長像」很重要, 我們來看一下。"
      ],
      "metadata": {
        "id": "lHBex3LpXd86"
      }
    },
    {
      "cell_type": "code",
      "source": [
        "x.shape"
      ],
      "metadata": {
        "colab": {
          "base_uri": "https://localhost:8080/"
        },
        "id": "A82gAGNZaWOs",
        "outputId": "9be05f16-f7e0-48ff-f85c-1613bfa69f33"
      },
      "execution_count": 11,
      "outputs": [
        {
          "output_type": "execute_result",
          "data": {
            "text/plain": [
              "(780,)"
            ]
          },
          "metadata": {},
          "execution_count": 11
        }
      ]
    },
    {
      "cell_type": "markdown",
      "source": [
        "這告訴我們是個 780 維的向量。\n",
        "\n",
        "現在來畫這個圓。"
      ],
      "metadata": {
        "id": "hD7T0cXiXnUp"
      }
    },
    {
      "cell_type": "code",
      "source": [
        "plt.plot(x, y)"
      ],
      "metadata": {
        "colab": {
          "base_uri": "https://localhost:8080/",
          "height": 283
        },
        "id": "JF3G_oymaYGA",
        "outputId": "c0bf672c-ede9-4ca9-c993-d74fdf927533"
      },
      "execution_count": 12,
      "outputs": [
        {
          "output_type": "execute_result",
          "data": {
            "text/plain": [
              "[<matplotlib.lines.Line2D at 0x7f6cde640550>]"
            ]
          },
          "metadata": {},
          "execution_count": 12
        },
        {
          "output_type": "display_data",
          "data": {
            "text/plain": [
              "<Figure size 432x288 with 1 Axes>"
            ],
            "image/png": "[encoded data removed]"
          },
          "metadata": {
            "needs_background": "light"
          }
        }
      ]
    },
    {
      "cell_type": "markdown",
      "source": [
        "然後就發現, 圓出現了... 等等, 怎麼不圓呢? 原來是 $x$, $y$ 座標單位長度不一, 我們弄成一樣就好, 有兩個方法。\n",
        "\n",
        "#### 讓圓變圓的方法一"
      ],
      "metadata": {
        "id": "s1eEd58-Xz3x"
      }
    },
    {
      "cell_type": "code",
      "source": [
        "plt.plot(x, y);\n",
        "plt.axis('equal')"
      ],
      "metadata": {
        "colab": {
          "base_uri": "https://localhost:8080/",
          "height": 283
        },
        "id": "4xVF-h_OXwl9",
        "outputId": "1640bb8c-7707-4259-d813-58d95422f1ab"
      },
      "execution_count": 13,
      "outputs": [
        {
          "output_type": "execute_result",
          "data": {
            "text/plain": [
              "(-1.0999914614614241, 1.099999593402925, -1.099997763713814, 1.099997763713814)"
            ]
          },
          "metadata": {},
          "execution_count": 13
        },
        {
          "output_type": "display_data",
          "data": {
            "text/plain": [
              "<Figure size 432x288 with 1 Axes>"
            ],
            "image/png": "[encoded data removed]"
          },
          "metadata": {
            "needs_background": "light"
          }
        }
      ]
    },
    {
      "cell_type": "markdown",
      "source": [
        "#### 讓圓變圓的方法二\n",
        "\n",
        "幾個重點:\n",
        "\n",
        "* `plt.gca` 指向現在在畫的圖\n",
        "* 顏色可酷炫選 HTML/CSS (做網頁那種 RGB 色彩表示法), 要知道顏色代碼, 可參考如 [coolors.co](https://coolors.co/) 網站。"
      ],
      "metadata": {
        "id": "2sPzSPODYcs5"
      }
    },
    {
      "cell_type": "code",
      "source": [
        "ax = plt.gca() # get current axis\n",
        "ax.set_aspect('equal')\n",
        "plt.axis('off')\n",
        "plt.plot(x, y, lw=5, c=\"#CDB4DB\");"
      ],
      "metadata": {
        "colab": {
          "base_uri": "https://localhost:8080/",
          "height": 248
        },
        "id": "tvUjfZlRaqVX",
        "outputId": "4267773f-499b-4337-c7d6-c71f732ed41e"
      },
      "execution_count": 14,
      "outputs": [
        {
          "output_type": "display_data",
          "data": {
            "text/plain": [
              "<Figure size 432x288 with 1 Axes>"
            ],
            "image/png": "[encoded data removed]"
          },
          "metadata": {
            "needs_background": "light"
          }
        }
      ]
    },
    {
      "cell_type": "markdown",
      "source": [
        "### 4. 笛卡兒的情書\n",
        "\n",
        "來看看笛卡兒感人的第 13 封情書。"
      ],
      "metadata": {
        "id": "9vZC2szOlJ_8"
      }
    },
    {
      "cell_type": "code",
      "source": [
        "θ = np.linspace(0, 2*π, 780)"
      ],
      "metadata": {
        "id": "GbUVSmpGhfWv"
      },
      "execution_count": 15,
      "outputs": []
    },
    {
      "cell_type": "markdown",
      "source": [
        "記得就是\n",
        "\n",
        "$$r = a ( 1- \\sin(\\theta))$$\n",
        "\n",
        "$a$ 是一個正實數, 但其實不太重要, 不仿令 $a=1$。"
      ],
      "metadata": {
        "id": "Bvql-4dmZOl1"
      }
    },
    {
      "cell_type": "code",
      "source": [
        "r = (1-np.sin(θ))\n",
        "\n",
        "x = r * np.cos(θ)\n",
        "y = r * np.sin(θ)"
      ],
      "metadata": {
        "id": "hytBc7O6lZno"
      },
      "execution_count": 16,
      "outputs": []
    },
    {
      "cell_type": "markdown",
      "source": [
        "於是畫出來。"
      ],
      "metadata": {
        "id": "NkyODBRcZhW1"
      }
    },
    {
      "cell_type": "code",
      "source": [
        "plt.axis('equal')\n",
        "plt.axis('off')\n",
        "plt.plot(x, y, c='r');"
      ],
      "metadata": {
        "colab": {
          "base_uri": "https://localhost:8080/",
          "height": 248
        },
        "id": "9IK8W3GFl9-R",
        "outputId": "d8ba95ab-c16b-496e-8647-3e994cd90b89"
      },
      "execution_count": 17,
      "outputs": [
        {
          "output_type": "display_data",
          "data": {
            "text/plain": [
              "<Figure size 432x288 with 1 Axes>"
            ],
            "image/png": "[encoded data removed]"
          },
          "metadata": {
            "needs_background": "light"
          }
        }
      ]
    },
    {
      "cell_type": "markdown",
      "source": [
        "其實還可以用 `plt.fill` 填滿愛心!"
      ],
      "metadata": {
        "id": "4NePVCdvZl0x"
      }
    },
    {
      "cell_type": "code",
      "source": [
        "plt.axis('equal')\n",
        "plt.axis('off')\n",
        "plt.fill(x, y, c='r');"
      ],
      "metadata": {
        "colab": {
          "base_uri": "https://localhost:8080/",
          "height": 248
        },
        "id": "rRU_e1utmLlH",
        "outputId": "e61db90c-7f1a-41b2-bd5b-154792635436"
      },
      "execution_count": 18,
      "outputs": [
        {
          "output_type": "display_data",
          "data": {
            "text/plain": [
              "<Figure size 432x288 with 1 Axes>"
            ],
            "image/png": "[encoded data removed]"
          },
          "metadata": {
            "needs_background": "light"
          }
        }
      ]
    },
    {
      "cell_type": "markdown",
      "source": [
        "### 5. 有意識的創作\n",
        "\n",
        "想清楚之後, 你可以發現, 極座標畫圖, 重點在「想辦法讓半徑 $r$ 有所變化」。\n",
        "\n",
        "於是, 你可以「有意識」的去創作!"
      ],
      "metadata": {
        "id": "bzxq799fm-hM"
      }
    },
    {
      "cell_type": "code",
      "source": [
        "θ = np.linspace(0, 2*π, 780)"
      ],
      "metadata": {
        "id": "sqpQtE2emrXX"
      },
      "execution_count": 19,
      "outputs": []
    },
    {
      "cell_type": "code",
      "source": [
        "r = 1 + 0.2*np.sin(5*θ)\n",
        "\n",
        "x = r * np.cos(θ)\n",
        "y = r * np.sin(θ)"
      ],
      "metadata": {
        "id": "XN-jAwMAnI3y"
      },
      "execution_count": 20,
      "outputs": []
    },
    {
      "cell_type": "code",
      "source": [
        "plt.axis('equal')\n",
        "plt.axis('off')\n",
        "plt.plot(x, y, lw=3, c=\"#CDB4DB\");"
      ],
      "metadata": {
        "colab": {
          "base_uri": "https://localhost:8080/",
          "height": 248
        },
        "id": "IKLJvkJInUr-",
        "outputId": "a870a5ea-517f-4214-c6de-889e6a66b2a2"
      },
      "execution_count": 21,
      "outputs": [
        {
          "output_type": "display_data",
          "data": {
            "text/plain": [
              "<Figure size 432x288 with 1 Axes>"
            ],
            "image/png": "[encoded data removed]"
          },
          "metadata": {
            "needs_background": "light"
          }
        }
      ]
    },
    {
      "cell_type": "markdown",
      "source": [
        "兩個圖同時顯示可以嗎? 當然可以啊!"
      ],
      "metadata": {
        "id": "IYBxZCndaDGN"
      }
    },
    {
      "cell_type": "code",
      "source": [
        "plt.axis('equal')\n",
        "plt.axis('off')\n",
        "plt.plot(x, y, lw=3, c=\"#CDB4DB\");\n",
        "\n",
        "# 開始畫第二個圖\n",
        "r = 0.6 + 0.2*np.sin(5*θ)\n",
        "\n",
        "x = r * np.cos(θ)\n",
        "y = r * np.sin(θ)\n",
        "\n",
        "plt.plot(x, y, lw=3, c='#CDB4DB');"
      ],
      "metadata": {
        "colab": {
          "base_uri": "https://localhost:8080/",
          "height": 248
        },
        "id": "adqCyvb_aAs7",
        "outputId": "5c817cba-a960-4e8b-e111-3151da61978b"
      },
      "execution_count": 22,
      "outputs": [
        {
          "output_type": "display_data",
          "data": {
            "text/plain": [
              "<Figure size 432x288 with 1 Axes>"
            ],
            "image/png": "[encoded data removed]"
          },
          "metadata": {
            "needs_background": "light"
          }
        }
      ]
    }
  ]
}