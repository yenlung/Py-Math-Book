{
  "cells": [
    {
      "cell_type": "markdown",
      "metadata": {
        "id": "view-in-github",
        "colab_type": "text"
      },
      "source": [
        "<a href=\"https://colab.research.google.com/github/yenlung/Py-Math-Book/blob/main/%E5%86%92%E9%9A%AA05_%E4%BA%82%E6%95%B8%E6%98%AF%E5%A5%BD%E7%8E%A9%E7%9A%84%E6%A0%B9%E6%BA%90.ipynb\" target=\"_parent\"><img src=\"https://colab.research.google.com/assets/colab-badge.svg\" alt=\"Open In Colab\"/></a>"
      ]
    },
    {
      "cell_type": "code",
      "execution_count": 2,
      "metadata": {
        "id": "pgKws1Z4telJ"
      },
      "outputs": [],
      "source": [
        "%matplotlib inline\n",
        "\n",
        "import numpy as np\n",
        "import sympy as sp\n",
        "import pandas as pd\n",
        "import matplotlib.pyplot as plt"
      ]
    },
    {
      "cell_type": "markdown",
      "metadata": {
        "id": "B77j3Xl_telM"
      },
      "source": [
        "### 1. 隨機取一個數字\n",
        "\n",
        "這門課在取亂數都是用 `numpy` 裡的 `random` 子套件。事實上 Python 有個叫 `random` 的基本套件, 用那個套件好像更合理。但因為實務上用到 `numpy` 的機會實在太多了, 我們就儘量讓大家熟悉 `numpy` 套件。"
      ]
    },
    {
      "cell_type": "code",
      "execution_count": 3,
      "metadata": {
        "id": "TEHZlNBXtelN"
      },
      "outputs": [],
      "source": [
        "x = np.random.randint(1,101)"
      ]
    },
    {
      "cell_type": "code",
      "execution_count": 4,
      "metadata": {
        "id": "sAoqlDVPtelO",
        "outputId": "600bbd65-6931-4d11-b3e7-b5aa7908d1aa",
        "colab": {
          "base_uri": "https://localhost:8080/"
        }
      },
      "outputs": [
        {
          "output_type": "execute_result",
          "data": {
            "text/plain": [
              "51"
            ]
          },
          "metadata": {},
          "execution_count": 4
        }
      ],
      "source": [
        "x"
      ]
    },
    {
      "cell_type": "markdown",
      "source": [
        "注意每一次的數字是不一樣的! 在 `numpy` 裡 `randint` 的用法是這樣:\n",
        "\n",
        "    randint(a,b)\n",
        "\n",
        "其中 `a`, `b` 都是整數, 最後取出來的數字 `x` 會符合:\n",
        "\n",
        "$$a \\leq x < b$$"
      ],
      "metadata": {
        "id": "rjBQLMNnxVxw"
      }
    },
    {
      "cell_type": "code",
      "execution_count": 5,
      "metadata": {
        "id": "A-I2PX4WtelQ",
        "outputId": "580741ef-fa9a-4c38-fa5f-30bb93b93c71",
        "colab": {
          "base_uri": "https://localhost:8080/"
        }
      },
      "outputs": [
        {
          "output_type": "stream",
          "name": "stdout",
          "text": [
            "44\n"
          ]
        }
      ],
      "source": [
        "x = np.random.randint(1, 101)\n",
        "print(x)"
      ]
    },
    {
      "cell_type": "markdown",
      "metadata": {
        "id": "9kLyj6TytelR"
      },
      "source": [
        "### 2. AI 推薦咖啡系統\n",
        "\n",
        "如果注意新聞, 時不時會有這樣的消息:「某某咖啡店, 會根據某某各項因素, 用 AI 推薦最適合你的咖啡。」\n",
        "\n",
        "如果交給你設計這件事, 你會怎麼做呢? 很多同學可能會覺得「我們才剛剛開始學程式耶, 這怎麼可能呢?」\n",
        "\n",
        "事實上大家不用想得太困難。\n",
        "\n",
        "我們先來建一個串列, 假設就是我們咖啡店今天提供的咖啡。"
      ]
    },
    {
      "cell_type": "code",
      "execution_count": 6,
      "metadata": {
        "id": "waMXZnvmtelR"
      },
      "outputs": [],
      "source": [
        "coffee = [\"衣索比亞日曬\",\n",
        "         \"哥倫比亞厭氧發酵\",\n",
        "         \"巴拿馬蜜處理\",\n",
        "         \"瓜地馬拉水洗\"]"
      ]
    },
    {
      "cell_type": "markdown",
      "source": [
        "我們可以選定一支咖啡出來, 注意要點是:\n",
        "\n",
        "1. Python 索引是從 0 開始算\n",
        "2. Python 索引要某個 (些) 元素是用中弧號"
      ],
      "metadata": {
        "id": "F5OkctMaz1iq"
      }
    },
    {
      "cell_type": "code",
      "execution_count": 7,
      "metadata": {
        "id": "hBEcjfsotelS",
        "outputId": "9f60790d-81ef-4a7b-9ce3-e92fb90d3ea4",
        "colab": {
          "base_uri": "https://localhost:8080/",
          "height": 42
        }
      },
      "outputs": [
        {
          "output_type": "execute_result",
          "data": {
            "text/plain": [
              "'巴拿馬蜜處理'"
            ],
            "application/vnd.google.colaboratory.intrinsic+json": {
              "type": "string"
            }
          },
          "metadata": {},
          "execution_count": 7
        }
      ],
      "source": [
        "coffee[2]"
      ]
    },
    {
      "cell_type": "markdown",
      "source": [
        "事實上比單純 0, 1, 2, ... 更複雜。而且也可以倒著算!"
      ],
      "metadata": {
        "id": "ahsekiBW2IC5"
      }
    },
    {
      "cell_type": "code",
      "source": [
        "coffee[-1]"
      ],
      "metadata": {
        "colab": {
          "base_uri": "https://localhost:8080/",
          "height": 42
        },
        "id": "JwQyF7jU2GcF",
        "outputId": "90b0b67f-52d4-4193-fb3d-de6bbefb484c"
      },
      "execution_count": 8,
      "outputs": [
        {
          "output_type": "execute_result",
          "data": {
            "text/plain": [
              "'瓜地馬拉水洗'"
            ],
            "application/vnd.google.colaboratory.intrinsic+json": {
              "type": "string"
            }
          },
          "metadata": {},
          "execution_count": 8
        }
      ]
    },
    {
      "cell_type": "markdown",
      "source": [
        "配合剛學會的 `randint`, 我們可以隨機抽出一支咖啡。"
      ],
      "metadata": {
        "id": "-qFbeg0T2qHh"
      }
    },
    {
      "cell_type": "code",
      "execution_count": 9,
      "metadata": {
        "id": "B_ooSIvytelS",
        "outputId": "5fccb1ee-7db8-47d8-c9f8-ca597402f83c",
        "colab": {
          "base_uri": "https://localhost:8080/"
        }
      },
      "outputs": [
        {
          "output_type": "stream",
          "name": "stdout",
          "text": [
            "瓜地馬拉水洗\n"
          ]
        }
      ],
      "source": [
        "x = np.random.randint(4)\n",
        "print(coffee[x])"
      ]
    },
    {
      "cell_type": "markdown",
      "source": [
        "我們可以做得更「厲害」一點。"
      ],
      "metadata": {
        "id": "I-01WJf63CI8"
      }
    },
    {
      "cell_type": "code",
      "source": [
        "x = np.random.randint(4)\n",
        "print(\"今天 AI 推薦您的咖啡是: \" + coffee[x])"
      ],
      "metadata": {
        "colab": {
          "base_uri": "https://localhost:8080/"
        },
        "id": "-CH-0CVR34g-",
        "outputId": "f03504a1-878e-4a7c-abd5-deda38fec82b"
      },
      "execution_count": 10,
      "outputs": [
        {
          "output_type": "stream",
          "name": "stdout",
          "text": [
            "今天 AI 推薦您的咖啡是: 衣索比亞日曬\n"
          ]
        }
      ]
    },
    {
      "cell_type": "markdown",
      "metadata": {
        "id": "q9g6V-WxtelT"
      },
      "source": [
        "### 3. 使用 `choice` 做抽樣\n",
        "\n",
        "前面的方式, 我們是先選個號碼出來。難道不能直接抽出一支咖啡來嗎? 答案是肯定的! 我們來試試。"
      ]
    },
    {
      "cell_type": "code",
      "execution_count": 11,
      "metadata": {
        "id": "x63BA5RntelT",
        "outputId": "4a4ba34d-f33d-4101-92ed-904eb022c811",
        "colab": {
          "base_uri": "https://localhost:8080/"
        }
      },
      "outputs": [
        {
          "output_type": "execute_result",
          "data": {
            "text/plain": [
              "array(['巴拿馬蜜處理'], dtype='<U8')"
            ]
          },
          "metadata": {},
          "execution_count": 11
        }
      ],
      "source": [
        "np.random.choice(coffee, 1)"
      ]
    },
    {
      "cell_type": "code",
      "source": [
        "egg = np.random.choice(coffee, 1)"
      ],
      "metadata": {
        "id": "b874e6kl58k_"
      },
      "execution_count": 12,
      "outputs": []
    },
    {
      "cell_type": "code",
      "source": [
        "egg"
      ],
      "metadata": {
        "colab": {
          "base_uri": "https://localhost:8080/"
        },
        "id": "e5tIBO3Z6BJr",
        "outputId": "5185f32a-e7fa-4f87-9d41-67c2ce0eaa42"
      },
      "execution_count": 13,
      "outputs": [
        {
          "output_type": "execute_result",
          "data": {
            "text/plain": [
              "array(['哥倫比亞厭氧發酵'], dtype='<U8')"
            ]
          },
          "metadata": {},
          "execution_count": 13
        }
      ]
    },
    {
      "cell_type": "markdown",
      "source": [
        "注意抽出來, 即使只有一支豆子, 也會放在一個串列 (事實上是串列的近親, `numpy array`。) 要真的得到這支豆子的名稱, 要取出這唯一的豆子。"
      ],
      "metadata": {
        "id": "-HlSinxK6DsB"
      }
    },
    {
      "cell_type": "code",
      "source": [
        "mycoffee = egg[0]"
      ],
      "metadata": {
        "id": "w5EeBcmZ6CPT"
      },
      "execution_count": 14,
      "outputs": []
    },
    {
      "cell_type": "code",
      "source": [
        "mycoffee"
      ],
      "metadata": {
        "colab": {
          "base_uri": "https://localhost:8080/",
          "height": 42
        },
        "id": "BtrCoNYt6mHL",
        "outputId": "03a775fd-f1e7-417a-a3d4-6e4f69a52f46"
      },
      "execution_count": 15,
      "outputs": [
        {
          "output_type": "execute_result",
          "data": {
            "text/plain": [
              "'哥倫比亞厭氧發酵'"
            ],
            "application/vnd.google.colaboratory.intrinsic+json": {
              "type": "string"
            }
          },
          "metadata": {},
          "execution_count": 15
        }
      ]
    },
    {
      "cell_type": "markdown",
      "source": [
        "其實 Python 有更酷炫的方式!"
      ],
      "metadata": {
        "id": "0o-joa697CLO"
      }
    },
    {
      "cell_type": "code",
      "source": [
        "[mycoffee] = egg"
      ],
      "metadata": {
        "id": "AM8LW0a77GqA"
      },
      "execution_count": 16,
      "outputs": []
    },
    {
      "cell_type": "code",
      "source": [
        "mycoffee"
      ],
      "metadata": {
        "colab": {
          "base_uri": "https://localhost:8080/",
          "height": 42
        },
        "id": "eZRrYMm37Klx",
        "outputId": "0d8cf8cf-7d3d-442b-c31f-26af3060ac0b"
      },
      "execution_count": 17,
      "outputs": [
        {
          "output_type": "execute_result",
          "data": {
            "text/plain": [
              "'哥倫比亞厭氧發酵'"
            ],
            "application/vnd.google.colaboratory.intrinsic+json": {
              "type": "string"
            }
          },
          "metadata": {},
          "execution_count": 17
        }
      ]
    },
    {
      "cell_type": "markdown",
      "source": [
        "用 `choice` 真正目的其實是可以抽出不止一支咖啡。比如說現在有三位朋友來, 我們可以一次抽出三支豆子。"
      ],
      "metadata": {
        "id": "5zVblC-P7VBo"
      }
    },
    {
      "cell_type": "code",
      "execution_count": 18,
      "metadata": {
        "id": "4iYrTy3PtelT",
        "outputId": "1b72d924-8c81-43b4-a25e-c30e2563c8d3",
        "colab": {
          "base_uri": "https://localhost:8080/"
        }
      },
      "outputs": [
        {
          "output_type": "execute_result",
          "data": {
            "text/plain": [
              "array(['瓜地馬拉水洗', '哥倫比亞厭氧發酵', '瓜地馬拉水洗'], dtype='<U8')"
            ]
          },
          "metadata": {},
          "execution_count": 18
        }
      ],
      "source": [
        "np.random.choice(coffee, 3)"
      ]
    },
    {
      "cell_type": "markdown",
      "source": [
        "「取出」的技巧和以前一樣。"
      ],
      "metadata": {
        "id": "YvnSRR1u9ftG"
      }
    },
    {
      "cell_type": "code",
      "source": [
        "[a, b, c] = np.random.choice(coffee, 3)"
      ],
      "metadata": {
        "id": "vdtOcjcu9eNl"
      },
      "execution_count": 19,
      "outputs": []
    },
    {
      "cell_type": "code",
      "source": [
        "print(\"今天為大家推薦的三支豆子是: \" + a + \", \" + b + \", \" + c + \"。\")"
      ],
      "metadata": {
        "colab": {
          "base_uri": "https://localhost:8080/"
        },
        "id": "ywnyCNjG9tlW",
        "outputId": "66c9c567-50c1-439a-edba-93cdc71f443a"
      },
      "execution_count": 20,
      "outputs": [
        {
          "output_type": "stream",
          "name": "stdout",
          "text": [
            "今天為大家推薦的三支豆子是: 哥倫比亞厭氧發酵, 巴拿馬蜜處理, 衣索比亞日曬。\n"
          ]
        }
      ]
    },
    {
      "cell_type": "markdown",
      "source": [
        "但這樣只適合三支豆子的情況, 我們可以更一般的用適合任何情況的嗎? 於是想到我們的好朋友 `for` 迴圈。"
      ],
      "metadata": {
        "id": "8C8LLkxq-kZD"
      }
    },
    {
      "cell_type": "code",
      "source": [
        "n = 3\n",
        "\n",
        "egg = np.random.choice(coffee, n)"
      ],
      "metadata": {
        "id": "NRZBnSIF9O9l"
      },
      "execution_count": 21,
      "outputs": []
    },
    {
      "cell_type": "code",
      "source": [
        "for c in egg:\n",
        "    print(c)"
      ],
      "metadata": {
        "colab": {
          "base_uri": "https://localhost:8080/"
        },
        "id": "-wLRCzQg_72A",
        "outputId": "f52221e2-1afe-4b57-f3b1-c9a47535fd8b"
      },
      "execution_count": 22,
      "outputs": [
        {
          "output_type": "stream",
          "name": "stdout",
          "text": [
            "哥倫比亞厭氧發酵\n",
            "巴拿馬蜜處理\n",
            "哥倫比亞厭氧發酵\n"
          ]
        }
      ]
    },
    {
      "cell_type": "markdown",
      "source": [
        "可以印得漂亮一點嗎?"
      ],
      "metadata": {
        "id": "Ao_063Dp_-5K"
      }
    },
    {
      "cell_type": "code",
      "source": [
        "print(\"今天 AI 挑出的咖啡豆有:\")\n",
        "\n",
        "for c in egg:\n",
        "    print(c)"
      ],
      "metadata": {
        "colab": {
          "base_uri": "https://localhost:8080/"
        },
        "id": "VjqsgHVDADdb",
        "outputId": "1dc0ccad-7e20-47b1-d038-622de50b4492"
      },
      "execution_count": 23,
      "outputs": [
        {
          "output_type": "stream",
          "name": "stdout",
          "text": [
            "今天 AI 挑出的咖啡豆有:\n",
            "哥倫比亞厭氧發酵\n",
            "巴拿馬蜜處理\n",
            "哥倫比亞厭氧發酵\n"
          ]
        }
      ]
    },
    {
      "cell_type": "markdown",
      "source": [
        "可以像之前印成一行嗎?"
      ],
      "metadata": {
        "id": "NG0PzySQAdkV"
      }
    },
    {
      "cell_type": "code",
      "source": [
        "print(\"今天 AI 挑出的咖啡豆有: \", end=\"\")\n",
        "\n",
        "for c in egg:\n",
        "    print(c, end=\", \")\n",
        "\n",
        "print(\"這幾支豆子。\")"
      ],
      "metadata": {
        "colab": {
          "base_uri": "https://localhost:8080/"
        },
        "id": "57K2waxkAP17",
        "outputId": "f9430bd6-701f-47c4-9f44-69e5637b1028"
      },
      "execution_count": 25,
      "outputs": [
        {
          "output_type": "stream",
          "name": "stdout",
          "text": [
            "今天 AI 挑出的咖啡豆有: 哥倫比亞厭氧發酵, 巴拿馬蜜處理, 哥倫比亞厭氧發酵, 這幾支豆子。\n"
          ]
        }
      ]
    },
    {
      "cell_type": "markdown",
      "source": [
        "我們可以保證不要重覆的豆子嗎?"
      ],
      "metadata": {
        "id": "m1r3a7HgBo3g"
      }
    },
    {
      "cell_type": "code",
      "execution_count": 26,
      "metadata": {
        "id": "wzXQlpXrtelU",
        "outputId": "39bff414-76bc-4332-b7bb-9f226b379775",
        "colab": {
          "base_uri": "https://localhost:8080/"
        }
      },
      "outputs": [
        {
          "output_type": "execute_result",
          "data": {
            "text/plain": [
              "array(['哥倫比亞厭氧發酵', '瓜地馬拉水洗', '巴拿馬蜜處理'], dtype='<U8')"
            ]
          },
          "metadata": {},
          "execution_count": 26
        }
      ],
      "source": [
        "np.random.choice(coffee, 3, replace=False)"
      ]
    },
    {
      "cell_type": "markdown",
      "metadata": {
        "id": "SMETE3Z6telU"
      },
      "source": [
        "### 4. 不一樣的機率抽樣可能嗎?\n",
        "\n",
        "雖然我們有四支豆子, 但有時比較想推某支豆, 這樣是可能的嗎?"
      ]
    },
    {
      "cell_type": "code",
      "execution_count": 27,
      "metadata": {
        "id": "TA11lwQYtelU",
        "outputId": "f9a0ed1b-2377-46f7-c282-9908a2cf3204",
        "colab": {
          "base_uri": "https://localhost:8080/"
        }
      },
      "outputs": [
        {
          "output_type": "execute_result",
          "data": {
            "text/plain": [
              "array(['哥倫比亞厭氧發酵'], dtype='<U8')"
            ]
          },
          "metadata": {},
          "execution_count": 27
        }
      ],
      "source": [
        "np.random.choice(coffee, 1,\n",
        "                p=[0.6, 0.2, 0.15, 0.05])"
      ]
    },
    {
      "cell_type": "code",
      "source": [
        "[c] = np.random.choice(coffee, 1,\n",
        "                p=[0.6, 0.2, 0.15, 0.05])\n",
        "print(\"今天 AI 為您精選的咖啡豆是: \" + c)"
      ],
      "metadata": {
        "colab": {
          "base_uri": "https://localhost:8080/"
        },
        "id": "j8hgHGuqEOgJ",
        "outputId": "a4865004-21fd-45eb-fe7a-153a65f4620d"
      },
      "execution_count": 28,
      "outputs": [
        {
          "output_type": "stream",
          "name": "stdout",
          "text": [
            "今天 AI 為您精選的咖啡豆是: 衣索比亞日曬\n"
          ]
        }
      ]
    },
    {
      "cell_type": "markdown",
      "source": [
        "### 5. 浮點數型的亂數\n",
        "\n",
        "* `rand`: 取介於 0-1 的亂數\n",
        "* `randn`: 做標準常態分佈的抽樣"
      ],
      "metadata": {
        "id": "ndKAqJH-FSm5"
      }
    },
    {
      "cell_type": "code",
      "execution_count": 29,
      "metadata": {
        "id": "eYETlCVItelV",
        "outputId": "91131688-692e-46a8-b9c4-50c152e99cc0",
        "colab": {
          "base_uri": "https://localhost:8080/",
          "height": 265
        }
      },
      "outputs": [
        {
          "output_type": "display_data",
          "data": {
            "text/plain": [
              "<Figure size 432x288 with 1 Axes>"
            ],
            "image/png": "[encoded data removed]"
          },
          "metadata": {
            "needs_background": "light"
          }
        }
      ],
      "source": [
        "y = np.random.randn(100)\n",
        "plt.plot(y);"
      ]
    },
    {
      "cell_type": "markdown",
      "source": [
        "來做散布圖。"
      ],
      "metadata": {
        "id": "RsvpuQePGWED"
      }
    },
    {
      "cell_type": "code",
      "execution_count": 30,
      "metadata": {
        "id": "bXxA1ODvtelV",
        "outputId": "ef755155-9221-4089-b356-780c776e9c09",
        "colab": {
          "base_uri": "https://localhost:8080/",
          "height": 265
        }
      },
      "outputs": [
        {
          "output_type": "display_data",
          "data": {
            "text/plain": [
              "<Figure size 432x288 with 1 Axes>"
            ],
            "image/png": "[encoded data removed]"
          },
          "metadata": {
            "needs_background": "light"
          }
        }
      ],
      "source": [
        "x = np.random.randn(250)\n",
        "y = np.random.randn(250)\n",
        "plt.scatter(x,y);"
      ]
    },
    {
      "cell_type": "code",
      "execution_count": 32,
      "metadata": {
        "id": "GIyjG999telV",
        "outputId": "47aec083-5eb6-4df0-ffd2-a7e76a8195ff",
        "colab": {
          "base_uri": "https://localhost:8080/",
          "height": 284
        }
      },
      "outputs": [
        {
          "output_type": "execute_result",
          "data": {
            "text/plain": [
              "<matplotlib.collections.PathCollection at 0x7efc99916850>"
            ]
          },
          "metadata": {},
          "execution_count": 32
        },
        {
          "output_type": "display_data",
          "data": {
            "text/plain": [
              "<Figure size 432x288 with 1 Axes>"
            ],
            "image/png": "[encoded data removed]"
          },
          "metadata": {
            "needs_background": "light"
          }
        }
      ],
      "source": [
        "plt.axis('equal')\n",
        "\n",
        "x = np.random.randn(250)\n",
        "y = np.random.randn(250)\n",
        "s = np.random.randint(25, 200, 250) # 大小隨機 \n",
        "c = np.random.randint(1, 6, 250) # 顏色隨機\n",
        "plt.scatter(x,y, s=s, c=c, alpha=0.7)"
      ]
    },
    {
      "cell_type": "markdown",
      "source": [
        "耍完寶之後, 其實亂數可以幫我們做出擬真的數據。"
      ],
      "metadata": {
        "id": "NCn3daYqIQgi"
      }
    },
    {
      "cell_type": "code",
      "execution_count": 33,
      "metadata": {
        "id": "A1euQV24telV",
        "outputId": "3aff360a-794c-4644-d455-3a71b7222879",
        "colab": {
          "base_uri": "https://localhost:8080/",
          "height": 266
        }
      },
      "outputs": [
        {
          "output_type": "display_data",
          "data": {
            "text/plain": [
              "<Figure size 432x288 with 1 Axes>"
            ],
            "image/png": "[encoded data removed]"
          },
          "metadata": {
            "needs_background": "light"
          }
        }
      ],
      "source": [
        "x = np.linspace(0, 5, 50)\n",
        "y = 1.2*x + 0.8\n",
        "plt.scatter(x,y);"
      ]
    },
    {
      "cell_type": "code",
      "execution_count": 34,
      "metadata": {
        "id": "Pe31j5XJtelW",
        "outputId": "662cbb72-3b7a-4934-9b99-643eef2566af",
        "colab": {
          "base_uri": "https://localhost:8080/",
          "height": 265
        }
      },
      "outputs": [
        {
          "output_type": "display_data",
          "data": {
            "text/plain": [
              "<Figure size 432x288 with 1 Axes>"
            ],
            "image/png": "[encoded data removed]"
          },
          "metadata": {
            "needs_background": "light"
          }
        }
      ],
      "source": [
        "y = 1.2*x + 0.8 + 0.35*np.random.randn(50)\n",
        "plt.scatter(x,y);"
      ]
    },
    {
      "cell_type": "markdown",
      "metadata": {
        "id": "A5UM4pvltelW"
      },
      "source": [
        "### 6. 互動 101: `input` 指令"
      ]
    },
    {
      "cell_type": "code",
      "execution_count": 35,
      "metadata": {
        "id": "seSM0mYatelW",
        "outputId": "af41d93f-6d25-45d4-cc2a-c70a5a3391e5",
        "colab": {
          "base_uri": "https://localhost:8080/"
        }
      },
      "outputs": [
        {
          "name": "stdout",
          "output_type": "stream",
          "text": [
            "請輸入你的名字:yenlung\n"
          ]
        }
      ],
      "source": [
        "name = input(\"請輸入你的名字:\")"
      ]
    },
    {
      "cell_type": "code",
      "execution_count": 36,
      "metadata": {
        "id": "8p31K2SjtelX",
        "outputId": "d1929f9f-073e-4e5f-a674-b8ad21efd72d",
        "colab": {
          "base_uri": "https://localhost:8080/",
          "height": 42
        }
      },
      "outputs": [
        {
          "output_type": "execute_result",
          "data": {
            "text/plain": [
              "'yenlung'"
            ],
            "application/vnd.google.colaboratory.intrinsic+json": {
              "type": "string"
            }
          },
          "metadata": {},
          "execution_count": 36
        }
      ],
      "source": [
        "name"
      ]
    },
    {
      "cell_type": "markdown",
      "metadata": {
        "id": "Y0MISW_etelX"
      },
      "source": [
        "### 7. 拍拍機器人"
      ]
    },
    {
      "cell_type": "code",
      "execution_count": 37,
      "metadata": {
        "id": "RgyCmr12telX",
        "outputId": "c943bf1d-d4e2-4693-af97-c47a66d1f3dc",
        "colab": {
          "base_uri": "https://localhost:8080/"
        }
      },
      "outputs": [
        {
          "output_type": "stream",
          "name": "stdout",
          "text": [
            ":我很難過\n",
            "拍拍\n",
            "\n",
            ":程式都不會寫\n",
            "拍拍\n",
            "\n",
            ":同學又不借我抄\n",
            "拍拍\n",
            "\n"
          ]
        }
      ],
      "source": [
        "for i in range(3):\n",
        "    message = input(\":\")\n",
        "    print(\"拍拍\")\n",
        "    print()"
      ]
    },
    {
      "cell_type": "markdown",
      "source": [
        "`while` 迴圈: 直到你說再見!"
      ],
      "metadata": {
        "id": "_SZy0x5LKnRt"
      }
    },
    {
      "cell_type": "code",
      "execution_count": null,
      "metadata": {
        "id": "zBw0f9yltelX",
        "outputId": "d1b6a51b-7ce2-4050-d5fb-cf57242d6b3c"
      },
      "outputs": [
        {
          "name": "stdout",
          "output_type": "stream",
          "text": [
            ":我很難過\n",
            "拍拍\n",
            "\n",
            ":程式寫不好\n",
            "拍拍\n",
            "\n",
            ":算了不說了\n",
            "拍拍\n",
            "\n",
            ":再見!\n",
            "拍拍\n",
            "\n",
            ":我說再見\n",
            "拍拍\n",
            "\n",
            ":再見\n",
            "拍拍\n",
            "\n"
          ]
        }
      ],
      "source": [
        "message = \"\"\n",
        "\n",
        "while message != \"再見\":\n",
        "    message = input(\":\")\n",
        "    print(\"拍拍\")\n",
        "    print()"
      ]
    },
    {
      "cell_type": "markdown",
      "metadata": {
        "id": "X2l1nFKgtelX"
      },
      "source": [
        "### 8. 猜數字遊戲"
      ]
    },
    {
      "cell_type": "code",
      "execution_count": null,
      "metadata": {
        "id": "vEbFoBsDtelX"
      },
      "outputs": [],
      "source": [
        "P = True\n",
        "Q = False"
      ]
    },
    {
      "cell_type": "code",
      "execution_count": null,
      "metadata": {
        "id": "sOgKsKpatelX",
        "outputId": "8f8cbba6-f88f-4e75-f46e-e34ed8b66dc2"
      },
      "outputs": [
        {
          "data": {
            "text/plain": [
              "False"
            ]
          },
          "execution_count": 22,
          "metadata": {},
          "output_type": "execute_result"
        }
      ],
      "source": [
        "P and Q"
      ]
    },
    {
      "cell_type": "code",
      "execution_count": null,
      "metadata": {
        "id": "ic0GFWN7telX",
        "outputId": "4508916c-062a-4bb4-f88d-6a71f572debd"
      },
      "outputs": [
        {
          "data": {
            "text/plain": [
              "False"
            ]
          },
          "execution_count": 23,
          "metadata": {},
          "output_type": "execute_result"
        }
      ],
      "source": [
        "not P"
      ]
    },
    {
      "cell_type": "code",
      "execution_count": null,
      "metadata": {
        "id": "szbqLvNXtelY",
        "outputId": "822a311c-5d64-446e-f923-b4cb5a580037"
      },
      "outputs": [
        {
          "name": "stdout",
          "output_type": "stream",
          "text": [
            "請輸入一句話:我很難過\n",
            "不要想太多。\n"
          ]
        }
      ],
      "source": [
        "msg = input('請輸入一句話:')\n",
        "\n",
        "if '悲傷' in msg:\n",
        "    print(\"你的語句中有悲傷。\")\n",
        "elif '難過' in msg:\n",
        "    print(\"不要想太多。\")\n",
        "else:\n",
        "    print(\"嗯嗯。\")"
      ]
    },
    {
      "cell_type": "code",
      "execution_count": null,
      "metadata": {
        "id": "Hh36hYH4telY",
        "outputId": "5c9be69b-3270-40eb-c3ce-af44588a297a"
      },
      "outputs": [
        {
          "name": "stdout",
          "output_type": "stream",
          "text": [
            "我想了一個 1-100 的數字, 你猜是多少。\n",
            "你的猜測:50\n",
            "太小了!\n",
            "你的猜測:70\n",
            "太小了!\n",
            "你的猜測:80\n",
            "太大了!\n",
            "你的猜測:75\n",
            "太大了!\n",
            "你的猜測:74\n",
            "太大了!\n",
            "你的猜測:73\n",
            "太大了!\n",
            "你的猜測:72\n",
            "太大了!\n",
            "你的猜測:71\n",
            "答對了!!\n"
          ]
        }
      ],
      "source": [
        "k = np.random.randint(1, 101)\n",
        "print(\"我想了一個 1-100 的數字, 你猜是多少。\")\n",
        "guess = 999\n",
        "\n",
        "while k != guess:\n",
        "    guess = int(input('你的猜測:'))\n",
        "    if guess > k:\n",
        "        print(\"太大了!\")\n",
        "    elif guess < k:\n",
        "        print(\"太小了!\")\n",
        "        \n",
        "print(\"答對了!!\")"
      ]
    },
    {
      "cell_type": "code",
      "execution_count": null,
      "metadata": {
        "id": "2ewVFA0ztelY"
      },
      "outputs": [],
      "source": []
    }
  ],
  "metadata": {
    "kernelspec": {
      "display_name": "Python 3",
      "language": "python",
      "name": "python3"
    },
    "language_info": {
      "codemirror_mode": {
        "name": "ipython",
        "version": 3
      },
      "file_extension": ".py",
      "mimetype": "text/x-python",
      "name": "python",
      "nbconvert_exporter": "python",
      "pygments_lexer": "ipython3",
      "version": "3.7.3"
    },
    "colab": {
      "provenance": [],
      "include_colab_link": true
    }
  },
  "nbformat": 4,
  "nbformat_minor": 0
}