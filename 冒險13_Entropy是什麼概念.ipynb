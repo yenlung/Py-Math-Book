{
  "nbformat": 4,
  "nbformat_minor": 0,
  "metadata": {
    "colab": {
      "provenance": [],
      "authorship_tag": "ABX9TyN04FUE3ig2WoN1kGY4l+OG",
      "include_colab_link": true
    },
    "kernelspec": {
      "name": "python3",
      "display_name": "Python 3"
    },
    "language_info": {
      "name": "python"
    },
    "widgets": {
      "application/vnd.jupyter.widget-state+json": {
        "2094a4bcb9e94ba1993574ae4d3a8b9f": {
          "model_module": "@jupyter-widgets/controls",
          "model_name": "VBoxModel",
          "model_module_version": "1.5.0",
          "state": {
            "_dom_classes": [
              "widget-interact"
            ],
            "_model_module": "@jupyter-widgets/controls",
            "_model_module_version": "1.5.0",
            "_model_name": "VBoxModel",
            "_view_count": null,
            "_view_module": "@jupyter-widgets/controls",
            "_view_module_version": "1.5.0",
            "_view_name": "VBoxView",
            "box_style": "",
            "children": [
              "IPY_MODEL_a8c1b82f893d4c79921c09e0dc02105a",
              "IPY_MODEL_208bd80c619e420ab7d4f4ee80078f8a"
            ],
            "layout": "IPY_MODEL_9eeadcd1d34d4c03bce0d0a3bdba5e07"
          }
        },
        "a8c1b82f893d4c79921c09e0dc02105a": {
          "model_module": "@jupyter-widgets/controls",
          "model_name": "FloatSliderModel",
          "model_module_version": "1.5.0",
          "state": {
            "_dom_classes": [],
            "_model_module": "@jupyter-widgets/controls",
            "_model_module_version": "1.5.0",
            "_model_name": "FloatSliderModel",
            "_view_count": null,
            "_view_module": "@jupyter-widgets/controls",
            "_view_module_version": "1.5.0",
            "_view_name": "FloatSliderView",
            "continuous_update": true,
            "description": "p",
            "description_tooltip": null,
            "disabled": false,
            "layout": "IPY_MODEL_7b87aea30b804ff2a2ab1a44593bdabe",
            "max": 0.99,
            "min": 0.01,
            "orientation": "horizontal",
            "readout": true,
            "readout_format": ".2f",
            "step": 0.01,
            "style": "IPY_MODEL_9d6d5b7105984f84999feed60c1dab21",
            "value": 0.5
          }
        },
        "208bd80c619e420ab7d4f4ee80078f8a": {
          "model_module": "@jupyter-widgets/output",
          "model_name": "OutputModel",
          "model_module_version": "1.0.0",
          "state": {
            "_dom_classes": [],
            "_model_module": "@jupyter-widgets/output",
            "_model_module_version": "1.0.0",
            "_model_name": "OutputModel",
            "_view_count": null,
            "_view_module": "@jupyter-widgets/output",
            "_view_module_version": "1.0.0",
            "_view_name": "OutputView",
            "layout": "IPY_MODEL_df37104ad25349758cb047a7ea7cafdc",
            "msg_id": "",
            "outputs": [
              {
                "output_type": "stream",
                "name": "stdout",
                "text": [
                  "Entropy = 0.69\n"
                ]
              },
              {
                "output_type": "display_data",
                "data": {
                  "text/plain": "<Figure size 432x288 with 1 Axes>",
                  "image/png": "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\n"
                },
                "metadata": {
                  "needs_background": "light"
                }
              }
            ]
          }
        },
        "9eeadcd1d34d4c03bce0d0a3bdba5e07": {
          "model_module": "@jupyter-widgets/base",
          "model_name": "LayoutModel",
          "model_module_version": "1.2.0",
          "state": {
            "_model_module": "@jupyter-widgets/base",
            "_model_module_version": "1.2.0",
            "_model_name": "LayoutModel",
            "_view_count": null,
            "_view_module": "@jupyter-widgets/base",
            "_view_module_version": "1.2.0",
            "_view_name": "LayoutView",
            "align_content": null,
            "align_items": null,
            "align_self": null,
            "border": null,
            "bottom": null,
            "display": null,
            "flex": null,
            "flex_flow": null,
            "grid_area": null,
            "grid_auto_columns": null,
            "grid_auto_flow": null,
            "grid_auto_rows": null,
            "grid_column": null,
            "grid_gap": null,
            "grid_row": null,
            "grid_template_areas": null,
            "grid_template_columns": null,
            "grid_template_rows": null,
            "height": null,
            "justify_content": null,
            "justify_items": null,
            "left": null,
            "margin": null,
            "max_height": null,
            "max_width": null,
            "min_height": null,
            "min_width": null,
            "object_fit": null,
            "object_position": null,
            "order": null,
            "overflow": null,
            "overflow_x": null,
            "overflow_y": null,
            "padding": null,
            "right": null,
            "top": null,
            "visibility": null,
            "width": null
          }
        },
        "7b87aea30b804ff2a2ab1a44593bdabe": {
          "model_module": "@jupyter-widgets/base",
          "model_name": "LayoutModel",
          "model_module_version": "1.2.0",
          "state": {
            "_model_module": "@jupyter-widgets/base",
            "_model_module_version": "1.2.0",
            "_model_name": "LayoutModel",
            "_view_count": null,
            "_view_module": "@jupyter-widgets/base",
            "_view_module_version": "1.2.0",
            "_view_name": "LayoutView",
            "align_content": null,
            "align_items": null,
            "align_self": null,
            "border": null,
            "bottom": null,
            "display": null,
            "flex": null,
            "flex_flow": null,
            "grid_area": null,
            "grid_auto_columns": null,
            "grid_auto_flow": null,
            "grid_auto_rows": null,
            "grid_column": null,
            "grid_gap": null,
            "grid_row": null,
            "grid_template_areas": null,
            "grid_template_columns": null,
            "grid_template_rows": null,
            "height": null,
            "justify_content": null,
            "justify_items": null,
            "left": null,
            "margin": null,
            "max_height": null,
            "max_width": null,
            "min_height": null,
            "min_width": null,
            "object_fit": null,
            "object_position": null,
            "order": null,
            "overflow": null,
            "overflow_x": null,
            "overflow_y": null,
            "padding": null,
            "right": null,
            "top": null,
            "visibility": null,
            "width": null
          }
        },
        "9d6d5b7105984f84999feed60c1dab21": {
          "model_module": "@jupyter-widgets/controls",
          "model_name": "SliderStyleModel",
          "model_module_version": "1.5.0",
          "state": {
            "_model_module": "@jupyter-widgets/controls",
            "_model_module_version": "1.5.0",
            "_model_name": "SliderStyleModel",
            "_view_count": null,
            "_view_module": "@jupyter-widgets/base",
            "_view_module_version": "1.2.0",
            "_view_name": "StyleView",
            "description_width": "",
            "handle_color": null
          }
        },
        "df37104ad25349758cb047a7ea7cafdc": {
          "model_module": "@jupyter-widgets/base",
          "model_name": "LayoutModel",
          "model_module_version": "1.2.0",
          "state": {
            "_model_module": "@jupyter-widgets/base",
            "_model_module_version": "1.2.0",
            "_model_name": "LayoutModel",
            "_view_count": null,
            "_view_module": "@jupyter-widgets/base",
            "_view_module_version": "1.2.0",
            "_view_name": "LayoutView",
            "align_content": null,
            "align_items": null,
            "align_self": null,
            "border": null,
            "bottom": null,
            "display": null,
            "flex": null,
            "flex_flow": null,
            "grid_area": null,
            "grid_auto_columns": null,
            "grid_auto_flow": null,
            "grid_auto_rows": null,
            "grid_column": null,
            "grid_gap": null,
            "grid_row": null,
            "grid_template_areas": null,
            "grid_template_columns": null,
            "grid_template_rows": null,
            "height": null,
            "justify_content": null,
            "justify_items": null,
            "left": null,
            "margin": null,
            "max_height": null,
            "max_width": null,
            "min_height": null,
            "min_width": null,
            "object_fit": null,
            "object_position": null,
            "order": null,
            "overflow": null,
            "overflow_x": null,
            "overflow_y": null,
            "padding": null,
            "right": null,
            "top": null,
            "visibility": null,
            "width": null
          }
        },
        "95cd38073ca841b5a612221af0ffc3ee": {
          "model_module": "@jupyter-widgets/controls",
          "model_name": "VBoxModel",
          "model_module_version": "1.5.0",
          "state": {
            "_dom_classes": [
              "widget-interact"
            ],
            "_model_module": "@jupyter-widgets/controls",
            "_model_module_version": "1.5.0",
            "_model_name": "VBoxModel",
            "_view_count": null,
            "_view_module": "@jupyter-widgets/controls",
            "_view_module_version": "1.5.0",
            "_view_name": "VBoxView",
            "box_style": "",
            "children": [
              "IPY_MODEL_b49bdc2e32ee47108089cf15b53eeadf",
              "IPY_MODEL_0b696c3790134e4a835c8227a54eb38e",
              "IPY_MODEL_f4cd627939834f16be2a42b9eb987f40"
            ],
            "layout": "IPY_MODEL_8b947881dedd42c08a135331cabbc02c"
          }
        },
        "b49bdc2e32ee47108089cf15b53eeadf": {
          "model_module": "@jupyter-widgets/controls",
          "model_name": "FloatSliderModel",
          "model_module_version": "1.5.0",
          "state": {
            "_dom_classes": [],
            "_model_module": "@jupyter-widgets/controls",
            "_model_module_version": "1.5.0",
            "_model_name": "FloatSliderModel",
            "_view_count": null,
            "_view_module": "@jupyter-widgets/controls",
            "_view_module_version": "1.5.0",
            "_view_name": "FloatSliderView",
            "continuous_update": true,
            "description": "q1",
            "description_tooltip": null,
            "disabled": false,
            "layout": "IPY_MODEL_36571e44a5a34c89ba17262de7782759",
            "max": 0.99,
            "min": 0.01,
            "orientation": "horizontal",
            "readout": true,
            "readout_format": ".2f",
            "step": 0.1,
            "style": "IPY_MODEL_4e883f228a6e496ea3aa41a440879af5",
            "value": 0.2
          }
        },
        "0b696c3790134e4a835c8227a54eb38e": {
          "model_module": "@jupyter-widgets/controls",
          "model_name": "FloatSliderModel",
          "model_module_version": "1.5.0",
          "state": {
            "_dom_classes": [],
            "_model_module": "@jupyter-widgets/controls",
            "_model_module_version": "1.5.0",
            "_model_name": "FloatSliderModel",
            "_view_count": null,
            "_view_module": "@jupyter-widgets/controls",
            "_view_module_version": "1.5.0",
            "_view_name": "FloatSliderView",
            "continuous_update": true,
            "description": "q2",
            "description_tooltip": null,
            "disabled": false,
            "layout": "IPY_MODEL_10808a151e8c48d3b62f0c1b249d87c7",
            "max": 0.99,
            "min": 0.01,
            "orientation": "horizontal",
            "readout": true,
            "readout_format": ".2f",
            "step": 0.1,
            "style": "IPY_MODEL_5fe5e1f98d3243f693b22bec8ca5ae1e",
            "value": 0.7
          }
        },
        "f4cd627939834f16be2a42b9eb987f40": {
          "model_module": "@jupyter-widgets/output",
          "model_name": "OutputModel",
          "model_module_version": "1.0.0",
          "state": {
            "_dom_classes": [],
            "_model_module": "@jupyter-widgets/output",
            "_model_module_version": "1.0.0",
            "_model_name": "OutputModel",
            "_view_count": null,
            "_view_module": "@jupyter-widgets/output",
            "_view_module_version": "1.0.0",
            "_view_name": "OutputView",
            "layout": "IPY_MODEL_0d1d544542e14dbaa4017681390f891a",
            "msg_id": "",
            "outputs": [
              {
                "output_type": "stream",
                "name": "stdout",
                "text": [
                  "q1=0.20 q2=0.70 q3=0.10\n",
                  "均方差: 0.1400\n",
                  "Cross Entropy: 0.3567\n"
                ]
              }
            ]
          }
        },
        "8b947881dedd42c08a135331cabbc02c": {
          "model_module": "@jupyter-widgets/base",
          "model_name": "LayoutModel",
          "model_module_version": "1.2.0",
          "state": {
            "_model_module": "@jupyter-widgets/base",
            "_model_module_version": "1.2.0",
            "_model_name": "LayoutModel",
            "_view_count": null,
            "_view_module": "@jupyter-widgets/base",
            "_view_module_version": "1.2.0",
            "_view_name": "LayoutView",
            "align_content": null,
            "align_items": null,
            "align_self": null,
            "border": null,
            "bottom": null,
            "display": null,
            "flex": null,
            "flex_flow": null,
            "grid_area": null,
            "grid_auto_columns": null,
            "grid_auto_flow": null,
            "grid_auto_rows": null,
            "grid_column": null,
            "grid_gap": null,
            "grid_row": null,
            "grid_template_areas": null,
            "grid_template_columns": null,
            "grid_template_rows": null,
            "height": null,
            "justify_content": null,
            "justify_items": null,
            "left": null,
            "margin": null,
            "max_height": null,
            "max_width": null,
            "min_height": null,
            "min_width": null,
            "object_fit": null,
            "object_position": null,
            "order": null,
            "overflow": null,
            "overflow_x": null,
            "overflow_y": null,
            "padding": null,
            "right": null,
            "top": null,
            "visibility": null,
            "width": null
          }
        },
        "36571e44a5a34c89ba17262de7782759": {
          "model_module": "@jupyter-widgets/base",
          "model_name": "LayoutModel",
          "model_module_version": "1.2.0",
          "state": {
            "_model_module": "@jupyter-widgets/base",
            "_model_module_version": "1.2.0",
            "_model_name": "LayoutModel",
            "_view_count": null,
            "_view_module": "@jupyter-widgets/base",
            "_view_module_version": "1.2.0",
            "_view_name": "LayoutView",
            "align_content": null,
            "align_items": null,
            "align_self": null,
            "border": null,
            "bottom": null,
            "display": null,
            "flex": null,
            "flex_flow": null,
            "grid_area": null,
            "grid_auto_columns": null,
            "grid_auto_flow": null,
            "grid_auto_rows": null,
            "grid_column": null,
            "grid_gap": null,
            "grid_row": null,
            "grid_template_areas": null,
            "grid_template_columns": null,
            "grid_template_rows": null,
            "height": null,
            "justify_content": null,
            "justify_items": null,
            "left": null,
            "margin": null,
            "max_height": null,
            "max_width": null,
            "min_height": null,
            "min_width": null,
            "object_fit": null,
            "object_position": null,
            "order": null,
            "overflow": null,
            "overflow_x": null,
            "overflow_y": null,
            "padding": null,
            "right": null,
            "top": null,
            "visibility": null,
            "width": null
          }
        },
        "4e883f228a6e496ea3aa41a440879af5": {
          "model_module": "@jupyter-widgets/controls",
          "model_name": "SliderStyleModel",
          "model_module_version": "1.5.0",
          "state": {
            "_model_module": "@jupyter-widgets/controls",
            "_model_module_version": "1.5.0",
            "_model_name": "SliderStyleModel",
            "_view_count": null,
            "_view_module": "@jupyter-widgets/base",
            "_view_module_version": "1.2.0",
            "_view_name": "StyleView",
            "description_width": "",
            "handle_color": null
          }
        },
        "10808a151e8c48d3b62f0c1b249d87c7": {
          "model_module": "@jupyter-widgets/base",
          "model_name": "LayoutModel",
          "model_module_version": "1.2.0",
          "state": {
            "_model_module": "@jupyter-widgets/base",
            "_model_module_version": "1.2.0",
            "_model_name": "LayoutModel",
            "_view_count": null,
            "_view_module": "@jupyter-widgets/base",
            "_view_module_version": "1.2.0",
            "_view_name": "LayoutView",
            "align_content": null,
            "align_items": null,
            "align_self": null,
            "border": null,
            "bottom": null,
            "display": null,
            "flex": null,
            "flex_flow": null,
            "grid_area": null,
            "grid_auto_columns": null,
            "grid_auto_flow": null,
            "grid_auto_rows": null,
            "grid_column": null,
            "grid_gap": null,
            "grid_row": null,
            "grid_template_areas": null,
            "grid_template_columns": null,
            "grid_template_rows": null,
            "height": null,
            "justify_content": null,
            "justify_items": null,
            "left": null,
            "margin": null,
            "max_height": null,
            "max_width": null,
            "min_height": null,
            "min_width": null,
            "object_fit": null,
            "object_position": null,
            "order": null,
            "overflow": null,
            "overflow_x": null,
            "overflow_y": null,
            "padding": null,
            "right": null,
            "top": null,
            "visibility": null,
            "width": null
          }
        },
        "5fe5e1f98d3243f693b22bec8ca5ae1e": {
          "model_module": "@jupyter-widgets/controls",
          "model_name": "SliderStyleModel",
          "model_module_version": "1.5.0",
          "state": {
            "_model_module": "@jupyter-widgets/controls",
            "_model_module_version": "1.5.0",
            "_model_name": "SliderStyleModel",
            "_view_count": null,
            "_view_module": "@jupyter-widgets/base",
            "_view_module_version": "1.2.0",
            "_view_name": "StyleView",
            "description_width": "",
            "handle_color": null
          }
        },
        "0d1d544542e14dbaa4017681390f891a": {
          "model_module": "@jupyter-widgets/base",
          "model_name": "LayoutModel",
          "model_module_version": "1.2.0",
          "state": {
            "_model_module": "@jupyter-widgets/base",
            "_model_module_version": "1.2.0",
            "_model_name": "LayoutModel",
            "_view_count": null,
            "_view_module": "@jupyter-widgets/base",
            "_view_module_version": "1.2.0",
            "_view_name": "LayoutView",
            "align_content": null,
            "align_items": null,
            "align_self": null,
            "border": null,
            "bottom": null,
            "display": null,
            "flex": null,
            "flex_flow": null,
            "grid_area": null,
            "grid_auto_columns": null,
            "grid_auto_flow": null,
            "grid_auto_rows": null,
            "grid_column": null,
            "grid_gap": null,
            "grid_row": null,
            "grid_template_areas": null,
            "grid_template_columns": null,
            "grid_template_rows": null,
            "height": null,
            "justify_content": null,
            "justify_items": null,
            "left": null,
            "margin": null,
            "max_height": null,
            "max_width": null,
            "min_height": null,
            "min_width": null,
            "object_fit": null,
            "object_position": null,
            "order": null,
            "overflow": null,
            "overflow_x": null,
            "overflow_y": null,
            "padding": null,
            "right": null,
            "top": null,
            "visibility": null,
            "width": null
          }
        },
        "b73adb48a0064d1db8d989ae8749d51e": {
          "model_module": "@jupyter-widgets/controls",
          "model_name": "VBoxModel",
          "model_module_version": "1.5.0",
          "state": {
            "_dom_classes": [
              "widget-interact"
            ],
            "_model_module": "@jupyter-widgets/controls",
            "_model_module_version": "1.5.0",
            "_model_name": "VBoxModel",
            "_view_count": null,
            "_view_module": "@jupyter-widgets/controls",
            "_view_module_version": "1.5.0",
            "_view_name": "VBoxView",
            "box_style": "",
            "children": [
              "IPY_MODEL_146b2931f35848dd987c71099c265969",
              "IPY_MODEL_8d56cc2fbae4404287b4825c44a76a6d",
              "IPY_MODEL_a81a238c87154fe38492f8932cabd237",
              "IPY_MODEL_3b700f683aea4b33beac75781789bb89"
            ],
            "layout": "IPY_MODEL_28a4e7b4d5324253b6df16c13ea50f19"
          }
        },
        "146b2931f35848dd987c71099c265969": {
          "model_module": "@jupyter-widgets/controls",
          "model_name": "FloatSliderModel",
          "model_module_version": "1.5.0",
          "state": {
            "_dom_classes": [],
            "_model_module": "@jupyter-widgets/controls",
            "_model_module_version": "1.5.0",
            "_model_name": "FloatSliderModel",
            "_view_count": null,
            "_view_module": "@jupyter-widgets/controls",
            "_view_module_version": "1.5.0",
            "_view_name": "FloatSliderView",
            "continuous_update": true,
            "description": "p",
            "description_tooltip": null,
            "disabled": false,
            "layout": "IPY_MODEL_dd93b7716d984fa3b290692c9b9350c0",
            "max": 0.99,
            "min": 0.01,
            "orientation": "horizontal",
            "readout": true,
            "readout_format": ".2f",
            "step": 0.01,
            "style": "IPY_MODEL_db72c3c0fa8c4a4c97c79e9e7da0ca82",
            "value": 0.27
          }
        },
        "8d56cc2fbae4404287b4825c44a76a6d": {
          "model_module": "@jupyter-widgets/controls",
          "model_name": "FloatSliderModel",
          "model_module_version": "1.5.0",
          "state": {
            "_dom_classes": [],
            "_model_module": "@jupyter-widgets/controls",
            "_model_module_version": "1.5.0",
            "_model_name": "FloatSliderModel",
            "_view_count": null,
            "_view_module": "@jupyter-widgets/controls",
            "_view_module_version": "1.5.0",
            "_view_name": "FloatSliderView",
            "continuous_update": true,
            "description": "q",
            "description_tooltip": null,
            "disabled": false,
            "layout": "IPY_MODEL_39abf10b2c94481fbdbcbe2837242a3a",
            "max": 0.99,
            "min": 0.01,
            "orientation": "horizontal",
            "readout": true,
            "readout_format": ".2f",
            "step": 0.01,
            "style": "IPY_MODEL_1d5181a74621492db2f1361aa7f693ce",
            "value": 0.5
          }
        },
        "a81a238c87154fe38492f8932cabd237": {
          "model_module": "@jupyter-widgets/controls",
          "model_name": "ButtonModel",
          "model_module_version": "1.5.0",
          "state": {
            "_dom_classes": [],
            "_model_module": "@jupyter-widgets/controls",
            "_model_module_version": "1.5.0",
            "_model_name": "ButtonModel",
            "_view_count": null,
            "_view_module": "@jupyter-widgets/controls",
            "_view_module_version": "1.5.0",
            "_view_name": "ButtonView",
            "button_style": "",
            "description": "Run Interact",
            "disabled": false,
            "icon": "",
            "layout": "IPY_MODEL_ca436419d7ab434fbfb1e1fbe1c12cad",
            "style": "IPY_MODEL_cc092b60e7d443329de903248c93a170",
            "tooltip": ""
          }
        },
        "3b700f683aea4b33beac75781789bb89": {
          "model_module": "@jupyter-widgets/output",
          "model_name": "OutputModel",
          "model_module_version": "1.0.0",
          "state": {
            "_dom_classes": [],
            "_model_module": "@jupyter-widgets/output",
            "_model_module_version": "1.0.0",
            "_model_name": "OutputModel",
            "_view_count": null,
            "_view_module": "@jupyter-widgets/output",
            "_view_module_version": "1.0.0",
            "_view_name": "OutputView",
            "layout": "IPY_MODEL_311a09ac9191435bac510fb2d2734bb8",
            "msg_id": "",
            "outputs": [
              {
                "output_type": "stream",
                "name": "stdout",
                "text": [
                  "P = (0.27, 0.73)\n",
                  "Q = (0.50, 0.50)\n",
                  "P 的 entropy = 0.5833\n",
                  "P, Q 的 cross entropy = 0.6931\n"
                ]
              },
              {
                "output_type": "display_data",
                "data": {
                  "text/plain": "<Figure size 432x288 with 2 Axes>",
                  "image/png": "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\n"
                },
                "metadata": {
                  "needs_background": "light"
                }
              }
            ]
          }
        },
        "28a4e7b4d5324253b6df16c13ea50f19": {
          "model_module": "@jupyter-widgets/base",
          "model_name": "LayoutModel",
          "model_module_version": "1.2.0",
          "state": {
            "_model_module": "@jupyter-widgets/base",
            "_model_module_version": "1.2.0",
            "_model_name": "LayoutModel",
            "_view_count": null,
            "_view_module": "@jupyter-widgets/base",
            "_view_module_version": "1.2.0",
            "_view_name": "LayoutView",
            "align_content": null,
            "align_items": null,
            "align_self": null,
            "border": null,
            "bottom": null,
            "display": null,
            "flex": null,
            "flex_flow": null,
            "grid_area": null,
            "grid_auto_columns": null,
            "grid_auto_flow": null,
            "grid_auto_rows": null,
            "grid_column": null,
            "grid_gap": null,
            "grid_row": null,
            "grid_template_areas": null,
            "grid_template_columns": null,
            "grid_template_rows": null,
            "height": null,
            "justify_content": null,
            "justify_items": null,
            "left": null,
            "margin": null,
            "max_height": null,
            "max_width": null,
            "min_height": null,
            "min_width": null,
            "object_fit": null,
            "object_position": null,
            "order": null,
            "overflow": null,
            "overflow_x": null,
            "overflow_y": null,
            "padding": null,
            "right": null,
            "top": null,
            "visibility": null,
            "width": null
          }
        },
        "dd93b7716d984fa3b290692c9b9350c0": {
          "model_module": "@jupyter-widgets/base",
          "model_name": "LayoutModel",
          "model_module_version": "1.2.0",
          "state": {
            "_model_module": "@jupyter-widgets/base",
            "_model_module_version": "1.2.0",
            "_model_name": "LayoutModel",
            "_view_count": null,
            "_view_module": "@jupyter-widgets/base",
            "_view_module_version": "1.2.0",
            "_view_name": "LayoutView",
            "align_content": null,
            "align_items": null,
            "align_self": null,
            "border": null,
            "bottom": null,
            "display": null,
            "flex": null,
            "flex_flow": null,
            "grid_area": null,
            "grid_auto_columns": null,
            "grid_auto_flow": null,
            "grid_auto_rows": null,
            "grid_column": null,
            "grid_gap": null,
            "grid_row": null,
            "grid_template_areas": null,
            "grid_template_columns": null,
            "grid_template_rows": null,
            "height": null,
            "justify_content": null,
            "justify_items": null,
            "left": null,
            "margin": null,
            "max_height": null,
            "max_width": null,
            "min_height": null,
            "min_width": null,
            "object_fit": null,
            "object_position": null,
            "order": null,
            "overflow": null,
            "overflow_x": null,
            "overflow_y": null,
            "padding": null,
            "right": null,
            "top": null,
            "visibility": null,
            "width": null
          }
        },
        "db72c3c0fa8c4a4c97c79e9e7da0ca82": {
          "model_module": "@jupyter-widgets/controls",
          "model_name": "SliderStyleModel",
          "model_module_version": "1.5.0",
          "state": {
            "_model_module": "@jupyter-widgets/controls",
            "_model_module_version": "1.5.0",
            "_model_name": "SliderStyleModel",
            "_view_count": null,
            "_view_module": "@jupyter-widgets/base",
            "_view_module_version": "1.2.0",
            "_view_name": "StyleView",
            "description_width": "",
            "handle_color": null
          }
        },
        "39abf10b2c94481fbdbcbe2837242a3a": {
          "model_module": "@jupyter-widgets/base",
          "model_name": "LayoutModel",
          "model_module_version": "1.2.0",
          "state": {
            "_model_module": "@jupyter-widgets/base",
            "_model_module_version": "1.2.0",
            "_model_name": "LayoutModel",
            "_view_count": null,
            "_view_module": "@jupyter-widgets/base",
            "_view_module_version": "1.2.0",
            "_view_name": "LayoutView",
            "align_content": null,
            "align_items": null,
            "align_self": null,
            "border": null,
            "bottom": null,
            "display": null,
            "flex": null,
            "flex_flow": null,
            "grid_area": null,
            "grid_auto_columns": null,
            "grid_auto_flow": null,
            "grid_auto_rows": null,
            "grid_column": null,
            "grid_gap": null,
            "grid_row": null,
            "grid_template_areas": null,
            "grid_template_columns": null,
            "grid_template_rows": null,
            "height": null,
            "justify_content": null,
            "justify_items": null,
            "left": null,
            "margin": null,
            "max_height": null,
            "max_width": null,
            "min_height": null,
            "min_width": null,
            "object_fit": null,
            "object_position": null,
            "order": null,
            "overflow": null,
            "overflow_x": null,
            "overflow_y": null,
            "padding": null,
            "right": null,
            "top": null,
            "visibility": null,
            "width": null
          }
        },
        "1d5181a74621492db2f1361aa7f693ce": {
          "model_module": "@jupyter-widgets/controls",
          "model_name": "SliderStyleModel",
          "model_module_version": "1.5.0",
          "state": {
            "_model_module": "@jupyter-widgets/controls",
            "_model_module_version": "1.5.0",
            "_model_name": "SliderStyleModel",
            "_view_count": null,
            "_view_module": "@jupyter-widgets/base",
            "_view_module_version": "1.2.0",
            "_view_name": "StyleView",
            "description_width": "",
            "handle_color": null
          }
        },
        "ca436419d7ab434fbfb1e1fbe1c12cad": {
          "model_module": "@jupyter-widgets/base",
          "model_name": "LayoutModel",
          "model_module_version": "1.2.0",
          "state": {
            "_model_module": "@jupyter-widgets/base",
            "_model_module_version": "1.2.0",
            "_model_name": "LayoutModel",
            "_view_count": null,
            "_view_module": "@jupyter-widgets/base",
            "_view_module_version": "1.2.0",
            "_view_name": "LayoutView",
            "align_content": null,
            "align_items": null,
            "align_self": null,
            "border": null,
            "bottom": null,
            "display": null,
            "flex": null,
            "flex_flow": null,
            "grid_area": null,
            "grid_auto_columns": null,
            "grid_auto_flow": null,
            "grid_auto_rows": null,
            "grid_column": null,
            "grid_gap": null,
            "grid_row": null,
            "grid_template_areas": null,
            "grid_template_columns": null,
            "grid_template_rows": null,
            "height": null,
            "justify_content": null,
            "justify_items": null,
            "left": null,
            "margin": null,
            "max_height": null,
            "max_width": null,
            "min_height": null,
            "min_width": null,
            "object_fit": null,
            "object_position": null,
            "order": null,
            "overflow": null,
            "overflow_x": null,
            "overflow_y": null,
            "padding": null,
            "right": null,
            "top": null,
            "visibility": null,
            "width": null
          }
        },
        "cc092b60e7d443329de903248c93a170": {
          "model_module": "@jupyter-widgets/controls",
          "model_name": "ButtonStyleModel",
          "model_module_version": "1.5.0",
          "state": {
            "_model_module": "@jupyter-widgets/controls",
            "_model_module_version": "1.5.0",
            "_model_name": "ButtonStyleModel",
            "_view_count": null,
            "_view_module": "@jupyter-widgets/base",
            "_view_module_version": "1.2.0",
            "_view_name": "StyleView",
            "button_color": null,
            "font_weight": ""
          }
        },
        "311a09ac9191435bac510fb2d2734bb8": {
          "model_module": "@jupyter-widgets/base",
          "model_name": "LayoutModel",
          "model_module_version": "1.2.0",
          "state": {
            "_model_module": "@jupyter-widgets/base",
            "_model_module_version": "1.2.0",
            "_model_name": "LayoutModel",
            "_view_count": null,
            "_view_module": "@jupyter-widgets/base",
            "_view_module_version": "1.2.0",
            "_view_name": "LayoutView",
            "align_content": null,
            "align_items": null,
            "align_self": null,
            "border": null,
            "bottom": null,
            "display": null,
            "flex": null,
            "flex_flow": null,
            "grid_area": null,
            "grid_auto_columns": null,
            "grid_auto_flow": null,
            "grid_auto_rows": null,
            "grid_column": null,
            "grid_gap": null,
            "grid_row": null,
            "grid_template_areas": null,
            "grid_template_columns": null,
            "grid_template_rows": null,
            "height": null,
            "justify_content": null,
            "justify_items": null,
            "left": null,
            "margin": null,
            "max_height": null,
            "max_width": null,
            "min_height": null,
            "min_width": null,
            "object_fit": null,
            "object_position": null,
            "order": null,
            "overflow": null,
            "overflow_x": null,
            "overflow_y": null,
            "padding": null,
            "right": null,
            "top": null,
            "visibility": null,
            "width": null
          }
        },
        "85b2e0de764743b4af7afdad3a3fecc0": {
          "model_module": "@jupyter-widgets/controls",
          "model_name": "VBoxModel",
          "model_module_version": "1.5.0",
          "state": {
            "_dom_classes": [
              "widget-interact"
            ],
            "_model_module": "@jupyter-widgets/controls",
            "_model_module_version": "1.5.0",
            "_model_name": "VBoxModel",
            "_view_count": null,
            "_view_module": "@jupyter-widgets/controls",
            "_view_module_version": "1.5.0",
            "_view_name": "VBoxView",
            "box_style": "",
            "children": [
              "IPY_MODEL_efcf0e3e5cf64d0eada9ee9ccfc38e4d",
              "IPY_MODEL_76777c62c29e4c4da3e21157167c19e5",
              "IPY_MODEL_83df9a4ad9764686b2dc85f1ed4f519a"
            ],
            "layout": "IPY_MODEL_515d6dbba4fb4106ad403885f4fea77d"
          }
        },
        "efcf0e3e5cf64d0eada9ee9ccfc38e4d": {
          "model_module": "@jupyter-widgets/controls",
          "model_name": "FloatSliderModel",
          "model_module_version": "1.5.0",
          "state": {
            "_dom_classes": [],
            "_model_module": "@jupyter-widgets/controls",
            "_model_module_version": "1.5.0",
            "_model_name": "FloatSliderModel",
            "_view_count": null,
            "_view_module": "@jupyter-widgets/controls",
            "_view_module_version": "1.5.0",
            "_view_name": "FloatSliderView",
            "continuous_update": true,
            "description": "p",
            "description_tooltip": null,
            "disabled": false,
            "layout": "IPY_MODEL_f2a15e838b5d4ddcb320973c9329a9e1",
            "max": 0.99,
            "min": 0.01,
            "orientation": "horizontal",
            "readout": true,
            "readout_format": ".2f",
            "step": 0.01,
            "style": "IPY_MODEL_55a4f848f1cf45d595a499a760152aa2",
            "value": 0.41
          }
        },
        "76777c62c29e4c4da3e21157167c19e5": {
          "model_module": "@jupyter-widgets/controls",
          "model_name": "FloatSliderModel",
          "model_module_version": "1.5.0",
          "state": {
            "_dom_classes": [],
            "_model_module": "@jupyter-widgets/controls",
            "_model_module_version": "1.5.0",
            "_model_name": "FloatSliderModel",
            "_view_count": null,
            "_view_module": "@jupyter-widgets/controls",
            "_view_module_version": "1.5.0",
            "_view_name": "FloatSliderView",
            "continuous_update": true,
            "description": "q",
            "description_tooltip": null,
            "disabled": false,
            "layout": "IPY_MODEL_b739a0cfbd1a48598a5998f94376bb81",
            "max": 0.99,
            "min": 0.01,
            "orientation": "horizontal",
            "readout": true,
            "readout_format": ".2f",
            "step": 0.01,
            "style": "IPY_MODEL_43d817c27711448994987f9a31e3647b",
            "value": 0.41
          }
        },
        "83df9a4ad9764686b2dc85f1ed4f519a": {
          "model_module": "@jupyter-widgets/output",
          "model_name": "OutputModel",
          "model_module_version": "1.0.0",
          "state": {
            "_dom_classes": [],
            "_model_module": "@jupyter-widgets/output",
            "_model_module_version": "1.0.0",
            "_model_name": "OutputModel",
            "_view_count": null,
            "_view_module": "@jupyter-widgets/output",
            "_view_module_version": "1.0.0",
            "_view_name": "OutputView",
            "layout": "IPY_MODEL_d11b2ea6c2b54838a4d4381bc5af300c",
            "msg_id": "",
            "outputs": [
              {
                "output_type": "stream",
                "name": "stdout",
                "text": [
                  "P=(0.41, 0.59)\n",
                  "Q=(0.41, 0.59)\n",
                  "\n",
                  "(目標的) entropy = 0.6769\n",
                  "cross entropy = 0.6769\n",
                  "KL-divergence = 0.0000\n"
                ]
              }
            ]
          }
        },
        "515d6dbba4fb4106ad403885f4fea77d": {
          "model_module": "@jupyter-widgets/base",
          "model_name": "LayoutModel",
          "model_module_version": "1.2.0",
          "state": {
            "_model_module": "@jupyter-widgets/base",
            "_model_module_version": "1.2.0",
            "_model_name": "LayoutModel",
            "_view_count": null,
            "_view_module": "@jupyter-widgets/base",
            "_view_module_version": "1.2.0",
            "_view_name": "LayoutView",
            "align_content": null,
            "align_items": null,
            "align_self": null,
            "border": null,
            "bottom": null,
            "display": null,
            "flex": null,
            "flex_flow": null,
            "grid_area": null,
            "grid_auto_columns": null,
            "grid_auto_flow": null,
            "grid_auto_rows": null,
            "grid_column": null,
            "grid_gap": null,
            "grid_row": null,
            "grid_template_areas": null,
            "grid_template_columns": null,
            "grid_template_rows": null,
            "height": null,
            "justify_content": null,
            "justify_items": null,
            "left": null,
            "margin": null,
            "max_height": null,
            "max_width": null,
            "min_height": null,
            "min_width": null,
            "object_fit": null,
            "object_position": null,
            "order": null,
            "overflow": null,
            "overflow_x": null,
            "overflow_y": null,
            "padding": null,
            "right": null,
            "top": null,
            "visibility": null,
            "width": null
          }
        },
        "f2a15e838b5d4ddcb320973c9329a9e1": {
          "model_module": "@jupyter-widgets/base",
          "model_name": "LayoutModel",
          "model_module_version": "1.2.0",
          "state": {
            "_model_module": "@jupyter-widgets/base",
            "_model_module_version": "1.2.0",
            "_model_name": "LayoutModel",
            "_view_count": null,
            "_view_module": "@jupyter-widgets/base",
            "_view_module_version": "1.2.0",
            "_view_name": "LayoutView",
            "align_content": null,
            "align_items": null,
            "align_self": null,
            "border": null,
            "bottom": null,
            "display": null,
            "flex": null,
            "flex_flow": null,
            "grid_area": null,
            "grid_auto_columns": null,
            "grid_auto_flow": null,
            "grid_auto_rows": null,
            "grid_column": null,
            "grid_gap": null,
            "grid_row": null,
            "grid_template_areas": null,
            "grid_template_columns": null,
            "grid_template_rows": null,
            "height": null,
            "justify_content": null,
            "justify_items": null,
            "left": null,
            "margin": null,
            "max_height": null,
            "max_width": null,
            "min_height": null,
            "min_width": null,
            "object_fit": null,
            "object_position": null,
            "order": null,
            "overflow": null,
            "overflow_x": null,
            "overflow_y": null,
            "padding": null,
            "right": null,
            "top": null,
            "visibility": null,
            "width": null
          }
        },
        "55a4f848f1cf45d595a499a760152aa2": {
          "model_module": "@jupyter-widgets/controls",
          "model_name": "SliderStyleModel",
          "model_module_version": "1.5.0",
          "state": {
            "_model_module": "@jupyter-widgets/controls",
            "_model_module_version": "1.5.0",
            "_model_name": "SliderStyleModel",
            "_view_count": null,
            "_view_module": "@jupyter-widgets/base",
            "_view_module_version": "1.2.0",
            "_view_name": "StyleView",
            "description_width": "",
            "handle_color": null
          }
        },
        "b739a0cfbd1a48598a5998f94376bb81": {
          "model_module": "@jupyter-widgets/base",
          "model_name": "LayoutModel",
          "model_module_version": "1.2.0",
          "state": {
            "_model_module": "@jupyter-widgets/base",
            "_model_module_version": "1.2.0",
            "_model_name": "LayoutModel",
            "_view_count": null,
            "_view_module": "@jupyter-widgets/base",
            "_view_module_version": "1.2.0",
            "_view_name": "LayoutView",
            "align_content": null,
            "align_items": null,
            "align_self": null,
            "border": null,
            "bottom": null,
            "display": null,
            "flex": null,
            "flex_flow": null,
            "grid_area": null,
            "grid_auto_columns": null,
            "grid_auto_flow": null,
            "grid_auto_rows": null,
            "grid_column": null,
            "grid_gap": null,
            "grid_row": null,
            "grid_template_areas": null,
            "grid_template_columns": null,
            "grid_template_rows": null,
            "height": null,
            "justify_content": null,
            "justify_items": null,
            "left": null,
            "margin": null,
            "max_height": null,
            "max_width": null,
            "min_height": null,
            "min_width": null,
            "object_fit": null,
            "object_position": null,
            "order": null,
            "overflow": null,
            "overflow_x": null,
            "overflow_y": null,
            "padding": null,
            "right": null,
            "top": null,
            "visibility": null,
            "width": null
          }
        },
        "43d817c27711448994987f9a31e3647b": {
          "model_module": "@jupyter-widgets/controls",
          "model_name": "SliderStyleModel",
          "model_module_version": "1.5.0",
          "state": {
            "_model_module": "@jupyter-widgets/controls",
            "_model_module_version": "1.5.0",
            "_model_name": "SliderStyleModel",
            "_view_count": null,
            "_view_module": "@jupyter-widgets/base",
            "_view_module_version": "1.2.0",
            "_view_name": "StyleView",
            "description_width": "",
            "handle_color": null
          }
        },
        "d11b2ea6c2b54838a4d4381bc5af300c": {
          "model_module": "@jupyter-widgets/base",
          "model_name": "LayoutModel",
          "model_module_version": "1.2.0",
          "state": {
            "_model_module": "@jupyter-widgets/base",
            "_model_module_version": "1.2.0",
            "_model_name": "LayoutModel",
            "_view_count": null,
            "_view_module": "@jupyter-widgets/base",
            "_view_module_version": "1.2.0",
            "_view_name": "LayoutView",
            "align_content": null,
            "align_items": null,
            "align_self": null,
            "border": null,
            "bottom": null,
            "display": null,
            "flex": null,
            "flex_flow": null,
            "grid_area": null,
            "grid_auto_columns": null,
            "grid_auto_flow": null,
            "grid_auto_rows": null,
            "grid_column": null,
            "grid_gap": null,
            "grid_row": null,
            "grid_template_areas": null,
            "grid_template_columns": null,
            "grid_template_rows": null,
            "height": null,
            "justify_content": null,
            "justify_items": null,
            "left": null,
            "margin": null,
            "max_height": null,
            "max_width": null,
            "min_height": null,
            "min_width": null,
            "object_fit": null,
            "object_position": null,
            "order": null,
            "overflow": null,
            "overflow_x": null,
            "overflow_y": null,
            "padding": null,
            "right": null,
            "top": null,
            "visibility": null,
            "width": null
          }
        }
      }
    }
  },
  "cells": [
    {
      "cell_type": "markdown",
      "metadata": {
        "id": "view-in-github",
        "colab_type": "text"
      },
      "source": [
        "<a href=\"https://colab.research.google.com/github/yenlung/Py-Math-Book/blob/main/%E5%86%92%E9%9A%AA13_Entropy%E6%98%AF%E4%BB%80%E9%BA%BC%E6%A6%82%E5%BF%B5.ipynb\" target=\"_parent\"><img src=\"https://colab.research.google.com/assets/colab-badge.svg\" alt=\"Open In Colab\"/></a>"
      ]
    },
    {
      "cell_type": "code",
      "execution_count": null,
      "metadata": {
        "id": "Vn5esIZ3-Q3r"
      },
      "outputs": [],
      "source": [
        "%matplotlib inline\n",
        "\n",
        "import numpy as np\n",
        "import sympy as sp\n",
        "import pandas as pd\n",
        "import matplotlib.pyplot as plt"
      ]
    },
    {
      "cell_type": "markdown",
      "source": [
        "### 1. 資訊量\n",
        "\n",
        "資訊量 $I$ 我們可以想成是「驚訝指數」, 也就是說一個事件發生機率 $P=1$ 的時候, $I=0$; 如果機率 $P$ 很小, $I$ 應該很大。想想我們可以這樣定義:\n",
        "\n",
        "$$I = -\\log P$$\n",
        "\n",
        "比如說一個事件發生機率是 1/8 時..."
      ],
      "metadata": {
        "id": "66Lv3WS2E1zu"
      }
    },
    {
      "cell_type": "code",
      "source": [
        "I = -np.log(1/8)"
      ],
      "metadata": {
        "id": "J9Vjn4BmGUlZ"
      },
      "execution_count": null,
      "outputs": []
    },
    {
      "cell_type": "code",
      "source": [
        "I"
      ],
      "metadata": {
        "colab": {
          "base_uri": "https://localhost:8080/"
        },
        "id": "c5H8ssDjGZ1o",
        "outputId": "48dc406e-9632-49e8-b56c-4676cb1596b8"
      },
      "execution_count": null,
      "outputs": [
        {
          "output_type": "execute_result",
          "data": {
            "text/plain": [
              "2.0794415416798357"
            ]
          },
          "metadata": {},
          "execution_count": 18
        }
      ]
    },
    {
      "cell_type": "markdown",
      "source": [
        "機率是 1/100 呢?"
      ],
      "metadata": {
        "id": "x1pmFc-jGeUj"
      }
    },
    {
      "cell_type": "code",
      "source": [
        "I = -np.log(1/100)"
      ],
      "metadata": {
        "id": "iwozieQZGd_r"
      },
      "execution_count": null,
      "outputs": []
    },
    {
      "cell_type": "code",
      "source": [
        "I"
      ],
      "metadata": {
        "colab": {
          "base_uri": "https://localhost:8080/"
        },
        "id": "AfI4ZghnGcYA",
        "outputId": "8105f24f-6bf1-40dd-c7b7-65d3495ecfae"
      },
      "execution_count": null,
      "outputs": [
        {
          "output_type": "execute_result",
          "data": {
            "text/plain": [
              "4.605170185988091"
            ]
          },
          "metadata": {},
          "execution_count": 20
        }
      ]
    },
    {
      "cell_type": "markdown",
      "source": [
        "果然變大了!\n",
        "\n",
        "如果以 2 為底的 log, 還會有一個特別的意義。例如有 8 個不同類別的事件, 我們會用 1, 2, 3,... 給每個事件編號。一般我們會把機率最大的放 1, 第二大叫 2, 以此類推。\n",
        "\n",
        "為什麼呢? 原因是 1 二進位數只要 1 個 bit, 2 要兩個。機率越大, 自然希望用越少的資源傳送。\n",
        "\n",
        "比方說有 8 個不同類別的事件, 如果每個事件機率都是 1/8, 用以 2 為底的 log 計算。"
      ],
      "metadata": {
        "id": "cMXusrXTGobr"
      }
    },
    {
      "cell_type": "code",
      "source": [
        "I = -np.log2(1/8)"
      ],
      "metadata": {
        "id": "0PhUA4fL_Q-Y"
      },
      "execution_count": null,
      "outputs": []
    },
    {
      "cell_type": "code",
      "source": [
        "I"
      ],
      "metadata": {
        "colab": {
          "base_uri": "https://localhost:8080/"
        },
        "id": "yX4dCxba_Tr6",
        "outputId": "4a65fe4d-ddf5-462b-b302-ce15bb22cafa"
      },
      "execution_count": null,
      "outputs": [
        {
          "output_type": "execute_result",
          "data": {
            "text/plain": [
              "3.0"
            ]
          },
          "metadata": {},
          "execution_count": 22
        }
      ]
    },
    {
      "cell_type": "code",
      "source": [
        "np.log2(8)"
      ],
      "metadata": {
        "colab": {
          "base_uri": "https://localhost:8080/"
        },
        "id": "bOL9ozP1_d6C",
        "outputId": "94d15d48-edef-43cc-e8a7-ee7a18a03e3d"
      },
      "execution_count": null,
      "outputs": [
        {
          "output_type": "execute_result",
          "data": {
            "text/plain": [
              "3.0"
            ]
          },
          "metadata": {},
          "execution_count": 23
        }
      ]
    },
    {
      "cell_type": "markdown",
      "source": [
        "這兩者的 3 都是有 8 種情況, 至少要  3 位元!"
      ],
      "metadata": {
        "id": "rZDKGG7fH7p1"
      }
    },
    {
      "cell_type": "markdown",
      "source": [
        "### 2. Entropy (熵/亂度)\n",
        "\n",
        "一個機率分佈\n",
        "\n",
        "$$P = (p_1, p_2, \\ldots, p_n)$$\n",
        "\n",
        "我們可以算資訊量 (驚訝指數) 的期望值。\n",
        "\n",
        "$$H(P) = -\\sum_{i=1}^n p_i \\log p_i$$\n",
        "\n",
        "這也就是「平均驚訝指數」, 也可以說就是「亂度」。\n",
        "\n",
        "假設是只有兩個事件的機率分佈 $P = (p_1, p_2)$, 來算算 $P$ 的 entropy。"
      ],
      "metadata": {
        "id": "ZBn1B6SdIYd7"
      }
    },
    {
      "cell_type": "code",
      "source": [
        "def entropy(p=0.5):\n",
        "    n = 100\n",
        "    n1 = int(100*p)\n",
        "    n2 = n - n1\n",
        "    x1 = np.random.rand(n1)\n",
        "    y1 = np.random.rand(n1)\n",
        "    x2 = np.random.rand(n2)\n",
        "    y2 = np.random.rand(n2)\n",
        "    plt.scatter(x1, y1, s=50, c='r', alpha=0.7)\n",
        "    plt.scatter(x2, y2, s=50, c='b', alpha=0.7)\n",
        "    p1 = p\n",
        "    p2 = 1-p\n",
        "    Hp = -p1*np.log(p1) - p2*np.log(p2)\n",
        "    print(f\"Entropy = {Hp:.2f}\")"
      ],
      "metadata": {
        "id": "7yVjfhzGI0fr"
      },
      "execution_count": null,
      "outputs": []
    },
    {
      "cell_type": "markdown",
      "source": [
        "試用看看。"
      ],
      "metadata": {
        "id": "tiRDoRoRKcCV"
      }
    },
    {
      "cell_type": "code",
      "source": [
        "entropy(p=0.5)"
      ],
      "metadata": {
        "colab": {
          "base_uri": "https://localhost:8080/",
          "height": 283
        },
        "id": "l0l2AMtRKaaz",
        "outputId": "2af0372b-ec9f-419f-dc94-64df418c7e7b"
      },
      "execution_count": null,
      "outputs": [
        {
          "output_type": "stream",
          "name": "stdout",
          "text": [
            "Entropy = 0.69\n"
          ]
        },
        {
          "output_type": "display_data",
          "data": {
            "text/plain": [
              "<Figure size 432x288 with 1 Axes>"
            ],
            "image/png": "[encoded data removed]"
          },
          "metadata": {
            "needs_background": "light"
          }
        }
      ]
    },
    {
      "cell_type": "markdown",
      "source": [
        "來試試不同機率分佈, 算出的 entropy 有什麼不同。"
      ],
      "metadata": {
        "id": "Rp3wggeyK2x4"
      }
    },
    {
      "cell_type": "code",
      "source": [
        "from ipywidgets import interact, interact_manual"
      ],
      "metadata": {
        "id": "IS9quWk1KgRI"
      },
      "execution_count": null,
      "outputs": []
    },
    {
      "cell_type": "code",
      "source": [
        "interact(entropy, p=(0.01, 0.99, 0.01));"
      ],
      "metadata": {
        "colab": {
          "base_uri": "https://localhost:8080/",
          "height": 315,
          "referenced_widgets": [
            "2094a4bcb9e94ba1993574ae4d3a8b9f",
            "a8c1b82f893d4c79921c09e0dc02105a",
            "208bd80c619e420ab7d4f4ee80078f8a",
            "9eeadcd1d34d4c03bce0d0a3bdba5e07",
            "7b87aea30b804ff2a2ab1a44593bdabe",
            "9d6d5b7105984f84999feed60c1dab21",
            "df37104ad25349758cb047a7ea7cafdc"
          ]
        },
        "id": "XhrUvlyXLAVc",
        "outputId": "6f2db5f1-0004-48e5-fa02-82c1429aff6c"
      },
      "execution_count": null,
      "outputs": [
        {
          "output_type": "display_data",
          "data": {
            "text/plain": [
              "interactive(children=(FloatSlider(value=0.5, description='p', max=0.99, min=0.01, step=0.01), Output()), _dom_…"
            ],
            "application/vnd.jupyter.widget-view+json": {
              "version_major": 2,
              "version_minor": 0,
              "model_id": "2094a4bcb9e94ba1993574ae4d3a8b9f"
            }
          },
          "metadata": {}
        }
      ]
    },
    {
      "cell_type": "markdown",
      "source": [
        "可以發現, 如果 $P=(0.5, 0.5)$, 也就是不同色的球各半, 看來比較亂, 這時的 entropy 很大; 如果幾乎是某一色的球, 很單一, 亂度就比較小。"
      ],
      "metadata": {
        "id": "rPVErTz3LIYb"
      }
    },
    {
      "cell_type": "markdown",
      "source": [
        "### 3. Cross Entropy\n",
        "\n",
        "在分類問題計算誤差時, 我們會發現用平常愛用的均方差其實不一定是最適合的。比方說, 今天我們要做小純、小佑、小潔三個人的人臉辨識, 會給她們各自的編號, 比如小純是 1, 小佑是 2, 小潔是 3。今天一張小佑的照片, 「正確」答案假設是\n",
        "\n",
        "$$P = (p_1=0, p_2=1, p_3=0)$$\n",
        "\n",
        "也就是答案是類別 2 的小佑, 而我們的 AI 模型答案是\n",
        "\n",
        "$$Q = (q_1=0.2, q_2=0.7, q_3=1)$$\n",
        "\n",
        "基本上我們只在意 $q_2$ 是多少, 如果 $q_2=1$ 那是完全命中, 所以扣 0 分; 如果 $q_2$ 很小, 要大扣分!\n",
        "\n",
        "所以我們可以用\n",
        "\n",
        "$$-\\log q_2$$\n",
        "\n",
        "當誤差大小! 這個量叫 cross entropy, 注意這剛好是機率是 $q_2$ 的資訊量! 寫個互動來看看不同的機率分佈, 均方差和 cross entropy 的差別。"
      ],
      "metadata": {
        "id": "dmxREP-jLfNq"
      }
    },
    {
      "cell_type": "code",
      "source": [
        "def compare(q1=0.2, q2=0.7):\n",
        "    # 正確: [0, 1, 0]\n",
        "    p1 = 0\n",
        "    p2 = 1\n",
        "    p3 = 0\n",
        "    q3 = 1-q1-q2\n",
        "    mse = (p1-q1)**2 + (p2-q2)**2 + (p3-q3)**2\n",
        "    ce = -np.log(q2)\n",
        "    print(f\"q1={q1:.2f} q2={q2:.2f} q3={q3:.2f}\")\n",
        "    print(f\"均方差: {mse:.4f}\")\n",
        "    print(f\"Cross Entropy: {ce:.4f}\")"
      ],
      "metadata": {
        "id": "7EYDQ-OnLCWv"
      },
      "execution_count": null,
      "outputs": []
    },
    {
      "cell_type": "code",
      "source": [
        "compare(0.2, 0.7)"
      ],
      "metadata": {
        "colab": {
          "base_uri": "https://localhost:8080/"
        },
        "id": "pccHdia2M-4i",
        "outputId": "a5b5b296-9795-415e-92cf-f4a1e19cad7e"
      },
      "execution_count": null,
      "outputs": [
        {
          "output_type": "stream",
          "name": "stdout",
          "text": [
            "q1=0.20 q2=0.70 q3=0.10\n",
            "均方差: 0.1400\n",
            "Cross Entropy: 0.3567\n"
          ]
        }
      ]
    },
    {
      "cell_type": "markdown",
      "source": [
        "在正確答案的部份, 我們答案是 0.7, 可以發現 cross entropy 不論其他答案如何, 誤差大小是一樣的。這是我們要的 -- 我們不在意其他說錯的部份, 想專注在對的地方。可以用互動模式看得更清楚。"
      ],
      "metadata": {
        "id": "DlOtwiy1o4hy"
      }
    },
    {
      "cell_type": "code",
      "source": [
        "interact(compare, q1=(0.01, 0.99), q2=(0.01, 0.99));"
      ],
      "metadata": {
        "colab": {
          "base_uri": "https://localhost:8080/",
          "height": 134,
          "referenced_widgets": [
            "95cd38073ca841b5a612221af0ffc3ee",
            "b49bdc2e32ee47108089cf15b53eeadf",
            "0b696c3790134e4a835c8227a54eb38e",
            "f4cd627939834f16be2a42b9eb987f40",
            "8b947881dedd42c08a135331cabbc02c",
            "36571e44a5a34c89ba17262de7782759",
            "4e883f228a6e496ea3aa41a440879af5",
            "10808a151e8c48d3b62f0c1b249d87c7",
            "5fe5e1f98d3243f693b22bec8ca5ae1e",
            "0d1d544542e14dbaa4017681390f891a"
          ]
        },
        "id": "5bgZWJmjNAZ-",
        "outputId": "b65a4820-3940-4aef-9b57-607e370338f1"
      },
      "execution_count": null,
      "outputs": [
        {
          "output_type": "display_data",
          "data": {
            "text/plain": [
              "interactive(children=(FloatSlider(value=0.2, description='q1', max=0.99, min=0.01), FloatSlider(value=0.7, des…"
            ],
            "application/vnd.jupyter.widget-view+json": {
              "version_major": 2,
              "version_minor": 0,
              "model_id": "95cd38073ca841b5a612221af0ffc3ee"
            }
          },
          "metadata": {}
        }
      ]
    },
    {
      "cell_type": "markdown",
      "source": [
        "一般來說, 如果有兩個機率分佈 $P, Q$, 其中\n",
        "\n",
        "$$P = (p_1, p_2, \\ldots, p_n)$$\n",
        "\n",
        "而\n",
        "\n",
        "$$Q = (q_1, q_2, \\ldots, q_n)$$\n",
        "\n",
        "Cross entroy $H(P,Q)$ 的定義為:\n",
        "\n",
        "$$H(P,Q) = -\\sum_{i=1}^n p_i \\log(q_i)$$"
      ],
      "metadata": {
        "id": "ViqGV-4RNMoM"
      }
    },
    {
      "cell_type": "markdown",
      "source": [
        "### 4. Cross Entropy 和 Entropy 的關係\n",
        "\n",
        "現在假設 P 是「正確的」機率分佈, 而 Q 是我們模擬出來的。等一下我們實驗 P 的 entropy ($H(P)$) 和 P 與 Q 的 cross entropy ($H(P,Q)$) 有什麼關係。\n",
        "\n",
        "再一次, cross entropy 是是看 P, Q 兩個分佈差距多少的一個測量的方式。為了簡單化, 假設 P, Q 都只有兩個事件, 所以這兩個機率分佈可以寫成 $P=(p_1, p_2)$, 及 $Q=(q_1, q_2)$。"
      ],
      "metadata": {
        "id": "09Z40e7Wqmyt"
      }
    },
    {
      "cell_type": "code",
      "source": [
        "def cross_entropy(p=0.5, q=0.5):\n",
        "    n = 100\n",
        "    p1 = p\n",
        "    p2 = 1-p\n",
        "    q1 = q\n",
        "    q2 = 1-q\n",
        "    C = np.random.rand(n, 2)\n",
        "    np1 = int(100*p)\n",
        "    np2 = n - np1\n",
        "    nq1 = int(100*q)\n",
        "    nq2 = n - nq1\n",
        "    P1 = C[:np1]\n",
        "    P2 = C[np1:]\n",
        "    Q1 = C[:nq1]\n",
        "    Q2 = C[nq1:]\n",
        "    plt.subplot(121)\n",
        "    plt.scatter(P1[:,0], P1[:,1], s=50, c='r', alpha=0.7)\n",
        "    plt.scatter(P2[:,0], P2[:,1], s=50, c='b', alpha=0.7)\n",
        "    plt.subplot(122)\n",
        "    plt.scatter(Q1[:,0], Q1[:,1], s=50, c='r', alpha=0.7)\n",
        "    plt.scatter(Q2[:,0], Q2[:,1], s=50, c='b', alpha=0.7)\n",
        "    Hp = -p1*np.log(p1) - p2*np.log(p2)\n",
        "    Hpq = -p1*np.log(q1) - p2*np.log(q2)\n",
        "    print(f\"P = ({p1:.2f}, {p2:.2f})\")\n",
        "    print(f\"Q = ({q1:.2f}, {q2:.2f})\")\n",
        "    print(f\"P 的 entropy = {Hp:.4f}\")\n",
        "    print(f\"P, Q 的 cross entropy = {Hpq:.4f}\")"
      ],
      "metadata": {
        "id": "qw4gdiPHNEPE"
      },
      "execution_count": 37,
      "outputs": []
    },
    {
      "cell_type": "markdown",
      "source": [
        "注意這個函式引數 p 是 $p_1$ 的機率, $p_2$ 的機率自然是  1-p; 同樣的, q 是 $q_1$ 的機率, $q_2$ 的機率自然是  1-q。和之前一樣, 第一類我們用紅色表示, 第二類是藍色。左邊是 P 分佈的狀況, 右邊是 Q 分佈。"
      ],
      "metadata": {
        "id": "oqTLgKktNSn1"
      }
    },
    {
      "cell_type": "code",
      "source": [
        "cross_entropy(0.5, 0.5)"
      ],
      "metadata": {
        "colab": {
          "base_uri": "https://localhost:8080/",
          "height": 339
        },
        "id": "2NJyNXlIp9PQ",
        "outputId": "c0c075da-63cd-4ec7-fb88-4007c38c1c41"
      },
      "execution_count": 38,
      "outputs": [
        {
          "output_type": "stream",
          "name": "stdout",
          "text": [
            "P = (0.50, 0.50)\n",
            "Q = (0.50, 0.50)\n",
            "P 的 entropy = 0.6931\n",
            "P, Q 的 cross entropy = 0.6931\n"
          ]
        },
        {
          "output_type": "display_data",
          "data": {
            "text/plain": [
              "<Figure size 432x288 with 2 Axes>"
            ],
            "image/png": "[encoded data removed]"
          },
          "metadata": {
            "needs_background": "light"
          }
        }
      ]
    },
    {
      "cell_type": "markdown",
      "source": [
        "再一次用數值滑桿互動實驗, 注意 entropy 和 cross entropy 的大小關係。"
      ],
      "metadata": {
        "id": "h5GFL2rROE1d"
      }
    },
    {
      "cell_type": "code",
      "source": [
        "interact_manual(cross_entropy, p=(0.01, 0.99, 0.01), q=(0.01, 0.99, 0.01));"
      ],
      "metadata": {
        "colab": {
          "base_uri": "https://localhost:8080/",
          "height": 432,
          "referenced_widgets": [
            "b73adb48a0064d1db8d989ae8749d51e",
            "146b2931f35848dd987c71099c265969",
            "8d56cc2fbae4404287b4825c44a76a6d",
            "a81a238c87154fe38492f8932cabd237",
            "3b700f683aea4b33beac75781789bb89",
            "28a4e7b4d5324253b6df16c13ea50f19",
            "dd93b7716d984fa3b290692c9b9350c0",
            "db72c3c0fa8c4a4c97c79e9e7da0ca82",
            "39abf10b2c94481fbdbcbe2837242a3a",
            "1d5181a74621492db2f1361aa7f693ce",
            "ca436419d7ab434fbfb1e1fbe1c12cad",
            "cc092b60e7d443329de903248c93a170",
            "311a09ac9191435bac510fb2d2734bb8"
          ]
        },
        "id": "HLPB8_z1qAXj",
        "outputId": "17318be7-3618-4a30-c39a-db1a11af6f3f"
      },
      "execution_count": null,
      "outputs": [
        {
          "output_type": "display_data",
          "data": {
            "text/plain": [
              "interactive(children=(FloatSlider(value=0.5, description='p', max=0.99, min=0.01, step=0.01), FloatSlider(valu…"
            ],
            "application/vnd.jupyter.widget-view+json": {
              "version_major": 2,
              "version_minor": 0,
              "model_id": "b73adb48a0064d1db8d989ae8749d51e"
            }
          },
          "metadata": {}
        }
      ]
    },
    {
      "cell_type": "markdown",
      "source": [
        "實驗後會發現, P, Q 的 cross entropy $H(P,Q)$ 最小的可能是 P 的 entropy $H(P)$, 而這在 P, Q 完全是一樣的機率分佈時會達成。所以 $H(P,Q)$ 真的可以測量 P, Q 間的差異大小。"
      ],
      "metadata": {
        "id": "88NSHHBnPIP1"
      }
    },
    {
      "cell_type": "markdown",
      "source": [
        "### 5.  Kullback–Leibler divergence\n",
        "\n",
        "機器學習處理分類問題時, 我們常會看到用 cross entropy 當作誤差的計算。事實上還有一個常見看來更複雜的 Kullback–Leibler divergence (KL-divergence)。其實原理很簡單, 我們用 $H(P,Q)$ 當作 P 和 Q 之間的差異, 但沒有差別時值居然是 $H(P)$ 而不是 0! 那該如何呢? 是不是很容易, 減去 $H(P)$ 就好了!!\n",
        "\n",
        "$$\\mathrm{KL}(P\\| Q) = H(P,Q) - H(P)$$\n",
        "\n",
        "我們最後來個小實驗, 看看 $H(P)$, $H(P,Q)$ 和 $\\mathrm{KL}(P\\| Q)$ 間的關係。"
      ],
      "metadata": {
        "id": "drsenVk2PsBi"
      }
    },
    {
      "cell_type": "code",
      "source": [
        "def KLdiv(p=0.5,q=0.5):\n",
        "    p1 = p\n",
        "    p2 = 1-p\n",
        "    q1 = q\n",
        "    q2 = 1-q\n",
        "    Hp = -p1*np.log(p1)-p2*np.log(p2)\n",
        "    Hpq = -p1*np.log(q1)-p2*np.log(q2)\n",
        "    KL = Hpq - Hp\n",
        "    print(f\"P=({p1:.2f}, {p2:.2f})\")\n",
        "    print(f\"Q=({q1:.2f}, {q2:.2f})\")\n",
        "    print()\n",
        "    print(f\"(目標的) entropy = {Hp:.4f}\")\n",
        "    print(f\"cross entropy = {Hpq:.4f}\")\n",
        "    print(f\"KL-divergence = {KL:.4f}\")"
      ],
      "metadata": {
        "id": "GfkCoLqgqDKz"
      },
      "execution_count": 41,
      "outputs": []
    },
    {
      "cell_type": "code",
      "source": [
        "KLdiv(0.4,0.6)"
      ],
      "metadata": {
        "colab": {
          "base_uri": "https://localhost:8080/"
        },
        "id": "m0C3LDQwSDXi",
        "outputId": "ce3ea4b5-83ce-41d2-dabe-ca7f40f5e5b3"
      },
      "execution_count": 40,
      "outputs": [
        {
          "output_type": "stream",
          "name": "stdout",
          "text": [
            "P=(0.40, 0.60)\n",
            "Q=(0.60, 0.40)\n",
            "\n",
            "(目標的) entropy = 0.6730\n",
            "cross entropy = 0.7541\n",
            "KL-divergence = 0.0811\n"
          ]
        }
      ]
    },
    {
      "cell_type": "markdown",
      "source": [
        "再次以互動實驗, 注意兩個機率分佈相同時, KL-divergence 的值為 0。"
      ],
      "metadata": {
        "id": "Om1oUhYtSJra"
      }
    },
    {
      "cell_type": "code",
      "source": [
        "interact(KLdiv, p=(0.01, 0.99, 0.01), q=(0.01, 0.99, 0.01));"
      ],
      "metadata": {
        "colab": {
          "base_uri": "https://localhost:8080/",
          "height": 192,
          "referenced_widgets": [
            "85b2e0de764743b4af7afdad3a3fecc0",
            "efcf0e3e5cf64d0eada9ee9ccfc38e4d",
            "76777c62c29e4c4da3e21157167c19e5",
            "83df9a4ad9764686b2dc85f1ed4f519a",
            "515d6dbba4fb4106ad403885f4fea77d",
            "f2a15e838b5d4ddcb320973c9329a9e1",
            "55a4f848f1cf45d595a499a760152aa2",
            "b739a0cfbd1a48598a5998f94376bb81",
            "43d817c27711448994987f9a31e3647b",
            "d11b2ea6c2b54838a4d4381bc5af300c"
          ]
        },
        "id": "qbLZNJRxSGI0",
        "outputId": "8ed9311b-47fc-4f5d-c404-52a33de55ea9"
      },
      "execution_count": 42,
      "outputs": [
        {
          "output_type": "display_data",
          "data": {
            "text/plain": [
              "interactive(children=(FloatSlider(value=0.5, description='p', max=0.99, min=0.01, step=0.01), FloatSlider(valu…"
            ],
            "application/vnd.jupyter.widget-view+json": {
              "version_major": 2,
              "version_minor": 0,
              "model_id": "85b2e0de764743b4af7afdad3a3fecc0"
            }
          },
          "metadata": {}
        }
      ]
    }
  ]
}