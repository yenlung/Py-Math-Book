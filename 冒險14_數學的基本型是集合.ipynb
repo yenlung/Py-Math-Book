{
  "nbformat": 4,
  "nbformat_minor": 0,
  "metadata": {
    "colab": {
      "provenance": [],
      "authorship_tag": "ABX9TyPkEGma2D5gq9aidPLXnP22",
      "include_colab_link": true
    },
    "kernelspec": {
      "name": "python3",
      "display_name": "Python 3"
    },
    "language_info": {
      "name": "python"
    },
    "widgets": {
      "application/vnd.jupyter.widget-state+json": {
        "684fe9c3522d4abc8904c5cc75606155": {
          "model_module": "@jupyter-widgets/controls",
          "model_name": "VBoxModel",
          "model_module_version": "1.5.0",
          "state": {
            "_dom_classes": [
              "widget-interact"
            ],
            "_model_module": "@jupyter-widgets/controls",
            "_model_module_version": "1.5.0",
            "_model_name": "VBoxModel",
            "_view_count": null,
            "_view_module": "@jupyter-widgets/controls",
            "_view_module_version": "1.5.0",
            "_view_name": "VBoxView",
            "box_style": "",
            "children": [
              "IPY_MODEL_d113f86196664ef1b560098105da7a29",
              "IPY_MODEL_6bde7292b65b42ea8e0c253e030c1f66",
              "IPY_MODEL_637e5cac71e34af288e58c29a602ae76"
            ],
            "layout": "IPY_MODEL_9af1d348c7b34fbea9ff6e1ad18c61b1"
          }
        },
        "d113f86196664ef1b560098105da7a29": {
          "model_module": "@jupyter-widgets/controls",
          "model_name": "TextModel",
          "model_module_version": "1.5.0",
          "state": {
            "_dom_classes": [],
            "_model_module": "@jupyter-widgets/controls",
            "_model_module_version": "1.5.0",
            "_model_name": "TextModel",
            "_view_count": null,
            "_view_module": "@jupyter-widgets/controls",
            "_view_module_version": "1.5.0",
            "_view_name": "TextView",
            "continuous_update": true,
            "description": "message",
            "description_tooltip": null,
            "disabled": false,
            "layout": "IPY_MODEL_7b641f11e0944e27b850de1ec872e307",
            "placeholder": "​",
            "style": "IPY_MODEL_0b7c05095aee415fb83fa28617150eab",
            "value": "大家都不喜歡我。"
          }
        },
        "6bde7292b65b42ea8e0c253e030c1f66": {
          "model_module": "@jupyter-widgets/controls",
          "model_name": "ButtonModel",
          "model_module_version": "1.5.0",
          "state": {
            "_dom_classes": [],
            "_model_module": "@jupyter-widgets/controls",
            "_model_module_version": "1.5.0",
            "_model_name": "ButtonModel",
            "_view_count": null,
            "_view_module": "@jupyter-widgets/controls",
            "_view_module_version": "1.5.0",
            "_view_name": "ButtonView",
            "button_style": "",
            "description": "Run Interact",
            "disabled": false,
            "icon": "",
            "layout": "IPY_MODEL_b3dd2f919ba8456bb0de192aa35f290e",
            "style": "IPY_MODEL_f78d11afc89c407cbfd9628950dd7f13",
            "tooltip": ""
          }
        },
        "637e5cac71e34af288e58c29a602ae76": {
          "model_module": "@jupyter-widgets/output",
          "model_name": "OutputModel",
          "model_module_version": "1.0.0",
          "state": {
            "_dom_classes": [],
            "_model_module": "@jupyter-widgets/output",
            "_model_module_version": "1.0.0",
            "_model_name": "OutputModel",
            "_view_count": null,
            "_view_module": "@jupyter-widgets/output",
            "_view_module_version": "1.0.0",
            "_view_name": "OutputView",
            "layout": "IPY_MODEL_7ffb4e2b82e34957a4b8220ae2c11eb3",
            "msg_id": "",
            "outputs": [
              {
                "output_type": "stream",
                "name": "stdout",
                "text": [
                  ">>大家都不喜歡我。\n",
                  "拍拍!\n"
                ]
              }
            ]
          }
        },
        "9af1d348c7b34fbea9ff6e1ad18c61b1": {
          "model_module": "@jupyter-widgets/base",
          "model_name": "LayoutModel",
          "model_module_version": "1.2.0",
          "state": {
            "_model_module": "@jupyter-widgets/base",
            "_model_module_version": "1.2.0",
            "_model_name": "LayoutModel",
            "_view_count": null,
            "_view_module": "@jupyter-widgets/base",
            "_view_module_version": "1.2.0",
            "_view_name": "LayoutView",
            "align_content": null,
            "align_items": null,
            "align_self": null,
            "border": null,
            "bottom": null,
            "display": null,
            "flex": null,
            "flex_flow": null,
            "grid_area": null,
            "grid_auto_columns": null,
            "grid_auto_flow": null,
            "grid_auto_rows": null,
            "grid_column": null,
            "grid_gap": null,
            "grid_row": null,
            "grid_template_areas": null,
            "grid_template_columns": null,
            "grid_template_rows": null,
            "height": null,
            "justify_content": null,
            "justify_items": null,
            "left": null,
            "margin": null,
            "max_height": null,
            "max_width": null,
            "min_height": null,
            "min_width": null,
            "object_fit": null,
            "object_position": null,
            "order": null,
            "overflow": null,
            "overflow_x": null,
            "overflow_y": null,
            "padding": null,
            "right": null,
            "top": null,
            "visibility": null,
            "width": null
          }
        },
        "7b641f11e0944e27b850de1ec872e307": {
          "model_module": "@jupyter-widgets/base",
          "model_name": "LayoutModel",
          "model_module_version": "1.2.0",
          "state": {
            "_model_module": "@jupyter-widgets/base",
            "_model_module_version": "1.2.0",
            "_model_name": "LayoutModel",
            "_view_count": null,
            "_view_module": "@jupyter-widgets/base",
            "_view_module_version": "1.2.0",
            "_view_name": "LayoutView",
            "align_content": null,
            "align_items": null,
            "align_self": null,
            "border": null,
            "bottom": null,
            "display": null,
            "flex": null,
            "flex_flow": null,
            "grid_area": null,
            "grid_auto_columns": null,
            "grid_auto_flow": null,
            "grid_auto_rows": null,
            "grid_column": null,
            "grid_gap": null,
            "grid_row": null,
            "grid_template_areas": null,
            "grid_template_columns": null,
            "grid_template_rows": null,
            "height": null,
            "justify_content": null,
            "justify_items": null,
            "left": null,
            "margin": null,
            "max_height": null,
            "max_width": null,
            "min_height": null,
            "min_width": null,
            "object_fit": null,
            "object_position": null,
            "order": null,
            "overflow": null,
            "overflow_x": null,
            "overflow_y": null,
            "padding": null,
            "right": null,
            "top": null,
            "visibility": null,
            "width": null
          }
        },
        "0b7c05095aee415fb83fa28617150eab": {
          "model_module": "@jupyter-widgets/controls",
          "model_name": "DescriptionStyleModel",
          "model_module_version": "1.5.0",
          "state": {
            "_model_module": "@jupyter-widgets/controls",
            "_model_module_version": "1.5.0",
            "_model_name": "DescriptionStyleModel",
            "_view_count": null,
            "_view_module": "@jupyter-widgets/base",
            "_view_module_version": "1.2.0",
            "_view_name": "StyleView",
            "description_width": ""
          }
        },
        "b3dd2f919ba8456bb0de192aa35f290e": {
          "model_module": "@jupyter-widgets/base",
          "model_name": "LayoutModel",
          "model_module_version": "1.2.0",
          "state": {
            "_model_module": "@jupyter-widgets/base",
            "_model_module_version": "1.2.0",
            "_model_name": "LayoutModel",
            "_view_count": null,
            "_view_module": "@jupyter-widgets/base",
            "_view_module_version": "1.2.0",
            "_view_name": "LayoutView",
            "align_content": null,
            "align_items": null,
            "align_self": null,
            "border": null,
            "bottom": null,
            "display": null,
            "flex": null,
            "flex_flow": null,
            "grid_area": null,
            "grid_auto_columns": null,
            "grid_auto_flow": null,
            "grid_auto_rows": null,
            "grid_column": null,
            "grid_gap": null,
            "grid_row": null,
            "grid_template_areas": null,
            "grid_template_columns": null,
            "grid_template_rows": null,
            "height": null,
            "justify_content": null,
            "justify_items": null,
            "left": null,
            "margin": null,
            "max_height": null,
            "max_width": null,
            "min_height": null,
            "min_width": null,
            "object_fit": null,
            "object_position": null,
            "order": null,
            "overflow": null,
            "overflow_x": null,
            "overflow_y": null,
            "padding": null,
            "right": null,
            "top": null,
            "visibility": null,
            "width": null
          }
        },
        "f78d11afc89c407cbfd9628950dd7f13": {
          "model_module": "@jupyter-widgets/controls",
          "model_name": "ButtonStyleModel",
          "model_module_version": "1.5.0",
          "state": {
            "_model_module": "@jupyter-widgets/controls",
            "_model_module_version": "1.5.0",
            "_model_name": "ButtonStyleModel",
            "_view_count": null,
            "_view_module": "@jupyter-widgets/base",
            "_view_module_version": "1.2.0",
            "_view_name": "StyleView",
            "button_color": null,
            "font_weight": ""
          }
        },
        "7ffb4e2b82e34957a4b8220ae2c11eb3": {
          "model_module": "@jupyter-widgets/base",
          "model_name": "LayoutModel",
          "model_module_version": "1.2.0",
          "state": {
            "_model_module": "@jupyter-widgets/base",
            "_model_module_version": "1.2.0",
            "_model_name": "LayoutModel",
            "_view_count": null,
            "_view_module": "@jupyter-widgets/base",
            "_view_module_version": "1.2.0",
            "_view_name": "LayoutView",
            "align_content": null,
            "align_items": null,
            "align_self": null,
            "border": null,
            "bottom": null,
            "display": null,
            "flex": null,
            "flex_flow": null,
            "grid_area": null,
            "grid_auto_columns": null,
            "grid_auto_flow": null,
            "grid_auto_rows": null,
            "grid_column": null,
            "grid_gap": null,
            "grid_row": null,
            "grid_template_areas": null,
            "grid_template_columns": null,
            "grid_template_rows": null,
            "height": null,
            "justify_content": null,
            "justify_items": null,
            "left": null,
            "margin": null,
            "max_height": null,
            "max_width": null,
            "min_height": null,
            "min_width": null,
            "object_fit": null,
            "object_position": null,
            "order": null,
            "overflow": null,
            "overflow_x": null,
            "overflow_y": null,
            "padding": null,
            "right": null,
            "top": null,
            "visibility": null,
            "width": null
          }
        },
        "6ba98992763642d1a277b6844bd4232f": {
          "model_module": "@jupyter-widgets/controls",
          "model_name": "VBoxModel",
          "model_module_version": "1.5.0",
          "state": {
            "_dom_classes": [
              "widget-interact"
            ],
            "_model_module": "@jupyter-widgets/controls",
            "_model_module_version": "1.5.0",
            "_model_name": "VBoxModel",
            "_view_count": null,
            "_view_module": "@jupyter-widgets/controls",
            "_view_module_version": "1.5.0",
            "_view_name": "VBoxView",
            "box_style": "",
            "children": [
              "IPY_MODEL_117282d0183840afb4f502c6f76f377c",
              "IPY_MODEL_83c123e0724d45c2a8ccbf38eba8895a",
              "IPY_MODEL_cb0020ebbe894b64b8d02f1d06b3eda0"
            ],
            "layout": "IPY_MODEL_bf9f0d2ca1b6401b9041a3ccd478b0a0"
          }
        },
        "117282d0183840afb4f502c6f76f377c": {
          "model_module": "@jupyter-widgets/controls",
          "model_name": "TextModel",
          "model_module_version": "1.5.0",
          "state": {
            "_dom_classes": [],
            "_model_module": "@jupyter-widgets/controls",
            "_model_module_version": "1.5.0",
            "_model_name": "TextModel",
            "_view_count": null,
            "_view_module": "@jupyter-widgets/controls",
            "_view_module_version": "1.5.0",
            "_view_name": "TextView",
            "continuous_update": true,
            "description": "message",
            "description_tooltip": null,
            "disabled": false,
            "layout": "IPY_MODEL_059e87bbcfca4a3396a20c3b0e2ca26e",
            "placeholder": "​",
            "style": "IPY_MODEL_749a1166bbeb4a4a802ffc5c7288ea4d",
            "value": "還說我只會發廢文。"
          }
        },
        "83c123e0724d45c2a8ccbf38eba8895a": {
          "model_module": "@jupyter-widgets/controls",
          "model_name": "ButtonModel",
          "model_module_version": "1.5.0",
          "state": {
            "_dom_classes": [],
            "_model_module": "@jupyter-widgets/controls",
            "_model_module_version": "1.5.0",
            "_model_name": "ButtonModel",
            "_view_count": null,
            "_view_module": "@jupyter-widgets/controls",
            "_view_module_version": "1.5.0",
            "_view_name": "ButtonView",
            "button_style": "",
            "description": "Run Interact",
            "disabled": false,
            "icon": "",
            "layout": "IPY_MODEL_e5cb3df4980840e291ddf48724796d90",
            "style": "IPY_MODEL_0938a3a77c274cb0ae4741cc6cc893a8",
            "tooltip": ""
          }
        },
        "cb0020ebbe894b64b8d02f1d06b3eda0": {
          "model_module": "@jupyter-widgets/output",
          "model_name": "OutputModel",
          "model_module_version": "1.0.0",
          "state": {
            "_dom_classes": [],
            "_model_module": "@jupyter-widgets/output",
            "_model_module_version": "1.0.0",
            "_model_name": "OutputModel",
            "_view_count": null,
            "_view_module": "@jupyter-widgets/output",
            "_view_module_version": "1.0.0",
            "_view_name": "OutputView",
            "layout": "IPY_MODEL_02aa54ce8c564332b1c4236fcae5b7e9",
            "msg_id": "",
            "outputs": [
              {
                "output_type": "stream",
                "name": "stdout",
                "text": [
                  ">>我很難過。\n",
                  "拍拍!\n",
                  "\n",
                  ">>覺得大家都不喜歡我。\n",
                  "拍拍!\n",
                  "\n",
                  ">>還說我只會發廢文。\n",
                  "拍拍!\n",
                  "\n"
                ]
              }
            ]
          }
        },
        "bf9f0d2ca1b6401b9041a3ccd478b0a0": {
          "model_module": "@jupyter-widgets/base",
          "model_name": "LayoutModel",
          "model_module_version": "1.2.0",
          "state": {
            "_model_module": "@jupyter-widgets/base",
            "_model_module_version": "1.2.0",
            "_model_name": "LayoutModel",
            "_view_count": null,
            "_view_module": "@jupyter-widgets/base",
            "_view_module_version": "1.2.0",
            "_view_name": "LayoutView",
            "align_content": null,
            "align_items": null,
            "align_self": null,
            "border": null,
            "bottom": null,
            "display": null,
            "flex": null,
            "flex_flow": null,
            "grid_area": null,
            "grid_auto_columns": null,
            "grid_auto_flow": null,
            "grid_auto_rows": null,
            "grid_column": null,
            "grid_gap": null,
            "grid_row": null,
            "grid_template_areas": null,
            "grid_template_columns": null,
            "grid_template_rows": null,
            "height": null,
            "justify_content": null,
            "justify_items": null,
            "left": null,
            "margin": null,
            "max_height": null,
            "max_width": null,
            "min_height": null,
            "min_width": null,
            "object_fit": null,
            "object_position": null,
            "order": null,
            "overflow": null,
            "overflow_x": null,
            "overflow_y": null,
            "padding": null,
            "right": null,
            "top": null,
            "visibility": null,
            "width": null
          }
        },
        "059e87bbcfca4a3396a20c3b0e2ca26e": {
          "model_module": "@jupyter-widgets/base",
          "model_name": "LayoutModel",
          "model_module_version": "1.2.0",
          "state": {
            "_model_module": "@jupyter-widgets/base",
            "_model_module_version": "1.2.0",
            "_model_name": "LayoutModel",
            "_view_count": null,
            "_view_module": "@jupyter-widgets/base",
            "_view_module_version": "1.2.0",
            "_view_name": "LayoutView",
            "align_content": null,
            "align_items": null,
            "align_self": null,
            "border": null,
            "bottom": null,
            "display": null,
            "flex": null,
            "flex_flow": null,
            "grid_area": null,
            "grid_auto_columns": null,
            "grid_auto_flow": null,
            "grid_auto_rows": null,
            "grid_column": null,
            "grid_gap": null,
            "grid_row": null,
            "grid_template_areas": null,
            "grid_template_columns": null,
            "grid_template_rows": null,
            "height": null,
            "justify_content": null,
            "justify_items": null,
            "left": null,
            "margin": null,
            "max_height": null,
            "max_width": null,
            "min_height": null,
            "min_width": null,
            "object_fit": null,
            "object_position": null,
            "order": null,
            "overflow": null,
            "overflow_x": null,
            "overflow_y": null,
            "padding": null,
            "right": null,
            "top": null,
            "visibility": null,
            "width": null
          }
        },
        "749a1166bbeb4a4a802ffc5c7288ea4d": {
          "model_module": "@jupyter-widgets/controls",
          "model_name": "DescriptionStyleModel",
          "model_module_version": "1.5.0",
          "state": {
            "_model_module": "@jupyter-widgets/controls",
            "_model_module_version": "1.5.0",
            "_model_name": "DescriptionStyleModel",
            "_view_count": null,
            "_view_module": "@jupyter-widgets/base",
            "_view_module_version": "1.2.0",
            "_view_name": "StyleView",
            "description_width": ""
          }
        },
        "e5cb3df4980840e291ddf48724796d90": {
          "model_module": "@jupyter-widgets/base",
          "model_name": "LayoutModel",
          "model_module_version": "1.2.0",
          "state": {
            "_model_module": "@jupyter-widgets/base",
            "_model_module_version": "1.2.0",
            "_model_name": "LayoutModel",
            "_view_count": null,
            "_view_module": "@jupyter-widgets/base",
            "_view_module_version": "1.2.0",
            "_view_name": "LayoutView",
            "align_content": null,
            "align_items": null,
            "align_self": null,
            "border": null,
            "bottom": null,
            "display": null,
            "flex": null,
            "flex_flow": null,
            "grid_area": null,
            "grid_auto_columns": null,
            "grid_auto_flow": null,
            "grid_auto_rows": null,
            "grid_column": null,
            "grid_gap": null,
            "grid_row": null,
            "grid_template_areas": null,
            "grid_template_columns": null,
            "grid_template_rows": null,
            "height": null,
            "justify_content": null,
            "justify_items": null,
            "left": null,
            "margin": null,
            "max_height": null,
            "max_width": null,
            "min_height": null,
            "min_width": null,
            "object_fit": null,
            "object_position": null,
            "order": null,
            "overflow": null,
            "overflow_x": null,
            "overflow_y": null,
            "padding": null,
            "right": null,
            "top": null,
            "visibility": null,
            "width": null
          }
        },
        "0938a3a77c274cb0ae4741cc6cc893a8": {
          "model_module": "@jupyter-widgets/controls",
          "model_name": "ButtonStyleModel",
          "model_module_version": "1.5.0",
          "state": {
            "_model_module": "@jupyter-widgets/controls",
            "_model_module_version": "1.5.0",
            "_model_name": "ButtonStyleModel",
            "_view_count": null,
            "_view_module": "@jupyter-widgets/base",
            "_view_module_version": "1.2.0",
            "_view_name": "StyleView",
            "button_color": null,
            "font_weight": ""
          }
        },
        "02aa54ce8c564332b1c4236fcae5b7e9": {
          "model_module": "@jupyter-widgets/base",
          "model_name": "LayoutModel",
          "model_module_version": "1.2.0",
          "state": {
            "_model_module": "@jupyter-widgets/base",
            "_model_module_version": "1.2.0",
            "_model_name": "LayoutModel",
            "_view_count": null,
            "_view_module": "@jupyter-widgets/base",
            "_view_module_version": "1.2.0",
            "_view_name": "LayoutView",
            "align_content": null,
            "align_items": null,
            "align_self": null,
            "border": null,
            "bottom": null,
            "display": null,
            "flex": null,
            "flex_flow": null,
            "grid_area": null,
            "grid_auto_columns": null,
            "grid_auto_flow": null,
            "grid_auto_rows": null,
            "grid_column": null,
            "grid_gap": null,
            "grid_row": null,
            "grid_template_areas": null,
            "grid_template_columns": null,
            "grid_template_rows": null,
            "height": null,
            "justify_content": null,
            "justify_items": null,
            "left": null,
            "margin": null,
            "max_height": null,
            "max_width": null,
            "min_height": null,
            "min_width": null,
            "object_fit": null,
            "object_position": null,
            "order": null,
            "overflow": null,
            "overflow_x": null,
            "overflow_y": null,
            "padding": null,
            "right": null,
            "top": null,
            "visibility": null,
            "width": null
          }
        },
        "6c65b4adb61b4ec984aff549e9c4863c": {
          "model_module": "@jupyter-widgets/controls",
          "model_name": "TextModel",
          "model_module_version": "1.5.0",
          "state": {
            "_dom_classes": [],
            "_model_module": "@jupyter-widgets/controls",
            "_model_module_version": "1.5.0",
            "_model_name": "TextModel",
            "_view_count": null,
            "_view_module": "@jupyter-widgets/controls",
            "_view_module_version": "1.5.0",
            "_view_name": "TextView",
            "continuous_update": true,
            "description": "",
            "description_tooltip": null,
            "disabled": false,
            "layout": "IPY_MODEL_86749c801a3b467eafc2b2e48323ef1d",
            "placeholder": "​",
            "style": "IPY_MODEL_9cb271973e434e3c97412299b25552e9",
            "value": "試打一些文字。"
          }
        },
        "86749c801a3b467eafc2b2e48323ef1d": {
          "model_module": "@jupyter-widgets/base",
          "model_name": "LayoutModel",
          "model_module_version": "1.2.0",
          "state": {
            "_model_module": "@jupyter-widgets/base",
            "_model_module_version": "1.2.0",
            "_model_name": "LayoutModel",
            "_view_count": null,
            "_view_module": "@jupyter-widgets/base",
            "_view_module_version": "1.2.0",
            "_view_name": "LayoutView",
            "align_content": null,
            "align_items": null,
            "align_self": null,
            "border": null,
            "bottom": null,
            "display": null,
            "flex": null,
            "flex_flow": null,
            "grid_area": null,
            "grid_auto_columns": null,
            "grid_auto_flow": null,
            "grid_auto_rows": null,
            "grid_column": null,
            "grid_gap": null,
            "grid_row": null,
            "grid_template_areas": null,
            "grid_template_columns": null,
            "grid_template_rows": null,
            "height": null,
            "justify_content": null,
            "justify_items": null,
            "left": null,
            "margin": null,
            "max_height": null,
            "max_width": null,
            "min_height": null,
            "min_width": null,
            "object_fit": null,
            "object_position": null,
            "order": null,
            "overflow": null,
            "overflow_x": null,
            "overflow_y": null,
            "padding": null,
            "right": null,
            "top": null,
            "visibility": null,
            "width": null
          }
        },
        "9cb271973e434e3c97412299b25552e9": {
          "model_module": "@jupyter-widgets/controls",
          "model_name": "DescriptionStyleModel",
          "model_module_version": "1.5.0",
          "state": {
            "_model_module": "@jupyter-widgets/controls",
            "_model_module_version": "1.5.0",
            "_model_name": "DescriptionStyleModel",
            "_view_count": null,
            "_view_module": "@jupyter-widgets/base",
            "_view_module_version": "1.2.0",
            "_view_name": "StyleView",
            "description_width": ""
          }
        },
        "2b8993842737490ba107650f583813ee": {
          "model_module": "@jupyter-widgets/controls",
          "model_name": "TextModel",
          "model_module_version": "1.5.0",
          "state": {
            "_dom_classes": [],
            "_model_module": "@jupyter-widgets/controls",
            "_model_module_version": "1.5.0",
            "_model_name": "TextModel",
            "_view_count": null,
            "_view_module": "@jupyter-widgets/controls",
            "_view_module_version": "1.5.0",
            "_view_name": "TextView",
            "continuous_update": true,
            "description": "",
            "description_tooltip": null,
            "disabled": false,
            "layout": "IPY_MODEL_2551ef21e7a14903957a6e4dde873e61",
            "placeholder": "​",
            "style": "IPY_MODEL_8c6bb2e817994c0dbb90b8a0ff7a7727",
            "value": "還說我只會發一些廢文。"
          }
        },
        "2551ef21e7a14903957a6e4dde873e61": {
          "model_module": "@jupyter-widgets/base",
          "model_name": "LayoutModel",
          "model_module_version": "1.2.0",
          "state": {
            "_model_module": "@jupyter-widgets/base",
            "_model_module_version": "1.2.0",
            "_model_name": "LayoutModel",
            "_view_count": null,
            "_view_module": "@jupyter-widgets/base",
            "_view_module_version": "1.2.0",
            "_view_name": "LayoutView",
            "align_content": null,
            "align_items": null,
            "align_self": null,
            "border": null,
            "bottom": null,
            "display": null,
            "flex": null,
            "flex_flow": null,
            "grid_area": null,
            "grid_auto_columns": null,
            "grid_auto_flow": null,
            "grid_auto_rows": null,
            "grid_column": null,
            "grid_gap": null,
            "grid_row": null,
            "grid_template_areas": null,
            "grid_template_columns": null,
            "grid_template_rows": null,
            "height": null,
            "justify_content": null,
            "justify_items": null,
            "left": null,
            "margin": null,
            "max_height": null,
            "max_width": null,
            "min_height": null,
            "min_width": null,
            "object_fit": null,
            "object_position": null,
            "order": null,
            "overflow": null,
            "overflow_x": null,
            "overflow_y": null,
            "padding": null,
            "right": null,
            "top": null,
            "visibility": null,
            "width": null
          }
        },
        "8c6bb2e817994c0dbb90b8a0ff7a7727": {
          "model_module": "@jupyter-widgets/controls",
          "model_name": "DescriptionStyleModel",
          "model_module_version": "1.5.0",
          "state": {
            "_model_module": "@jupyter-widgets/controls",
            "_model_module_version": "1.5.0",
            "_model_name": "DescriptionStyleModel",
            "_view_count": null,
            "_view_module": "@jupyter-widgets/base",
            "_view_module_version": "1.2.0",
            "_view_name": "StyleView",
            "description_width": ""
          }
        }
      }
    }
  },
  "cells": [
    {
      "cell_type": "markdown",
      "metadata": {
        "id": "view-in-github",
        "colab_type": "text"
      },
      "source": [
        "<a href=\"https://colab.research.google.com/github/yenlung/Py-Math-Book/blob/main/%E5%86%92%E9%9A%AA14_%E6%95%B8%E5%AD%B8%E7%9A%84%E5%9F%BA%E6%9C%AC%E5%9E%8B%E6%98%AF%E9%9B%86%E5%90%88.ipynb\" target=\"_parent\"><img src=\"https://colab.research.google.com/assets/colab-badge.svg\" alt=\"Open In Colab\"/></a>"
      ]
    },
    {
      "cell_type": "code",
      "execution_count": 1,
      "metadata": {
        "id": "xU-22xmwLGpa"
      },
      "outputs": [],
      "source": [
        "%matplotlib inline\n",
        "\n",
        "import numpy as np\n",
        "import sympy as sp\n",
        "import pandas as pd\n",
        "import matplotlib.pyplot as plt"
      ]
    },
    {
      "cell_type": "markdown",
      "source": [
        "### 1. list 為什麼不是集合?"
      ],
      "metadata": {
        "id": "48fXK-Y6LSB-"
      }
    },
    {
      "cell_type": "markdown",
      "source": [
        "看看兩個有一樣元素的串列, 順序不同時是否是不同的串列。"
      ],
      "metadata": {
        "id": "NIbgM5DrLhMR"
      }
    },
    {
      "cell_type": "code",
      "source": [
        "egg = [1, 2, 3]\n",
        "ham = [3, 1, 2]"
      ],
      "metadata": {
        "id": "qghrEQZgLQdc"
      },
      "execution_count": 2,
      "outputs": []
    },
    {
      "cell_type": "code",
      "source": [
        "egg == ham"
      ],
      "metadata": {
        "colab": {
          "base_uri": "https://localhost:8080/"
        },
        "id": "l9q5On_rLfC-",
        "outputId": "03cf37dc-7143-44ab-b31c-9250835b02ba"
      },
      "execution_count": 3,
      "outputs": [
        {
          "output_type": "execute_result",
          "data": {
            "text/plain": [
              "False"
            ]
          },
          "metadata": {},
          "execution_count": 3
        }
      ]
    },
    {
      "cell_type": "markdown",
      "source": [
        "果然順序要完全一樣才可以。"
      ],
      "metadata": {
        "id": "PipZv1NRLrmr"
      }
    },
    {
      "cell_type": "code",
      "source": [
        "spam = [1, 2, 3]"
      ],
      "metadata": {
        "id": "KVF1MtFNLf8Y"
      },
      "execution_count": 4,
      "outputs": []
    },
    {
      "cell_type": "code",
      "source": [
        "egg == spam"
      ],
      "metadata": {
        "colab": {
          "base_uri": "https://localhost:8080/"
        },
        "id": "VDm379CALv4K",
        "outputId": "33d070ba-4321-491d-bf18-48ebd7ff754e"
      },
      "execution_count": 5,
      "outputs": [
        {
          "output_type": "execute_result",
          "data": {
            "text/plain": [
              "True"
            ]
          },
          "metadata": {},
          "execution_count": 5
        }
      ]
    },
    {
      "cell_type": "markdown",
      "source": [
        "因為有順序, 所以才可以指定「第幾個」元素。而 Python 都是從 0 數起。"
      ],
      "metadata": {
        "id": "WZ4rs8lyL06t"
      }
    },
    {
      "cell_type": "code",
      "source": [
        "egg[0]"
      ],
      "metadata": {
        "colab": {
          "base_uri": "https://localhost:8080/"
        },
        "id": "6Vrk0B8-LxRG",
        "outputId": "73148a76-6899-4596-ab75-8cfd724eae3e"
      },
      "execution_count": 6,
      "outputs": [
        {
          "output_type": "execute_result",
          "data": {
            "text/plain": [
              "1"
            ]
          },
          "metadata": {},
          "execution_count": 6
        }
      ]
    },
    {
      "cell_type": "markdown",
      "source": [
        "另一個和集合不同的是, 有重覆的元素是可以的。"
      ],
      "metadata": {
        "id": "30NHsAiNL_ub"
      }
    },
    {
      "cell_type": "code",
      "source": [
        "egg = [2, 3, 3]\n",
        "ham = [2, 3]"
      ],
      "metadata": {
        "id": "hbbofHmtL9L5"
      },
      "execution_count": 7,
      "outputs": []
    },
    {
      "cell_type": "code",
      "source": [
        "egg == ham"
      ],
      "metadata": {
        "colab": {
          "base_uri": "https://localhost:8080/"
        },
        "id": "heQmkTZKMOZt",
        "outputId": "0eba77ac-1015-4763-9e2b-7b9157008da0"
      },
      "execution_count": 8,
      "outputs": [
        {
          "output_type": "execute_result",
          "data": {
            "text/plain": [
              "False"
            ]
          },
          "metadata": {},
          "execution_count": 8
        }
      ]
    },
    {
      "cell_type": "markdown",
      "source": [
        "### 2. Python 其實也有集合!"
      ],
      "metadata": {
        "id": "GAm-zUzJMQad"
      }
    },
    {
      "cell_type": "code",
      "source": [
        "egg = [1, 2, 3]\n",
        "ham = [3, 2, 1]"
      ],
      "metadata": {
        "id": "NQ2WCbtLMPJy"
      },
      "execution_count": 9,
      "outputs": []
    },
    {
      "cell_type": "code",
      "source": [
        "set_egg = set(egg)\n",
        "set_ham = set(ham)"
      ],
      "metadata": {
        "id": "91QJNAG4MYJj"
      },
      "execution_count": 10,
      "outputs": []
    },
    {
      "cell_type": "code",
      "source": [
        "set_egg == set_ham"
      ],
      "metadata": {
        "colab": {
          "base_uri": "https://localhost:8080/"
        },
        "id": "VvSNSpUEMba6",
        "outputId": "00a5b33f-491c-4d0f-aef4-2064f94e257f"
      },
      "execution_count": 11,
      "outputs": [
        {
          "output_type": "execute_result",
          "data": {
            "text/plain": [
              "True"
            ]
          },
          "metadata": {},
          "execution_count": 11
        }
      ]
    },
    {
      "cell_type": "markdown",
      "source": [
        "重覆的元素也會被忽略。"
      ],
      "metadata": {
        "id": "1DEQc4s3MezB"
      }
    },
    {
      "cell_type": "code",
      "source": [
        "set_egg = set([3, 2, 3])\n",
        "set_ham = set([2, 3])"
      ],
      "metadata": {
        "id": "wuWlMfk3MdGk"
      },
      "execution_count": 12,
      "outputs": []
    },
    {
      "cell_type": "code",
      "source": [
        "set_egg == set_ham"
      ],
      "metadata": {
        "colab": {
          "base_uri": "https://localhost:8080/"
        },
        "id": "9gWQUTqAM1QG",
        "outputId": "0bd886be-c048-4874-e227-69a7bf646684"
      },
      "execution_count": 13,
      "outputs": [
        {
          "output_type": "execute_result",
          "data": {
            "text/plain": [
              "True"
            ]
          },
          "metadata": {},
          "execution_count": 13
        }
      ]
    },
    {
      "cell_type": "code",
      "source": [
        "set_egg"
      ],
      "metadata": {
        "colab": {
          "base_uri": "https://localhost:8080/"
        },
        "id": "LXEWNnfpM3fq",
        "outputId": "11bcbb7a-9617-4fc6-c7cf-0767ba2b8258"
      },
      "execution_count": 14,
      "outputs": [
        {
          "output_type": "execute_result",
          "data": {
            "text/plain": [
              "{2, 3}"
            ]
          },
          "metadata": {},
          "execution_count": 14
        }
      ]
    },
    {
      "cell_type": "markdown",
      "source": [
        "這有什麼用呢? 其實有很多用處, 比如說我們想算一段文字中出現多少個不同的字。"
      ],
      "metadata": {
        "id": "GFWocDJXM6GT"
      }
    },
    {
      "cell_type": "code",
      "source": [
        "sentence = \"在政大不時會聽到阿鶇招牌聲音，就是很像腳踏車煞車「嘰—」的聲音。但最初都沒看到阿鶇的身影，所以我就有想「尋找台灣紫嘯鶇」的念頭。後來發現這實在是多餘的，因為阿鶇時不時會進到我們果夫樓、行政大樓等等逛大街。\""
      ],
      "metadata": {
        "id": "9WKxFBeVM4TS"
      },
      "execution_count": 15,
      "outputs": []
    },
    {
      "cell_type": "code",
      "source": [
        "len(sentence)"
      ],
      "metadata": {
        "colab": {
          "base_uri": "https://localhost:8080/"
        },
        "id": "SUavViwSNXH4",
        "outputId": "44d07948-5817-4234-92fb-2c94791e610c"
      },
      "execution_count": 16,
      "outputs": [
        {
          "output_type": "execute_result",
          "data": {
            "text/plain": [
              "102"
            ]
          },
          "metadata": {},
          "execution_count": 16
        }
      ]
    },
    {
      "cell_type": "code",
      "source": [
        "message = list(sentence)"
      ],
      "metadata": {
        "id": "jlcdTiS0NYlG"
      },
      "execution_count": 17,
      "outputs": []
    },
    {
      "cell_type": "markdown",
      "source": [
        "可以看一下 `message` 內容 (太長了先省略)。"
      ],
      "metadata": {
        "id": "V54Cz6KvcoBO"
      }
    },
    {
      "cell_type": "code",
      "source": [
        "#message"
      ],
      "metadata": {
        "id": "qfdojMXDNePK"
      },
      "execution_count": 18,
      "outputs": []
    },
    {
      "cell_type": "code",
      "source": [
        "len(set(message))"
      ],
      "metadata": {
        "colab": {
          "base_uri": "https://localhost:8080/"
        },
        "id": "Znt1vr4sNfAC",
        "outputId": "2b19ae68-40c2-4bfb-d38d-6b44d4a3a56e"
      },
      "execution_count": 19,
      "outputs": [
        {
          "output_type": "execute_result",
          "data": {
            "text/plain": [
              "70"
            ]
          },
          "metadata": {},
          "execution_count": 19
        }
      ]
    },
    {
      "cell_type": "markdown",
      "source": [
        "有 70 個不同的字, 不過這是把標點符號算進去的。怎麼樣可以不算到標點符號呢? 當然有很多種做法, 我們這裡用個「非正統」寫法!"
      ],
      "metadata": {
        "id": "qacrTEtMNwG1"
      }
    },
    {
      "cell_type": "code",
      "source": [
        "egg = list(set(message))"
      ],
      "metadata": {
        "id": "Xs1m_oDwNj-s"
      },
      "execution_count": 20,
      "outputs": []
    },
    {
      "cell_type": "code",
      "source": [
        "egg.sort()"
      ],
      "metadata": {
        "id": "86i2fROWc4wk"
      },
      "execution_count": 21,
      "outputs": []
    },
    {
      "cell_type": "markdown",
      "source": [
        "觀察一下， 可以發現前後有 6 個標點符號。"
      ],
      "metadata": {
        "id": "aHD7JsiQeRc4"
      }
    },
    {
      "cell_type": "code",
      "source": [
        "#egg"
      ],
      "metadata": {
        "id": "4T74KaiaeQd2"
      },
      "execution_count": 22,
      "outputs": []
    },
    {
      "cell_type": "code",
      "source": [
        "len(egg)-6"
      ],
      "metadata": {
        "colab": {
          "base_uri": "https://localhost:8080/"
        },
        "id": "flde-IKqc5ww",
        "outputId": "a5171c6e-5579-45c3-d87d-154d3179aec2"
      },
      "execution_count": 23,
      "outputs": [
        {
          "output_type": "execute_result",
          "data": {
            "text/plain": [
              "64"
            ]
          },
          "metadata": {},
          "execution_count": 23
        }
      ]
    },
    {
      "cell_type": "markdown",
      "source": [
        "注意變成集合之後, 是不能換的排序 (沒有順序), 所以也不能拿出第幾個元素。"
      ],
      "metadata": {
        "id": "1KJ2qlEAezHY"
      }
    },
    {
      "cell_type": "code",
      "source": [
        "set_egg = set(egg)"
      ],
      "metadata": {
        "id": "44xn9XxYeFtP"
      },
      "execution_count": 24,
      "outputs": []
    },
    {
      "cell_type": "code",
      "source": [
        "set_egg.sort()"
      ],
      "metadata": {
        "colab": {
          "base_uri": "https://localhost:8080/",
          "height": 172
        },
        "id": "cfq4BVoXfD6P",
        "outputId": "9657aa70-956f-4394-ddf5-6ebbec6e520b"
      },
      "execution_count": 25,
      "outputs": [
        {
          "output_type": "error",
          "ename": "AttributeError",
          "evalue": "ignored",
          "traceback": [
            "\u001b[0;31m---------------------------------------------------------------------------\u001b[0m",
            "\u001b[0;31mAttributeError\u001b[0m                            Traceback (most recent call last)",
            "\u001b[0;32m<ipython-input-25-406b00700332>\u001b[0m in \u001b[0;36m<module>\u001b[0;34m\u001b[0m\n\u001b[0;32m----> 1\u001b[0;31m \u001b[0mset_egg\u001b[0m\u001b[0;34m.\u001b[0m\u001b[0msort\u001b[0m\u001b[0;34m(\u001b[0m\u001b[0;34m)\u001b[0m\u001b[0;34m\u001b[0m\u001b[0;34m\u001b[0m\u001b[0m\n\u001b[0m",
            "\u001b[0;31mAttributeError\u001b[0m: 'set' object has no attribute 'sort'"
          ]
        }
      ]
    },
    {
      "cell_type": "code",
      "source": [
        "set_egg[0]"
      ],
      "metadata": {
        "colab": {
          "base_uri": "https://localhost:8080/",
          "height": 172
        },
        "id": "dg3EriNLfFcu",
        "outputId": "927e56ec-6c8c-4b05-988d-13a2162a3eb5"
      },
      "execution_count": 26,
      "outputs": [
        {
          "output_type": "error",
          "ename": "TypeError",
          "evalue": "ignored",
          "traceback": [
            "\u001b[0;31m---------------------------------------------------------------------------\u001b[0m",
            "\u001b[0;31mTypeError\u001b[0m                                 Traceback (most recent call last)",
            "\u001b[0;32m<ipython-input-26-8aea163f9764>\u001b[0m in \u001b[0;36m<module>\u001b[0;34m\u001b[0m\n\u001b[0;32m----> 1\u001b[0;31m \u001b[0mset_egg\u001b[0m\u001b[0;34m[\u001b[0m\u001b[0;36m0\u001b[0m\u001b[0;34m]\u001b[0m\u001b[0;34m\u001b[0m\u001b[0;34m\u001b[0m\u001b[0m\n\u001b[0m",
            "\u001b[0;31mTypeError\u001b[0m: 'set' object is not subscriptable"
          ]
        }
      ]
    },
    {
      "cell_type": "markdown",
      "source": [
        "但是一一拿出裡面的原素還是可以的!"
      ],
      "metadata": {
        "id": "9gGEWZuLfH9h"
      }
    },
    {
      "cell_type": "code",
      "source": [
        "for c in set_egg:\n",
        "    print(c, end='*')"
      ],
      "metadata": {
        "colab": {
          "base_uri": "https://localhost:8080/"
        },
        "id": "PRpZrYaMfHFq",
        "outputId": "13f0048b-5143-40a4-8257-2eeef37571f4"
      },
      "execution_count": 27,
      "outputs": [
        {
          "output_type": "stream",
          "name": "stdout",
          "text": [
            "尋*因*聲*為*逛*初*頭*到*聽*鶇*有*」*時*都*牌*找*、*嘰*「*像*大*所*影*灣*夫*街*的*在*來*音*招*台*不*念*車*這*等*身*很*。*就*實*嘯*我*發*政*煞*們*阿*沒*餘*想*但*是*多*紫*最*會*腳*後*樓*，*—*行*以*進*踏*果*現*看*"
          ]
        }
      ]
    },
    {
      "cell_type": "markdown",
      "source": [
        "### 3. 集合的運算"
      ],
      "metadata": {
        "id": "jlws9qDOgbM-"
      }
    },
    {
      "cell_type": "markdown",
      "source": [
        "某天還在宿舍的時候, 有颱風要來, 你和室友開始要準備一些東西, 你們分別列了需要物品的清單。假設你列的是這樣。"
      ],
      "metadata": {
        "id": "rh0_cuF7id0f"
      }
    },
    {
      "cell_type": "code",
      "source": [
        "X = {\"泡麵\", \"手電筒\", \"水\", \"零食\"}"
      ],
      "metadata": {
        "id": "jElhesX7fXLy"
      },
      "execution_count": 28,
      "outputs": []
    },
    {
      "cell_type": "markdown",
      "source": [
        "你的室友列的是這樣。"
      ],
      "metadata": {
        "id": "5PucP6bMjEh5"
      }
    },
    {
      "cell_type": "code",
      "source": [
        "Y = {\"麵包\", \"零食\", \"咖啡濾泡包\"}"
      ],
      "metadata": {
        "id": "O4e0A-GSjHmb"
      },
      "execution_count": 29,
      "outputs": []
    },
    {
      "cell_type": "markdown",
      "source": [
        "我們可以看看有沒有人是想到對方想的全部。"
      ],
      "metadata": {
        "id": "Ynbn93I_j-NF"
      }
    },
    {
      "cell_type": "code",
      "source": [
        "X.issubset(Y)"
      ],
      "metadata": {
        "colab": {
          "base_uri": "https://localhost:8080/"
        },
        "id": "Y4eibEd9jlIa",
        "outputId": "157db88e-c18e-402f-f21a-ad83eb0a8ebf"
      },
      "execution_count": 30,
      "outputs": [
        {
          "output_type": "execute_result",
          "data": {
            "text/plain": [
              "False"
            ]
          },
          "metadata": {},
          "execution_count": 30
        }
      ]
    },
    {
      "cell_type": "code",
      "source": [
        "Y.issubset(X)"
      ],
      "metadata": {
        "colab": {
          "base_uri": "https://localhost:8080/"
        },
        "id": "fS18EgK9hFDo",
        "outputId": "c2146e0a-f1fe-4e95-e2b4-b56ddf622b9b"
      },
      "execution_count": 31,
      "outputs": [
        {
          "output_type": "execute_result",
          "data": {
            "text/plain": [
              "False"
            ]
          },
          "metadata": {},
          "execution_count": 31
        }
      ]
    },
    {
      "cell_type": "markdown",
      "source": [
        "這也不錯, 沒人想到對方的完整版。我們可以用聯集做出完成清單。"
      ],
      "metadata": {
        "id": "es4mEStFkkcD"
      }
    },
    {
      "cell_type": "code",
      "source": [
        "Z = X.union(Y)"
      ],
      "metadata": {
        "id": "lwQ8HaHfhILc"
      },
      "execution_count": 32,
      "outputs": []
    },
    {
      "cell_type": "code",
      "source": [
        "Z"
      ],
      "metadata": {
        "colab": {
          "base_uri": "https://localhost:8080/"
        },
        "id": "L0Oll78ghJ9T",
        "outputId": "87a39978-4ff2-4e2d-d095-c938d3931af7"
      },
      "execution_count": 33,
      "outputs": [
        {
          "output_type": "execute_result",
          "data": {
            "text/plain": [
              "{'咖啡濾泡包', '手電筒', '水', '泡麵', '零食', '麵包'}"
            ]
          },
          "metadata": {},
          "execution_count": 33
        }
      ]
    },
    {
      "cell_type": "markdown",
      "source": [
        "檢查一下某件物品有沒有在清單之中。"
      ],
      "metadata": {
        "id": "NyU3uGBxkw_7"
      }
    },
    {
      "cell_type": "code",
      "source": [
        "\"泡麵\" in Z"
      ],
      "metadata": {
        "colab": {
          "base_uri": "https://localhost:8080/"
        },
        "id": "zcsKJKbTkv9X",
        "outputId": "a3ab819e-a708-411c-847d-4a54742631ce"
      },
      "execution_count": 34,
      "outputs": [
        {
          "output_type": "execute_result",
          "data": {
            "text/plain": [
              "True"
            ]
          },
          "metadata": {},
          "execution_count": 34
        }
      ]
    },
    {
      "cell_type": "code",
      "source": [
        "\"洋芉片\" in Z"
      ],
      "metadata": {
        "colab": {
          "base_uri": "https://localhost:8080/"
        },
        "id": "jGH-T5N5k4SA",
        "outputId": "fb193277-6270-4d3e-eefa-7087d7a0e4b1"
      },
      "execution_count": 35,
      "outputs": [
        {
          "output_type": "execute_result",
          "data": {
            "text/plain": [
              "False"
            ]
          },
          "metadata": {},
          "execution_count": 35
        }
      ]
    },
    {
      "cell_type": "markdown",
      "source": [
        "當然也可以看交集。"
      ],
      "metadata": {
        "id": "hoGGIO-elDkO"
      }
    },
    {
      "cell_type": "code",
      "source": [
        "X.intersection(Y)"
      ],
      "metadata": {
        "colab": {
          "base_uri": "https://localhost:8080/"
        },
        "id": "aSODkZIulFdW",
        "outputId": "11bc4df9-6b5b-44e1-a5cb-b077f665a375"
      },
      "execution_count": 36,
      "outputs": [
        {
          "output_type": "execute_result",
          "data": {
            "text/plain": [
              "{'零食'}"
            ]
          },
          "metadata": {},
          "execution_count": 36
        }
      ]
    },
    {
      "cell_type": "markdown",
      "source": [
        "還有個很有趣的 \"差集\" 運算, 可以看出一個人想到, 另一個人沒想到的。"
      ],
      "metadata": {
        "id": "HdH_GZpYlYPi"
      }
    },
    {
      "cell_type": "code",
      "source": [
        "X - Y"
      ],
      "metadata": {
        "colab": {
          "base_uri": "https://localhost:8080/"
        },
        "id": "ybRYX6cIlnZ3",
        "outputId": "c2b55318-4f20-4eec-d774-f62378aa5368"
      },
      "execution_count": 37,
      "outputs": [
        {
          "output_type": "execute_result",
          "data": {
            "text/plain": [
              "{'手電筒', '水', '泡麵'}"
            ]
          },
          "metadata": {},
          "execution_count": 37
        }
      ]
    },
    {
      "cell_type": "code",
      "source": [
        "Y - X"
      ],
      "metadata": {
        "colab": {
          "base_uri": "https://localhost:8080/"
        },
        "id": "TMDPrM83lpW_",
        "outputId": "5d4f758e-ecd9-4a83-ebd3-7c659ca8ca8a"
      },
      "execution_count": 38,
      "outputs": [
        {
          "output_type": "execute_result",
          "data": {
            "text/plain": [
              "{'咖啡濾泡包', '麵包'}"
            ]
          },
          "metadata": {},
          "execution_count": 38
        }
      ]
    },
    {
      "cell_type": "markdown",
      "source": [
        "或者最後清單中你遺漏的。"
      ],
      "metadata": {
        "id": "IRuU_Tgclr3c"
      }
    },
    {
      "cell_type": "code",
      "source": [
        "Z - X"
      ],
      "metadata": {
        "colab": {
          "base_uri": "https://localhost:8080/"
        },
        "id": "uLefhDcrlvbf",
        "outputId": "be691404-c907-4e26-f567-0adf5c0cc51a"
      },
      "execution_count": 39,
      "outputs": [
        {
          "output_type": "execute_result",
          "data": {
            "text/plain": [
              "{'咖啡濾泡包', '麵包'}"
            ]
          },
          "metadata": {},
          "execution_count": 39
        }
      ]
    },
    {
      "cell_type": "markdown",
      "source": [
        "### 4. 凱薩密碼"
      ],
      "metadata": {
        "id": "x59uHhWJl3si"
      }
    },
    {
      "cell_type": "markdown",
      "source": [
        "復習一下我們的 list comprehension"
      ],
      "metadata": {
        "id": "gDDJhtyZtSqh"
      }
    },
    {
      "cell_type": "code",
      "source": [
        "O = {2*n+1 for n in range(5)}"
      ],
      "metadata": {
        "id": "EX0ePvr8lqTH"
      },
      "execution_count": 40,
      "outputs": []
    },
    {
      "cell_type": "code",
      "source": [
        "O"
      ],
      "metadata": {
        "colab": {
          "base_uri": "https://localhost:8080/"
        },
        "id": "4XcvxiudlXyg",
        "outputId": "0c1d8959-49df-4900-92bc-6a2dd799be2a"
      },
      "execution_count": 41,
      "outputs": [
        {
          "output_type": "execute_result",
          "data": {
            "text/plain": [
              "{1, 3, 5, 7, 9}"
            ]
          },
          "metadata": {},
          "execution_count": 41
        }
      ]
    },
    {
      "cell_type": "markdown",
      "source": [
        "如果要強調順序, 可以用 `list` 確保是我們要的順序。"
      ],
      "metadata": {
        "id": "vDavCpAUtfcn"
      }
    },
    {
      "cell_type": "code",
      "source": [
        "O = [2*n+1 for n in range(5)]"
      ],
      "metadata": {
        "id": "_GsSqWG6lOTD"
      },
      "execution_count": 42,
      "outputs": []
    },
    {
      "cell_type": "code",
      "source": [
        "O"
      ],
      "metadata": {
        "colab": {
          "base_uri": "https://localhost:8080/"
        },
        "id": "pDyRX9zEtt9v",
        "outputId": "06fb4ad6-7c77-4ce3-a0be-f519b29df059"
      },
      "execution_count": 43,
      "outputs": [
        {
          "output_type": "execute_result",
          "data": {
            "text/plain": [
              "[1, 3, 5, 7, 9]"
            ]
          },
          "metadata": {},
          "execution_count": 43
        }
      ]
    },
    {
      "cell_type": "markdown",
      "source": [
        "這的確是個無聊的例子, 這裡來說點有趣的, 就是實作「凱薩密碼」。凱薩密碼加密的方式很簡單, 首先我們 先給每個英文字母一個數字, 例如 A 是 0, B 是 1, 等等的。換成密碼就是加上一個定數, 比如 說3。於是A加密會變成D,B變成E等等,就這麼簡單!\n",
        "\n",
        "英文字母怎麼換成數字 (或數字換成英文字母) 有很多種作法, 記得以前用過 Python 內建的方式 來做。"
      ],
      "metadata": {
        "id": "8Tj4imwxtxn9"
      }
    },
    {
      "cell_type": "code",
      "source": [
        "ord('A')"
      ],
      "metadata": {
        "id": "TFe_E2AQtugC",
        "colab": {
          "base_uri": "https://localhost:8080/"
        },
        "outputId": "7989b1da-c3e9-49b3-b293-0e894b33527b"
      },
      "execution_count": 44,
      "outputs": [
        {
          "output_type": "execute_result",
          "data": {
            "text/plain": [
              "65"
            ]
          },
          "metadata": {},
          "execution_count": 44
        }
      ]
    },
    {
      "cell_type": "markdown",
      "source": [
        "把數字再變成文字。"
      ],
      "metadata": {
        "id": "gf4rsqjWtwJJ"
      }
    },
    {
      "cell_type": "code",
      "source": [
        "chr(65)"
      ],
      "metadata": {
        "colab": {
          "base_uri": "https://localhost:8080/",
          "height": 35
        },
        "id": "ngoSKntlMqIP",
        "outputId": "f7e3c441-798b-444e-a26a-8d73e0157a8a"
      },
      "execution_count": 45,
      "outputs": [
        {
          "output_type": "execute_result",
          "data": {
            "text/plain": [
              "'A'"
            ],
            "application/vnd.google.colaboratory.intrinsic+json": {
              "type": "string"
            }
          },
          "metadata": {},
          "execution_count": 45
        }
      ]
    },
    {
      "cell_type": "markdown",
      "source": [
        "我們發現 A 的 (ASCII) 編碼是 65, 要變成 0 當然就減 65 就好。於是我們可以試著加密一個字。"
      ],
      "metadata": {
        "id": "Ctb-5pwwMxde"
      }
    },
    {
      "cell_type": "code",
      "source": [
        "plain = \"APPLE\""
      ],
      "metadata": {
        "id": "9280ENLNMr4Q"
      },
      "execution_count": 46,
      "outputs": []
    },
    {
      "cell_type": "markdown",
      "source": [
        "創造一個串列, 內容是 \"A\", \"P\", \"P\", \"L\", \"E\" 代表的數字。"
      ],
      "metadata": {
        "id": "eiRGtdwWblwF"
      }
    },
    {
      "cell_type": "code",
      "source": [
        "[ord(c)-65 for c in plain]"
      ],
      "metadata": {
        "colab": {
          "base_uri": "https://localhost:8080/"
        },
        "id": "rKdMWf6vbk9w",
        "outputId": "4b309dfb-eff4-4b5f-a3fb-c56a60fd312b"
      },
      "execution_count": 47,
      "outputs": [
        {
          "output_type": "execute_result",
          "data": {
            "text/plain": [
              "[0, 15, 15, 11, 4]"
            ]
          },
          "metadata": {},
          "execution_count": 47
        }
      ]
    },
    {
      "cell_type": "markdown",
      "source": [
        "這時我們把一個數字加上固定的數, 比如說 3, 就代表凱薩密碼的數字。"
      ],
      "metadata": {
        "id": "_lmPSVxrjB1M"
      }
    },
    {
      "cell_type": "code",
      "source": [
        "[ord(c)-65+3 for c in plain]"
      ],
      "metadata": {
        "colab": {
          "base_uri": "https://localhost:8080/"
        },
        "id": "QLeJ4NUabekV",
        "outputId": "ec03919d-407c-4e0d-9d3c-d43c3ee16aff"
      },
      "execution_count": 48,
      "outputs": [
        {
          "output_type": "execute_result",
          "data": {
            "text/plain": [
              "[3, 18, 18, 14, 7]"
            ]
          },
          "metadata": {},
          "execution_count": 48
        }
      ]
    },
    {
      "cell_type": "markdown",
      "source": [
        "你一定會想到, \"Z\" 是 25 (第 26 個數字), 再加 3 就爆了 (28)。因此, 算到 26 要再從 0 開始, 比如 \"Z\" 是 2"
      ],
      "metadata": {
        "id": "R5b3X8rVjc55"
      }
    },
    {
      "cell_type": "code",
      "source": [
        "[(ord(c)-65+3)%26 for c in plain]"
      ],
      "metadata": {
        "colab": {
          "base_uri": "https://localhost:8080/"
        },
        "id": "MhzsUadijWyE",
        "outputId": "8427fb9e-f719-492a-84b9-86bc186c4cec"
      },
      "execution_count": 49,
      "outputs": [
        {
          "output_type": "execute_result",
          "data": {
            "text/plain": [
              "[3, 18, 18, 14, 7]"
            ]
          },
          "metadata": {},
          "execution_count": 49
        }
      ]
    },
    {
      "cell_type": "markdown",
      "source": [
        "來個有 \"Z\" 的字。"
      ],
      "metadata": {
        "id": "szp3slRFkFnU"
      }
    },
    {
      "cell_type": "code",
      "source": [
        "[(ord(c)-65+3)%26 for c in \"ZOO\"]"
      ],
      "metadata": {
        "colab": {
          "base_uri": "https://localhost:8080/"
        },
        "id": "NGDj0lIljrWk",
        "outputId": "3a82b215-0864-4930-e82a-d7351a4ada80"
      },
      "execution_count": 50,
      "outputs": [
        {
          "output_type": "execute_result",
          "data": {
            "text/plain": [
              "[2, 17, 17]"
            ]
          },
          "metadata": {},
          "execution_count": 50
        }
      ]
    },
    {
      "cell_type": "markdown",
      "source": [
        "最後加上 65, 就是 ASCII 碼。"
      ],
      "metadata": {
        "id": "e1gy7715kR9b"
      }
    },
    {
      "cell_type": "code",
      "source": [
        "[(ord(c)-65+3)%26 + 65 for c in plain]"
      ],
      "metadata": {
        "colab": {
          "base_uri": "https://localhost:8080/"
        },
        "id": "Cu2DfP0PkN0_",
        "outputId": "41b3ea9b-0aa6-4108-9cb2-3ad90e0dd461"
      },
      "execution_count": 51,
      "outputs": [
        {
          "output_type": "execute_result",
          "data": {
            "text/plain": [
              "[68, 83, 83, 79, 72]"
            ]
          },
          "metadata": {},
          "execution_count": 51
        }
      ]
    },
    {
      "cell_type": "markdown",
      "source": [
        "於是我們就可以顯示出這個字"
      ],
      "metadata": {
        "id": "Sf23oRJakb4l"
      }
    },
    {
      "cell_type": "code",
      "source": [
        "egg = [chr((ord(c)-65+3)%26+65) for c in plain]"
      ],
      "metadata": {
        "id": "-EmMHi6vkZuT"
      },
      "execution_count": 52,
      "outputs": []
    },
    {
      "cell_type": "code",
      "source": [
        "egg"
      ],
      "metadata": {
        "colab": {
          "base_uri": "https://localhost:8080/"
        },
        "id": "KAvQfH3Vkr6b",
        "outputId": "58932d33-c482-4d6d-d47a-0724802ae9e9"
      },
      "execution_count": 53,
      "outputs": [
        {
          "output_type": "execute_result",
          "data": {
            "text/plain": [
              "['D', 'S', 'S', 'O', 'H']"
            ]
          },
          "metadata": {},
          "execution_count": 53
        }
      ]
    },
    {
      "cell_type": "markdown",
      "source": [
        "串起來!"
      ],
      "metadata": {
        "id": "XRfXDeJUkwJa"
      }
    },
    {
      "cell_type": "code",
      "source": [
        "cipher = \"\".join(egg)"
      ],
      "metadata": {
        "id": "X-2lgH2CkurM"
      },
      "execution_count": 54,
      "outputs": []
    },
    {
      "cell_type": "code",
      "source": [
        "cipher"
      ],
      "metadata": {
        "colab": {
          "base_uri": "https://localhost:8080/",
          "height": 35
        },
        "id": "K8KFkJUvk0h1",
        "outputId": "e4a5d533-1123-4577-c74a-cf29dbceb852"
      },
      "execution_count": 55,
      "outputs": [
        {
          "output_type": "execute_result",
          "data": {
            "text/plain": [
              "'DSSOH'"
            ],
            "application/vnd.google.colaboratory.intrinsic+json": {
              "type": "string"
            }
          },
          "metadata": {},
          "execution_count": 55
        }
      ]
    },
    {
      "cell_type": "markdown",
      "source": [
        "### 5. 冰雹數列\n",
        "\n",
        "前一項數字為 $n$, 下一項為:\n",
        "\n",
        "$$\\begin{cases} \n",
        "\\dfrac{n}{2} & \\mbox{當 $n$ 是偶數}\\\\\n",
        "3 n + 1 & \\mbox{當 $n$ 是奇數}\n",
        "\\end{cases}$$"
      ],
      "metadata": {
        "id": "7PbRdCF7lk59"
      }
    },
    {
      "cell_type": "code",
      "source": [
        "n = 3\n",
        "\n",
        "hail = [n]\n",
        "\n",
        "while n != 1:\n",
        "    if n%2:\n",
        "        n = 3*n+1\n",
        "        hail.append(n)\n",
        "    else:\n",
        "        n = int(n/2)\n",
        "        hail.append(n)"
      ],
      "metadata": {
        "id": "ks-hPiElk1L6"
      },
      "execution_count": 56,
      "outputs": []
    },
    {
      "cell_type": "code",
      "source": [
        "def hail_seq(n):\n",
        "    hail = [n]\n",
        "\n",
        "    while n != 1:\n",
        "        if n%2:\n",
        "            n = 3*n+1\n",
        "            hail.append(n)\n",
        "        else:\n",
        "            n = int(n/2)\n",
        "            hail.append(n)\n",
        "\n",
        "    return hail"
      ],
      "metadata": {
        "id": "SHvMnuD2nz8U"
      },
      "execution_count": 57,
      "outputs": []
    },
    {
      "cell_type": "code",
      "source": [
        "hail_seq(5)"
      ],
      "metadata": {
        "colab": {
          "base_uri": "https://localhost:8080/"
        },
        "id": "Yp3EvFUln3-z",
        "outputId": "d3225b17-33fe-461c-948b-02832f8171d9"
      },
      "execution_count": 59,
      "outputs": [
        {
          "output_type": "execute_result",
          "data": {
            "text/plain": [
              "[5, 16, 8, 4, 2, 1]"
            ]
          },
          "metadata": {},
          "execution_count": 59
        }
      ]
    },
    {
      "cell_type": "code",
      "source": [
        "plt.plot(hail_seq(27))"
      ],
      "metadata": {
        "colab": {
          "base_uri": "https://localhost:8080/",
          "height": 283
        },
        "id": "N1JSsBHVomCC",
        "outputId": "2e11680c-045f-4a7c-faf8-a90cca909c75"
      },
      "execution_count": 60,
      "outputs": [
        {
          "output_type": "execute_result",
          "data": {
            "text/plain": [
              "[<matplotlib.lines.Line2D at 0x7f463f3283a0>]"
            ]
          },
          "metadata": {},
          "execution_count": 60
        },
        {
          "output_type": "display_data",
          "data": {
            "text/plain": [
              "<Figure size 432x288 with 1 Axes>"
            ],
            "image/png": "[encoded data removed]"
          },
          "metadata": {
            "needs_background": "light"
          }
        }
      ]
    },
    {
      "cell_type": "markdown",
      "source": [
        "集合也可以增增減減嗎? 答案是肯定的。"
      ],
      "metadata": {
        "id": "zlijfNFzpfvY"
      }
    },
    {
      "cell_type": "code",
      "source": [
        "egg = {1, 2, 3, 4}"
      ],
      "metadata": {
        "id": "MYqitW2LpfC_"
      },
      "execution_count": 61,
      "outputs": []
    },
    {
      "cell_type": "code",
      "source": [
        "egg.add(94)"
      ],
      "metadata": {
        "id": "F1UFx-T4po_T"
      },
      "execution_count": 62,
      "outputs": []
    },
    {
      "cell_type": "code",
      "source": [
        "egg.add(87)"
      ],
      "metadata": {
        "id": "kfLv2C0jtEZA"
      },
      "execution_count": 63,
      "outputs": []
    },
    {
      "cell_type": "code",
      "source": [
        "egg"
      ],
      "metadata": {
        "colab": {
          "base_uri": "https://localhost:8080/"
        },
        "id": "xwhhWEE2tM0l",
        "outputId": "f31be36e-403e-4ab1-b50a-d03a9248436d"
      },
      "execution_count": 64,
      "outputs": [
        {
          "output_type": "execute_result",
          "data": {
            "text/plain": [
              "{1, 2, 3, 4, 87, 94}"
            ]
          },
          "metadata": {},
          "execution_count": 64
        }
      ]
    },
    {
      "cell_type": "code",
      "source": [
        "egg.remove(4)"
      ],
      "metadata": {
        "id": "OuGiKDs6tNKa"
      },
      "execution_count": 65,
      "outputs": []
    },
    {
      "cell_type": "code",
      "source": [
        "egg"
      ],
      "metadata": {
        "colab": {
          "base_uri": "https://localhost:8080/"
        },
        "id": "Cb2_noVptQq6",
        "outputId": "a940853b-4861-4311-fadf-b5de893b8773"
      },
      "execution_count": 66,
      "outputs": [
        {
          "output_type": "execute_result",
          "data": {
            "text/plain": [
              "{1, 2, 3, 87, 94}"
            ]
          },
          "metadata": {},
          "execution_count": 66
        }
      ]
    },
    {
      "cell_type": "markdown",
      "source": [
        "### 6. 笛卡兒乘積\n",
        "\n",
        "我們來做出所有樸克牌!"
      ],
      "metadata": {
        "id": "XiI9-TFDo1wQ"
      }
    },
    {
      "cell_type": "code",
      "source": [
        "suits = list(\"♣♦♥♠\")\n",
        "ranks = list(\"A23456789TJQK\")"
      ],
      "metadata": {
        "id": "jDUZwBTFop7y"
      },
      "execution_count": 67,
      "outputs": []
    },
    {
      "cell_type": "code",
      "source": [
        "suits"
      ],
      "metadata": {
        "colab": {
          "base_uri": "https://localhost:8080/"
        },
        "id": "ZbwTzQbz0fWN",
        "outputId": "d140ed5f-5b24-440d-f015-0a3e246df69e"
      },
      "execution_count": 68,
      "outputs": [
        {
          "output_type": "execute_result",
          "data": {
            "text/plain": [
              "['♣', '♦', '♥', '♠']"
            ]
          },
          "metadata": {},
          "execution_count": 68
        }
      ]
    },
    {
      "cell_type": "code",
      "source": [
        "ranks[9]=\"10\""
      ],
      "metadata": {
        "id": "w-YQ01NN0V1g"
      },
      "execution_count": 69,
      "outputs": []
    },
    {
      "cell_type": "code",
      "source": [
        "ranks"
      ],
      "metadata": {
        "colab": {
          "base_uri": "https://localhost:8080/"
        },
        "id": "eynBM7nL0YVh",
        "outputId": "9443f921-8fc3-4510-80c5-3771c3dbf7f4"
      },
      "execution_count": 70,
      "outputs": [
        {
          "output_type": "execute_result",
          "data": {
            "text/plain": [
              "['A', '2', '3', '4', '5', '6', '7', '8', '9', '10', 'J', 'Q', 'K']"
            ]
          },
          "metadata": {},
          "execution_count": 70
        }
      ]
    },
    {
      "cell_type": "code",
      "source": [
        "deck = [(s,r) for s in suits for r in ranks]"
      ],
      "metadata": {
        "id": "3El9FP440dYa"
      },
      "execution_count": 71,
      "outputs": []
    },
    {
      "cell_type": "code",
      "source": [
        "deck"
      ],
      "metadata": {
        "colab": {
          "base_uri": "https://localhost:8080/"
        },
        "id": "1Kb5LY570lse",
        "outputId": "10d5160b-194a-4f99-80fe-d1579d328e35"
      },
      "execution_count": 72,
      "outputs": [
        {
          "output_type": "execute_result",
          "data": {
            "text/plain": [
              "[('♣', 'A'),\n",
              " ('♣', '2'),\n",
              " ('♣', '3'),\n",
              " ('♣', '4'),\n",
              " ('♣', '5'),\n",
              " ('♣', '6'),\n",
              " ('♣', '7'),\n",
              " ('♣', '8'),\n",
              " ('♣', '9'),\n",
              " ('♣', '10'),\n",
              " ('♣', 'J'),\n",
              " ('♣', 'Q'),\n",
              " ('♣', 'K'),\n",
              " ('♦', 'A'),\n",
              " ('♦', '2'),\n",
              " ('♦', '3'),\n",
              " ('♦', '4'),\n",
              " ('♦', '5'),\n",
              " ('♦', '6'),\n",
              " ('♦', '7'),\n",
              " ('♦', '8'),\n",
              " ('♦', '9'),\n",
              " ('♦', '10'),\n",
              " ('♦', 'J'),\n",
              " ('♦', 'Q'),\n",
              " ('♦', 'K'),\n",
              " ('♥', 'A'),\n",
              " ('♥', '2'),\n",
              " ('♥', '3'),\n",
              " ('♥', '4'),\n",
              " ('♥', '5'),\n",
              " ('♥', '6'),\n",
              " ('♥', '7'),\n",
              " ('♥', '8'),\n",
              " ('♥', '9'),\n",
              " ('♥', '10'),\n",
              " ('♥', 'J'),\n",
              " ('♥', 'Q'),\n",
              " ('♥', 'K'),\n",
              " ('♠', 'A'),\n",
              " ('♠', '2'),\n",
              " ('♠', '3'),\n",
              " ('♠', '4'),\n",
              " ('♠', '5'),\n",
              " ('♠', '6'),\n",
              " ('♠', '7'),\n",
              " ('♠', '8'),\n",
              " ('♠', '9'),\n",
              " ('♠', '10'),\n",
              " ('♠', 'J'),\n",
              " ('♠', 'Q'),\n",
              " ('♠', 'K')]"
            ]
          },
          "metadata": {},
          "execution_count": 72
        }
      ]
    },
    {
      "cell_type": "code",
      "source": [
        "len(deck)"
      ],
      "metadata": {
        "colab": {
          "base_uri": "https://localhost:8080/"
        },
        "id": "8_7TqzZR0mKz",
        "outputId": "54be7e33-1340-4ddd-ec38-1c6379e8368e"
      },
      "execution_count": 73,
      "outputs": [
        {
          "output_type": "execute_result",
          "data": {
            "text/plain": [
              "52"
            ]
          },
          "metadata": {},
          "execution_count": 73
        }
      ]
    },
    {
      "cell_type": "markdown",
      "source": [
        "### 7. 拍拍機器人的三種做法"
      ],
      "metadata": {
        "id": "Y2Kftp3F0wM6"
      }
    },
    {
      "cell_type": "code",
      "source": [
        "def chat(message):\n",
        "    response = \"拍拍!\"\n",
        "    print(\">>\" + message)\n",
        "    print(response) "
      ],
      "metadata": {
        "id": "k_zZGyis0toI"
      },
      "execution_count": 74,
      "outputs": []
    },
    {
      "cell_type": "code",
      "source": [
        "message = input()\n",
        "\n",
        "chat(message)"
      ],
      "metadata": {
        "colab": {
          "base_uri": "https://localhost:8080/"
        },
        "id": "hXnBEzms1B5_",
        "outputId": "4f74fddd-e84e-418e-c9f9-7d6919140ff4"
      },
      "execution_count": 75,
      "outputs": [
        {
          "output_type": "stream",
          "name": "stdout",
          "text": [
            "我很難過。\n",
            ">>我很難過。\n",
            "拍拍!\n"
          ]
        }
      ]
    },
    {
      "cell_type": "markdown",
      "source": [
        "我們互動試試看。"
      ],
      "metadata": {
        "id": "Chrw3ZY117JO"
      }
    },
    {
      "cell_type": "code",
      "source": [
        "from ipywidgets import interact_manual"
      ],
      "metadata": {
        "id": "rofj7KQK1NyE"
      },
      "execution_count": 76,
      "outputs": []
    },
    {
      "cell_type": "code",
      "source": [
        "interact_manual(chat, message=\"你想說什麼呢?\");"
      ],
      "metadata": {
        "colab": {
          "base_uri": "https://localhost:8080/",
          "height": 117,
          "referenced_widgets": [
            "684fe9c3522d4abc8904c5cc75606155",
            "d113f86196664ef1b560098105da7a29",
            "6bde7292b65b42ea8e0c253e030c1f66",
            "637e5cac71e34af288e58c29a602ae76",
            "9af1d348c7b34fbea9ff6e1ad18c61b1",
            "7b641f11e0944e27b850de1ec872e307",
            "0b7c05095aee415fb83fa28617150eab",
            "b3dd2f919ba8456bb0de192aa35f290e",
            "f78d11afc89c407cbfd9628950dd7f13",
            "7ffb4e2b82e34957a4b8220ae2c11eb3"
          ]
        },
        "id": "MO97tZpd1rHd",
        "outputId": "3b5567e2-3b32-4d57-a088-a764dba52668"
      },
      "execution_count": 77,
      "outputs": [
        {
          "output_type": "display_data",
          "data": {
            "text/plain": [
              "interactive(children=(Text(value='你想說什麼呢?', description='message'), Button(description='Run Interact', style=B…"
            ],
            "application/vnd.jupyter.widget-view+json": {
              "version_major": 2,
              "version_minor": 0,
              "model_id": "684fe9c3522d4abc8904c5cc75606155"
            }
          },
          "metadata": {}
        }
      ]
    },
    {
      "cell_type": "markdown",
      "source": [
        "這樣子只顯示一句話怪怪的... 我們來用三種方式來做一直聊下去的拍拍機器人。\n",
        "\n",
        "#### (1) 用 global 變數\n",
        "\n",
        "一般函式外的變數裡面是看不到的.."
      ],
      "metadata": {
        "id": "tZyu59gx2g91"
      }
    },
    {
      "cell_type": "code",
      "source": [
        "def add_one():\n",
        "    k = k + 1"
      ],
      "metadata": {
        "id": "nk319Rjn1v1t"
      },
      "execution_count": 78,
      "outputs": []
    },
    {
      "cell_type": "code",
      "source": [
        "k = 87\n",
        "\n",
        "add_one()"
      ],
      "metadata": {
        "colab": {
          "base_uri": "https://localhost:8080/",
          "height": 278
        },
        "id": "LJ1qEq494BAw",
        "outputId": "9467a293-3abd-48e6-8b46-50f3ee37633e"
      },
      "execution_count": 79,
      "outputs": [
        {
          "output_type": "error",
          "ename": "UnboundLocalError",
          "evalue": "ignored",
          "traceback": [
            "\u001b[0;31m---------------------------------------------------------------------------\u001b[0m",
            "\u001b[0;31mUnboundLocalError\u001b[0m                         Traceback (most recent call last)",
            "\u001b[0;32m<ipython-input-79-5478fc4157db>\u001b[0m in \u001b[0;36m<module>\u001b[0;34m\u001b[0m\n\u001b[1;32m      1\u001b[0m \u001b[0mk\u001b[0m \u001b[0;34m=\u001b[0m \u001b[0;36m87\u001b[0m\u001b[0;34m\u001b[0m\u001b[0;34m\u001b[0m\u001b[0m\n\u001b[1;32m      2\u001b[0m \u001b[0;34m\u001b[0m\u001b[0m\n\u001b[0;32m----> 3\u001b[0;31m \u001b[0madd_one\u001b[0m\u001b[0;34m(\u001b[0m\u001b[0;34m)\u001b[0m\u001b[0;34m\u001b[0m\u001b[0;34m\u001b[0m\u001b[0m\n\u001b[0m",
            "\u001b[0;32m<ipython-input-78-301c543da4ae>\u001b[0m in \u001b[0;36madd_one\u001b[0;34m()\u001b[0m\n\u001b[1;32m      1\u001b[0m \u001b[0;32mdef\u001b[0m \u001b[0madd_one\u001b[0m\u001b[0;34m(\u001b[0m\u001b[0;34m)\u001b[0m\u001b[0;34m:\u001b[0m\u001b[0;34m\u001b[0m\u001b[0;34m\u001b[0m\u001b[0m\n\u001b[0;32m----> 2\u001b[0;31m     \u001b[0mk\u001b[0m \u001b[0;34m=\u001b[0m \u001b[0mk\u001b[0m \u001b[0;34m+\u001b[0m \u001b[0;36m1\u001b[0m\u001b[0;34m\u001b[0m\u001b[0;34m\u001b[0m\u001b[0m\n\u001b[0m",
            "\u001b[0;31mUnboundLocalError\u001b[0m: local variable 'k' referenced before assignment"
          ]
        }
      ]
    },
    {
      "cell_type": "code",
      "source": [
        "def add_one():\n",
        "    global k\n",
        "    k = k + 1"
      ],
      "metadata": {
        "id": "FGm21UFh4EN3"
      },
      "execution_count": 80,
      "outputs": []
    },
    {
      "cell_type": "code",
      "source": [
        "k"
      ],
      "metadata": {
        "colab": {
          "base_uri": "https://localhost:8080/"
        },
        "id": "0XednwKN4Q9h",
        "outputId": "4802ddbb-2229-4cd1-dbf8-f241e8b2340f"
      },
      "execution_count": 81,
      "outputs": [
        {
          "output_type": "execute_result",
          "data": {
            "text/plain": [
              "87"
            ]
          },
          "metadata": {},
          "execution_count": 81
        }
      ]
    },
    {
      "cell_type": "code",
      "source": [
        "add_one()"
      ],
      "metadata": {
        "id": "0xBs9DUp4RXP"
      },
      "execution_count": 82,
      "outputs": []
    },
    {
      "cell_type": "code",
      "source": [
        "k"
      ],
      "metadata": {
        "colab": {
          "base_uri": "https://localhost:8080/"
        },
        "id": "EQLuet5l4Sak",
        "outputId": "9e844a50-ba21-46b3-d167-62c6222220d5"
      },
      "execution_count": 83,
      "outputs": [
        {
          "output_type": "execute_result",
          "data": {
            "text/plain": [
              "88"
            ]
          },
          "metadata": {},
          "execution_count": 83
        }
      ]
    },
    {
      "cell_type": "markdown",
      "source": [
        "有記憶的拍拍機器人!"
      ],
      "metadata": {
        "id": "Ctcr-5sf4Yz2"
      }
    },
    {
      "cell_type": "code",
      "source": [
        "def pypy1(message):\n",
        "    global history\n",
        "\n",
        "    response = \"拍拍!\"\n",
        "    history.append((message, response))\n",
        "\n",
        "    for (m, r) in history:\n",
        "        print(\">>\" + m)\n",
        "        print(r)\n",
        "        print()\n"
      ],
      "metadata": {
        "id": "cuR83ew_4S-V"
      },
      "execution_count": 84,
      "outputs": []
    },
    {
      "cell_type": "code",
      "source": [
        "history = []\n",
        "\n",
        "interact_manual(pypy1, message=\"你想說什麼呢？\");"
      ],
      "metadata": {
        "colab": {
          "base_uri": "https://localhost:8080/",
          "height": 241,
          "referenced_widgets": [
            "6ba98992763642d1a277b6844bd4232f",
            "117282d0183840afb4f502c6f76f377c",
            "83c123e0724d45c2a8ccbf38eba8895a",
            "cb0020ebbe894b64b8d02f1d06b3eda0",
            "bf9f0d2ca1b6401b9041a3ccd478b0a0",
            "059e87bbcfca4a3396a20c3b0e2ca26e",
            "749a1166bbeb4a4a802ffc5c7288ea4d",
            "e5cb3df4980840e291ddf48724796d90",
            "0938a3a77c274cb0ae4741cc6cc893a8",
            "02aa54ce8c564332b1c4236fcae5b7e9"
          ]
        },
        "id": "r5864Wft47XQ",
        "outputId": "a183cfb2-ae2e-4926-9cf1-5f91b84dea3e"
      },
      "execution_count": 85,
      "outputs": [
        {
          "output_type": "display_data",
          "data": {
            "text/plain": [
              "interactive(children=(Text(value='你想說什麼呢？', description='message'), Button(description='Run Interact', style=B…"
            ],
            "application/vnd.jupyter.widget-view+json": {
              "version_major": 2,
              "version_minor": 0,
              "model_id": "6ba98992763642d1a277b6844bd4232f"
            }
          },
          "metadata": {}
        }
      ]
    },
    {
      "cell_type": "markdown",
      "source": [
        "#### (2) 獨立打造的 \n",
        "\n",
        "之前我們用 `interact` 直接生出文字框、下接選單、數值滑桿等等這種叫 widgets 的小物件。其實 widgets 也可以各自精心打造, 用 `display` 顯示出來。"
      ],
      "metadata": {
        "id": "o416yk8c5efp"
      }
    },
    {
      "cell_type": "code",
      "source": [
        "from ipywidgets import widgets\n",
        "from IPython.display import display"
      ],
      "metadata": {
        "id": "JL2RyYfL5K5C"
      },
      "execution_count": 86,
      "outputs": []
    },
    {
      "cell_type": "code",
      "source": [
        "text = widgets.Text()\n",
        "display(text)"
      ],
      "metadata": {
        "colab": {
          "base_uri": "https://localhost:8080/",
          "height": 49,
          "referenced_widgets": [
            "6c65b4adb61b4ec984aff549e9c4863c",
            "86749c801a3b467eafc2b2e48323ef1d",
            "9cb271973e434e3c97412299b25552e9"
          ]
        },
        "id": "_B3o5YQB5ynu",
        "outputId": "dce96504-752a-45db-c17d-01cc0fb386d4"
      },
      "execution_count": 87,
      "outputs": [
        {
          "output_type": "display_data",
          "data": {
            "text/plain": [
              "Text(value='')"
            ],
            "application/vnd.jupyter.widget-view+json": {
              "version_major": 2,
              "version_minor": 0,
              "model_id": "6c65b4adb61b4ec984aff549e9c4863c"
            }
          },
          "metadata": {}
        }
      ]
    },
    {
      "cell_type": "markdown",
      "source": [
        "我們發現可以打字, 但沒有作用。原來就是我們沒有告訴 Python, 打完了要怎麼處理。於是要指定這段文字打完, 要送交給誰去處理。"
      ],
      "metadata": {
        "id": "EMJ2jwVDgeo2"
      }
    },
    {
      "cell_type": "code",
      "source": [
        "text = widgets.Text()\n",
        "display(text)\n",
        "\n",
        "def handle_submit(sender):\n",
        "    print(\">> \" + text.value)\n",
        "    print(\"拍拍\")\n",
        "    print()\n",
        "\n",
        "text.on_submit(handle_submit)"
      ],
      "metadata": {
        "colab": {
          "base_uri": "https://localhost:8080/",
          "height": 208,
          "referenced_widgets": [
            "2b8993842737490ba107650f583813ee",
            "2551ef21e7a14903957a6e4dde873e61",
            "8c6bb2e817994c0dbb90b8a0ff7a7727"
          ]
        },
        "id": "vEsyCF4858sE",
        "outputId": "e047b4aa-da6d-4e2c-86c7-4e03097463f7"
      },
      "execution_count": 89,
      "outputs": [
        {
          "output_type": "display_data",
          "data": {
            "text/plain": [
              "Text(value='')"
            ],
            "application/vnd.jupyter.widget-view+json": {
              "version_major": 2,
              "version_minor": 0,
              "model_id": "2b8993842737490ba107650f583813ee"
            }
          },
          "metadata": {}
        },
        {
          "output_type": "stream",
          "name": "stdout",
          "text": [
            ">> 我很難過。\n",
            "拍拍\n",
            "\n",
            ">> 覺得大家都不喜歡我。\n",
            "拍拍\n",
            "\n",
            ">> 還說我只會發一些廢文。\n",
            "拍拍\n",
            "\n"
          ]
        }
      ]
    },
    {
      "cell_type": "markdown",
      "source": [
        "#### (3) Gradio\n",
        "\n",
        "最後是我們的 `gradio`, 快速打造真的「上線」的對話機器人!"
      ],
      "metadata": {
        "id": "s2j3Oi8r6Qfo"
      }
    },
    {
      "cell_type": "code",
      "source": [
        "!pip install gradio"
      ],
      "metadata": {
        "colab": {
          "base_uri": "https://localhost:8080/"
        },
        "id": "nMkkHQEv6I4x",
        "outputId": "f2674c92-e724-4cf7-cf59-ec917d53ad3f"
      },
      "execution_count": 90,
      "outputs": [
        {
          "output_type": "stream",
          "name": "stdout",
          "text": [
            "Looking in indexes: https://pypi.org/simple, https://us-python.pkg.dev/colab-wheels/public/simple/\n",
            "Collecting gradio\n",
            "  Downloading gradio-3.13.0-py3-none-any.whl (13.8 MB)\n",
            "\u001b[K     |████████████████████████████████| 13.8 MB 6.3 MB/s \n",
            "\u001b[?25hCollecting paramiko\n",
            "  Downloading paramiko-2.12.0-py2.py3-none-any.whl (213 kB)\n",
            "\u001b[K     |████████████████████████████████| 213 kB 62.4 MB/s \n",
            "\u001b[?25hRequirement already satisfied: pandas in /usr/local/lib/python3.8/dist-packages (from gradio) (1.3.5)\n",
            "Requirement already satisfied: matplotlib in /usr/local/lib/python3.8/dist-packages (from gradio) (3.2.2)\n",
            "Collecting pydub\n",
            "  Downloading pydub-0.25.1-py2.py3-none-any.whl (32 kB)\n",
            "Requirement already satisfied: requests in /usr/local/lib/python3.8/dist-packages (from gradio) (2.23.0)\n",
            "Collecting websockets>=10.0\n",
            "  Downloading websockets-10.4-cp38-cp38-manylinux_2_5_x86_64.manylinux1_x86_64.manylinux_2_17_x86_64.manylinux2014_x86_64.whl (106 kB)\n",
            "\u001b[K     |████████████████████████████████| 106 kB 62.8 MB/s \n",
            "\u001b[?25hCollecting pycryptodome\n",
            "  Downloading pycryptodome-3.16.0-cp35-abi3-manylinux_2_5_x86_64.manylinux1_x86_64.manylinux_2_12_x86_64.manylinux2010_x86_64.whl (2.3 MB)\n",
            "\u001b[K     |████████████████████████████████| 2.3 MB 57.1 MB/s \n",
            "\u001b[?25hCollecting markdown-it-py[linkify,plugins]\n",
            "  Downloading markdown_it_py-2.1.0-py3-none-any.whl (84 kB)\n",
            "\u001b[K     |████████████████████████████████| 84 kB 4.1 MB/s \n",
            "\u001b[?25hRequirement already satisfied: fsspec in /usr/local/lib/python3.8/dist-packages (from gradio) (2022.11.0)\n",
            "Collecting h11<0.13,>=0.11\n",
            "  Downloading h11-0.12.0-py3-none-any.whl (54 kB)\n",
            "\u001b[K     |████████████████████████████████| 54 kB 3.9 MB/s \n",
            "\u001b[?25hRequirement already satisfied: pyyaml in /usr/local/lib/python3.8/dist-packages (from gradio) (6.0)\n",
            "Collecting uvicorn\n",
            "  Downloading uvicorn-0.20.0-py3-none-any.whl (56 kB)\n",
            "\u001b[K     |████████████████████████████████| 56 kB 5.6 MB/s \n",
            "\u001b[?25hCollecting orjson\n",
            "  Downloading orjson-3.8.3-cp38-cp38-manylinux_2_17_x86_64.manylinux2014_x86_64.whl (278 kB)\n",
            "\u001b[K     |████████████████████████████████| 278 kB 62.5 MB/s \n",
            "\u001b[?25hRequirement already satisfied: pillow in /usr/local/lib/python3.8/dist-packages (from gradio) (7.1.2)\n",
            "Collecting ffmpy\n",
            "  Downloading ffmpy-0.3.0.tar.gz (4.8 kB)\n",
            "Collecting fastapi\n",
            "  Downloading fastapi-0.88.0-py3-none-any.whl (55 kB)\n",
            "\u001b[K     |████████████████████████████████| 55 kB 4.8 MB/s \n",
            "\u001b[?25hCollecting httpx\n",
            "  Downloading httpx-0.23.1-py3-none-any.whl (84 kB)\n",
            "\u001b[K     |████████████████████████████████| 84 kB 5.0 MB/s \n",
            "\u001b[?25hRequirement already satisfied: aiohttp in /usr/local/lib/python3.8/dist-packages (from gradio) (3.8.3)\n",
            "Collecting python-multipart\n",
            "  Downloading python-multipart-0.0.5.tar.gz (32 kB)\n",
            "Requirement already satisfied: jinja2 in /usr/local/lib/python3.8/dist-packages (from gradio) (2.11.3)\n",
            "Requirement already satisfied: numpy in /usr/local/lib/python3.8/dist-packages (from gradio) (1.21.6)\n",
            "Requirement already satisfied: pydantic in /usr/local/lib/python3.8/dist-packages (from gradio) (1.10.2)\n",
            "Requirement already satisfied: attrs>=17.3.0 in /usr/local/lib/python3.8/dist-packages (from aiohttp->gradio) (22.1.0)\n",
            "Requirement already satisfied: async-timeout<5.0,>=4.0.0a3 in /usr/local/lib/python3.8/dist-packages (from aiohttp->gradio) (4.0.2)\n",
            "Requirement already satisfied: frozenlist>=1.1.1 in /usr/local/lib/python3.8/dist-packages (from aiohttp->gradio) (1.3.3)\n",
            "Requirement already satisfied: aiosignal>=1.1.2 in /usr/local/lib/python3.8/dist-packages (from aiohttp->gradio) (1.3.1)\n",
            "Requirement already satisfied: multidict<7.0,>=4.5 in /usr/local/lib/python3.8/dist-packages (from aiohttp->gradio) (6.0.3)\n",
            "Requirement already satisfied: yarl<2.0,>=1.0 in /usr/local/lib/python3.8/dist-packages (from aiohttp->gradio) (1.8.2)\n",
            "Requirement already satisfied: charset-normalizer<3.0,>=2.0 in /usr/local/lib/python3.8/dist-packages (from aiohttp->gradio) (2.1.1)\n",
            "Requirement already satisfied: idna>=2.0 in /usr/local/lib/python3.8/dist-packages (from yarl<2.0,>=1.0->aiohttp->gradio) (2.10)\n",
            "Collecting starlette==0.22.0\n",
            "  Downloading starlette-0.22.0-py3-none-any.whl (64 kB)\n",
            "\u001b[K     |████████████████████████████████| 64 kB 3.3 MB/s \n",
            "\u001b[?25hCollecting anyio<5,>=3.4.0\n",
            "  Downloading anyio-3.6.2-py3-none-any.whl (80 kB)\n",
            "\u001b[K     |████████████████████████████████| 80 kB 10.1 MB/s \n",
            "\u001b[?25hRequirement already satisfied: typing-extensions>=3.10.0 in /usr/local/lib/python3.8/dist-packages (from starlette==0.22.0->fastapi->gradio) (4.4.0)\n",
            "Collecting sniffio>=1.1\n",
            "  Downloading sniffio-1.3.0-py3-none-any.whl (10 kB)\n",
            "Requirement already satisfied: certifi in /usr/local/lib/python3.8/dist-packages (from httpx->gradio) (2022.9.24)\n",
            "Collecting httpcore<0.17.0,>=0.15.0\n",
            "  Downloading httpcore-0.16.2-py3-none-any.whl (68 kB)\n",
            "\u001b[K     |████████████████████████████████| 68 kB 8.1 MB/s \n",
            "\u001b[?25hCollecting rfc3986[idna2008]<2,>=1.3\n",
            "  Downloading rfc3986-1.5.0-py2.py3-none-any.whl (31 kB)\n",
            "Collecting httpcore<0.17.0,>=0.15.0\n",
            "  Downloading httpcore-0.16.1-py3-none-any.whl (68 kB)\n",
            "\u001b[K     |████████████████████████████████| 68 kB 8.2 MB/s \n",
            "\u001b[?25h  Downloading httpcore-0.16.0-py3-none-any.whl (68 kB)\n",
            "\u001b[K     |████████████████████████████████| 68 kB 7.6 MB/s \n",
            "\u001b[?25h  Downloading httpcore-0.15.0-py3-none-any.whl (68 kB)\n",
            "\u001b[K     |████████████████████████████████| 68 kB 8.4 MB/s \n",
            "\u001b[?25hRequirement already satisfied: MarkupSafe>=0.23 in /usr/local/lib/python3.8/dist-packages (from jinja2->gradio) (2.0.1)\n",
            "Collecting mdurl~=0.1\n",
            "  Downloading mdurl-0.1.2-py3-none-any.whl (10.0 kB)\n",
            "Collecting linkify-it-py~=1.0\n",
            "  Downloading linkify_it_py-1.0.3-py3-none-any.whl (19 kB)\n",
            "Collecting mdit-py-plugins\n",
            "  Downloading mdit_py_plugins-0.3.3-py3-none-any.whl (50 kB)\n",
            "\u001b[K     |████████████████████████████████| 50 kB 7.2 MB/s \n",
            "\u001b[?25hCollecting uc-micro-py\n",
            "  Downloading uc_micro_py-1.0.1-py3-none-any.whl (6.2 kB)\n",
            "Requirement already satisfied: kiwisolver>=1.0.1 in /usr/local/lib/python3.8/dist-packages (from matplotlib->gradio) (1.4.4)\n",
            "Requirement already satisfied: cycler>=0.10 in /usr/local/lib/python3.8/dist-packages (from matplotlib->gradio) (0.11.0)\n",
            "Requirement already satisfied: python-dateutil>=2.1 in /usr/local/lib/python3.8/dist-packages (from matplotlib->gradio) (2.8.2)\n",
            "Requirement already satisfied: pyparsing!=2.0.4,!=2.1.2,!=2.1.6,>=2.0.1 in /usr/local/lib/python3.8/dist-packages (from matplotlib->gradio) (3.0.9)\n",
            "Requirement already satisfied: six>=1.5 in /usr/local/lib/python3.8/dist-packages (from python-dateutil>=2.1->matplotlib->gradio) (1.15.0)\n",
            "Requirement already satisfied: pytz>=2017.3 in /usr/local/lib/python3.8/dist-packages (from pandas->gradio) (2022.6)\n",
            "Collecting bcrypt>=3.1.3\n",
            "  Downloading bcrypt-4.0.1-cp36-abi3-manylinux_2_24_x86_64.whl (593 kB)\n",
            "\u001b[K     |████████████████████████████████| 593 kB 77.1 MB/s \n",
            "\u001b[?25hCollecting pynacl>=1.0.1\n",
            "  Downloading PyNaCl-1.5.0-cp36-abi3-manylinux_2_17_x86_64.manylinux2014_x86_64.manylinux_2_24_x86_64.whl (856 kB)\n",
            "\u001b[K     |████████████████████████████████| 856 kB 68.8 MB/s \n",
            "\u001b[?25hCollecting cryptography>=2.5\n",
            "  Downloading cryptography-38.0.4-cp36-abi3-manylinux_2_24_x86_64.whl (4.0 MB)\n",
            "\u001b[K     |████████████████████████████████| 4.0 MB 78.7 MB/s \n",
            "\u001b[?25hRequirement already satisfied: cffi>=1.12 in /usr/local/lib/python3.8/dist-packages (from cryptography>=2.5->paramiko->gradio) (1.15.1)\n",
            "Requirement already satisfied: pycparser in /usr/local/lib/python3.8/dist-packages (from cffi>=1.12->cryptography>=2.5->paramiko->gradio) (2.21)\n",
            "Requirement already satisfied: chardet<4,>=3.0.2 in /usr/local/lib/python3.8/dist-packages (from requests->gradio) (3.0.4)\n",
            "Requirement already satisfied: urllib3!=1.25.0,!=1.25.1,<1.26,>=1.21.1 in /usr/local/lib/python3.8/dist-packages (from requests->gradio) (1.24.3)\n",
            "Requirement already satisfied: click>=7.0 in /usr/local/lib/python3.8/dist-packages (from uvicorn->gradio) (7.1.2)\n",
            "Building wheels for collected packages: ffmpy, python-multipart\n",
            "  Building wheel for ffmpy (setup.py) ... \u001b[?25l\u001b[?25hdone\n",
            "  Created wheel for ffmpy: filename=ffmpy-0.3.0-py3-none-any.whl size=4711 sha256=251014d7cbd75f00ee46140c29ef1c745cd498a6b2613e9ec65ce55e9d7713f1\n",
            "  Stored in directory: /root/.cache/pip/wheels/ff/5b/59/913b443e7369dc04b61f607a746b6f7d83fb65e2e19fcc958d\n",
            "  Building wheel for python-multipart (setup.py) ... \u001b[?25l\u001b[?25hdone\n",
            "  Created wheel for python-multipart: filename=python_multipart-0.0.5-py3-none-any.whl size=31678 sha256=d7ed8d041225e213f417b2319ba648a76fc52325d680c00b161bf8376fc1af44\n",
            "  Stored in directory: /root/.cache/pip/wheels/9e/fc/1c/cf980e6413d3ee8e70cd8f39e2366b0f487e3e221aeb452eb0\n",
            "Successfully built ffmpy python-multipart\n",
            "Installing collected packages: sniffio, mdurl, uc-micro-py, rfc3986, markdown-it-py, h11, anyio, starlette, pynacl, mdit-py-plugins, linkify-it-py, httpcore, cryptography, bcrypt, websockets, uvicorn, python-multipart, pydub, pycryptodome, paramiko, orjson, httpx, ffmpy, fastapi, gradio\n",
            "Successfully installed anyio-3.6.2 bcrypt-4.0.1 cryptography-38.0.4 fastapi-0.88.0 ffmpy-0.3.0 gradio-3.13.0 h11-0.12.0 httpcore-0.15.0 httpx-0.23.1 linkify-it-py-1.0.3 markdown-it-py-2.1.0 mdit-py-plugins-0.3.3 mdurl-0.1.2 orjson-3.8.3 paramiko-2.12.0 pycryptodome-3.16.0 pydub-0.25.1 pynacl-1.5.0 python-multipart-0.0.5 rfc3986-1.5.0 sniffio-1.3.0 starlette-0.22.0 uc-micro-py-1.0.1 uvicorn-0.20.0 websockets-10.4\n"
          ]
        }
      ]
    },
    {
      "cell_type": "code",
      "source": [
        "import gradio as gr"
      ],
      "metadata": {
        "id": "jd_dUltc7DBO"
      },
      "execution_count": 91,
      "outputs": []
    },
    {
      "cell_type": "code",
      "source": [
        "def pypy3(message, history=[]):\n",
        "    response = \"拍拍!\"\n",
        "    history.append((message, response))\n",
        "    return history, history\n"
      ],
      "metadata": {
        "id": "AIZmVnz16Tn9"
      },
      "execution_count": 92,
      "outputs": []
    },
    {
      "cell_type": "code",
      "source": [
        "iface = gr.Interface(pypy3,\n",
        "                     inputs = [\"text\", \"state\"],\n",
        "                     outputs = [\"chatbot\", \"state\"])"
      ],
      "metadata": {
        "id": "eavR9UAl61aQ"
      },
      "execution_count": 93,
      "outputs": []
    },
    {
      "cell_type": "code",
      "source": [
        "iface.launch(share=True)"
      ],
      "metadata": {
        "colab": {
          "base_uri": "https://localhost:8080/",
          "height": 611
        },
        "id": "5xj-NfJi7A3g",
        "outputId": "f2cbe461-5e95-4b20-e003-549e16eaf280"
      },
      "execution_count": 94,
      "outputs": [
        {
          "output_type": "stream",
          "name": "stdout",
          "text": [
            "Colab notebook detected. To show errors in colab notebook, set `debug=True` in `launch()`\n",
            "Running on public URL: https://dc94f69c4337391f.gradio.app\n",
            "\n",
            "This share link expires in 72 hours. For free permanent hosting and GPU upgrades (NEW!), check out Spaces: https://huggingface.co/spaces\n"
          ]
        },
        {
          "output_type": "display_data",
          "data": {
            "text/plain": [
              "<IPython.core.display.HTML object>"
            ],
            "text/html": [
              "<div><iframe src=\"https://dc94f69c4337391f.gradio.app\" width=\"100%\" height=\"500\" allow=\"autoplay; camera; microphone; clipboard-read; clipboard-write;\" frameborder=\"0\" allowfullscreen></iframe></div>"
            ]
          },
          "metadata": {}
        },
        {
          "output_type": "execute_result",
          "data": {
            "text/plain": []
          },
          "metadata": {},
          "execution_count": 94
        }
      ]
    }
  ]
}