{
  "nbformat": 4,
  "nbformat_minor": 0,
  "metadata": {
    "colab": {
      "provenance": [],
      "authorship_tag": "ABX9TyPOBR2vJvHKIXb8BLBGyhHe",
      "include_colab_link": true
    },
    "kernelspec": {
      "name": "python3",
      "display_name": "Python 3"
    },
    "language_info": {
      "name": "python"
    },
    "widgets": {
      "application/vnd.jupyter.widget-state+json": {
        "47a5052a1d4a4afb98520f27b49778e1": {
          "model_module": "@jupyter-widgets/controls",
          "model_name": "VBoxModel",
          "model_module_version": "1.5.0",
          "state": {
            "_dom_classes": [
              "widget-interact"
            ],
            "_model_module": "@jupyter-widgets/controls",
            "_model_module_version": "1.5.0",
            "_model_name": "VBoxModel",
            "_view_count": null,
            "_view_module": "@jupyter-widgets/controls",
            "_view_module_version": "1.5.0",
            "_view_name": "VBoxView",
            "box_style": "",
            "children": [
              "IPY_MODEL_f99f640ec469405eb01aaf5e95551bbf",
              "IPY_MODEL_72779be4542145c6808284eb8ec140b3",
              "IPY_MODEL_0c8358ec56d3408a9460912b847b9b17"
            ],
            "layout": "IPY_MODEL_6a30ddc5898443259a098acaa62c8da1"
          }
        },
        "f99f640ec469405eb01aaf5e95551bbf": {
          "model_module": "@jupyter-widgets/controls",
          "model_name": "TextModel",
          "model_module_version": "1.5.0",
          "state": {
            "_dom_classes": [],
            "_model_module": "@jupyter-widgets/controls",
            "_model_module_version": "1.5.0",
            "_model_name": "TextModel",
            "_view_count": null,
            "_view_module": "@jupyter-widgets/controls",
            "_view_module_version": "1.5.0",
            "_view_name": "TextView",
            "continuous_update": true,
            "description": "message",
            "description_tooltip": null,
            "disabled": false,
            "layout": "IPY_MODEL_4df856659686429cbe3474167c03af27",
            "placeholder": "​",
            "style": "IPY_MODEL_504498761cca48dc85cef9de0392f56b",
            "value": "今天心情真的很差"
          }
        },
        "72779be4542145c6808284eb8ec140b3": {
          "model_module": "@jupyter-widgets/controls",
          "model_name": "ButtonModel",
          "model_module_version": "1.5.0",
          "state": {
            "_dom_classes": [],
            "_model_module": "@jupyter-widgets/controls",
            "_model_module_version": "1.5.0",
            "_model_name": "ButtonModel",
            "_view_count": null,
            "_view_module": "@jupyter-widgets/controls",
            "_view_module_version": "1.5.0",
            "_view_name": "ButtonView",
            "button_style": "",
            "description": "Run Interact",
            "disabled": false,
            "icon": "",
            "layout": "IPY_MODEL_ec1223acb7e34aaf96806ffb9828a310",
            "style": "IPY_MODEL_9dfbe3cdb4bb49108bf4f29f72c8ecb5",
            "tooltip": ""
          }
        },
        "0c8358ec56d3408a9460912b847b9b17": {
          "model_module": "@jupyter-widgets/output",
          "model_name": "OutputModel",
          "model_module_version": "1.0.0",
          "state": {
            "_dom_classes": [],
            "_model_module": "@jupyter-widgets/output",
            "_model_module_version": "1.0.0",
            "_model_name": "OutputModel",
            "_view_count": null,
            "_view_module": "@jupyter-widgets/output",
            "_view_module_version": "1.0.0",
            "_view_name": "OutputView",
            "layout": "IPY_MODEL_72ac13c43261420c85f367ea32995dd8",
            "msg_id": "",
            "outputs": [
              {
                "output_type": "stream",
                "name": "stdout",
                "text": [
                  ">>今天心情真的很差\n",
                  "拍拍!\n"
                ]
              }
            ]
          }
        },
        "6a30ddc5898443259a098acaa62c8da1": {
          "model_module": "@jupyter-widgets/base",
          "model_name": "LayoutModel",
          "model_module_version": "1.2.0",
          "state": {
            "_model_module": "@jupyter-widgets/base",
            "_model_module_version": "1.2.0",
            "_model_name": "LayoutModel",
            "_view_count": null,
            "_view_module": "@jupyter-widgets/base",
            "_view_module_version": "1.2.0",
            "_view_name": "LayoutView",
            "align_content": null,
            "align_items": null,
            "align_self": null,
            "border": null,
            "bottom": null,
            "display": null,
            "flex": null,
            "flex_flow": null,
            "grid_area": null,
            "grid_auto_columns": null,
            "grid_auto_flow": null,
            "grid_auto_rows": null,
            "grid_column": null,
            "grid_gap": null,
            "grid_row": null,
            "grid_template_areas": null,
            "grid_template_columns": null,
            "grid_template_rows": null,
            "height": null,
            "justify_content": null,
            "justify_items": null,
            "left": null,
            "margin": null,
            "max_height": null,
            "max_width": null,
            "min_height": null,
            "min_width": null,
            "object_fit": null,
            "object_position": null,
            "order": null,
            "overflow": null,
            "overflow_x": null,
            "overflow_y": null,
            "padding": null,
            "right": null,
            "top": null,
            "visibility": null,
            "width": null
          }
        },
        "4df856659686429cbe3474167c03af27": {
          "model_module": "@jupyter-widgets/base",
          "model_name": "LayoutModel",
          "model_module_version": "1.2.0",
          "state": {
            "_model_module": "@jupyter-widgets/base",
            "_model_module_version": "1.2.0",
            "_model_name": "LayoutModel",
            "_view_count": null,
            "_view_module": "@jupyter-widgets/base",
            "_view_module_version": "1.2.0",
            "_view_name": "LayoutView",
            "align_content": null,
            "align_items": null,
            "align_self": null,
            "border": null,
            "bottom": null,
            "display": null,
            "flex": null,
            "flex_flow": null,
            "grid_area": null,
            "grid_auto_columns": null,
            "grid_auto_flow": null,
            "grid_auto_rows": null,
            "grid_column": null,
            "grid_gap": null,
            "grid_row": null,
            "grid_template_areas": null,
            "grid_template_columns": null,
            "grid_template_rows": null,
            "height": null,
            "justify_content": null,
            "justify_items": null,
            "left": null,
            "margin": null,
            "max_height": null,
            "max_width": null,
            "min_height": null,
            "min_width": null,
            "object_fit": null,
            "object_position": null,
            "order": null,
            "overflow": null,
            "overflow_x": null,
            "overflow_y": null,
            "padding": null,
            "right": null,
            "top": null,
            "visibility": null,
            "width": null
          }
        },
        "504498761cca48dc85cef9de0392f56b": {
          "model_module": "@jupyter-widgets/controls",
          "model_name": "DescriptionStyleModel",
          "model_module_version": "1.5.0",
          "state": {
            "_model_module": "@jupyter-widgets/controls",
            "_model_module_version": "1.5.0",
            "_model_name": "DescriptionStyleModel",
            "_view_count": null,
            "_view_module": "@jupyter-widgets/base",
            "_view_module_version": "1.2.0",
            "_view_name": "StyleView",
            "description_width": ""
          }
        },
        "ec1223acb7e34aaf96806ffb9828a310": {
          "model_module": "@jupyter-widgets/base",
          "model_name": "LayoutModel",
          "model_module_version": "1.2.0",
          "state": {
            "_model_module": "@jupyter-widgets/base",
            "_model_module_version": "1.2.0",
            "_model_name": "LayoutModel",
            "_view_count": null,
            "_view_module": "@jupyter-widgets/base",
            "_view_module_version": "1.2.0",
            "_view_name": "LayoutView",
            "align_content": null,
            "align_items": null,
            "align_self": null,
            "border": null,
            "bottom": null,
            "display": null,
            "flex": null,
            "flex_flow": null,
            "grid_area": null,
            "grid_auto_columns": null,
            "grid_auto_flow": null,
            "grid_auto_rows": null,
            "grid_column": null,
            "grid_gap": null,
            "grid_row": null,
            "grid_template_areas": null,
            "grid_template_columns": null,
            "grid_template_rows": null,
            "height": null,
            "justify_content": null,
            "justify_items": null,
            "left": null,
            "margin": null,
            "max_height": null,
            "max_width": null,
            "min_height": null,
            "min_width": null,
            "object_fit": null,
            "object_position": null,
            "order": null,
            "overflow": null,
            "overflow_x": null,
            "overflow_y": null,
            "padding": null,
            "right": null,
            "top": null,
            "visibility": null,
            "width": null
          }
        },
        "9dfbe3cdb4bb49108bf4f29f72c8ecb5": {
          "model_module": "@jupyter-widgets/controls",
          "model_name": "ButtonStyleModel",
          "model_module_version": "1.5.0",
          "state": {
            "_model_module": "@jupyter-widgets/controls",
            "_model_module_version": "1.5.0",
            "_model_name": "ButtonStyleModel",
            "_view_count": null,
            "_view_module": "@jupyter-widgets/base",
            "_view_module_version": "1.2.0",
            "_view_name": "StyleView",
            "button_color": null,
            "font_weight": ""
          }
        },
        "72ac13c43261420c85f367ea32995dd8": {
          "model_module": "@jupyter-widgets/base",
          "model_name": "LayoutModel",
          "model_module_version": "1.2.0",
          "state": {
            "_model_module": "@jupyter-widgets/base",
            "_model_module_version": "1.2.0",
            "_model_name": "LayoutModel",
            "_view_count": null,
            "_view_module": "@jupyter-widgets/base",
            "_view_module_version": "1.2.0",
            "_view_name": "LayoutView",
            "align_content": null,
            "align_items": null,
            "align_self": null,
            "border": null,
            "bottom": null,
            "display": null,
            "flex": null,
            "flex_flow": null,
            "grid_area": null,
            "grid_auto_columns": null,
            "grid_auto_flow": null,
            "grid_auto_rows": null,
            "grid_column": null,
            "grid_gap": null,
            "grid_row": null,
            "grid_template_areas": null,
            "grid_template_columns": null,
            "grid_template_rows": null,
            "height": null,
            "justify_content": null,
            "justify_items": null,
            "left": null,
            "margin": null,
            "max_height": null,
            "max_width": null,
            "min_height": null,
            "min_width": null,
            "object_fit": null,
            "object_position": null,
            "order": null,
            "overflow": null,
            "overflow_x": null,
            "overflow_y": null,
            "padding": null,
            "right": null,
            "top": null,
            "visibility": null,
            "width": null
          }
        },
        "7e41224f44fb4c5198bea7aef8dd51db": {
          "model_module": "@jupyter-widgets/controls",
          "model_name": "VBoxModel",
          "model_module_version": "1.5.0",
          "state": {
            "_dom_classes": [
              "widget-interact"
            ],
            "_model_module": "@jupyter-widgets/controls",
            "_model_module_version": "1.5.0",
            "_model_name": "VBoxModel",
            "_view_count": null,
            "_view_module": "@jupyter-widgets/controls",
            "_view_module_version": "1.5.0",
            "_view_name": "VBoxView",
            "box_style": "",
            "children": [
              "IPY_MODEL_1ccd87ad84894cd28a9d797489ae10d3",
              "IPY_MODEL_39d569effe24488aa30616263775c198",
              "IPY_MODEL_79fe1a0681aa47ddbbaeb56f09e5137f"
            ],
            "layout": "IPY_MODEL_fcd4f63215ea451a902278acaec37d69"
          }
        },
        "1ccd87ad84894cd28a9d797489ae10d3": {
          "model_module": "@jupyter-widgets/controls",
          "model_name": "TextModel",
          "model_module_version": "1.5.0",
          "state": {
            "_dom_classes": [],
            "_model_module": "@jupyter-widgets/controls",
            "_model_module_version": "1.5.0",
            "_model_name": "TextModel",
            "_view_count": null,
            "_view_module": "@jupyter-widgets/controls",
            "_view_module_version": "1.5.0",
            "_view_name": "TextView",
            "continuous_update": true,
            "description": "message",
            "description_tooltip": null,
            "disabled": false,
            "layout": "IPY_MODEL_09ebaafe868e4a559670cd7a77ee7753",
            "placeholder": "​",
            "style": "IPY_MODEL_c1d4f1cbcef64f15a67b6e22a990a9f9",
            "value": "不知道該怎麼辦。"
          }
        },
        "39d569effe24488aa30616263775c198": {
          "model_module": "@jupyter-widgets/controls",
          "model_name": "ButtonModel",
          "model_module_version": "1.5.0",
          "state": {
            "_dom_classes": [],
            "_model_module": "@jupyter-widgets/controls",
            "_model_module_version": "1.5.0",
            "_model_name": "ButtonModel",
            "_view_count": null,
            "_view_module": "@jupyter-widgets/controls",
            "_view_module_version": "1.5.0",
            "_view_name": "ButtonView",
            "button_style": "",
            "description": "Run Interact",
            "disabled": false,
            "icon": "",
            "layout": "IPY_MODEL_410a99fa37a04bf69c6549b37edd66e5",
            "style": "IPY_MODEL_7b7318319ee04dd48dc203e2a35e5801",
            "tooltip": ""
          }
        },
        "79fe1a0681aa47ddbbaeb56f09e5137f": {
          "model_module": "@jupyter-widgets/output",
          "model_name": "OutputModel",
          "model_module_version": "1.0.0",
          "state": {
            "_dom_classes": [],
            "_model_module": "@jupyter-widgets/output",
            "_model_module_version": "1.0.0",
            "_model_name": "OutputModel",
            "_view_count": null,
            "_view_module": "@jupyter-widgets/output",
            "_view_module_version": "1.0.0",
            "_view_name": "OutputView",
            "layout": "IPY_MODEL_771165e158e9426985e101b34249fb86",
            "msg_id": "",
            "outputs": [
              {
                "output_type": "stream",
                "name": "stdout",
                "text": [
                  ">>今天真的很難過。\n",
                  "拍拍!\n",
                  "\n",
                  ">>不知道該怎麼辦。\n",
                  "拍拍!\n",
                  "\n",
                  ">>不知道該怎麼辦。\n",
                  "拍拍!\n",
                  "\n"
                ]
              }
            ]
          }
        },
        "fcd4f63215ea451a902278acaec37d69": {
          "model_module": "@jupyter-widgets/base",
          "model_name": "LayoutModel",
          "model_module_version": "1.2.0",
          "state": {
            "_model_module": "@jupyter-widgets/base",
            "_model_module_version": "1.2.0",
            "_model_name": "LayoutModel",
            "_view_count": null,
            "_view_module": "@jupyter-widgets/base",
            "_view_module_version": "1.2.0",
            "_view_name": "LayoutView",
            "align_content": null,
            "align_items": null,
            "align_self": null,
            "border": null,
            "bottom": null,
            "display": null,
            "flex": null,
            "flex_flow": null,
            "grid_area": null,
            "grid_auto_columns": null,
            "grid_auto_flow": null,
            "grid_auto_rows": null,
            "grid_column": null,
            "grid_gap": null,
            "grid_row": null,
            "grid_template_areas": null,
            "grid_template_columns": null,
            "grid_template_rows": null,
            "height": null,
            "justify_content": null,
            "justify_items": null,
            "left": null,
            "margin": null,
            "max_height": null,
            "max_width": null,
            "min_height": null,
            "min_width": null,
            "object_fit": null,
            "object_position": null,
            "order": null,
            "overflow": null,
            "overflow_x": null,
            "overflow_y": null,
            "padding": null,
            "right": null,
            "top": null,
            "visibility": null,
            "width": null
          }
        },
        "09ebaafe868e4a559670cd7a77ee7753": {
          "model_module": "@jupyter-widgets/base",
          "model_name": "LayoutModel",
          "model_module_version": "1.2.0",
          "state": {
            "_model_module": "@jupyter-widgets/base",
            "_model_module_version": "1.2.0",
            "_model_name": "LayoutModel",
            "_view_count": null,
            "_view_module": "@jupyter-widgets/base",
            "_view_module_version": "1.2.0",
            "_view_name": "LayoutView",
            "align_content": null,
            "align_items": null,
            "align_self": null,
            "border": null,
            "bottom": null,
            "display": null,
            "flex": null,
            "flex_flow": null,
            "grid_area": null,
            "grid_auto_columns": null,
            "grid_auto_flow": null,
            "grid_auto_rows": null,
            "grid_column": null,
            "grid_gap": null,
            "grid_row": null,
            "grid_template_areas": null,
            "grid_template_columns": null,
            "grid_template_rows": null,
            "height": null,
            "justify_content": null,
            "justify_items": null,
            "left": null,
            "margin": null,
            "max_height": null,
            "max_width": null,
            "min_height": null,
            "min_width": null,
            "object_fit": null,
            "object_position": null,
            "order": null,
            "overflow": null,
            "overflow_x": null,
            "overflow_y": null,
            "padding": null,
            "right": null,
            "top": null,
            "visibility": null,
            "width": null
          }
        },
        "c1d4f1cbcef64f15a67b6e22a990a9f9": {
          "model_module": "@jupyter-widgets/controls",
          "model_name": "DescriptionStyleModel",
          "model_module_version": "1.5.0",
          "state": {
            "_model_module": "@jupyter-widgets/controls",
            "_model_module_version": "1.5.0",
            "_model_name": "DescriptionStyleModel",
            "_view_count": null,
            "_view_module": "@jupyter-widgets/base",
            "_view_module_version": "1.2.0",
            "_view_name": "StyleView",
            "description_width": ""
          }
        },
        "410a99fa37a04bf69c6549b37edd66e5": {
          "model_module": "@jupyter-widgets/base",
          "model_name": "LayoutModel",
          "model_module_version": "1.2.0",
          "state": {
            "_model_module": "@jupyter-widgets/base",
            "_model_module_version": "1.2.0",
            "_model_name": "LayoutModel",
            "_view_count": null,
            "_view_module": "@jupyter-widgets/base",
            "_view_module_version": "1.2.0",
            "_view_name": "LayoutView",
            "align_content": null,
            "align_items": null,
            "align_self": null,
            "border": null,
            "bottom": null,
            "display": null,
            "flex": null,
            "flex_flow": null,
            "grid_area": null,
            "grid_auto_columns": null,
            "grid_auto_flow": null,
            "grid_auto_rows": null,
            "grid_column": null,
            "grid_gap": null,
            "grid_row": null,
            "grid_template_areas": null,
            "grid_template_columns": null,
            "grid_template_rows": null,
            "height": null,
            "justify_content": null,
            "justify_items": null,
            "left": null,
            "margin": null,
            "max_height": null,
            "max_width": null,
            "min_height": null,
            "min_width": null,
            "object_fit": null,
            "object_position": null,
            "order": null,
            "overflow": null,
            "overflow_x": null,
            "overflow_y": null,
            "padding": null,
            "right": null,
            "top": null,
            "visibility": null,
            "width": null
          }
        },
        "7b7318319ee04dd48dc203e2a35e5801": {
          "model_module": "@jupyter-widgets/controls",
          "model_name": "ButtonStyleModel",
          "model_module_version": "1.5.0",
          "state": {
            "_model_module": "@jupyter-widgets/controls",
            "_model_module_version": "1.5.0",
            "_model_name": "ButtonStyleModel",
            "_view_count": null,
            "_view_module": "@jupyter-widgets/base",
            "_view_module_version": "1.2.0",
            "_view_name": "StyleView",
            "button_color": null,
            "font_weight": ""
          }
        },
        "771165e158e9426985e101b34249fb86": {
          "model_module": "@jupyter-widgets/base",
          "model_name": "LayoutModel",
          "model_module_version": "1.2.0",
          "state": {
            "_model_module": "@jupyter-widgets/base",
            "_model_module_version": "1.2.0",
            "_model_name": "LayoutModel",
            "_view_count": null,
            "_view_module": "@jupyter-widgets/base",
            "_view_module_version": "1.2.0",
            "_view_name": "LayoutView",
            "align_content": null,
            "align_items": null,
            "align_self": null,
            "border": null,
            "bottom": null,
            "display": null,
            "flex": null,
            "flex_flow": null,
            "grid_area": null,
            "grid_auto_columns": null,
            "grid_auto_flow": null,
            "grid_auto_rows": null,
            "grid_column": null,
            "grid_gap": null,
            "grid_row": null,
            "grid_template_areas": null,
            "grid_template_columns": null,
            "grid_template_rows": null,
            "height": null,
            "justify_content": null,
            "justify_items": null,
            "left": null,
            "margin": null,
            "max_height": null,
            "max_width": null,
            "min_height": null,
            "min_width": null,
            "object_fit": null,
            "object_position": null,
            "order": null,
            "overflow": null,
            "overflow_x": null,
            "overflow_y": null,
            "padding": null,
            "right": null,
            "top": null,
            "visibility": null,
            "width": null
          }
        },
        "bd150133163d448f8bcafc499c8413f9": {
          "model_module": "@jupyter-widgets/controls",
          "model_name": "TextModel",
          "model_module_version": "1.5.0",
          "state": {
            "_dom_classes": [],
            "_model_module": "@jupyter-widgets/controls",
            "_model_module_version": "1.5.0",
            "_model_name": "TextModel",
            "_view_count": null,
            "_view_module": "@jupyter-widgets/controls",
            "_view_module_version": "1.5.0",
            "_view_name": "TextView",
            "continuous_update": true,
            "description": "",
            "description_tooltip": null,
            "disabled": false,
            "layout": "IPY_MODEL_a2599b7f3bf94bcfbc0a182bb8db17e9",
            "placeholder": "​",
            "style": "IPY_MODEL_f12f2efd37fc4d06a7373d24aff5dfc1",
            "value": "試打一些文字"
          }
        },
        "a2599b7f3bf94bcfbc0a182bb8db17e9": {
          "model_module": "@jupyter-widgets/base",
          "model_name": "LayoutModel",
          "model_module_version": "1.2.0",
          "state": {
            "_model_module": "@jupyter-widgets/base",
            "_model_module_version": "1.2.0",
            "_model_name": "LayoutModel",
            "_view_count": null,
            "_view_module": "@jupyter-widgets/base",
            "_view_module_version": "1.2.0",
            "_view_name": "LayoutView",
            "align_content": null,
            "align_items": null,
            "align_self": null,
            "border": null,
            "bottom": null,
            "display": null,
            "flex": null,
            "flex_flow": null,
            "grid_area": null,
            "grid_auto_columns": null,
            "grid_auto_flow": null,
            "grid_auto_rows": null,
            "grid_column": null,
            "grid_gap": null,
            "grid_row": null,
            "grid_template_areas": null,
            "grid_template_columns": null,
            "grid_template_rows": null,
            "height": null,
            "justify_content": null,
            "justify_items": null,
            "left": null,
            "margin": null,
            "max_height": null,
            "max_width": null,
            "min_height": null,
            "min_width": null,
            "object_fit": null,
            "object_position": null,
            "order": null,
            "overflow": null,
            "overflow_x": null,
            "overflow_y": null,
            "padding": null,
            "right": null,
            "top": null,
            "visibility": null,
            "width": null
          }
        },
        "f12f2efd37fc4d06a7373d24aff5dfc1": {
          "model_module": "@jupyter-widgets/controls",
          "model_name": "DescriptionStyleModel",
          "model_module_version": "1.5.0",
          "state": {
            "_model_module": "@jupyter-widgets/controls",
            "_model_module_version": "1.5.0",
            "_model_name": "DescriptionStyleModel",
            "_view_count": null,
            "_view_module": "@jupyter-widgets/base",
            "_view_module_version": "1.2.0",
            "_view_name": "StyleView",
            "description_width": ""
          }
        },
        "b0b9a26f5aac4fecb9fa0422e6c70021": {
          "model_module": "@jupyter-widgets/controls",
          "model_name": "TextModel",
          "model_module_version": "1.5.0",
          "state": {
            "_dom_classes": [],
            "_model_module": "@jupyter-widgets/controls",
            "_model_module_version": "1.5.0",
            "_model_name": "TextModel",
            "_view_count": null,
            "_view_module": "@jupyter-widgets/controls",
            "_view_module_version": "1.5.0",
            "_view_name": "TextView",
            "continuous_update": true,
            "description": "",
            "description_tooltip": null,
            "disabled": false,
            "layout": "IPY_MODEL_48d102331bfa4cacaf372b07a12a34c5",
            "placeholder": "​",
            "style": "IPY_MODEL_79decea242684577a8d826699cf6a93e",
            "value": "程式都不會寫"
          }
        },
        "48d102331bfa4cacaf372b07a12a34c5": {
          "model_module": "@jupyter-widgets/base",
          "model_name": "LayoutModel",
          "model_module_version": "1.2.0",
          "state": {
            "_model_module": "@jupyter-widgets/base",
            "_model_module_version": "1.2.0",
            "_model_name": "LayoutModel",
            "_view_count": null,
            "_view_module": "@jupyter-widgets/base",
            "_view_module_version": "1.2.0",
            "_view_name": "LayoutView",
            "align_content": null,
            "align_items": null,
            "align_self": null,
            "border": null,
            "bottom": null,
            "display": null,
            "flex": null,
            "flex_flow": null,
            "grid_area": null,
            "grid_auto_columns": null,
            "grid_auto_flow": null,
            "grid_auto_rows": null,
            "grid_column": null,
            "grid_gap": null,
            "grid_row": null,
            "grid_template_areas": null,
            "grid_template_columns": null,
            "grid_template_rows": null,
            "height": null,
            "justify_content": null,
            "justify_items": null,
            "left": null,
            "margin": null,
            "max_height": null,
            "max_width": null,
            "min_height": null,
            "min_width": null,
            "object_fit": null,
            "object_position": null,
            "order": null,
            "overflow": null,
            "overflow_x": null,
            "overflow_y": null,
            "padding": null,
            "right": null,
            "top": null,
            "visibility": null,
            "width": null
          }
        },
        "79decea242684577a8d826699cf6a93e": {
          "model_module": "@jupyter-widgets/controls",
          "model_name": "DescriptionStyleModel",
          "model_module_version": "1.5.0",
          "state": {
            "_model_module": "@jupyter-widgets/controls",
            "_model_module_version": "1.5.0",
            "_model_name": "DescriptionStyleModel",
            "_view_count": null,
            "_view_module": "@jupyter-widgets/base",
            "_view_module_version": "1.2.0",
            "_view_name": "StyleView",
            "description_width": ""
          }
        }
      }
    }
  },
  "cells": [
    {
      "cell_type": "markdown",
      "metadata": {
        "id": "view-in-github",
        "colab_type": "text"
      },
      "source": [
        "<a href=\"https://colab.research.google.com/github/yenlung/Py-Math-Book/blob/main/%E5%86%92%E9%9A%AA14_%E6%95%B8%E5%AD%B8%E7%9A%84%E5%9F%BA%E6%9C%AC%E5%9E%8B%E6%98%AF%E9%9B%86%E5%90%88.ipynb\" target=\"_parent\"><img src=\"https://colab.research.google.com/assets/colab-badge.svg\" alt=\"Open In Colab\"/></a>"
      ]
    },
    {
      "cell_type": "code",
      "execution_count": 1,
      "metadata": {
        "id": "xU-22xmwLGpa"
      },
      "outputs": [],
      "source": [
        "%matplotlib inline\n",
        "\n",
        "import numpy as np\n",
        "import sympy as sp\n",
        "import pandas as pd\n",
        "import matplotlib.pyplot as plt"
      ]
    },
    {
      "cell_type": "markdown",
      "source": [
        "### 1. list 為什麼不是集合?"
      ],
      "metadata": {
        "id": "48fXK-Y6LSB-"
      }
    },
    {
      "cell_type": "markdown",
      "source": [
        "看看兩個有一樣元素的串列, 順序不同時是否是不同的串列。"
      ],
      "metadata": {
        "id": "NIbgM5DrLhMR"
      }
    },
    {
      "cell_type": "code",
      "source": [
        "egg = [1, 2, 3]\n",
        "ham = [3, 1, 2]"
      ],
      "metadata": {
        "id": "qghrEQZgLQdc"
      },
      "execution_count": 2,
      "outputs": []
    },
    {
      "cell_type": "code",
      "source": [
        "egg == ham"
      ],
      "metadata": {
        "colab": {
          "base_uri": "https://localhost:8080/"
        },
        "id": "l9q5On_rLfC-",
        "outputId": "4e673e81-06b0-46c1-d598-6c81e955a969"
      },
      "execution_count": 3,
      "outputs": [
        {
          "output_type": "execute_result",
          "data": {
            "text/plain": [
              "False"
            ]
          },
          "metadata": {},
          "execution_count": 3
        }
      ]
    },
    {
      "cell_type": "markdown",
      "source": [
        "果然順序要完全一樣才可以。"
      ],
      "metadata": {
        "id": "PipZv1NRLrmr"
      }
    },
    {
      "cell_type": "code",
      "source": [
        "spam = [1, 2, 3]"
      ],
      "metadata": {
        "id": "KVF1MtFNLf8Y"
      },
      "execution_count": 4,
      "outputs": []
    },
    {
      "cell_type": "code",
      "source": [
        "egg == spam"
      ],
      "metadata": {
        "colab": {
          "base_uri": "https://localhost:8080/"
        },
        "id": "VDm379CALv4K",
        "outputId": "368aa0f9-799d-4ef1-8ded-7c49cae91a02"
      },
      "execution_count": 5,
      "outputs": [
        {
          "output_type": "execute_result",
          "data": {
            "text/plain": [
              "True"
            ]
          },
          "metadata": {},
          "execution_count": 5
        }
      ]
    },
    {
      "cell_type": "markdown",
      "source": [
        "因為有順序, 所以才可以指定「第幾個」元素。而 Python 都是從 0 數起。"
      ],
      "metadata": {
        "id": "WZ4rs8lyL06t"
      }
    },
    {
      "cell_type": "code",
      "source": [
        "egg[0]"
      ],
      "metadata": {
        "colab": {
          "base_uri": "https://localhost:8080/"
        },
        "id": "6Vrk0B8-LxRG",
        "outputId": "76e0212d-7d72-40c9-cab5-92512fc26673"
      },
      "execution_count": 6,
      "outputs": [
        {
          "output_type": "execute_result",
          "data": {
            "text/plain": [
              "1"
            ]
          },
          "metadata": {},
          "execution_count": 6
        }
      ]
    },
    {
      "cell_type": "markdown",
      "source": [
        "另一個和集合不同的是, 有重覆的元素是可以的。"
      ],
      "metadata": {
        "id": "30NHsAiNL_ub"
      }
    },
    {
      "cell_type": "code",
      "source": [
        "egg = [2, 3, 3]\n",
        "ham = [2, 3]"
      ],
      "metadata": {
        "id": "hbbofHmtL9L5"
      },
      "execution_count": 7,
      "outputs": []
    },
    {
      "cell_type": "code",
      "source": [
        "egg == ham"
      ],
      "metadata": {
        "colab": {
          "base_uri": "https://localhost:8080/"
        },
        "id": "heQmkTZKMOZt",
        "outputId": "1b0aa8e2-9ffc-47cd-edad-17309a42e16d"
      },
      "execution_count": 8,
      "outputs": [
        {
          "output_type": "execute_result",
          "data": {
            "text/plain": [
              "False"
            ]
          },
          "metadata": {},
          "execution_count": 8
        }
      ]
    },
    {
      "cell_type": "markdown",
      "source": [
        "### 2. Python 其實也有集合!"
      ],
      "metadata": {
        "id": "GAm-zUzJMQad"
      }
    },
    {
      "cell_type": "code",
      "source": [
        "egg = [1, 2, 3]\n",
        "ham = [3, 2, 1]"
      ],
      "metadata": {
        "id": "NQ2WCbtLMPJy"
      },
      "execution_count": 9,
      "outputs": []
    },
    {
      "cell_type": "code",
      "source": [
        "set_egg = set(egg)\n",
        "set_ham = set(ham)"
      ],
      "metadata": {
        "id": "91QJNAG4MYJj"
      },
      "execution_count": 10,
      "outputs": []
    },
    {
      "cell_type": "code",
      "source": [
        "set_egg == set_ham"
      ],
      "metadata": {
        "colab": {
          "base_uri": "https://localhost:8080/"
        },
        "id": "VvSNSpUEMba6",
        "outputId": "804fede8-5ee7-49dd-bc0c-4dad4dbf5999"
      },
      "execution_count": 11,
      "outputs": [
        {
          "output_type": "execute_result",
          "data": {
            "text/plain": [
              "True"
            ]
          },
          "metadata": {},
          "execution_count": 11
        }
      ]
    },
    {
      "cell_type": "markdown",
      "source": [
        "重覆的元素也會被忽略。"
      ],
      "metadata": {
        "id": "1DEQc4s3MezB"
      }
    },
    {
      "cell_type": "code",
      "source": [
        "set_egg = set([3, 2, 3])\n",
        "set_ham = set([2, 3])"
      ],
      "metadata": {
        "id": "wuWlMfk3MdGk"
      },
      "execution_count": 12,
      "outputs": []
    },
    {
      "cell_type": "code",
      "source": [
        "set_egg == set_ham"
      ],
      "metadata": {
        "colab": {
          "base_uri": "https://localhost:8080/"
        },
        "id": "9gWQUTqAM1QG",
        "outputId": "dbf8b224-6fd0-48fd-99f6-98dbd6cc3eaa"
      },
      "execution_count": 13,
      "outputs": [
        {
          "output_type": "execute_result",
          "data": {
            "text/plain": [
              "True"
            ]
          },
          "metadata": {},
          "execution_count": 13
        }
      ]
    },
    {
      "cell_type": "code",
      "source": [
        "set_egg"
      ],
      "metadata": {
        "colab": {
          "base_uri": "https://localhost:8080/"
        },
        "id": "LXEWNnfpM3fq",
        "outputId": "c43c46f1-89b0-4ba4-82d5-5cd44e93e565"
      },
      "execution_count": 14,
      "outputs": [
        {
          "output_type": "execute_result",
          "data": {
            "text/plain": [
              "{2, 3}"
            ]
          },
          "metadata": {},
          "execution_count": 14
        }
      ]
    },
    {
      "cell_type": "markdown",
      "source": [
        "這有什麼用呢? 其實有很多用處, 比如說我們想算一段文字中出現多少個不同的字。"
      ],
      "metadata": {
        "id": "GFWocDJXM6GT"
      }
    },
    {
      "cell_type": "code",
      "source": [
        "sentence = \"在政大不時會聽到阿鶇招牌聲音，就是很像腳踏車煞車「嘰—」的聲音。但最初都沒看到阿鶇的身影，所以我就有想「尋找台灣紫嘯鶇」的念頭。後來發現這實在是多餘的，因為阿鶇時不時會進到我們果夫樓、行政大樓等等逛大街。\""
      ],
      "metadata": {
        "id": "9WKxFBeVM4TS"
      },
      "execution_count": 15,
      "outputs": []
    },
    {
      "cell_type": "code",
      "source": [
        "len(sentence)"
      ],
      "metadata": {
        "colab": {
          "base_uri": "https://localhost:8080/"
        },
        "id": "SUavViwSNXH4",
        "outputId": "2f935f25-9cf3-48f2-8dd3-aab176d8973a"
      },
      "execution_count": 16,
      "outputs": [
        {
          "output_type": "execute_result",
          "data": {
            "text/plain": [
              "102"
            ]
          },
          "metadata": {},
          "execution_count": 16
        }
      ]
    },
    {
      "cell_type": "code",
      "source": [
        "message = list(sentence)"
      ],
      "metadata": {
        "id": "jlcdTiS0NYlG"
      },
      "execution_count": 17,
      "outputs": []
    },
    {
      "cell_type": "markdown",
      "source": [
        "可以看一下 `message` 內容 (太長了先省略)。"
      ],
      "metadata": {
        "id": "V54Cz6KvcoBO"
      }
    },
    {
      "cell_type": "code",
      "source": [
        "#message"
      ],
      "metadata": {
        "id": "qfdojMXDNePK"
      },
      "execution_count": 18,
      "outputs": []
    },
    {
      "cell_type": "code",
      "source": [
        "len(set(message))"
      ],
      "metadata": {
        "colab": {
          "base_uri": "https://localhost:8080/"
        },
        "id": "Znt1vr4sNfAC",
        "outputId": "6aeb37c5-0e24-4601-f4eb-a02427d970e4"
      },
      "execution_count": 19,
      "outputs": [
        {
          "output_type": "execute_result",
          "data": {
            "text/plain": [
              "70"
            ]
          },
          "metadata": {},
          "execution_count": 19
        }
      ]
    },
    {
      "cell_type": "markdown",
      "source": [
        "有 70 個不同的字, 不過這是把標點符號算進去的。怎麼樣可以不算到標點符號呢? 當然有很多種做法, 我們這裡用個「非正統」寫法!"
      ],
      "metadata": {
        "id": "qacrTEtMNwG1"
      }
    },
    {
      "cell_type": "code",
      "source": [
        "egg = list(set(message))"
      ],
      "metadata": {
        "id": "Xs1m_oDwNj-s"
      },
      "execution_count": 20,
      "outputs": []
    },
    {
      "cell_type": "code",
      "source": [
        "egg.sort()"
      ],
      "metadata": {
        "id": "86i2fROWc4wk"
      },
      "execution_count": 21,
      "outputs": []
    },
    {
      "cell_type": "markdown",
      "source": [
        "觀察一下， 可以發現前後有 6 個標點符號。"
      ],
      "metadata": {
        "id": "aHD7JsiQeRc4"
      }
    },
    {
      "cell_type": "code",
      "source": [
        "#egg"
      ],
      "metadata": {
        "id": "4T74KaiaeQd2"
      },
      "execution_count": 22,
      "outputs": []
    },
    {
      "cell_type": "code",
      "source": [
        "len(egg)-6"
      ],
      "metadata": {
        "colab": {
          "base_uri": "https://localhost:8080/"
        },
        "id": "flde-IKqc5ww",
        "outputId": "2a7c57d0-e123-460a-e8d0-6aa66d0d4eb5"
      },
      "execution_count": 23,
      "outputs": [
        {
          "output_type": "execute_result",
          "data": {
            "text/plain": [
              "64"
            ]
          },
          "metadata": {},
          "execution_count": 23
        }
      ]
    },
    {
      "cell_type": "markdown",
      "source": [
        "注意變成集合之後, 是不能換的排序 (沒有順序), 所以也不能拿出第幾個元素。"
      ],
      "metadata": {
        "id": "1KJ2qlEAezHY"
      }
    },
    {
      "cell_type": "code",
      "source": [
        "set_egg = set(egg)"
      ],
      "metadata": {
        "id": "44xn9XxYeFtP"
      },
      "execution_count": 24,
      "outputs": []
    },
    {
      "cell_type": "code",
      "source": [
        "set_egg.sort()"
      ],
      "metadata": {
        "colab": {
          "base_uri": "https://localhost:8080/",
          "height": 172
        },
        "id": "cfq4BVoXfD6P",
        "outputId": "ea188438-69e8-4aa7-ccb3-e3894957331e"
      },
      "execution_count": 25,
      "outputs": [
        {
          "output_type": "error",
          "ename": "AttributeError",
          "evalue": "ignored",
          "traceback": [
            "\u001b[0;31m---------------------------------------------------------------------------\u001b[0m",
            "\u001b[0;31mAttributeError\u001b[0m                            Traceback (most recent call last)",
            "\u001b[0;32m<ipython-input-25-406b00700332>\u001b[0m in \u001b[0;36m<module>\u001b[0;34m\u001b[0m\n\u001b[0;32m----> 1\u001b[0;31m \u001b[0mset_egg\u001b[0m\u001b[0;34m.\u001b[0m\u001b[0msort\u001b[0m\u001b[0;34m(\u001b[0m\u001b[0;34m)\u001b[0m\u001b[0;34m\u001b[0m\u001b[0;34m\u001b[0m\u001b[0m\n\u001b[0m",
            "\u001b[0;31mAttributeError\u001b[0m: 'set' object has no attribute 'sort'"
          ]
        }
      ]
    },
    {
      "cell_type": "code",
      "source": [
        "set_egg[0]"
      ],
      "metadata": {
        "id": "dg3EriNLfFcu"
      },
      "execution_count": null,
      "outputs": []
    },
    {
      "cell_type": "markdown",
      "source": [
        "但是一一拿出裡面的原素還是可以的!"
      ],
      "metadata": {
        "id": "9gGEWZuLfH9h"
      }
    },
    {
      "cell_type": "code",
      "source": [
        "for c in set_egg:\n",
        "    print(c, end='*')"
      ],
      "metadata": {
        "colab": {
          "base_uri": "https://localhost:8080/"
        },
        "id": "PRpZrYaMfHFq",
        "outputId": "eb412214-264f-4b88-857e-7647d1804685"
      },
      "execution_count": 26,
      "outputs": [
        {
          "output_type": "stream",
          "name": "stdout",
          "text": [
            "想*所*尋*夫*。*嘰*進*為*、*實*車*「*紫*像*到*們*台*最*不*身*聲*餘*，*就*」*找*沒*來*在*招*—*會*煞*頭*是*灣*街*有*初*很*等*腳*牌*多*音*阿*發*踏*影*時*的*行*但*樓*嘯*看*因*這*鶇*現*念*我*聽*果*都*逛*大*政*後*以*"
          ]
        }
      ]
    },
    {
      "cell_type": "markdown",
      "source": [
        "### 3. 集合的運算"
      ],
      "metadata": {
        "id": "jlws9qDOgbM-"
      }
    },
    {
      "cell_type": "markdown",
      "source": [
        "某天還在宿舍的時候, 有颱風要來, 你和室友開始要準備一些東西, 你們分別列了需要物品的清單。假設你列的是這樣。"
      ],
      "metadata": {
        "id": "rh0_cuF7id0f"
      }
    },
    {
      "cell_type": "code",
      "source": [
        "X = {\"泡麵\", \"手電筒\", \"水\", \"零食\"}"
      ],
      "metadata": {
        "id": "jElhesX7fXLy"
      },
      "execution_count": 27,
      "outputs": []
    },
    {
      "cell_type": "markdown",
      "source": [
        "你的室友列的是這樣。"
      ],
      "metadata": {
        "id": "5PucP6bMjEh5"
      }
    },
    {
      "cell_type": "code",
      "source": [
        "Y = {\"麵包\", \"零食\", \"咖啡濾泡包\"}"
      ],
      "metadata": {
        "id": "O4e0A-GSjHmb"
      },
      "execution_count": 28,
      "outputs": []
    },
    {
      "cell_type": "markdown",
      "source": [
        "我們可以看看有沒有人是想到對方想的全部。"
      ],
      "metadata": {
        "id": "Ynbn93I_j-NF"
      }
    },
    {
      "cell_type": "code",
      "source": [
        "X.issubset(Y)"
      ],
      "metadata": {
        "colab": {
          "base_uri": "https://localhost:8080/"
        },
        "id": "Y4eibEd9jlIa",
        "outputId": "35ddb193-46ae-44e4-e6e7-dbac94acf86e"
      },
      "execution_count": 29,
      "outputs": [
        {
          "output_type": "execute_result",
          "data": {
            "text/plain": [
              "False"
            ]
          },
          "metadata": {},
          "execution_count": 29
        }
      ]
    },
    {
      "cell_type": "code",
      "source": [
        "Y.issubset(X)"
      ],
      "metadata": {
        "colab": {
          "base_uri": "https://localhost:8080/"
        },
        "id": "fS18EgK9hFDo",
        "outputId": "d67f495b-b9a3-44a4-a303-cc4d40d08a2a"
      },
      "execution_count": 30,
      "outputs": [
        {
          "output_type": "execute_result",
          "data": {
            "text/plain": [
              "False"
            ]
          },
          "metadata": {},
          "execution_count": 30
        }
      ]
    },
    {
      "cell_type": "markdown",
      "source": [
        "這也不錯, 沒人想到對方的完整版。我們可以用聯集做出完成清單。"
      ],
      "metadata": {
        "id": "es4mEStFkkcD"
      }
    },
    {
      "cell_type": "code",
      "source": [
        "Z = X.union(Y)"
      ],
      "metadata": {
        "id": "lwQ8HaHfhILc"
      },
      "execution_count": 31,
      "outputs": []
    },
    {
      "cell_type": "code",
      "source": [
        "Z"
      ],
      "metadata": {
        "colab": {
          "base_uri": "https://localhost:8080/"
        },
        "id": "L0Oll78ghJ9T",
        "outputId": "e7c36e29-ed2d-47da-d0aa-b3f9d0983c0d"
      },
      "execution_count": 32,
      "outputs": [
        {
          "output_type": "execute_result",
          "data": {
            "text/plain": [
              "{'咖啡濾泡包', '手電筒', '水', '泡麵', '零食', '麵包'}"
            ]
          },
          "metadata": {},
          "execution_count": 32
        }
      ]
    },
    {
      "cell_type": "markdown",
      "source": [
        "檢查一下某件物品有沒有在清單之中。"
      ],
      "metadata": {
        "id": "NyU3uGBxkw_7"
      }
    },
    {
      "cell_type": "code",
      "source": [
        "\"泡麵\" in Z"
      ],
      "metadata": {
        "colab": {
          "base_uri": "https://localhost:8080/"
        },
        "id": "zcsKJKbTkv9X",
        "outputId": "ef6f504a-423d-4b2a-b960-0dfc8b045d55"
      },
      "execution_count": 33,
      "outputs": [
        {
          "output_type": "execute_result",
          "data": {
            "text/plain": [
              "True"
            ]
          },
          "metadata": {},
          "execution_count": 33
        }
      ]
    },
    {
      "cell_type": "code",
      "source": [
        "\"洋芉片\" in Z"
      ],
      "metadata": {
        "colab": {
          "base_uri": "https://localhost:8080/"
        },
        "id": "jGH-T5N5k4SA",
        "outputId": "47e72162-c4b8-4628-f8b7-63c9e7246ba3"
      },
      "execution_count": 34,
      "outputs": [
        {
          "output_type": "execute_result",
          "data": {
            "text/plain": [
              "False"
            ]
          },
          "metadata": {},
          "execution_count": 34
        }
      ]
    },
    {
      "cell_type": "markdown",
      "source": [
        "當然也可以看交集。"
      ],
      "metadata": {
        "id": "hoGGIO-elDkO"
      }
    },
    {
      "cell_type": "code",
      "source": [
        "X.intersection(Y)"
      ],
      "metadata": {
        "colab": {
          "base_uri": "https://localhost:8080/"
        },
        "id": "aSODkZIulFdW",
        "outputId": "b30d73a6-1456-4b54-a1d3-14f7a7a9d900"
      },
      "execution_count": 35,
      "outputs": [
        {
          "output_type": "execute_result",
          "data": {
            "text/plain": [
              "{'零食'}"
            ]
          },
          "metadata": {},
          "execution_count": 35
        }
      ]
    },
    {
      "cell_type": "markdown",
      "source": [
        "還有個很有趣的 \"差集\" 運算, 可以看出一個人想到, 另一個人沒想到的。"
      ],
      "metadata": {
        "id": "HdH_GZpYlYPi"
      }
    },
    {
      "cell_type": "code",
      "source": [
        "X - Y"
      ],
      "metadata": {
        "colab": {
          "base_uri": "https://localhost:8080/"
        },
        "id": "ybRYX6cIlnZ3",
        "outputId": "54296998-50e2-4efe-e8de-2f783ddaa8ac"
      },
      "execution_count": 36,
      "outputs": [
        {
          "output_type": "execute_result",
          "data": {
            "text/plain": [
              "{'手電筒', '水', '泡麵'}"
            ]
          },
          "metadata": {},
          "execution_count": 36
        }
      ]
    },
    {
      "cell_type": "code",
      "source": [
        "Y - X"
      ],
      "metadata": {
        "colab": {
          "base_uri": "https://localhost:8080/"
        },
        "id": "TMDPrM83lpW_",
        "outputId": "dda0d7c6-f909-4b5c-a3fe-059788ffa76c"
      },
      "execution_count": 37,
      "outputs": [
        {
          "output_type": "execute_result",
          "data": {
            "text/plain": [
              "{'咖啡濾泡包', '麵包'}"
            ]
          },
          "metadata": {},
          "execution_count": 37
        }
      ]
    },
    {
      "cell_type": "markdown",
      "source": [
        "或者最後清單中你遺漏的。"
      ],
      "metadata": {
        "id": "IRuU_Tgclr3c"
      }
    },
    {
      "cell_type": "code",
      "source": [
        "Z - X"
      ],
      "metadata": {
        "colab": {
          "base_uri": "https://localhost:8080/"
        },
        "id": "uLefhDcrlvbf",
        "outputId": "91dbbc56-e41b-431a-9f77-a8baba57b5ea"
      },
      "execution_count": 38,
      "outputs": [
        {
          "output_type": "execute_result",
          "data": {
            "text/plain": [
              "{'咖啡濾泡包', '麵包'}"
            ]
          },
          "metadata": {},
          "execution_count": 38
        }
      ]
    },
    {
      "cell_type": "markdown",
      "source": [
        "### 4. 凱薩密碼"
      ],
      "metadata": {
        "id": "x59uHhWJl3si"
      }
    },
    {
      "cell_type": "markdown",
      "source": [
        "復習一下我們的 list comprehension"
      ],
      "metadata": {
        "id": "gDDJhtyZtSqh"
      }
    },
    {
      "cell_type": "code",
      "source": [
        "O = {2*n+1 for n in range(5)}"
      ],
      "metadata": {
        "id": "EX0ePvr8lqTH"
      },
      "execution_count": 39,
      "outputs": []
    },
    {
      "cell_type": "code",
      "source": [
        "O"
      ],
      "metadata": {
        "colab": {
          "base_uri": "https://localhost:8080/"
        },
        "id": "4XcvxiudlXyg",
        "outputId": "edfc23b9-95f8-43d0-a8d8-49fda9c671c5"
      },
      "execution_count": 40,
      "outputs": [
        {
          "output_type": "execute_result",
          "data": {
            "text/plain": [
              "{1, 3, 5, 7, 9}"
            ]
          },
          "metadata": {},
          "execution_count": 40
        }
      ]
    },
    {
      "cell_type": "markdown",
      "source": [
        "如果要強調順序, 可以用 `list` 確保是我們要的順序。"
      ],
      "metadata": {
        "id": "vDavCpAUtfcn"
      }
    },
    {
      "cell_type": "code",
      "source": [
        "O = [2*n+1 for n in range(5)]"
      ],
      "metadata": {
        "id": "_GsSqWG6lOTD"
      },
      "execution_count": 41,
      "outputs": []
    },
    {
      "cell_type": "code",
      "source": [
        "O"
      ],
      "metadata": {
        "colab": {
          "base_uri": "https://localhost:8080/"
        },
        "id": "pDyRX9zEtt9v",
        "outputId": "aab98656-97e9-4cae-968d-5fc621c18bc5"
      },
      "execution_count": 42,
      "outputs": [
        {
          "output_type": "execute_result",
          "data": {
            "text/plain": [
              "[1, 3, 5, 7, 9]"
            ]
          },
          "metadata": {},
          "execution_count": 42
        }
      ]
    },
    {
      "cell_type": "markdown",
      "source": [
        "這的確是個無聊的例子, 這裡來說點有趣的, 就是實作「凱薩密碼」。凱薩密碼加密的方式很簡單, 首先我們 先給每個英文字母一個數字, 例如 A 是 0, B 是 1, 等等的。換成密碼就是加上一個定數, 比如 說3。於是A加密會變成D,B變成E等等,就這麼簡單!\n",
        "\n",
        "英文字母怎麼換成數字 (或數字換成英文字母) 有很多種作法, 記得以前用過 Python 內建的方式 來做。"
      ],
      "metadata": {
        "id": "8Tj4imwxtxn9"
      }
    },
    {
      "cell_type": "code",
      "source": [
        "ord('A')"
      ],
      "metadata": {
        "id": "TFe_E2AQtugC",
        "colab": {
          "base_uri": "https://localhost:8080/"
        },
        "outputId": "d0dafd7c-29be-4348-8325-91a9766e64e6"
      },
      "execution_count": 43,
      "outputs": [
        {
          "output_type": "execute_result",
          "data": {
            "text/plain": [
              "65"
            ]
          },
          "metadata": {},
          "execution_count": 43
        }
      ]
    },
    {
      "cell_type": "markdown",
      "source": [
        "把數字再變成文字。"
      ],
      "metadata": {
        "id": "gf4rsqjWtwJJ"
      }
    },
    {
      "cell_type": "code",
      "source": [
        "chr(65)"
      ],
      "metadata": {
        "colab": {
          "base_uri": "https://localhost:8080/",
          "height": 35
        },
        "id": "ngoSKntlMqIP",
        "outputId": "3170395e-007b-44d0-a4ab-7399f5748de1"
      },
      "execution_count": 44,
      "outputs": [
        {
          "output_type": "execute_result",
          "data": {
            "text/plain": [
              "'A'"
            ],
            "application/vnd.google.colaboratory.intrinsic+json": {
              "type": "string"
            }
          },
          "metadata": {},
          "execution_count": 44
        }
      ]
    },
    {
      "cell_type": "markdown",
      "source": [
        "我們發現 A 的 (ASCII) 編碼是 65, 要變成 0 當然就減 65 就好。於是我們可以試著加密一個字。"
      ],
      "metadata": {
        "id": "Ctb-5pwwMxde"
      }
    },
    {
      "cell_type": "code",
      "source": [
        "plain = \"APPLE\""
      ],
      "metadata": {
        "id": "9280ENLNMr4Q"
      },
      "execution_count": 45,
      "outputs": []
    },
    {
      "cell_type": "markdown",
      "source": [
        "創造一個串列, 內容是 \"A\", \"P\", \"P\", \"L\", \"E\" 代表的數字。"
      ],
      "metadata": {
        "id": "eiRGtdwWblwF"
      }
    },
    {
      "cell_type": "code",
      "source": [
        "[ord(c)-65 for c in plain]"
      ],
      "metadata": {
        "colab": {
          "base_uri": "https://localhost:8080/"
        },
        "id": "rKdMWf6vbk9w",
        "outputId": "771e4a49-30f0-4a5e-8fc3-0f611e730013"
      },
      "execution_count": 47,
      "outputs": [
        {
          "output_type": "execute_result",
          "data": {
            "text/plain": [
              "[0, 15, 15, 11, 4]"
            ]
          },
          "metadata": {},
          "execution_count": 47
        }
      ]
    },
    {
      "cell_type": "markdown",
      "source": [
        "這時我們把一個數字加上固定的數, 比如說 3, 就代表凱薩密碼的數字。"
      ],
      "metadata": {
        "id": "_lmPSVxrjB1M"
      }
    },
    {
      "cell_type": "code",
      "source": [
        "[ord(c)-65+3 for c in plain]"
      ],
      "metadata": {
        "colab": {
          "base_uri": "https://localhost:8080/"
        },
        "id": "QLeJ4NUabekV",
        "outputId": "2d65c21b-7f15-4e1b-b45e-24a3576defa0"
      },
      "execution_count": 48,
      "outputs": [
        {
          "output_type": "execute_result",
          "data": {
            "text/plain": [
              "[3, 18, 18, 14, 7]"
            ]
          },
          "metadata": {},
          "execution_count": 48
        }
      ]
    },
    {
      "cell_type": "markdown",
      "source": [
        "你一定會想到, \"Z\" 是 25 (第 26 個數字), 再加 3 就爆了 (28)。因此, 算到 26 要再從 0 開始, 比如 \"Z\" 是 2"
      ],
      "metadata": {
        "id": "R5b3X8rVjc55"
      }
    },
    {
      "cell_type": "code",
      "source": [
        "[(ord(c)-65+3)%26 for c in plain]"
      ],
      "metadata": {
        "colab": {
          "base_uri": "https://localhost:8080/"
        },
        "id": "MhzsUadijWyE",
        "outputId": "7a1cd95e-0336-4473-83da-b64768082ea8"
      },
      "execution_count": 50,
      "outputs": [
        {
          "output_type": "execute_result",
          "data": {
            "text/plain": [
              "[3, 18, 18, 14, 7]"
            ]
          },
          "metadata": {},
          "execution_count": 50
        }
      ]
    },
    {
      "cell_type": "markdown",
      "source": [
        "來個有 \"Z\" 的字。"
      ],
      "metadata": {
        "id": "szp3slRFkFnU"
      }
    },
    {
      "cell_type": "code",
      "source": [
        "[(ord(c)-65+3)%26 for c in \"ZOO\"]"
      ],
      "metadata": {
        "colab": {
          "base_uri": "https://localhost:8080/"
        },
        "id": "NGDj0lIljrWk",
        "outputId": "de8c4d46-0ec0-4228-8654-aff310a00d54"
      },
      "execution_count": 51,
      "outputs": [
        {
          "output_type": "execute_result",
          "data": {
            "text/plain": [
              "[2, 17, 17]"
            ]
          },
          "metadata": {},
          "execution_count": 51
        }
      ]
    },
    {
      "cell_type": "markdown",
      "source": [
        "最後加上 65, 就是 ASCII 碼。"
      ],
      "metadata": {
        "id": "e1gy7715kR9b"
      }
    },
    {
      "cell_type": "code",
      "source": [
        "[(ord(c)-65+3)%26 + 65 for c in plain]"
      ],
      "metadata": {
        "colab": {
          "base_uri": "https://localhost:8080/"
        },
        "id": "Cu2DfP0PkN0_",
        "outputId": "4fbfd5bb-c047-4fe8-aac3-0536d65027ae"
      },
      "execution_count": 52,
      "outputs": [
        {
          "output_type": "execute_result",
          "data": {
            "text/plain": [
              "[68, 83, 83, 79, 72]"
            ]
          },
          "metadata": {},
          "execution_count": 52
        }
      ]
    },
    {
      "cell_type": "markdown",
      "source": [
        "於是我們就可以顯示出這個字"
      ],
      "metadata": {
        "id": "Sf23oRJakb4l"
      }
    },
    {
      "cell_type": "code",
      "source": [
        "egg = [chr((ord(c)-65+3)%26+65) for c in plain]"
      ],
      "metadata": {
        "id": "-EmMHi6vkZuT"
      },
      "execution_count": 54,
      "outputs": []
    },
    {
      "cell_type": "code",
      "source": [
        "egg"
      ],
      "metadata": {
        "colab": {
          "base_uri": "https://localhost:8080/"
        },
        "id": "KAvQfH3Vkr6b",
        "outputId": "b1aeb213-66fe-4811-cd2d-e697daa11037"
      },
      "execution_count": 55,
      "outputs": [
        {
          "output_type": "execute_result",
          "data": {
            "text/plain": [
              "['D', 'S', 'S', 'O', 'H']"
            ]
          },
          "metadata": {},
          "execution_count": 55
        }
      ]
    },
    {
      "cell_type": "markdown",
      "source": [
        "串起來!"
      ],
      "metadata": {
        "id": "XRfXDeJUkwJa"
      }
    },
    {
      "cell_type": "code",
      "source": [
        "cipher = \"\".join(egg)"
      ],
      "metadata": {
        "id": "X-2lgH2CkurM"
      },
      "execution_count": 56,
      "outputs": []
    },
    {
      "cell_type": "code",
      "source": [
        "cipher"
      ],
      "metadata": {
        "colab": {
          "base_uri": "https://localhost:8080/",
          "height": 35
        },
        "id": "K8KFkJUvk0h1",
        "outputId": "9a2aea14-3bc9-41bb-e9f5-4e0b6854a38b"
      },
      "execution_count": 57,
      "outputs": [
        {
          "output_type": "execute_result",
          "data": {
            "text/plain": [
              "'DSSOH'"
            ],
            "application/vnd.google.colaboratory.intrinsic+json": {
              "type": "string"
            }
          },
          "metadata": {},
          "execution_count": 57
        }
      ]
    },
    {
      "cell_type": "markdown",
      "source": [
        "### 5. 冰雹數列\n",
        "\n",
        "前一項數字為 $n$, 下一項為:\n",
        "\n",
        "$$\\begin{cases} \n",
        "\\dfrac{n}{2} & \\mbox{當 $n$ 是偶數}\\\\\n",
        "3 n + 1 & \\mbox{當 $n$ 是奇數}\n",
        "\\end{cases}$$"
      ],
      "metadata": {
        "id": "7PbRdCF7lk59"
      }
    },
    {
      "cell_type": "code",
      "source": [
        "n = 3\n",
        "\n",
        "hail = [n]\n",
        "\n",
        "while n != 1:\n",
        "    if n%2:\n",
        "        n = 3*n+1\n",
        "        hail.append(n)\n",
        "    else:\n",
        "        n = int(n/2)\n",
        "        hail.append(n)"
      ],
      "metadata": {
        "id": "ks-hPiElk1L6"
      },
      "execution_count": 66,
      "outputs": []
    },
    {
      "cell_type": "code",
      "source": [
        "def hail_seq(n):\n",
        "    hail = [n]\n",
        "\n",
        "    while n != 1:\n",
        "        if n%2:\n",
        "            n = 3*n+1\n",
        "            hail.append(n)\n",
        "        else:\n",
        "            n = int(n/2)\n",
        "            hail.append(n)\n",
        "\n",
        "    return hail"
      ],
      "metadata": {
        "id": "SHvMnuD2nz8U"
      },
      "execution_count": 68,
      "outputs": []
    },
    {
      "cell_type": "code",
      "source": [
        "hail_seq(27)"
      ],
      "metadata": {
        "colab": {
          "base_uri": "https://localhost:8080/"
        },
        "id": "Yp3EvFUln3-z",
        "outputId": "1b56fa98-42f8-4d51-fc50-9fa9978bcb6d"
      },
      "execution_count": 69,
      "outputs": [
        {
          "output_type": "execute_result",
          "data": {
            "text/plain": [
              "[27,\n",
              " 82,\n",
              " 41,\n",
              " 124,\n",
              " 62,\n",
              " 31,\n",
              " 94,\n",
              " 47,\n",
              " 142,\n",
              " 71,\n",
              " 214,\n",
              " 107,\n",
              " 322,\n",
              " 161,\n",
              " 484,\n",
              " 242,\n",
              " 121,\n",
              " 364,\n",
              " 182,\n",
              " 91,\n",
              " 274,\n",
              " 137,\n",
              " 412,\n",
              " 206,\n",
              " 103,\n",
              " 310,\n",
              " 155,\n",
              " 466,\n",
              " 233,\n",
              " 700,\n",
              " 350,\n",
              " 175,\n",
              " 526,\n",
              " 263,\n",
              " 790,\n",
              " 395,\n",
              " 1186,\n",
              " 593,\n",
              " 1780,\n",
              " 890,\n",
              " 445,\n",
              " 1336,\n",
              " 668,\n",
              " 334,\n",
              " 167,\n",
              " 502,\n",
              " 251,\n",
              " 754,\n",
              " 377,\n",
              " 1132,\n",
              " 566,\n",
              " 283,\n",
              " 850,\n",
              " 425,\n",
              " 1276,\n",
              " 638,\n",
              " 319,\n",
              " 958,\n",
              " 479,\n",
              " 1438,\n",
              " 719,\n",
              " 2158,\n",
              " 1079,\n",
              " 3238,\n",
              " 1619,\n",
              " 4858,\n",
              " 2429,\n",
              " 7288,\n",
              " 3644,\n",
              " 1822,\n",
              " 911,\n",
              " 2734,\n",
              " 1367,\n",
              " 4102,\n",
              " 2051,\n",
              " 6154,\n",
              " 3077,\n",
              " 9232,\n",
              " 4616,\n",
              " 2308,\n",
              " 1154,\n",
              " 577,\n",
              " 1732,\n",
              " 866,\n",
              " 433,\n",
              " 1300,\n",
              " 650,\n",
              " 325,\n",
              " 976,\n",
              " 488,\n",
              " 244,\n",
              " 122,\n",
              " 61,\n",
              " 184,\n",
              " 92,\n",
              " 46,\n",
              " 23,\n",
              " 70,\n",
              " 35,\n",
              " 106,\n",
              " 53,\n",
              " 160,\n",
              " 80,\n",
              " 40,\n",
              " 20,\n",
              " 10,\n",
              " 5,\n",
              " 16,\n",
              " 8,\n",
              " 4,\n",
              " 2,\n",
              " 1]"
            ]
          },
          "metadata": {},
          "execution_count": 69
        }
      ]
    },
    {
      "cell_type": "code",
      "source": [
        "plt.plot(hail_seq(27))"
      ],
      "metadata": {
        "colab": {
          "base_uri": "https://localhost:8080/",
          "height": 283
        },
        "id": "N1JSsBHVomCC",
        "outputId": "bea9bc06-6a50-4f45-8d73-54d367674c03"
      },
      "execution_count": 71,
      "outputs": [
        {
          "output_type": "execute_result",
          "data": {
            "text/plain": [
              "[<matplotlib.lines.Line2D at 0x7fbad5239b80>]"
            ]
          },
          "metadata": {},
          "execution_count": 71
        },
        {
          "output_type": "display_data",
          "data": {
            "text/plain": [
              "<Figure size 432x288 with 1 Axes>"
            ],
            "image/png": "[encoded data removed]"
          },
          "metadata": {
            "needs_background": "light"
          }
        }
      ]
    },
    {
      "cell_type": "markdown",
      "source": [
        "集合也可以增增減減嗎? 答案是肯定的。"
      ],
      "metadata": {
        "id": "zlijfNFzpfvY"
      }
    },
    {
      "cell_type": "code",
      "source": [
        "egg = {1, 2, 3, 4}"
      ],
      "metadata": {
        "id": "MYqitW2LpfC_"
      },
      "execution_count": 72,
      "outputs": []
    },
    {
      "cell_type": "code",
      "source": [
        "egg.add(94)"
      ],
      "metadata": {
        "id": "F1UFx-T4po_T"
      },
      "execution_count": 74,
      "outputs": []
    },
    {
      "cell_type": "code",
      "source": [
        "egg.add(87)"
      ],
      "metadata": {
        "id": "kfLv2C0jtEZA"
      },
      "execution_count": 75,
      "outputs": []
    },
    {
      "cell_type": "code",
      "source": [
        "egg"
      ],
      "metadata": {
        "colab": {
          "base_uri": "https://localhost:8080/"
        },
        "id": "xwhhWEE2tM0l",
        "outputId": "ff718da9-8c6e-48cc-d12f-3998d7faf223"
      },
      "execution_count": 76,
      "outputs": [
        {
          "output_type": "execute_result",
          "data": {
            "text/plain": [
              "{1, 2, 3, 4, 87, 94}"
            ]
          },
          "metadata": {},
          "execution_count": 76
        }
      ]
    },
    {
      "cell_type": "code",
      "source": [
        "egg.remove(4)"
      ],
      "metadata": {
        "id": "OuGiKDs6tNKa"
      },
      "execution_count": 77,
      "outputs": []
    },
    {
      "cell_type": "code",
      "source": [
        "egg"
      ],
      "metadata": {
        "colab": {
          "base_uri": "https://localhost:8080/"
        },
        "id": "Cb2_noVptQq6",
        "outputId": "5fe0bb4e-bc7b-47a0-a7f5-5106ef7b9c23"
      },
      "execution_count": 78,
      "outputs": [
        {
          "output_type": "execute_result",
          "data": {
            "text/plain": [
              "{1, 2, 3, 87, 94}"
            ]
          },
          "metadata": {},
          "execution_count": 78
        }
      ]
    },
    {
      "cell_type": "markdown",
      "source": [
        "### 6. 笛卡兒乘積\n",
        "\n",
        "我們來做出所有樸克牌!"
      ],
      "metadata": {
        "id": "XiI9-TFDo1wQ"
      }
    },
    {
      "cell_type": "code",
      "source": [
        "suits = list(\"♣♦♥♠\")\n",
        "ranks = list(\"A23456789TJQK\")"
      ],
      "metadata": {
        "id": "jDUZwBTFop7y"
      },
      "execution_count": 88,
      "outputs": []
    },
    {
      "cell_type": "code",
      "source": [
        "suits"
      ],
      "metadata": {
        "colab": {
          "base_uri": "https://localhost:8080/"
        },
        "id": "ZbwTzQbz0fWN",
        "outputId": "1bd4e39b-fe46-4380-c967-17430d728c53"
      },
      "execution_count": 89,
      "outputs": [
        {
          "output_type": "execute_result",
          "data": {
            "text/plain": [
              "['♣', '♦', '♥', '♠']"
            ]
          },
          "metadata": {},
          "execution_count": 89
        }
      ]
    },
    {
      "cell_type": "code",
      "source": [
        "ranks[9]=\"10\""
      ],
      "metadata": {
        "id": "w-YQ01NN0V1g"
      },
      "execution_count": 90,
      "outputs": []
    },
    {
      "cell_type": "code",
      "source": [
        "ranks"
      ],
      "metadata": {
        "colab": {
          "base_uri": "https://localhost:8080/"
        },
        "id": "eynBM7nL0YVh",
        "outputId": "09149898-5f00-4dbd-e2ec-6b7aa29850f1"
      },
      "execution_count": 91,
      "outputs": [
        {
          "output_type": "execute_result",
          "data": {
            "text/plain": [
              "['A', '2', '3', '4', '5', '6', '7', '8', '9', '10', 'J', 'Q', 'K']"
            ]
          },
          "metadata": {},
          "execution_count": 91
        }
      ]
    },
    {
      "cell_type": "code",
      "source": [
        "deck = [(s,r) for s in suits for r in ranks]"
      ],
      "metadata": {
        "id": "3El9FP440dYa"
      },
      "execution_count": 92,
      "outputs": []
    },
    {
      "cell_type": "code",
      "source": [
        "deck"
      ],
      "metadata": {
        "colab": {
          "base_uri": "https://localhost:8080/"
        },
        "id": "1Kb5LY570lse",
        "outputId": "a6ffbfc4-e2bb-494e-c0a6-6cddbc4aed73"
      },
      "execution_count": 93,
      "outputs": [
        {
          "output_type": "execute_result",
          "data": {
            "text/plain": [
              "[('♣', 'A'),\n",
              " ('♣', '2'),\n",
              " ('♣', '3'),\n",
              " ('♣', '4'),\n",
              " ('♣', '5'),\n",
              " ('♣', '6'),\n",
              " ('♣', '7'),\n",
              " ('♣', '8'),\n",
              " ('♣', '9'),\n",
              " ('♣', '10'),\n",
              " ('♣', 'J'),\n",
              " ('♣', 'Q'),\n",
              " ('♣', 'K'),\n",
              " ('♦', 'A'),\n",
              " ('♦', '2'),\n",
              " ('♦', '3'),\n",
              " ('♦', '4'),\n",
              " ('♦', '5'),\n",
              " ('♦', '6'),\n",
              " ('♦', '7'),\n",
              " ('♦', '8'),\n",
              " ('♦', '9'),\n",
              " ('♦', '10'),\n",
              " ('♦', 'J'),\n",
              " ('♦', 'Q'),\n",
              " ('♦', 'K'),\n",
              " ('♥', 'A'),\n",
              " ('♥', '2'),\n",
              " ('♥', '3'),\n",
              " ('♥', '4'),\n",
              " ('♥', '5'),\n",
              " ('♥', '6'),\n",
              " ('♥', '7'),\n",
              " ('♥', '8'),\n",
              " ('♥', '9'),\n",
              " ('♥', '10'),\n",
              " ('♥', 'J'),\n",
              " ('♥', 'Q'),\n",
              " ('♥', 'K'),\n",
              " ('♠', 'A'),\n",
              " ('♠', '2'),\n",
              " ('♠', '3'),\n",
              " ('♠', '4'),\n",
              " ('♠', '5'),\n",
              " ('♠', '6'),\n",
              " ('♠', '7'),\n",
              " ('♠', '8'),\n",
              " ('♠', '9'),\n",
              " ('♠', '10'),\n",
              " ('♠', 'J'),\n",
              " ('♠', 'Q'),\n",
              " ('♠', 'K')]"
            ]
          },
          "metadata": {},
          "execution_count": 93
        }
      ]
    },
    {
      "cell_type": "code",
      "source": [
        "len(deck)"
      ],
      "metadata": {
        "colab": {
          "base_uri": "https://localhost:8080/"
        },
        "id": "8_7TqzZR0mKz",
        "outputId": "58ebcc50-9919-4bbf-bf48-241cb404c7d9"
      },
      "execution_count": 94,
      "outputs": [
        {
          "output_type": "execute_result",
          "data": {
            "text/plain": [
              "52"
            ]
          },
          "metadata": {},
          "execution_count": 94
        }
      ]
    },
    {
      "cell_type": "markdown",
      "source": [
        "### 7. 拍拍機器人的三種做法"
      ],
      "metadata": {
        "id": "Y2Kftp3F0wM6"
      }
    },
    {
      "cell_type": "code",
      "source": [
        "def chat(message):\n",
        "    response = \"拍拍!\"\n",
        "    print(\">>\" + message)\n",
        "    print(response) "
      ],
      "metadata": {
        "id": "k_zZGyis0toI"
      },
      "execution_count": 95,
      "outputs": []
    },
    {
      "cell_type": "code",
      "source": [
        "message = input()\n",
        "\n",
        "chat(message)"
      ],
      "metadata": {
        "colab": {
          "base_uri": "https://localhost:8080/"
        },
        "id": "hXnBEzms1B5_",
        "outputId": "2128d95c-ac0e-428e-f5e5-cb9932b8bfc8"
      },
      "execution_count": 96,
      "outputs": [
        {
          "output_type": "stream",
          "name": "stdout",
          "text": [
            "我很難過。\n",
            ">>我很難過。\n",
            "拍拍!\n"
          ]
        }
      ]
    },
    {
      "cell_type": "markdown",
      "source": [
        "我們互動試試看。"
      ],
      "metadata": {
        "id": "Chrw3ZY117JO"
      }
    },
    {
      "cell_type": "code",
      "source": [
        "from ipywidgets import interact_manual"
      ],
      "metadata": {
        "id": "rofj7KQK1NyE"
      },
      "execution_count": 99,
      "outputs": []
    },
    {
      "cell_type": "code",
      "source": [
        "interact_manual(chat, message=\"你想說什麼呢?\");"
      ],
      "metadata": {
        "colab": {
          "base_uri": "https://localhost:8080/",
          "height": 117,
          "referenced_widgets": [
            "47a5052a1d4a4afb98520f27b49778e1",
            "f99f640ec469405eb01aaf5e95551bbf",
            "72779be4542145c6808284eb8ec140b3",
            "0c8358ec56d3408a9460912b847b9b17",
            "6a30ddc5898443259a098acaa62c8da1",
            "4df856659686429cbe3474167c03af27",
            "504498761cca48dc85cef9de0392f56b",
            "ec1223acb7e34aaf96806ffb9828a310",
            "9dfbe3cdb4bb49108bf4f29f72c8ecb5",
            "72ac13c43261420c85f367ea32995dd8"
          ]
        },
        "id": "MO97tZpd1rHd",
        "outputId": "5cdf606e-e71c-4a2b-f735-4921382df5c9"
      },
      "execution_count": 100,
      "outputs": [
        {
          "output_type": "display_data",
          "data": {
            "text/plain": [
              "interactive(children=(Text(value='你想說什麼呢?', description='message'), Button(description='Run Interact', style=B…"
            ],
            "application/vnd.jupyter.widget-view+json": {
              "version_major": 2,
              "version_minor": 0,
              "model_id": "47a5052a1d4a4afb98520f27b49778e1"
            }
          },
          "metadata": {}
        }
      ]
    },
    {
      "cell_type": "markdown",
      "source": [
        "這樣子只顯示一句話怪怪的... 我們來用三種方式來做一直聊下去的拍拍機器人。\n",
        "\n",
        "#### (1) 用 global 變數\n",
        "\n",
        "一般函式外的變數裡面是看不到的.."
      ],
      "metadata": {
        "id": "tZyu59gx2g91"
      }
    },
    {
      "cell_type": "code",
      "source": [
        "def add_one():\n",
        "    k = k + 1"
      ],
      "metadata": {
        "id": "nk319Rjn1v1t"
      },
      "execution_count": 101,
      "outputs": []
    },
    {
      "cell_type": "code",
      "source": [
        "k = 87\n",
        "\n",
        "add_one()"
      ],
      "metadata": {
        "colab": {
          "base_uri": "https://localhost:8080/",
          "height": 278
        },
        "id": "LJ1qEq494BAw",
        "outputId": "07680633-ae93-45b1-a8da-b2f62eb96b97"
      },
      "execution_count": 102,
      "outputs": [
        {
          "output_type": "error",
          "ename": "UnboundLocalError",
          "evalue": "ignored",
          "traceback": [
            "\u001b[0;31m---------------------------------------------------------------------------\u001b[0m",
            "\u001b[0;31mUnboundLocalError\u001b[0m                         Traceback (most recent call last)",
            "\u001b[0;32m<ipython-input-102-5478fc4157db>\u001b[0m in \u001b[0;36m<module>\u001b[0;34m\u001b[0m\n\u001b[1;32m      1\u001b[0m \u001b[0mk\u001b[0m \u001b[0;34m=\u001b[0m \u001b[0;36m87\u001b[0m\u001b[0;34m\u001b[0m\u001b[0;34m\u001b[0m\u001b[0m\n\u001b[1;32m      2\u001b[0m \u001b[0;34m\u001b[0m\u001b[0m\n\u001b[0;32m----> 3\u001b[0;31m \u001b[0madd_one\u001b[0m\u001b[0;34m(\u001b[0m\u001b[0;34m)\u001b[0m\u001b[0;34m\u001b[0m\u001b[0;34m\u001b[0m\u001b[0m\n\u001b[0m",
            "\u001b[0;32m<ipython-input-101-301c543da4ae>\u001b[0m in \u001b[0;36madd_one\u001b[0;34m()\u001b[0m\n\u001b[1;32m      1\u001b[0m \u001b[0;32mdef\u001b[0m \u001b[0madd_one\u001b[0m\u001b[0;34m(\u001b[0m\u001b[0;34m)\u001b[0m\u001b[0;34m:\u001b[0m\u001b[0;34m\u001b[0m\u001b[0;34m\u001b[0m\u001b[0m\n\u001b[0;32m----> 2\u001b[0;31m     \u001b[0mk\u001b[0m \u001b[0;34m=\u001b[0m \u001b[0mk\u001b[0m \u001b[0;34m+\u001b[0m \u001b[0;36m1\u001b[0m\u001b[0;34m\u001b[0m\u001b[0;34m\u001b[0m\u001b[0m\n\u001b[0m",
            "\u001b[0;31mUnboundLocalError\u001b[0m: local variable 'k' referenced before assignment"
          ]
        }
      ]
    },
    {
      "cell_type": "code",
      "source": [
        "def add_one():\n",
        "    global k\n",
        "    k = k + 1"
      ],
      "metadata": {
        "id": "FGm21UFh4EN3"
      },
      "execution_count": 103,
      "outputs": []
    },
    {
      "cell_type": "code",
      "source": [
        "k"
      ],
      "metadata": {
        "colab": {
          "base_uri": "https://localhost:8080/"
        },
        "id": "0XednwKN4Q9h",
        "outputId": "412c818b-e176-42cd-d129-7fa1a9270a4e"
      },
      "execution_count": 104,
      "outputs": [
        {
          "output_type": "execute_result",
          "data": {
            "text/plain": [
              "87"
            ]
          },
          "metadata": {},
          "execution_count": 104
        }
      ]
    },
    {
      "cell_type": "code",
      "source": [
        "add_one()"
      ],
      "metadata": {
        "id": "0xBs9DUp4RXP"
      },
      "execution_count": 105,
      "outputs": []
    },
    {
      "cell_type": "code",
      "source": [
        "k"
      ],
      "metadata": {
        "colab": {
          "base_uri": "https://localhost:8080/"
        },
        "id": "EQLuet5l4Sak",
        "outputId": "60bd8faa-e617-47f3-fdcf-59fafdd87df2"
      },
      "execution_count": 106,
      "outputs": [
        {
          "output_type": "execute_result",
          "data": {
            "text/plain": [
              "88"
            ]
          },
          "metadata": {},
          "execution_count": 106
        }
      ]
    },
    {
      "cell_type": "markdown",
      "source": [
        "有記憶的拍拍機器人!"
      ],
      "metadata": {
        "id": "Ctcr-5sf4Yz2"
      }
    },
    {
      "cell_type": "code",
      "source": [
        "def pypy1(message):\n",
        "    global history\n",
        "\n",
        "    response = \"拍拍!\"\n",
        "    history.append((message, response))\n",
        "\n",
        "    for (m, r) in history:\n",
        "        print(\">>\" + m)\n",
        "        print(r)\n",
        "        print()\n"
      ],
      "metadata": {
        "id": "cuR83ew_4S-V"
      },
      "execution_count": 107,
      "outputs": []
    },
    {
      "cell_type": "code",
      "source": [
        "history = []\n",
        "\n",
        "interact_manual(pypy1, message=\"你想說什麼呢？\");"
      ],
      "metadata": {
        "colab": {
          "base_uri": "https://localhost:8080/",
          "height": 241,
          "referenced_widgets": [
            "7e41224f44fb4c5198bea7aef8dd51db",
            "1ccd87ad84894cd28a9d797489ae10d3",
            "39d569effe24488aa30616263775c198",
            "79fe1a0681aa47ddbbaeb56f09e5137f",
            "fcd4f63215ea451a902278acaec37d69",
            "09ebaafe868e4a559670cd7a77ee7753",
            "c1d4f1cbcef64f15a67b6e22a990a9f9",
            "410a99fa37a04bf69c6549b37edd66e5",
            "7b7318319ee04dd48dc203e2a35e5801",
            "771165e158e9426985e101b34249fb86"
          ]
        },
        "id": "r5864Wft47XQ",
        "outputId": "0599ed19-0938-4b9d-889c-4edf93a860a7"
      },
      "execution_count": 109,
      "outputs": [
        {
          "output_type": "display_data",
          "data": {
            "text/plain": [
              "interactive(children=(Text(value='你想說什麼呢？', description='message'), Button(description='Run Interact', style=B…"
            ],
            "application/vnd.jupyter.widget-view+json": {
              "version_major": 2,
              "version_minor": 0,
              "model_id": "7e41224f44fb4c5198bea7aef8dd51db"
            }
          },
          "metadata": {}
        }
      ]
    },
    {
      "cell_type": "markdown",
      "source": [
        "#### (2) 獨立打造的 "
      ],
      "metadata": {
        "id": "o416yk8c5efp"
      }
    },
    {
      "cell_type": "code",
      "source": [
        "from ipywidgets import widgets\n",
        "from IPython.display import display"
      ],
      "metadata": {
        "id": "JL2RyYfL5K5C"
      },
      "execution_count": 110,
      "outputs": []
    },
    {
      "cell_type": "code",
      "source": [
        "text = widgets.Text()\n",
        "display(text)"
      ],
      "metadata": {
        "colab": {
          "base_uri": "https://localhost:8080/",
          "height": 49,
          "referenced_widgets": [
            "bd150133163d448f8bcafc499c8413f9",
            "a2599b7f3bf94bcfbc0a182bb8db17e9",
            "f12f2efd37fc4d06a7373d24aff5dfc1"
          ]
        },
        "id": "_B3o5YQB5ynu",
        "outputId": "51dcc838-6f3b-44f8-e375-23aa0d02dc89"
      },
      "execution_count": 111,
      "outputs": [
        {
          "output_type": "display_data",
          "data": {
            "text/plain": [
              "Text(value='')"
            ],
            "application/vnd.jupyter.widget-view+json": {
              "version_major": 2,
              "version_minor": 0,
              "model_id": "bd150133163d448f8bcafc499c8413f9"
            }
          },
          "metadata": {}
        }
      ]
    },
    {
      "cell_type": "code",
      "source": [
        "text = widgets.Text()\n",
        "display(text)\n",
        "\n",
        "def handle_submit(sender):\n",
        "    print(\">> \" + dtext.value)\n",
        "    print(\"拍拍\")\n",
        "    print()\n",
        "\n",
        "text.on_submit(handle_submit)"
      ],
      "metadata": {
        "colab": {
          "base_uri": "https://localhost:8080/",
          "height": 155,
          "referenced_widgets": [
            "b0b9a26f5aac4fecb9fa0422e6c70021",
            "48d102331bfa4cacaf372b07a12a34c5",
            "79decea242684577a8d826699cf6a93e"
          ]
        },
        "id": "vEsyCF4858sE",
        "outputId": "da75bbbc-707d-42b0-fea2-18a19525a990"
      },
      "execution_count": 112,
      "outputs": [
        {
          "output_type": "display_data",
          "data": {
            "text/plain": [
              "Text(value='')"
            ],
            "application/vnd.jupyter.widget-view+json": {
              "version_major": 2,
              "version_minor": 0,
              "model_id": "b0b9a26f5aac4fecb9fa0422e6c70021"
            }
          },
          "metadata": {}
        },
        {
          "output_type": "stream",
          "name": "stdout",
          "text": [
            ">> 今天很難過\n",
            "拍拍\n",
            "\n",
            ">> 程式都不會寫\n",
            "拍拍\n",
            "\n"
          ]
        }
      ]
    },
    {
      "cell_type": "markdown",
      "source": [
        "#### (3) Gradio"
      ],
      "metadata": {
        "id": "s2j3Oi8r6Qfo"
      }
    },
    {
      "cell_type": "code",
      "source": [
        "!pip install gradio"
      ],
      "metadata": {
        "colab": {
          "base_uri": "https://localhost:8080/"
        },
        "id": "nMkkHQEv6I4x",
        "outputId": "cc3b4266-24fc-4559-d572-eea6e740dde6"
      },
      "execution_count": 113,
      "outputs": [
        {
          "output_type": "stream",
          "name": "stdout",
          "text": [
            "Looking in indexes: https://pypi.org/simple, https://us-python.pkg.dev/colab-wheels/public/simple/\n",
            "Collecting gradio\n",
            "  Downloading gradio-3.13.0-py3-none-any.whl (13.8 MB)\n",
            "\u001b[K     |████████████████████████████████| 13.8 MB 4.7 MB/s \n",
            "\u001b[?25hRequirement already satisfied: numpy in /usr/local/lib/python3.8/dist-packages (from gradio) (1.21.6)\n",
            "Requirement already satisfied: fsspec in /usr/local/lib/python3.8/dist-packages (from gradio) (2022.11.0)\n",
            "Requirement already satisfied: pandas in /usr/local/lib/python3.8/dist-packages (from gradio) (1.3.5)\n",
            "Collecting ffmpy\n",
            "  Downloading ffmpy-0.3.0.tar.gz (4.8 kB)\n",
            "Collecting websockets>=10.0\n",
            "  Downloading websockets-10.4-cp38-cp38-manylinux_2_5_x86_64.manylinux1_x86_64.manylinux_2_17_x86_64.manylinux2014_x86_64.whl (106 kB)\n",
            "\u001b[K     |████████████████████████████████| 106 kB 53.2 MB/s \n",
            "\u001b[?25hCollecting uvicorn\n",
            "  Downloading uvicorn-0.20.0-py3-none-any.whl (56 kB)\n",
            "\u001b[K     |████████████████████████████████| 56 kB 4.3 MB/s \n",
            "\u001b[?25hRequirement already satisfied: matplotlib in /usr/local/lib/python3.8/dist-packages (from gradio) (3.2.2)\n",
            "Collecting orjson\n",
            "  Downloading orjson-3.8.3-cp38-cp38-manylinux_2_17_x86_64.manylinux2014_x86_64.whl (278 kB)\n",
            "\u001b[K     |████████████████████████████████| 278 kB 76.5 MB/s \n",
            "\u001b[?25hRequirement already satisfied: jinja2 in /usr/local/lib/python3.8/dist-packages (from gradio) (2.11.3)\n",
            "Requirement already satisfied: aiohttp in /usr/local/lib/python3.8/dist-packages (from gradio) (3.8.3)\n",
            "Requirement already satisfied: requests in /usr/local/lib/python3.8/dist-packages (from gradio) (2.23.0)\n",
            "Collecting markdown-it-py[linkify,plugins]\n",
            "  Downloading markdown_it_py-2.1.0-py3-none-any.whl (84 kB)\n",
            "\u001b[K     |████████████████████████████████| 84 kB 3.1 MB/s \n",
            "\u001b[?25hCollecting python-multipart\n",
            "  Downloading python-multipart-0.0.5.tar.gz (32 kB)\n",
            "Collecting pydub\n",
            "  Downloading pydub-0.25.1-py2.py3-none-any.whl (32 kB)\n",
            "Collecting fastapi\n",
            "  Downloading fastapi-0.88.0-py3-none-any.whl (55 kB)\n",
            "\u001b[K     |████████████████████████████████| 55 kB 3.9 MB/s \n",
            "\u001b[?25hCollecting httpx\n",
            "  Downloading httpx-0.23.1-py3-none-any.whl (84 kB)\n",
            "\u001b[K     |████████████████████████████████| 84 kB 3.0 MB/s \n",
            "\u001b[?25hCollecting paramiko\n",
            "  Downloading paramiko-2.12.0-py2.py3-none-any.whl (213 kB)\n",
            "\u001b[K     |████████████████████████████████| 213 kB 52.7 MB/s \n",
            "\u001b[?25hCollecting h11<0.13,>=0.11\n",
            "  Downloading h11-0.12.0-py3-none-any.whl (54 kB)\n",
            "\u001b[K     |████████████████████████████████| 54 kB 2.3 MB/s \n",
            "\u001b[?25hCollecting pycryptodome\n",
            "  Downloading pycryptodome-3.16.0-cp35-abi3-manylinux_2_5_x86_64.manylinux1_x86_64.manylinux_2_12_x86_64.manylinux2010_x86_64.whl (2.3 MB)\n",
            "\u001b[K     |████████████████████████████████| 2.3 MB 62.3 MB/s \n",
            "\u001b[?25hRequirement already satisfied: pyyaml in /usr/local/lib/python3.8/dist-packages (from gradio) (6.0)\n",
            "Requirement already satisfied: pillow in /usr/local/lib/python3.8/dist-packages (from gradio) (7.1.2)\n",
            "Requirement already satisfied: pydantic in /usr/local/lib/python3.8/dist-packages (from gradio) (1.10.2)\n",
            "Requirement already satisfied: yarl<2.0,>=1.0 in /usr/local/lib/python3.8/dist-packages (from aiohttp->gradio) (1.8.2)\n",
            "Requirement already satisfied: charset-normalizer<3.0,>=2.0 in /usr/local/lib/python3.8/dist-packages (from aiohttp->gradio) (2.1.1)\n",
            "Requirement already satisfied: attrs>=17.3.0 in /usr/local/lib/python3.8/dist-packages (from aiohttp->gradio) (22.1.0)\n",
            "Requirement already satisfied: async-timeout<5.0,>=4.0.0a3 in /usr/local/lib/python3.8/dist-packages (from aiohttp->gradio) (4.0.2)\n",
            "Requirement already satisfied: aiosignal>=1.1.2 in /usr/local/lib/python3.8/dist-packages (from aiohttp->gradio) (1.3.1)\n",
            "Requirement already satisfied: multidict<7.0,>=4.5 in /usr/local/lib/python3.8/dist-packages (from aiohttp->gradio) (6.0.3)\n",
            "Requirement already satisfied: frozenlist>=1.1.1 in /usr/local/lib/python3.8/dist-packages (from aiohttp->gradio) (1.3.3)\n",
            "Requirement already satisfied: idna>=2.0 in /usr/local/lib/python3.8/dist-packages (from yarl<2.0,>=1.0->aiohttp->gradio) (2.10)\n",
            "Collecting starlette==0.22.0\n",
            "  Downloading starlette-0.22.0-py3-none-any.whl (64 kB)\n",
            "\u001b[K     |████████████████████████████████| 64 kB 2.8 MB/s \n",
            "\u001b[?25hCollecting anyio<5,>=3.4.0\n",
            "  Downloading anyio-3.6.2-py3-none-any.whl (80 kB)\n",
            "\u001b[K     |████████████████████████████████| 80 kB 8.0 MB/s \n",
            "\u001b[?25hRequirement already satisfied: typing-extensions>=3.10.0 in /usr/local/lib/python3.8/dist-packages (from starlette==0.22.0->fastapi->gradio) (4.4.0)\n",
            "Collecting sniffio>=1.1\n",
            "  Downloading sniffio-1.3.0-py3-none-any.whl (10 kB)\n",
            "Collecting httpcore<0.17.0,>=0.15.0\n",
            "  Downloading httpcore-0.16.2-py3-none-any.whl (68 kB)\n",
            "\u001b[K     |████████████████████████████████| 68 kB 5.9 MB/s \n",
            "\u001b[?25hRequirement already satisfied: certifi in /usr/local/lib/python3.8/dist-packages (from httpx->gradio) (2022.9.24)\n",
            "Collecting rfc3986[idna2008]<2,>=1.3\n",
            "  Downloading rfc3986-1.5.0-py2.py3-none-any.whl (31 kB)\n",
            "Collecting httpcore<0.17.0,>=0.15.0\n",
            "  Downloading httpcore-0.16.1-py3-none-any.whl (68 kB)\n",
            "\u001b[K     |████████████████████████████████| 68 kB 5.8 MB/s \n",
            "\u001b[?25h  Downloading httpcore-0.16.0-py3-none-any.whl (68 kB)\n",
            "\u001b[K     |████████████████████████████████| 68 kB 6.5 MB/s \n",
            "\u001b[?25h  Downloading httpcore-0.15.0-py3-none-any.whl (68 kB)\n",
            "\u001b[K     |████████████████████████████████| 68 kB 6.0 MB/s \n",
            "\u001b[?25hRequirement already satisfied: MarkupSafe>=0.23 in /usr/local/lib/python3.8/dist-packages (from jinja2->gradio) (2.0.1)\n",
            "Collecting mdurl~=0.1\n",
            "  Downloading mdurl-0.1.2-py3-none-any.whl (10.0 kB)\n",
            "Collecting linkify-it-py~=1.0\n",
            "  Downloading linkify_it_py-1.0.3-py3-none-any.whl (19 kB)\n",
            "Collecting mdit-py-plugins\n",
            "  Downloading mdit_py_plugins-0.3.3-py3-none-any.whl (50 kB)\n",
            "\u001b[K     |████████████████████████████████| 50 kB 6.4 MB/s \n",
            "\u001b[?25hCollecting uc-micro-py\n",
            "  Downloading uc_micro_py-1.0.1-py3-none-any.whl (6.2 kB)\n",
            "Requirement already satisfied: python-dateutil>=2.1 in /usr/local/lib/python3.8/dist-packages (from matplotlib->gradio) (2.8.2)\n",
            "Requirement already satisfied: pyparsing!=2.0.4,!=2.1.2,!=2.1.6,>=2.0.1 in /usr/local/lib/python3.8/dist-packages (from matplotlib->gradio) (3.0.9)\n",
            "Requirement already satisfied: cycler>=0.10 in /usr/local/lib/python3.8/dist-packages (from matplotlib->gradio) (0.11.0)\n",
            "Requirement already satisfied: kiwisolver>=1.0.1 in /usr/local/lib/python3.8/dist-packages (from matplotlib->gradio) (1.4.4)\n",
            "Requirement already satisfied: six>=1.5 in /usr/local/lib/python3.8/dist-packages (from python-dateutil>=2.1->matplotlib->gradio) (1.15.0)\n",
            "Requirement already satisfied: pytz>=2017.3 in /usr/local/lib/python3.8/dist-packages (from pandas->gradio) (2022.6)\n",
            "Collecting pynacl>=1.0.1\n",
            "  Downloading PyNaCl-1.5.0-cp36-abi3-manylinux_2_17_x86_64.manylinux2014_x86_64.manylinux_2_24_x86_64.whl (856 kB)\n",
            "\u001b[K     |████████████████████████████████| 856 kB 60.2 MB/s \n",
            "\u001b[?25hCollecting cryptography>=2.5\n",
            "  Downloading cryptography-38.0.4-cp36-abi3-manylinux_2_24_x86_64.whl (4.0 MB)\n",
            "\u001b[K     |████████████████████████████████| 4.0 MB 40.0 MB/s \n",
            "\u001b[?25hCollecting bcrypt>=3.1.3\n",
            "  Downloading bcrypt-4.0.1-cp36-abi3-manylinux_2_24_x86_64.whl (593 kB)\n",
            "\u001b[K     |████████████████████████████████| 593 kB 81.4 MB/s \n",
            "\u001b[?25hRequirement already satisfied: cffi>=1.12 in /usr/local/lib/python3.8/dist-packages (from cryptography>=2.5->paramiko->gradio) (1.15.1)\n",
            "Requirement already satisfied: pycparser in /usr/local/lib/python3.8/dist-packages (from cffi>=1.12->cryptography>=2.5->paramiko->gradio) (2.21)\n",
            "Requirement already satisfied: urllib3!=1.25.0,!=1.25.1,<1.26,>=1.21.1 in /usr/local/lib/python3.8/dist-packages (from requests->gradio) (1.24.3)\n",
            "Requirement already satisfied: chardet<4,>=3.0.2 in /usr/local/lib/python3.8/dist-packages (from requests->gradio) (3.0.4)\n",
            "Requirement already satisfied: click>=7.0 in /usr/local/lib/python3.8/dist-packages (from uvicorn->gradio) (7.1.2)\n",
            "Building wheels for collected packages: ffmpy, python-multipart\n",
            "  Building wheel for ffmpy (setup.py) ... \u001b[?25l\u001b[?25hdone\n",
            "  Created wheel for ffmpy: filename=ffmpy-0.3.0-py3-none-any.whl size=4711 sha256=78f07304952eefd5c7bf02ba08c22317c5d8570dc48581975863cbcc7d7f249a\n",
            "  Stored in directory: /root/.cache/pip/wheels/ff/5b/59/913b443e7369dc04b61f607a746b6f7d83fb65e2e19fcc958d\n",
            "  Building wheel for python-multipart (setup.py) ... \u001b[?25l\u001b[?25hdone\n",
            "  Created wheel for python-multipart: filename=python_multipart-0.0.5-py3-none-any.whl size=31678 sha256=0509a2e6affa3369bb9aaede3694b24c1f61be17c0228d6ac261a39a32f134fb\n",
            "  Stored in directory: /root/.cache/pip/wheels/9e/fc/1c/cf980e6413d3ee8e70cd8f39e2366b0f487e3e221aeb452eb0\n",
            "Successfully built ffmpy python-multipart\n",
            "Installing collected packages: sniffio, mdurl, uc-micro-py, rfc3986, markdown-it-py, h11, anyio, starlette, pynacl, mdit-py-plugins, linkify-it-py, httpcore, cryptography, bcrypt, websockets, uvicorn, python-multipart, pydub, pycryptodome, paramiko, orjson, httpx, ffmpy, fastapi, gradio\n",
            "Successfully installed anyio-3.6.2 bcrypt-4.0.1 cryptography-38.0.4 fastapi-0.88.0 ffmpy-0.3.0 gradio-3.13.0 h11-0.12.0 httpcore-0.15.0 httpx-0.23.1 linkify-it-py-1.0.3 markdown-it-py-2.1.0 mdit-py-plugins-0.3.3 mdurl-0.1.2 orjson-3.8.3 paramiko-2.12.0 pycryptodome-3.16.0 pydub-0.25.1 pynacl-1.5.0 python-multipart-0.0.5 rfc3986-1.5.0 sniffio-1.3.0 starlette-0.22.0 uc-micro-py-1.0.1 uvicorn-0.20.0 websockets-10.4\n"
          ]
        }
      ]
    },
    {
      "cell_type": "code",
      "source": [
        "import gradio as gr"
      ],
      "metadata": {
        "id": "jd_dUltc7DBO"
      },
      "execution_count": 116,
      "outputs": []
    },
    {
      "cell_type": "code",
      "source": [
        "def pypy3(message, history=[]):\n",
        "    response = \"拍拍!\"\n",
        "    history.append((message, response))\n",
        "    return history, history\n"
      ],
      "metadata": {
        "id": "AIZmVnz16Tn9"
      },
      "execution_count": 114,
      "outputs": []
    },
    {
      "cell_type": "code",
      "source": [
        "iface = gr.Interface(pypy3,\n",
        "                     inputs = [\"text\", \"state\"],\n",
        "                     outputs = [\"chatbot\", \"state\"])"
      ],
      "metadata": {
        "id": "eavR9UAl61aQ"
      },
      "execution_count": 117,
      "outputs": []
    },
    {
      "cell_type": "code",
      "source": [
        "iface.launch()"
      ],
      "metadata": {
        "colab": {
          "base_uri": "https://localhost:8080/",
          "height": 617
        },
        "id": "5xj-NfJi7A3g",
        "outputId": "445a84e8-f6ca-4419-849a-960621b929be"
      },
      "execution_count": 118,
      "outputs": [
        {
          "output_type": "stream",
          "name": "stdout",
          "text": [
            "Colab notebook detected. To show errors in colab notebook, set `debug=True` in `launch()`\n",
            "Note: opening Chrome Inspector may crash demo inside Colab notebooks.\n",
            "\n",
            "To create a public link, set `share=True` in `launch()`.\n"
          ]
        },
        {
          "output_type": "display_data",
          "data": {
            "text/plain": [
              "<IPython.core.display.Javascript object>"
            ],
            "application/javascript": [
              "(async (port, path, width, height, cache, element) => {\n",
              "                        if (!google.colab.kernel.accessAllowed && !cache) {\n",
              "                            return;\n",
              "                        }\n",
              "                        element.appendChild(document.createTextNode(''));\n",
              "                        const url = await google.colab.kernel.proxyPort(port, {cache});\n",
              "\n",
              "                        const external_link = document.createElement('div');\n",
              "                        external_link.innerHTML = `\n",
              "                            <div style=\"font-family: monospace; margin-bottom: 0.5rem\">\n",
              "                                Running on <a href=${new URL(path, url).toString()} target=\"_blank\">\n",
              "                                    https://localhost:${port}${path}\n",
              "                                </a>\n",
              "                            </div>\n",
              "                        `;\n",
              "                        element.appendChild(external_link);\n",
              "\n",
              "                        const iframe = document.createElement('iframe');\n",
              "                        iframe.src = new URL(path, url).toString();\n",
              "                        iframe.height = height;\n",
              "                        iframe.allow = \"autoplay; camera; microphone; clipboard-read; clipboard-write;\"\n",
              "                        iframe.width = width;\n",
              "                        iframe.style.border = 0;\n",
              "                        element.appendChild(iframe);\n",
              "                    })(7860, \"/\", \"100%\", 500, false, window.element)"
            ]
          },
          "metadata": {}
        },
        {
          "output_type": "execute_result",
          "data": {
            "text/plain": []
          },
          "metadata": {},
          "execution_count": 118
        }
      ]
    }
  ]
}