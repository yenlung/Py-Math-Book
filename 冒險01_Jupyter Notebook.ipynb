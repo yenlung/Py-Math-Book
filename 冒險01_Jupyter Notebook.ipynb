{
  "cells": [
    {
      "cell_type": "markdown",
      "metadata": {
        "id": "view-in-github",
        "colab_type": "text"
      },
      "source": [
        "<a href=\"https://colab.research.google.com/github/yenlung/Py-Math-Book/blob/main/%E5%86%92%E9%9A%AA01_Jupyter%20Notebook.ipynb\" target=\"_parent\"><img src=\"https://colab.research.google.com/assets/colab-badge.svg\" alt=\"Open In Colab\"/></a>"
      ]
    },
    {
      "cell_type": "markdown",
      "source": [
        "### 1.1 把 Jupyter Notebook 當高級計算機\n",
        "\n",
        "來計算\n",
        "\n",
        "$$1^3 + 5^3 + 3^3$$\n",
        "\n",
        "然後發現神奇的事發生了!"
      ],
      "metadata": {
        "id": "5iGYDP0gaPqT"
      }
    },
    {
      "cell_type": "code",
      "execution_count": null,
      "metadata": {
        "scrolled": true,
        "id": "VUYEFF2wXsV8",
        "outputId": "4d7b7c87-58cc-499c-ced5-bebf61fbdc05",
        "colab": {
          "base_uri": "https://localhost:8080/"
        }
      },
      "outputs": [
        {
          "output_type": "execute_result",
          "data": {
            "text/plain": [
              "153"
            ]
          },
          "metadata": {},
          "execution_count": 1
        }
      ],
      "source": [
        "1**3 + 5**3 + 3**3"
      ]
    },
    {
      "cell_type": "markdown",
      "source": [
        "### 1.2 匯率的計算"
      ],
      "metadata": {
        "id": "o-sXKZtvarqn"
      }
    },
    {
      "cell_type": "code",
      "execution_count": null,
      "metadata": {
        "id": "JdkmKcFrXsV-"
      },
      "outputs": [],
      "source": [
        "c = 30.63"
      ]
    },
    {
      "cell_type": "code",
      "execution_count": null,
      "metadata": {
        "collapsed": true,
        "jupyter": {
          "outputs_hidden": true
        },
        "id": "5M5HeZgtXsV_",
        "outputId": "9643e940-8d2b-4595-f919-c926e7f36bf2",
        "colab": {
          "base_uri": "https://localhost:8080/"
        }
      },
      "outputs": [
        {
          "output_type": "execute_result",
          "data": {
            "text/plain": [
              "2419.77"
            ]
          },
          "metadata": {},
          "execution_count": 5
        }
      ],
      "source": [
        "79*c"
      ]
    },
    {
      "cell_type": "code",
      "execution_count": null,
      "metadata": {
        "id": "_eQMWKSGXsV_",
        "outputId": "609a6a60-8154-4398-d9ce-2c4da6669937",
        "colab": {
          "base_uri": "https://localhost:8080/"
        }
      },
      "outputs": [
        {
          "output_type": "execute_result",
          "data": {
            "text/plain": [
              "18284.5785"
            ]
          },
          "metadata": {},
          "execution_count": 6
        }
      ],
      "source": [
        "596.95*c"
      ]
    },
    {
      "cell_type": "code",
      "execution_count": null,
      "metadata": {
        "id": "Q2AdOuMiXsV_",
        "outputId": "e02c9201-db13-4bb6-fb1d-daf37220a125",
        "colab": {
          "base_uri": "https://localhost:8080/"
        }
      },
      "outputs": [
        {
          "output_type": "execute_result",
          "data": {
            "text/plain": [
              "24410.5785"
            ]
          },
          "metadata": {},
          "execution_count": 7
        }
      ],
      "source": [
        "796.95*c"
      ]
    },
    {
      "cell_type": "markdown",
      "source": [
        "### 1.3 費馬最後定理難道是錯的!?"
      ],
      "metadata": {
        "id": "ggejxPhcqlSw"
      }
    },
    {
      "cell_type": "code",
      "execution_count": null,
      "metadata": {
        "id": "XcPP89sTXsWA",
        "outputId": "407f2295-e090-4e91-8e3c-f50d18586eef",
        "colab": {
          "base_uri": "https://localhost:8080/"
        }
      },
      "outputs": [
        {
          "output_type": "execute_result",
          "data": {
            "text/plain": [
              "63976656349698612616236230953154487896987106"
            ]
          },
          "metadata": {},
          "execution_count": 8
        }
      ],
      "source": [
        "3987**12 + 4365**12"
      ]
    },
    {
      "cell_type": "code",
      "execution_count": null,
      "metadata": {
        "id": "YmBRKnkZXsWA",
        "outputId": "abf3fe1f-eb5f-4ebe-9abb-f207b7756b7b",
        "colab": {
          "base_uri": "https://localhost:8080/"
        }
      },
      "outputs": [
        {
          "output_type": "execute_result",
          "data": {
            "text/plain": [
              "63976656348486725806862358322168575784124416"
            ]
          },
          "metadata": {},
          "execution_count": 9
        }
      ],
      "source": [
        "4472**12"
      ]
    },
    {
      "cell_type": "code",
      "execution_count": null,
      "metadata": {
        "id": "Q7wEZnw2XsWB"
      },
      "outputs": [],
      "source": []
    }
  ],
  "metadata": {
    "kernelspec": {
      "display_name": "Python 3",
      "language": "python",
      "name": "python3"
    },
    "language_info": {
      "codemirror_mode": {
        "name": "ipython",
        "version": 3
      },
      "file_extension": ".py",
      "mimetype": "text/x-python",
      "name": "python",
      "nbconvert_exporter": "python",
      "pygments_lexer": "ipython3",
      "version": "3.7.3"
    },
    "colab": {
      "provenance": [],
      "include_colab_link": true
    }
  },
  "nbformat": 4,
  "nbformat_minor": 0
}