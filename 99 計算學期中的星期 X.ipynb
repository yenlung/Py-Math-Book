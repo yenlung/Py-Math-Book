{
 "cells": [
  {
   "cell_type": "code",
   "execution_count": 4,
   "metadata": {},
   "outputs": [],
   "source": [
    "from datetime import datetime, timedelta"
   ]
  },
  {
   "cell_type": "code",
   "execution_count": 3,
   "metadata": {},
   "outputs": [],
   "source": [
    "# 學期開始和結束日期\n",
    "\n",
    "s = datetime(2020, 2, 17)\n",
    "t = datetime(2020, 6, 18)"
   ]
  },
  {
   "cell_type": "code",
   "execution_count": 6,
   "metadata": {},
   "outputs": [],
   "source": [
    "cday = s + timedelta(1)"
   ]
  },
  {
   "cell_type": "code",
   "execution_count": 9,
   "metadata": {},
   "outputs": [],
   "source": [
    "weekdays = list('一二三四五六日')"
   ]
  },
  {
   "cell_type": "code",
   "execution_count": 11,
   "metadata": {},
   "outputs": [
    {
     "data": {
      "text/plain": [
       "2"
      ]
     },
     "execution_count": 11,
     "metadata": {},
     "output_type": "execute_result"
    }
   ],
   "source": [
    "weekdays.index('三')"
   ]
  },
  {
   "cell_type": "code",
   "execution_count": 12,
   "metadata": {},
   "outputs": [
    {
     "data": {
      "text/plain": [
       "datetime.datetime(2020, 2, 18, 0, 0)"
      ]
     },
     "execution_count": 12,
     "metadata": {},
     "output_type": "execute_result"
    }
   ],
   "source": [
    "cday"
   ]
  },
  {
   "cell_type": "code",
   "execution_count": 15,
   "metadata": {},
   "outputs": [
    {
     "data": {
      "text/plain": [
       "18"
      ]
     },
     "execution_count": 15,
     "metadata": {},
     "output_type": "execute_result"
    }
   ],
   "source": [
    "cday.day"
   ]
  },
  {
   "cell_type": "code",
   "execution_count": 16,
   "metadata": {},
   "outputs": [
    {
     "data": {
      "text/plain": [
       "2"
      ]
     },
     "execution_count": 16,
     "metadata": {},
     "output_type": "execute_result"
    }
   ],
   "source": [
    "cday.month"
   ]
  },
  {
   "cell_type": "code",
   "execution_count": 35,
   "metadata": {},
   "outputs": [
    {
     "name": "stdout",
     "output_type": "stream",
     "text": [
      "請問要查的是星期幾: 三\n"
     ]
    }
   ],
   "source": [
    "wdays = input(\"請問要查的是星期幾: \")\n",
    "idx = weekdays.index(wdays)\n",
    "\n",
    "c_day = s\n",
    "\n",
    "days = []\n",
    "while c_day <= t:\n",
    "    if c_day.weekday() == idx:\n",
    "        days.append(f'{c_day.month:>2}月{c_day.day:>2}日')\n",
    "    c_day = c_day + timedelta(1)"
   ]
  },
  {
   "cell_type": "code",
   "execution_count": 36,
   "metadata": {},
   "outputs": [
    {
     "name": "stdout",
     "output_type": "stream",
     "text": [
      "【第 1週】 2月19日:\n",
      "【第 2週】 2月26日:\n",
      "【第 3週】 3月 4日:\n",
      "【第 4週】 3月11日:\n",
      "【第 5週】 3月18日:\n",
      "【第 6週】 3月25日:\n",
      "【第 7週】 4月 1日:\n",
      "【第 8週】 4月 8日:\n",
      "【第 9週】 4月15日:\n",
      "【第10週】 4月22日:\n",
      "【第11週】 4月29日:\n",
      "【第12週】 5月 6日:\n",
      "【第13週】 5月13日:\n",
      "【第14週】 5月20日:\n",
      "【第15週】 5月27日:\n",
      "【第16週】 6月 3日:\n",
      "【第17週】 6月10日:\n",
      "【第18週】 6月17日:\n"
     ]
    }
   ],
   "source": [
    "for i, d in enumerate(days):\n",
    "    print(f\"【第{i+1:>2}週】{d}:\")"
   ]
  },
  {
   "cell_type": "code",
   "execution_count": null,
   "metadata": {},
   "outputs": [],
   "source": []
  }
 ],
 "metadata": {
  "kernelspec": {
   "display_name": "Python 3",
   "language": "python",
   "name": "python3"
  },
  "language_info": {
   "codemirror_mode": {
    "name": "ipython",
    "version": 3
   },
   "file_extension": ".py",
   "mimetype": "text/x-python",
   "name": "python",
   "nbconvert_exporter": "python",
   "pygments_lexer": "ipython3",
   "version": "3.7.3"
  }
 },
 "nbformat": 4,
 "nbformat_minor": 2
}
