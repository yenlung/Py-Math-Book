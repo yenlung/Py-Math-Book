{
 "cells": [
  {
   "cell_type": "code",
   "execution_count": 1,
   "metadata": {},
   "outputs": [],
   "source": [
    "%matplotlib inline\n",
    "\n",
    "import numpy as np\n",
    "import sympy as sp\n",
    "import matplotlib.pyplot as plt"
   ]
  },
  {
   "cell_type": "markdown",
   "metadata": {},
   "source": [
    "開始使用互動功能。"
   ]
  },
  {
   "cell_type": "code",
   "execution_count": 11,
   "metadata": {},
   "outputs": [],
   "source": [
    "from ipywidgets import interact"
   ]
  },
  {
   "cell_type": "markdown",
   "metadata": {},
   "source": [
    "設計一個函式, 作用是畫個圖出來。\n",
    "\n",
    "$$f(x) = c e^{bx}$$\n",
    "\n",
    "我們來觀察 $c$ 和 $b$ 的變化對函數有什麼影響。"
   ]
  },
  {
   "cell_type": "code",
   "execution_count": 14,
   "metadata": {},
   "outputs": [],
   "source": [
    "def myexp(b=1, c=1):\n",
    "    x = np.linspace(-5, 5, 500)\n",
    "    y = c * np.exp(b * x)\n",
    "    plt.ylim(0, 50)\n",
    "    plt.plot(x, y)"
   ]
  },
  {
   "cell_type": "code",
   "execution_count": 15,
   "metadata": {},
   "outputs": [
    {
     "data": {
      "application/vnd.jupyter.widget-view+json": {
       "model_id": "a1bde66a5603468fb4680eb93c9cd198",
       "version_major": 2,
       "version_minor": 0
      },
      "text/plain": [
       "interactive(children=(FloatSlider(value=1.0, description='b', max=5.0, min=-5.0), FloatSlider(value=1.0, descr…"
      ]
     },
     "metadata": {},
     "output_type": "display_data"
    }
   ],
   "source": [
    "interact(myexp, b=(-5., 5.), c=(-5., 5.));"
   ]
  },
  {
   "cell_type": "markdown",
   "metadata": {},
   "source": [
    "第二個例子, 是我們來感受一下傅利葉級數。\n",
    "\n",
    "$$f(x) = a_1 \\sin(x) + b_1 \\cos(x) + a_2 \\sin(2x) + b_2 \\sin(2x) + a_3 \\sin(3x) + b_3 \\cos(3x)$$"
   ]
  },
  {
   "cell_type": "code",
   "execution_count": 16,
   "metadata": {},
   "outputs": [],
   "source": [
    "π = np.pi"
   ]
  },
  {
   "cell_type": "code",
   "execution_count": 17,
   "metadata": {},
   "outputs": [],
   "source": [
    "def myplot(a1=1, a2=1, a3=1, b1=1, b2=1, b3=1):\n",
    "    x = np.linspace(0, 6*π, 1000)\n",
    "    y = a1*np.sin(x)+b1*np.cos(x)+a2*np.sin(2*x)+b2*np.cos(2*x)+a3*np.sin(3*x)+b3*np.cos(3*x)\n",
    "    plt.plot(x,y)\n",
    "    plt.ylim(-5, 5)"
   ]
  },
  {
   "cell_type": "code",
   "execution_count": 19,
   "metadata": {},
   "outputs": [
    {
     "data": {
      "application/vnd.jupyter.widget-view+json": {
       "model_id": "c4b769e73a754bf2bf960de75e551595",
       "version_major": 2,
       "version_minor": 0
      },
      "text/plain": [
       "interactive(children=(IntSlider(value=1, description='a1', max=2, min=-2), IntSlider(value=1, description='a2'…"
      ]
     },
     "metadata": {},
     "output_type": "display_data"
    }
   ],
   "source": [
    "interact(myplot, a1=(-2, 2), a2=(-2, 2), a3=(-2, 2), b1=(-2, 2), b2=(-2, 2), b3=(-2, 2));"
   ]
  }
 ],
 "metadata": {
  "kernelspec": {
   "display_name": "Python 3",
   "language": "python",
   "name": "python3"
  },
  "language_info": {
   "codemirror_mode": {
    "name": "ipython",
    "version": 3
   },
   "file_extension": ".py",
   "mimetype": "text/x-python",
   "name": "python",
   "nbconvert_exporter": "python",
   "pygments_lexer": "ipython3",
   "version": "3.7.3"
  }
 },
 "nbformat": 4,
 "nbformat_minor": 4
}
