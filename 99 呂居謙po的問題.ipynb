{
 "cells": [
  {
   "cell_type": "markdown",
   "metadata": {},
   "source": [
    "## 問題\n",
    "\n",
    "試求 $$p= \\dfrac{xy^3}{x+y}$$\n",
    "而 $p$ 是質數的 $x, y$"
   ]
  },
  {
   "cell_type": "code",
   "execution_count": 15,
   "metadata": {},
   "outputs": [],
   "source": [
    "from sympy import *\n",
    "import numpy as np\n",
    "import matplotlib.pyplot as plt\n"
   ]
  },
  {
   "cell_type": "code",
   "execution_count": 2,
   "metadata": {},
   "outputs": [],
   "source": [
    "a = 3"
   ]
  },
  {
   "cell_type": "code",
   "execution_count": 3,
   "metadata": {},
   "outputs": [
    {
     "data": {
      "text/plain": [
       "True"
      ]
     },
     "execution_count": 3,
     "metadata": {},
     "output_type": "execute_result"
    }
   ],
   "source": [
    "isprime(a)"
   ]
  },
  {
   "cell_type": "code",
   "execution_count": 24,
   "metadata": {},
   "outputs": [
    {
     "name": "stdout",
     "output_type": "stream",
     "text": [
      "2 2 4.0 \n",
      "2 6 54.0 \n",
      "2 14 343.0 \n",
      "3 6 72.0 \n",
      "3 24 1536.0 \n",
      "3 78 17576.0 \n",
      "4 4 32.0 \n",
      "4 12 432.0 \n",
      "4 28 2744.0 \n",
      "4 60 13500.0 \n",
      "5 20 1600.0 \n",
      "6 2 6.0 \n",
      "6 3 18.0 \n",
      "6 6 108.0 \n",
      "6 10 375.0 \n",
      "6 12 576.0 \n",
      "6 18 1458.0 \n",
      "6 21 2058.0 \n",
      "6 30 4500.0 \n",
      "6 42 9261.0 \n",
      "6 48 12288.0 \n",
      "6 66 23958.0 \n",
      "6 75 31250.0 \n",
      "7 42 10584.0 \n",
      "8 8 256.0 \n",
      "8 24 3456.0 \n",
      "8 56 21952.0 \n",
      "9 18 1944.0 \n",
      "9 72 41472.0 \n",
      "10 6 135.0 \n",
      "10 10 500.0 \n",
      "10 15 1350.0 \n",
      "10 30 6750.0 \n",
      "10 40 12800.0 \n",
      "10 70 42875.0 \n",
      "10 90 72900.0 \n",
      "12 4 48.0 \n",
      "12 6 144.0 \n",
      "12 12 864.0 \n",
      "12 15 1500.0 \n",
      "12 20 3000.0 \n",
      "12 24 4608.0 \n",
      "12 36 11664.0 \n",
      "12 42 16464.0 \n",
      "12 52 26364.0 \n",
      "12 60 36000.0 \n",
      "12 69 48668.0 \n",
      "12 84 74088.0 \n",
      "12 96 98304.0 \n",
      "14 2 7.0 質數!\n",
      "14 14 1372.0 \n",
      "14 35 12250.0 \n",
      "14 42 18522.0 \n",
      "14 84 84672.0 \n",
      "14 98 117649.0 \n",
      "15 10 600.0 \n",
      "15 12 960.0 \n",
      "15 30 9000.0 \n",
      "15 60 43200.0 \n",
      "15 66 53240.0 \n",
      "16 16 2048.0 \n",
      "16 48 27648.0 \n",
      "18 6 162.0 \n",
      "18 9 486.0 \n",
      "18 18 2916.0 \n",
      "18 30 10125.0 \n",
      "18 36 15552.0 \n",
      "18 54 39366.0 \n",
      "18 63 55566.0 \n",
      "18 90 121500.0 \n",
      "20 5 100.0 \n",
      "20 12 1080.0 \n",
      "20 20 4000.0 \n",
      "20 30 10800.0 \n",
      "20 44 26620.0 \n",
      "20 60 54000.0 \n",
      "20 80 102400.0 \n",
      "21 6 168.0 \n",
      "21 28 9408.0 \n",
      "21 42 24696.0 \n",
      "21 60 56000.0 \n",
      "22 22 5324.0 \n",
      "22 66 71874.0 \n",
      "22 99 176418.0 \n",
      "24 3 24.0 \n",
      "24 8 384.0 \n",
      "24 12 1152.0 \n",
      "24 24 6912.0 \n",
      "24 30 12000.0 \n",
      "24 40 24000.0 \n",
      "24 48 36864.0 \n",
      "24 57 54872.0 \n",
      "24 72 93312.0 \n",
      "24 84 131712.0 \n",
      "26 26 8788.0 \n",
      "26 78 118638.0 \n",
      "27 54 52488.0 \n",
      "28 4 56.0 \n",
      "28 21 5292.0 \n",
      "28 28 10976.0 \n",
      "28 36 20412.0 \n",
      "28 70 98000.0 \n",
      "28 84 148176.0 \n",
      "30 6 180.0 \n",
      "30 10 750.0 \n",
      "30 15 2250.0 \n",
      "30 18 3645.0 \n",
      "30 20 4800.0 \n",
      "30 24 7680.0 \n",
      "30 30 13500.0 \n",
      "30 42 30870.0 \n",
      "30 45 36450.0 \n",
      "30 50 46875.0 \n",
      "30 51 49130.0 \n",
      "30 60 72000.0 \n",
      "30 70 102900.0 \n",
      "30 78 131820.0 \n",
      "30 90 182250.0 \n",
      "30 95 205770.0 \n",
      "32 32 16384.0 \n",
      "32 96 221184.0 \n",
      "33 48 45056.0 \n",
      "33 66 95832.0 \n",
      "33 88 185856.0 \n",
      "34 34 19652.0 \n",
      "35 14 1960.0 \n",
      "35 90 204120.0 \n",
      "36 12 1296.0 \n",
      "36 18 3888.0 \n",
      "36 28 12348.0 \n",
      "36 36 23328.0 \n",
      "36 45 40500.0 \n",
      "36 60 81000.0 \n",
      "36 72 124416.0 \n",
      "36 92 219006.0 \n",
      "38 38 27436.0 \n",
      "39 42 35672.0 \n",
      "39 78 158184.0 \n",
      "40 10 800.0 \n",
      "40 24 8640.0 \n",
      "40 40 32000.0 \n",
      "40 60 86400.0 \n",
      "40 85 196520.0 \n",
      "40 88 212960.0 \n",
      "42 6 189.0 \n",
      "42 7 294.0 \n",
      "42 12 1344.0 \n",
      "42 14 2058.0 \n",
      "42 21 6174.0 \n",
      "42 30 15750.0 \n",
      "42 39 30758.0 \n",
      "42 42 37044.0 \n",
      "42 56 75264.0 \n",
      "42 66 111804.0 \n",
      "42 70 128625.0 \n",
      "42 84 197568.0 \n",
      "44 20 5500.0 \n",
      "44 44 42592.0 \n",
      "44 77 166012.0 \n",
      "44 84 203742.0 \n",
      "45 30 16200.0 \n",
      "45 36 25920.0 \n",
      "45 80 184320.0 \n",
      "45 90 243000.0 \n",
      "46 46 48668.0 \n",
      "48 6 192.0 \n",
      "48 16 3072.0 \n",
      "48 24 9216.0 \n",
      "48 33 21296.0 \n",
      "48 48 55296.0 \n",
      "48 60 96000.0 \n",
      "48 80 192000.0 \n",
      "48 96 294912.0 \n",
      "50 30 16875.0 \n",
      "50 50 62500.0 \n",
      "50 75 168750.0 \n",
      "51 30 17000.0 \n",
      "52 12 1404.0 \n",
      "52 52 70304.0 \n",
      "52 76 178334.0 \n",
      "54 18 4374.0 \n",
      "54 27 13122.0 \n",
      "54 54 78732.0 \n",
      "54 90 273375.0 \n",
      "55 66 130680.0 \n",
      "55 70 150920.0 \n",
      "56 8 448.0 \n",
      "56 42 42336.0 \n",
      "56 56 87808.0 \n",
      "56 72 163296.0 \n",
      "57 24 9728.0 \n",
      "58 58 97556.0 \n",
      "60 4 60.0 \n",
      "60 12 1440.0 \n",
      "60 15 2700.0 \n",
      "60 20 6000.0 \n",
      "60 21 6860.0 \n",
      "60 30 18000.0 \n",
      "60 36 29160.0 \n",
      "60 40 38400.0 \n",
      "60 48 61440.0 \n",
      "60 60 108000.0 \n",
      "60 65 131820.0 \n",
      "60 68 147390.0 \n",
      "60 75 187500.0 \n",
      "60 84 246960.0 \n",
      "60 90 291600.0 \n",
      "62 62 119164.0 \n",
      "63 18 4536.0 \n",
      "63 84 254016.0 \n",
      "64 64 131072.0 \n",
      "65 60 112320.0 \n",
      "66 6 198.0 \n",
      "66 15 2750.0 \n",
      "66 22 7986.0 \n",
      "66 33 23958.0 \n",
      "66 42 45276.0 \n",
      "66 55 90750.0 \n",
      "66 66 143748.0 \n",
      "66 78 217503.0 \n",
      "66 96 360448.0 \n",
      "68 60 114750.0 \n",
      "68 68 157216.0 \n",
      "69 12 1472.0 \n",
      "70 10 875.0 \n",
      "70 28 15680.0 \n",
      "70 30 18900.0 \n",
      "70 42 46305.0 \n",
      "70 55 93170.0 \n",
      "70 70 171500.0 \n",
      "72 9 648.0 \n",
      "72 24 10368.0 \n",
      "72 36 31104.0 \n",
      "72 56 98784.0 \n",
      "72 72 186624.0 \n",
      "72 90 324000.0 \n",
      "74 74 202612.0 \n",
      "75 6 200.0 \n",
      "75 50 75000.0 \n",
      "75 60 120000.0 \n",
      "76 52 83486.0 \n",
      "76 76 219488.0 \n",
      "77 44 54208.0 \n",
      "78 3 26.0 \n",
      "78 26 13182.0 \n",
      "78 30 19500.0 \n",
      "78 39 39546.0 \n",
      "78 66 155727.0 \n",
      "78 78 237276.0 \n",
      "78 84 285376.0 \n",
      "78 91 347802.0 \n",
      "80 20 6400.0 \n",
      "80 45 58320.0 \n",
      "80 48 69120.0 \n",
      "80 80 256000.0 \n",
      "82 82 275684.0 \n",
      "84 12 1512.0 \n",
      "84 14 2352.0 \n",
      "84 24 10752.0 \n",
      "84 28 16464.0 \n",
      "84 42 49392.0 \n",
      "84 44 55902.0 \n",
      "84 60 126000.0 \n",
      "84 63 142884.0 \n",
      "84 78 246064.0 \n",
      "84 84 296352.0 \n",
      "85 40 43520.0 \n",
      "86 86 318028.0 \n",
      "88 33 26136.0 \n",
      "88 40 44000.0 \n",
      "88 88 340736.0 \n",
      "90 10 900.0 \n",
      "90 18 4860.0 \n",
      "90 30 20250.0 \n",
      "90 35 30870.0 \n",
      "90 45 60750.0 \n",
      "90 54 98415.0 \n",
      "90 60 129600.0 \n",
      "90 72 207360.0 \n",
      "90 90 364500.0 \n",
      "91 78 255528.0 \n",
      "92 36 33534.0 \n",
      "92 92 389344.0 \n",
      "94 94 415292.0 \n",
      "95 30 20520.0 \n",
      "96 12 1536.0 \n",
      "96 32 24576.0 \n",
      "96 48 73728.0 \n",
      "96 66 170368.0 \n",
      "96 96 442368.0 \n",
      "98 14 2401.0 \n",
      "98 98 470596.0 \n",
      "99 22 8712.0 \n"
     ]
    }
   ],
   "source": [
    "xy = []\n",
    "\n",
    "for x in range(1, 100):\n",
    "    for y in range(1, 100):\n",
    "        k = x*y**3/(x+y)\n",
    "        if k == int(k):\n",
    "            xy.append([x,y])\n",
    "            print(x, y, k, end=' ')\n",
    "            if isprime(int(k)):\n",
    "                print('質數!')\n",
    "            else:\n",
    "                print()"
   ]
  },
  {
   "cell_type": "code",
   "execution_count": 10,
   "metadata": {},
   "outputs": [],
   "source": [
    "a = 84*63**3\n",
    "b = (84+63)"
   ]
  },
  {
   "cell_type": "code",
   "execution_count": 11,
   "metadata": {},
   "outputs": [
    {
     "data": {
      "text/plain": [
       "142884.0"
      ]
     },
     "execution_count": 11,
     "metadata": {},
     "output_type": "execute_result"
    }
   ],
   "source": [
    "a/b"
   ]
  },
  {
   "cell_type": "code",
   "execution_count": 12,
   "metadata": {},
   "outputs": [
    {
     "data": {
      "text/plain": [
       "False"
      ]
     },
     "execution_count": 12,
     "metadata": {},
     "output_type": "execute_result"
    }
   ],
   "source": [
    "isprime(2401)"
   ]
  },
  {
   "cell_type": "code",
   "execution_count": 25,
   "metadata": {},
   "outputs": [],
   "source": [
    "points = np.array(xy)"
   ]
  },
  {
   "cell_type": "code",
   "execution_count": 28,
   "metadata": {
    "scrolled": true
   },
   "outputs": [
    {
     "data": {
      "text/plain": [
       "<matplotlib.collections.PathCollection at 0x7f96c39a7d68>"
      ]
     },
     "execution_count": 28,
     "metadata": {},
     "output_type": "execute_result"
    },
    {
     "data": {
      "image/png": "[encoded data removed]",
      "text/plain": [
       "<Figure size 432x288 with 1 Axes>"
      ]
     },
     "metadata": {
      "needs_background": "light"
     },
     "output_type": "display_data"
    }
   ],
   "source": [
    "plt.scatter(points[:,0], points[:,1], s=5)"
   ]
  },
  {
   "cell_type": "code",
   "execution_count": null,
   "metadata": {},
   "outputs": [],
   "source": []
  }
 ],
 "metadata": {
  "kernelspec": {
   "display_name": "Python 3",
   "language": "python",
   "name": "python3"
  },
  "language_info": {
   "codemirror_mode": {
    "name": "ipython",
    "version": 3
   },
   "file_extension": ".py",
   "mimetype": "text/x-python",
   "name": "python",
   "nbconvert_exporter": "python",
   "pygments_lexer": "ipython3",
   "version": "3.7.3"
  }
 },
 "nbformat": 4,
 "nbformat_minor": 2
}
