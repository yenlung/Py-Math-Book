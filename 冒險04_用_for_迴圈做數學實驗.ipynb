{
  "cells": [
    {
      "cell_type": "markdown",
      "metadata": {
        "id": "view-in-github",
        "colab_type": "text"
      },
      "source": [
        "<a href=\"https://colab.research.google.com/github/yenlung/Py-Math-Book/blob/main/%E5%86%92%E9%9A%AA04_%E7%94%A8_for_%E8%BF%B4%E5%9C%88%E5%81%9A%E6%95%B8%E5%AD%B8%E5%AF%A6%E9%A9%97.ipynb\" target=\"_parent\"><img src=\"https://colab.research.google.com/assets/colab-badge.svg\" alt=\"Open In Colab\"/></a>"
      ]
    },
    {
      "cell_type": "code",
      "execution_count": 24,
      "metadata": {
        "id": "4uJQ2cHPpyv0"
      },
      "outputs": [],
      "source": [
        "%matplotlib inline\n",
        "\n",
        "import numpy as np\n",
        "import sympy as sp\n",
        "import pandas as pd\n",
        "import matplotlib.pyplot as plt"
      ]
    },
    {
      "cell_type": "markdown",
      "metadata": {
        "id": "LMKTwtM7pyv3"
      },
      "source": [
        "### 1. list 串列\n",
        "\n",
        "串列可以說是 Python 非常基本/重要的資料型態, 可以想像就是一串的數據/資料。"
      ]
    },
    {
      "cell_type": "code",
      "execution_count": 25,
      "metadata": {
        "id": "8SNkmtJSpyv5"
      },
      "outputs": [],
      "source": [
        "egg = [3, 5, 7, 9, 4, 1]"
      ]
    },
    {
      "cell_type": "markdown",
      "source": [
        "要看一下內容和以前一樣。"
      ],
      "metadata": {
        "id": "yEgKUb6mqvfi"
      }
    },
    {
      "cell_type": "code",
      "source": [
        "egg"
      ],
      "metadata": {
        "colab": {
          "base_uri": "https://localhost:8080/"
        },
        "id": "gf5mbHpBqtoJ",
        "outputId": "0f32e33d-9753-4acf-c93b-9623e81a0e2c"
      },
      "execution_count": 26,
      "outputs": [
        {
          "output_type": "execute_result",
          "data": {
            "text/plain": [
              "[3, 5, 7, 9, 4, 1]"
            ]
          },
          "metadata": {},
          "execution_count": 26
        }
      ]
    },
    {
      "cell_type": "markdown",
      "metadata": {
        "id": "zHo39is4pyv5"
      },
      "source": [
        "### 2. 一一換算商品價格\n",
        "\n",
        "我們可以用 Google 很快查出匯率。比方說要瑞典幣 (SEK) 換成台幣 (TWD), 就搜尋\n",
        "\n",
        "    1sek in twd"
      ]
    },
    {
      "cell_type": "code",
      "execution_count": 27,
      "metadata": {
        "id": "aW-KKekepyv6"
      },
      "outputs": [],
      "source": [
        "prices = [599, 299, 995]"
      ]
    },
    {
      "cell_type": "code",
      "execution_count": 28,
      "metadata": {
        "id": "NT0h1BdApyv6"
      },
      "outputs": [],
      "source": [
        "c = 2.79"
      ]
    },
    {
      "cell_type": "markdown",
      "source": [
        "先來用 `for` 迴圈, 一一把裡面的東西列出來。"
      ],
      "metadata": {
        "id": "cEb8GYHnr8Cm"
      }
    },
    {
      "cell_type": "code",
      "source": [
        "for p in prices:\n",
        "    print(p)"
      ],
      "metadata": {
        "colab": {
          "base_uri": "https://localhost:8080/"
        },
        "id": "NYQEG4rNsDn7",
        "outputId": "f96d958b-e0ce-4766-d53b-46ace050fb9d"
      },
      "execution_count": 29,
      "outputs": [
        {
          "output_type": "stream",
          "name": "stdout",
          "text": [
            "599\n",
            "299\n",
            "995\n"
          ]
        }
      ]
    },
    {
      "cell_type": "markdown",
      "source": [
        "現在來一一做匯率的換算。"
      ],
      "metadata": {
        "id": "K76wedi7sIIb"
      }
    },
    {
      "cell_type": "code",
      "execution_count": 30,
      "metadata": {
        "id": "C8fwcW4Bpyv7",
        "outputId": "ffa6c59c-0b5b-4891-fb64-1f1269be58cb",
        "colab": {
          "base_uri": "https://localhost:8080/"
        }
      },
      "outputs": [
        {
          "output_type": "stream",
          "name": "stdout",
          "text": [
            "1671.21\n",
            "834.21\n",
            "2776.05\n"
          ]
        }
      ],
      "source": [
        "for p in prices:\n",
        "    print(p*c)"
      ]
    },
    {
      "cell_type": "markdown",
      "metadata": {
        "id": "MJPEA0Ylpyv9"
      },
      "source": [
        "### 3. Hello, World!\n",
        "\n",
        "由 C 語言聖經 K&R 的 K (Kernighan) 發揚光大的經典程式。"
      ]
    },
    {
      "cell_type": "code",
      "execution_count": 31,
      "metadata": {
        "id": "7Gxi5Dvhpyv-",
        "outputId": "1c46541f-acee-4171-993f-8e91d03ffd63",
        "colab": {
          "base_uri": "https://localhost:8080/"
        }
      },
      "outputs": [
        {
          "output_type": "stream",
          "name": "stdout",
          "text": [
            "hello, world\n"
          ]
        }
      ],
      "source": [
        "print(\"hello, world\")"
      ]
    },
    {
      "cell_type": "markdown",
      "metadata": {
        "id": "YM-0JSgGpyv_"
      },
      "source": [
        "### 4. 我們來做個進度條"
      ]
    },
    {
      "cell_type": "code",
      "execution_count": 32,
      "metadata": {
        "id": "iJMYnLCSpywA"
      },
      "outputs": [],
      "source": [
        "prog = [1,2,3,4,5,6,7,8,9,10]"
      ]
    },
    {
      "cell_type": "code",
      "execution_count": 33,
      "metadata": {
        "id": "SLO_kRhApywB",
        "outputId": "7d42befe-e1fe-4ea1-b282-e62f28370735",
        "colab": {
          "base_uri": "https://localhost:8080/"
        }
      },
      "outputs": [
        {
          "output_type": "stream",
          "name": "stdout",
          "text": [
            "█\n",
            "██\n",
            "███\n",
            "████\n",
            "█████\n",
            "██████\n",
            "███████\n",
            "████████\n",
            "█████████\n",
            "██████████\n"
          ]
        }
      ],
      "source": [
        "for k in prog:\n",
        "    print(\"█\"*k)"
      ]
    },
    {
      "cell_type": "markdown",
      "source": [
        "這太快了, 可以不要進行這麼快嗎?"
      ],
      "metadata": {
        "id": "gbGYINqC9rkh"
      }
    },
    {
      "cell_type": "code",
      "execution_count": 34,
      "metadata": {
        "id": "eLzqIc0ZpywB"
      },
      "outputs": [],
      "source": [
        "from time import sleep"
      ]
    },
    {
      "cell_type": "code",
      "execution_count": null,
      "metadata": {
        "id": "0gJVGuYGpywB",
        "outputId": "3ae1c87f-ca8a-4932-dfc9-c40a5d0f52cf",
        "colab": {
          "base_uri": "https://localhost:8080/"
        }
      },
      "outputs": [
        {
          "output_type": "stream",
          "name": "stdout",
          "text": [
            "█\n",
            "██\n",
            "███\n",
            "████\n",
            "█████\n",
            "██████\n",
            "███████\n",
            "████████\n",
            "█████████\n",
            "██████████\n"
          ]
        }
      ],
      "source": [
        "for k in prog:\n",
        "    print(\"█\"*k)\n",
        "    sleep(1)"
      ]
    },
    {
      "cell_type": "markdown",
      "source": [
        "可以清除掉, 更像個類似進度條的東西嗎?"
      ],
      "metadata": {
        "id": "z2St6Hbt-S2k"
      }
    },
    {
      "cell_type": "code",
      "execution_count": null,
      "metadata": {
        "id": "xWwp7I6spywC"
      },
      "outputs": [],
      "source": [
        "from IPython.display import clear_output"
      ]
    },
    {
      "cell_type": "code",
      "execution_count": null,
      "metadata": {
        "id": "gNflldVJpywC",
        "outputId": "22c588c0-a358-45e9-90bf-ebb8ce142388",
        "colab": {
          "base_uri": "https://localhost:8080/"
        }
      },
      "outputs": [
        {
          "output_type": "stream",
          "name": "stdout",
          "text": [
            "██████████\n"
          ]
        }
      ],
      "source": [
        "for k in prog:\n",
        "    print(\"█\"*k)\n",
        "    sleep(1)\n",
        "    clear_output(wait=True)"
      ]
    },
    {
      "cell_type": "markdown",
      "metadata": {
        "id": "mH2QnyZ-pywC"
      },
      "source": [
        "### 5. 快速生成串列的 `range` 指令"
      ]
    },
    {
      "cell_type": "code",
      "execution_count": null,
      "metadata": {
        "id": "uit7RewSpywD"
      },
      "outputs": [],
      "source": [
        "spam = range(10)"
      ]
    },
    {
      "cell_type": "code",
      "execution_count": null,
      "metadata": {
        "id": "fy7FQ9adpywD",
        "outputId": "254b383c-8669-4557-c2e0-986d9dee4e86",
        "colab": {
          "base_uri": "https://localhost:8080/"
        }
      },
      "outputs": [
        {
          "output_type": "execute_result",
          "data": {
            "text/plain": [
              "range(0, 10)"
            ]
          },
          "metadata": {},
          "execution_count": 16
        }
      ],
      "source": [
        "spam"
      ]
    },
    {
      "cell_type": "markdown",
      "source": [
        "這看來太抽象, 我們可以化成串列。"
      ],
      "metadata": {
        "id": "kV8sYi2n_bJ6"
      }
    },
    {
      "cell_type": "code",
      "execution_count": null,
      "metadata": {
        "id": "6Gu-RDZrpywD",
        "outputId": "c302060d-3562-47da-cf65-412c59699e55",
        "colab": {
          "base_uri": "https://localhost:8080/"
        }
      },
      "outputs": [
        {
          "output_type": "execute_result",
          "data": {
            "text/plain": [
              "[0, 1, 2, 3, 4, 5, 6, 7, 8, 9]"
            ]
          },
          "metadata": {},
          "execution_count": 18
        }
      ],
      "source": [
        "list(spam)"
      ]
    },
    {
      "cell_type": "code",
      "execution_count": null,
      "metadata": {
        "id": "KjFaJTCjpywE",
        "outputId": "57624a74-664c-4492-cf18-a3cc7c061ae4",
        "colab": {
          "base_uri": "https://localhost:8080/"
        }
      },
      "outputs": [
        {
          "output_type": "execute_result",
          "data": {
            "text/plain": [
              "[1, 2, 3, 4, 5]"
            ]
          },
          "metadata": {},
          "execution_count": 19
        }
      ],
      "source": [
        "list(range(1,6))"
      ]
    },
    {
      "cell_type": "markdown",
      "source": [
        "可以不是差 1 嗎?"
      ],
      "metadata": {
        "id": "H_WBuLwjCavJ"
      }
    },
    {
      "cell_type": "code",
      "source": [
        "list(range(1, 10, 2))"
      ],
      "metadata": {
        "colab": {
          "base_uri": "https://localhost:8080/"
        },
        "id": "J9ao3ks4ChFq",
        "outputId": "c79c59fc-7f1a-4061-a1f3-4f8c5296198f"
      },
      "execution_count": null,
      "outputs": [
        {
          "output_type": "execute_result",
          "data": {
            "text/plain": [
              "[1, 3, 5, 7, 9]"
            ]
          },
          "metadata": {},
          "execution_count": 20
        }
      ]
    },
    {
      "cell_type": "markdown",
      "source": [
        "倒過來算可以嗎?"
      ],
      "metadata": {
        "id": "Sbg8iUEFCnoL"
      }
    },
    {
      "cell_type": "code",
      "source": [
        "list(range(9, 0, -1))"
      ],
      "metadata": {
        "colab": {
          "base_uri": "https://localhost:8080/"
        },
        "id": "m54B7i7sClJK",
        "outputId": "88a840bf-7056-4dbf-9218-d18b4385ebec"
      },
      "execution_count": null,
      "outputs": [
        {
          "output_type": "execute_result",
          "data": {
            "text/plain": [
              "[9, 8, 7, 6, 5, 4, 3, 2, 1]"
            ]
          },
          "metadata": {},
          "execution_count": 21
        }
      ]
    },
    {
      "cell_type": "markdown",
      "source": [
        "不要差整數可以嗎? 原本標準的 `range` 是不行的, 要用 `numpy` 中, `array` 版的 `range`, 也就是 `arange`。"
      ],
      "metadata": {
        "id": "Us4hpBuzC9tc"
      }
    },
    {
      "cell_type": "code",
      "execution_count": null,
      "metadata": {
        "id": "Bik7pXgcpywE",
        "outputId": "1e4412da-d204-4172-bdd3-b08544f69347",
        "colab": {
          "base_uri": "https://localhost:8080/"
        }
      },
      "outputs": [
        {
          "output_type": "execute_result",
          "data": {
            "text/plain": [
              "array([1. , 1.2, 1.4, 1.6, 1.8, 2. , 2.2, 2.4, 2.6, 2.8])"
            ]
          },
          "metadata": {},
          "execution_count": 22
        }
      ],
      "source": [
        "np.arange(1, 3, 0.2)"
      ]
    },
    {
      "cell_type": "markdown",
      "metadata": {
        "id": "lC6mqHocpywE"
      },
      "source": [
        "### 6. 天馬行空的例子"
      ]
    },
    {
      "cell_type": "markdown",
      "source": [],
      "metadata": {
        "id": "3aIILqS7GB1j"
      }
    },
    {
      "cell_type": "code",
      "source": [
        "for k in range(50):\n",
        "    print(\" \"*k + \"oooo\")\n",
        "    sleep(1)\n",
        "    clear_output(wait=True)"
      ],
      "metadata": {
        "colab": {
          "base_uri": "https://localhost:8080/"
        },
        "id": "yHzMqxXwGZaH",
        "outputId": "eacd7068-38eb-4ecd-efe7-f0d2714b9d7e"
      },
      "execution_count": 35,
      "outputs": [
        {
          "output_type": "stream",
          "name": "stdout",
          "text": [
            "                                                 oooo\n"
          ]
        }
      ]
    },
    {
      "cell_type": "code",
      "execution_count": 36,
      "metadata": {
        "id": "01agvr7npywE",
        "outputId": "b9f2c15b-01b0-49ea-d842-4a08f4d1a463",
        "colab": {
          "base_uri": "https://localhost:8080/"
        }
      },
      "outputs": [
        {
          "output_type": "stream",
          "name": "stdout",
          "text": [
            "               *\n",
            "                   *\n",
            "                        *\n",
            "                           *\n",
            "                             *\n",
            "                             *\n",
            "                            *\n",
            "                          *\n",
            "                      *\n",
            "                 *\n",
            "            *\n",
            "       *\n",
            "   *\n",
            " *\n",
            "*\n",
            "*\n",
            "  *\n",
            "     *\n",
            "          *\n",
            "              *\n"
          ]
        }
      ],
      "source": [
        "for x in np.linspace(0, 2*np.pi, 20):\n",
        "    n = int((np.sin(x)+1)*15)\n",
        "    print(\" \"*n + \"*\")"
      ]
    },
    {
      "cell_type": "code",
      "execution_count": 37,
      "metadata": {
        "id": "2jUaWemXpywF",
        "outputId": "efb2f5a9-dd9b-446b-bd0f-9834d2b09366",
        "colab": {
          "base_uri": "https://localhost:8080/"
        }
      },
      "outputs": [
        {
          "output_type": "stream",
          "name": "stdout",
          "text": [
            "                        ─=≡Σ((( つ•̀ω•́)つ\n"
          ]
        }
      ],
      "source": [
        "from IPython.display import clear_output\n",
        "from time import sleep\n",
        "\n",
        "for n in range(1, 25):\n",
        "    print(\" \"*n + \"─=≡Σ((( つ•̀ω•́)つ\")\n",
        "    sleep(0.2)\n",
        "    clear_output(wait=True)\n",
        "    "
      ]
    },
    {
      "cell_type": "markdown",
      "metadata": {
        "id": "jxxTYd2YpywF"
      },
      "source": [
        "### 7. 笛卡兒為什麼不用 $\\cos$?"
      ]
    },
    {
      "cell_type": "code",
      "execution_count": 38,
      "metadata": {
        "id": "F2MEUiA5pywF"
      },
      "outputs": [],
      "source": [
        "t = np.linspace(0, 2*np.pi, 500)"
      ]
    },
    {
      "cell_type": "code",
      "execution_count": 39,
      "metadata": {
        "id": "hqJ9IJDJpywF"
      },
      "outputs": [],
      "source": [
        "r = (1 - np.cos(t))"
      ]
    },
    {
      "cell_type": "code",
      "execution_count": 40,
      "metadata": {
        "id": "OQ-iBKJqpywF"
      },
      "outputs": [],
      "source": [
        "x = r * np.cos(t)\n",
        "y = r * np.sin(t)"
      ]
    },
    {
      "cell_type": "code",
      "execution_count": 41,
      "metadata": {
        "id": "Jsoo_8M9pywF",
        "outputId": "d23d1004-2423-4685-8dac-bd51ba5b5776",
        "colab": {
          "base_uri": "https://localhost:8080/",
          "height": 283
        }
      },
      "outputs": [
        {
          "output_type": "execute_result",
          "data": {
            "text/plain": [
              "[<matplotlib.lines.Line2D at 0x7ff35eb273d0>]"
            ]
          },
          "metadata": {},
          "execution_count": 41
        },
        {
          "output_type": "display_data",
          "data": {
            "text/plain": [
              "<Figure size 432x288 with 1 Axes>"
            ],
            "image/png": "[encoded data removed]"
          },
          "metadata": {
            "needs_background": "light"
          }
        }
      ],
      "source": [
        "ax = plt.gca()\n",
        "ax.set_aspect('equal')\n",
        "plt.plot(x, y, c='r', lw=2)"
      ]
    },
    {
      "cell_type": "code",
      "execution_count": 42,
      "metadata": {
        "id": "05KeMs1jpywG"
      },
      "outputs": [],
      "source": [
        "t = np.linspace(0, 2*np.pi, 500)\n",
        "k = np.linspace(0, 2*np.pi, 20)"
      ]
    },
    {
      "cell_type": "code",
      "execution_count": 49,
      "metadata": {
        "id": "o72YV9bqpywG",
        "outputId": "fb39b6c6-89e8-48b6-9dd8-133e2a1b0c81",
        "colab": {
          "base_uri": "https://localhost:8080/",
          "height": 248
        }
      },
      "outputs": [
        {
          "output_type": "display_data",
          "data": {
            "text/plain": [
              "<Figure size 432x288 with 1 Axes>"
            ],
            "image/png": "[encoded data removed]"
          },
          "metadata": {
            "needs_background": "light"
          }
        }
      ],
      "source": [
        "for b in k:\n",
        "    r = 1 - np.sin(t - b)\n",
        "    x = r * np.cos(t)\n",
        "    y = r * np.sin(t)\n",
        "    \n",
        "    plt.axis('equal')\n",
        "    plt.axis('off')\n",
        "    plt.xlim(-3,3)\n",
        "    plt.ylim(-3,3)\n",
        "    plt.plot(x, y, c='r', lw=2)\n",
        "    plt.show()\n",
        "    sleep(0.5)\n",
        "    clear_output(wait=True)"
      ]
    },
    {
      "cell_type": "code",
      "source": [],
      "metadata": {
        "id": "vK-6MkuXy07K"
      },
      "execution_count": 49,
      "outputs": []
    },
    {
      "cell_type": "markdown",
      "source": [
        "## 8. datetime"
      ],
      "metadata": {
        "id": "qoSaoVCp4HIg"
      }
    },
    {
      "cell_type": "code",
      "source": [
        "from datetime import date"
      ],
      "metadata": {
        "id": "s9juGhCy4RYv"
      },
      "execution_count": 51,
      "outputs": []
    },
    {
      "cell_type": "code",
      "source": [
        "d = date.today()-date(2000, 12, 15)"
      ],
      "metadata": {
        "id": "ySXtyWt14TlD"
      },
      "execution_count": 54,
      "outputs": []
    },
    {
      "cell_type": "code",
      "source": [
        "d.days"
      ],
      "metadata": {
        "colab": {
          "base_uri": "https://localhost:8080/"
        },
        "id": "9P_f7P2K4ZxA",
        "outputId": "9ecf4bc9-5301-47dc-91d8-397c59ab24b7"
      },
      "execution_count": 56,
      "outputs": [
        {
          "output_type": "execute_result",
          "data": {
            "text/plain": [
              "7957"
            ]
          },
          "metadata": {},
          "execution_count": 56
        }
      ]
    },
    {
      "cell_type": "code",
      "source": [
        "egg = \"我出生到今天一共是 \" + str(d.days) + \" 天。\""
      ],
      "metadata": {
        "id": "1X5ORGOi4687"
      },
      "execution_count": 57,
      "outputs": []
    },
    {
      "cell_type": "code",
      "source": [
        "print(egg)"
      ],
      "metadata": {
        "colab": {
          "base_uri": "https://localhost:8080/"
        },
        "id": "JcfLXxTt8KuE",
        "outputId": "c8a46e75-b887-4ace-9693-c5e16ec6ca7a"
      },
      "execution_count": 58,
      "outputs": [
        {
          "output_type": "stream",
          "name": "stdout",
          "text": [
            "我出生到今天一共是 7957 天。\n"
          ]
        }
      ]
    },
    {
      "cell_type": "code",
      "source": [],
      "metadata": {
        "id": "t8yGyi628MHz"
      },
      "execution_count": null,
      "outputs": []
    }
  ],
  "metadata": {
    "kernelspec": {
      "display_name": "Python 3",
      "language": "python",
      "name": "python3"
    },
    "language_info": {
      "codemirror_mode": {
        "name": "ipython",
        "version": 3
      },
      "file_extension": ".py",
      "mimetype": "text/x-python",
      "name": "python",
      "nbconvert_exporter": "python",
      "pygments_lexer": "ipython3",
      "version": "3.7.3"
    },
    "colab": {
      "provenance": [],
      "include_colab_link": true
    }
  },
  "nbformat": 4,
  "nbformat_minor": 0
}