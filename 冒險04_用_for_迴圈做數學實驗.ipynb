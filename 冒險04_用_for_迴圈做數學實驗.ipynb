{
  "cells": [
    {
      "cell_type": "markdown",
      "metadata": {
        "id": "view-in-github",
        "colab_type": "text"
      },
      "source": [
        "<a href=\"https://colab.research.google.com/github/yenlung/Py-Math-Book/blob/main/%E5%86%92%E9%9A%AA04_%E7%94%A8_for_%E8%BF%B4%E5%9C%88%E5%81%9A%E6%95%B8%E5%AD%B8%E5%AF%A6%E9%A9%97.ipynb\" target=\"_parent\"><img src=\"https://colab.research.google.com/assets/colab-badge.svg\" alt=\"Open In Colab\"/></a>"
      ]
    },
    {
      "cell_type": "code",
      "execution_count": 1,
      "metadata": {
        "id": "4uJQ2cHPpyv0"
      },
      "outputs": [],
      "source": [
        "%matplotlib inline\n",
        "\n",
        "import numpy as np\n",
        "import sympy as sp\n",
        "import pandas as pd\n",
        "import matplotlib.pyplot as plt"
      ]
    },
    {
      "cell_type": "markdown",
      "metadata": {
        "id": "LMKTwtM7pyv3"
      },
      "source": [
        "### 1. list 串列\n",
        "\n",
        "串列可以說是 Python 非常基本/重要的資料型態, 可以想像就是一串的數據/資料。"
      ]
    },
    {
      "cell_type": "code",
      "execution_count": 2,
      "metadata": {
        "id": "8SNkmtJSpyv5"
      },
      "outputs": [],
      "source": [
        "egg = [3, 5, 7, 9, 4, 1]"
      ]
    },
    {
      "cell_type": "markdown",
      "source": [
        "要看一下內容和以前一樣。"
      ],
      "metadata": {
        "id": "yEgKUb6mqvfi"
      }
    },
    {
      "cell_type": "code",
      "source": [
        "egg"
      ],
      "metadata": {
        "colab": {
          "base_uri": "https://localhost:8080/"
        },
        "id": "gf5mbHpBqtoJ",
        "outputId": "562462b8-00d5-4f3c-f9ea-21a3a6686685"
      },
      "execution_count": 3,
      "outputs": [
        {
          "output_type": "execute_result",
          "data": {
            "text/plain": [
              "[3, 5, 7, 9, 4, 1]"
            ]
          },
          "metadata": {},
          "execution_count": 3
        }
      ]
    },
    {
      "cell_type": "markdown",
      "metadata": {
        "id": "zHo39is4pyv5"
      },
      "source": [
        "### 2. 一一換算商品價格\n",
        "\n",
        "我們可以用 Google 很快查出匯率。比方說要瑞典幣 (SEK) 換成台幣 (TWD), 就搜尋\n",
        "\n",
        "    1sek in twd"
      ]
    },
    {
      "cell_type": "code",
      "execution_count": 4,
      "metadata": {
        "id": "aW-KKekepyv6"
      },
      "outputs": [],
      "source": [
        "prices = [599, 299, 995]"
      ]
    },
    {
      "cell_type": "code",
      "execution_count": 5,
      "metadata": {
        "id": "NT0h1BdApyv6"
      },
      "outputs": [],
      "source": [
        "c = 2.79"
      ]
    },
    {
      "cell_type": "markdown",
      "source": [
        "先來用 `for` 迴圈, 一一把裡面的東西列出來。"
      ],
      "metadata": {
        "id": "cEb8GYHnr8Cm"
      }
    },
    {
      "cell_type": "code",
      "source": [
        "for p in prices:\n",
        "    print(p)"
      ],
      "metadata": {
        "colab": {
          "base_uri": "https://localhost:8080/"
        },
        "id": "NYQEG4rNsDn7",
        "outputId": "6c73e7b5-c195-419e-abb3-e38cd1f6928b"
      },
      "execution_count": 6,
      "outputs": [
        {
          "output_type": "stream",
          "name": "stdout",
          "text": [
            "599\n",
            "299\n",
            "995\n"
          ]
        }
      ]
    },
    {
      "cell_type": "markdown",
      "source": [
        "現在來一一做匯率的換算。"
      ],
      "metadata": {
        "id": "K76wedi7sIIb"
      }
    },
    {
      "cell_type": "code",
      "execution_count": 7,
      "metadata": {
        "id": "C8fwcW4Bpyv7",
        "outputId": "9be61be1-a61b-4ef0-89dd-c279b455ebd1",
        "colab": {
          "base_uri": "https://localhost:8080/"
        }
      },
      "outputs": [
        {
          "output_type": "stream",
          "name": "stdout",
          "text": [
            "1671.21\n",
            "834.21\n",
            "2776.05\n"
          ]
        }
      ],
      "source": [
        "for p in prices:\n",
        "    print(p*c)"
      ]
    },
    {
      "cell_type": "markdown",
      "metadata": {
        "id": "MJPEA0Ylpyv9"
      },
      "source": [
        "### 3. Hello, World!\n",
        "\n",
        "由 C 語言聖經 K&R 的 K (Kernighan) 發揚光大的經典程式。"
      ]
    },
    {
      "cell_type": "code",
      "execution_count": 8,
      "metadata": {
        "id": "7Gxi5Dvhpyv-",
        "outputId": "47dcd2fb-72ad-44a8-c26c-67f218444a50",
        "colab": {
          "base_uri": "https://localhost:8080/"
        }
      },
      "outputs": [
        {
          "output_type": "stream",
          "name": "stdout",
          "text": [
            "hello, world\n"
          ]
        }
      ],
      "source": [
        "print(\"hello, world\")"
      ]
    },
    {
      "cell_type": "markdown",
      "metadata": {
        "id": "YM-0JSgGpyv_"
      },
      "source": [
        "### 4. 我們來做個進度條"
      ]
    },
    {
      "cell_type": "code",
      "execution_count": 9,
      "metadata": {
        "id": "iJMYnLCSpywA"
      },
      "outputs": [],
      "source": [
        "prog = [1,2,3,4,5,6,7,8,9,10]"
      ]
    },
    {
      "cell_type": "code",
      "execution_count": 10,
      "metadata": {
        "id": "SLO_kRhApywB",
        "outputId": "af9dcae2-633c-48f2-a200-507a12196189",
        "colab": {
          "base_uri": "https://localhost:8080/"
        }
      },
      "outputs": [
        {
          "output_type": "stream",
          "name": "stdout",
          "text": [
            "█\n",
            "██\n",
            "███\n",
            "████\n",
            "█████\n",
            "██████\n",
            "███████\n",
            "████████\n",
            "█████████\n",
            "██████████\n"
          ]
        }
      ],
      "source": [
        "for k in prog:\n",
        "    print(\"█\"*k)"
      ]
    },
    {
      "cell_type": "markdown",
      "source": [
        "這太快了, 可以不要進行這麼快嗎?"
      ],
      "metadata": {
        "id": "gbGYINqC9rkh"
      }
    },
    {
      "cell_type": "code",
      "execution_count": 11,
      "metadata": {
        "id": "eLzqIc0ZpywB"
      },
      "outputs": [],
      "source": [
        "from time import sleep"
      ]
    },
    {
      "cell_type": "code",
      "execution_count": 12,
      "metadata": {
        "id": "0gJVGuYGpywB",
        "outputId": "4df9ed9a-dab8-46e3-b482-1d4bc0cca9ab",
        "colab": {
          "base_uri": "https://localhost:8080/"
        }
      },
      "outputs": [
        {
          "output_type": "stream",
          "name": "stdout",
          "text": [
            "█\n",
            "██\n",
            "███\n",
            "████\n",
            "█████\n",
            "██████\n",
            "███████\n",
            "████████\n",
            "█████████\n",
            "██████████\n"
          ]
        }
      ],
      "source": [
        "for k in prog:\n",
        "    print(\"█\"*k)\n",
        "    sleep(1)"
      ]
    },
    {
      "cell_type": "markdown",
      "source": [
        "可以清除掉, 更像個類似進度條的東西嗎?"
      ],
      "metadata": {
        "id": "z2St6Hbt-S2k"
      }
    },
    {
      "cell_type": "code",
      "execution_count": 13,
      "metadata": {
        "id": "xWwp7I6spywC"
      },
      "outputs": [],
      "source": [
        "from IPython.display import clear_output"
      ]
    },
    {
      "cell_type": "code",
      "execution_count": 14,
      "metadata": {
        "id": "gNflldVJpywC",
        "outputId": "8755b096-f20e-4fbf-a808-1b20e39dbbdc",
        "colab": {
          "base_uri": "https://localhost:8080/"
        }
      },
      "outputs": [
        {
          "output_type": "stream",
          "name": "stdout",
          "text": [
            "██████████\n"
          ]
        }
      ],
      "source": [
        "for k in prog:\n",
        "    print(\"█\"*k)\n",
        "    sleep(1)\n",
        "    clear_output(wait=True)"
      ]
    },
    {
      "cell_type": "markdown",
      "metadata": {
        "id": "mH2QnyZ-pywC"
      },
      "source": [
        "### 5. 快速生成串列的 `range` 指令"
      ]
    },
    {
      "cell_type": "code",
      "execution_count": 15,
      "metadata": {
        "id": "uit7RewSpywD"
      },
      "outputs": [],
      "source": [
        "spam = range(10)"
      ]
    },
    {
      "cell_type": "code",
      "execution_count": 16,
      "metadata": {
        "id": "fy7FQ9adpywD",
        "outputId": "48d4da65-9d81-4381-87f5-ca1d33e87f27",
        "colab": {
          "base_uri": "https://localhost:8080/"
        }
      },
      "outputs": [
        {
          "output_type": "execute_result",
          "data": {
            "text/plain": [
              "range(0, 10)"
            ]
          },
          "metadata": {},
          "execution_count": 16
        }
      ],
      "source": [
        "spam"
      ]
    },
    {
      "cell_type": "markdown",
      "source": [
        "這看來太抽象, 我們可以化成串列。"
      ],
      "metadata": {
        "id": "kV8sYi2n_bJ6"
      }
    },
    {
      "cell_type": "code",
      "execution_count": 17,
      "metadata": {
        "id": "6Gu-RDZrpywD",
        "outputId": "09cad03a-aac3-44f8-9171-a6c8cfed6dab",
        "colab": {
          "base_uri": "https://localhost:8080/"
        }
      },
      "outputs": [
        {
          "output_type": "execute_result",
          "data": {
            "text/plain": [
              "[0, 1, 2, 3, 4, 5, 6, 7, 8, 9]"
            ]
          },
          "metadata": {},
          "execution_count": 17
        }
      ],
      "source": [
        "list(spam)"
      ]
    },
    {
      "cell_type": "code",
      "execution_count": 18,
      "metadata": {
        "id": "KjFaJTCjpywE",
        "outputId": "2505e3c5-8d3d-4e72-e04f-66f314a347e7",
        "colab": {
          "base_uri": "https://localhost:8080/"
        }
      },
      "outputs": [
        {
          "output_type": "execute_result",
          "data": {
            "text/plain": [
              "[1, 2, 3, 4, 5]"
            ]
          },
          "metadata": {},
          "execution_count": 18
        }
      ],
      "source": [
        "list(range(1,6))"
      ]
    },
    {
      "cell_type": "markdown",
      "source": [
        "可以不是差 1 嗎?"
      ],
      "metadata": {
        "id": "H_WBuLwjCavJ"
      }
    },
    {
      "cell_type": "code",
      "source": [
        "list(range(1, 10, 2))"
      ],
      "metadata": {
        "colab": {
          "base_uri": "https://localhost:8080/"
        },
        "id": "J9ao3ks4ChFq",
        "outputId": "b3855c4e-fcac-473e-d71f-9174284df132"
      },
      "execution_count": 19,
      "outputs": [
        {
          "output_type": "execute_result",
          "data": {
            "text/plain": [
              "[1, 3, 5, 7, 9]"
            ]
          },
          "metadata": {},
          "execution_count": 19
        }
      ]
    },
    {
      "cell_type": "markdown",
      "source": [
        "倒過來算可以嗎?"
      ],
      "metadata": {
        "id": "Sbg8iUEFCnoL"
      }
    },
    {
      "cell_type": "code",
      "source": [
        "list(range(9, 0, -1))"
      ],
      "metadata": {
        "colab": {
          "base_uri": "https://localhost:8080/"
        },
        "id": "m54B7i7sClJK",
        "outputId": "98dcca10-ea07-4bd9-dd7b-4fc5c6750039"
      },
      "execution_count": 20,
      "outputs": [
        {
          "output_type": "execute_result",
          "data": {
            "text/plain": [
              "[9, 8, 7, 6, 5, 4, 3, 2, 1]"
            ]
          },
          "metadata": {},
          "execution_count": 20
        }
      ]
    },
    {
      "cell_type": "markdown",
      "source": [
        "不要差整數可以嗎? 原本標準的 `range` 是不行的, 要用 `numpy` 中, `array` 版的 `range`, 也就是 `arange`。"
      ],
      "metadata": {
        "id": "Us4hpBuzC9tc"
      }
    },
    {
      "cell_type": "code",
      "execution_count": 21,
      "metadata": {
        "id": "Bik7pXgcpywE",
        "outputId": "ab3aff69-b6d6-4011-d249-de44c13f7bf0",
        "colab": {
          "base_uri": "https://localhost:8080/"
        }
      },
      "outputs": [
        {
          "output_type": "execute_result",
          "data": {
            "text/plain": [
              "array([1. , 1.2, 1.4, 1.6, 1.8, 2. , 2.2, 2.4, 2.6, 2.8])"
            ]
          },
          "metadata": {},
          "execution_count": 21
        }
      ],
      "source": [
        "np.arange(1, 3, 0.2)"
      ]
    },
    {
      "cell_type": "markdown",
      "metadata": {
        "id": "lC6mqHocpywE"
      },
      "source": [
        "### 6. 天馬行空的例子"
      ]
    },
    {
      "cell_type": "markdown",
      "source": [
        "我們現在來讓一隻狐狸動起來! 當然也不一定要是狐狸, 可以去比如說 [emojipedia](https://emojipedia.org/), 找個喜歡的。"
      ],
      "metadata": {
        "id": "3aIILqS7GB1j"
      }
    },
    {
      "cell_type": "code",
      "source": [
        "for k in range(50):\n",
        "    print(\" \"*k + \"🦊\")\n",
        "    sleep(1)\n",
        "    clear_output(wait=True)"
      ],
      "metadata": {
        "colab": {
          "base_uri": "https://localhost:8080/"
        },
        "id": "yHzMqxXwGZaH",
        "outputId": "7e0ee0e3-b65c-4113-da4f-089819398d36"
      },
      "execution_count": 22,
      "outputs": [
        {
          "output_type": "stream",
          "name": "stdout",
          "text": [
            "                                                 🦊\n"
          ]
        }
      ]
    },
    {
      "cell_type": "markdown",
      "source": [
        "狐狸版的 $\\sin$ 是不是更酷呢?"
      ],
      "metadata": {
        "id": "RhsaqCDStWSi"
      }
    },
    {
      "cell_type": "code",
      "execution_count": 23,
      "metadata": {
        "id": "01agvr7npywE",
        "outputId": "f31e2cd5-7939-43e7-d6dd-1a0ed777ebff",
        "colab": {
          "base_uri": "https://localhost:8080/"
        }
      },
      "outputs": [
        {
          "output_type": "stream",
          "name": "stdout",
          "text": [
            "               🦊\n",
            "                   🦊\n",
            "                        🦊\n",
            "                           🦊\n",
            "                             🦊\n",
            "                             🦊\n",
            "                            🦊\n",
            "                          🦊\n",
            "                      🦊\n",
            "                 🦊\n",
            "            🦊\n",
            "       🦊\n",
            "   🦊\n",
            " 🦊\n",
            "🦊\n",
            "🦊\n",
            "  🦊\n",
            "     🦊\n",
            "          🦊\n",
            "              🦊\n"
          ]
        }
      ],
      "source": [
        "for x in np.linspace(0, 2*np.pi, 20):\n",
        "    n = int((np.sin(x)+1)*15)\n",
        "    print(\" \"*n + \"🦊\")"
      ]
    },
    {
      "cell_type": "markdown",
      "source": [
        "總之, 發揮你天馬行空的創意! 才沒幾次課, 就可以做一些很酷的東西出來!"
      ],
      "metadata": {
        "id": "IJ40c_HMtec2"
      }
    },
    {
      "cell_type": "code",
      "execution_count": 25,
      "metadata": {
        "id": "2jUaWemXpywF",
        "outputId": "30f2bbaf-8302-411f-e703-876bd3b6c48d",
        "colab": {
          "base_uri": "https://localhost:8080/"
        }
      },
      "outputs": [
        {
          "output_type": "stream",
          "name": "stdout",
          "text": [
            "                             ─=≡Σ((( つ•̀ω•́)つ\n"
          ]
        }
      ],
      "source": [
        "for n in range(1, 30):\n",
        "    print(\" \"*n + \"─=≡Σ((( つ•̀ω•́)つ\")\n",
        "    sleep(0.2)\n",
        "    clear_output(wait=True)\n",
        "    "
      ]
    },
    {
      "cell_type": "markdown",
      "metadata": {
        "id": "jxxTYd2YpywF"
      },
      "source": [
        "### 7. 笛卡兒為什麼不用 $\\cos$?"
      ]
    },
    {
      "cell_type": "code",
      "execution_count": 26,
      "metadata": {
        "id": "F2MEUiA5pywF"
      },
      "outputs": [],
      "source": [
        "t = np.linspace(0, 2*np.pi, 500)"
      ]
    },
    {
      "cell_type": "code",
      "execution_count": 27,
      "metadata": {
        "id": "hqJ9IJDJpywF"
      },
      "outputs": [],
      "source": [
        "r = (1 - np.cos(t))\n",
        "\n",
        "x = r * np.cos(t)\n",
        "y = r * np.sin(t)"
      ]
    },
    {
      "cell_type": "code",
      "execution_count": 28,
      "metadata": {
        "id": "Jsoo_8M9pywF",
        "outputId": "30d98cd2-cf36-4da6-b021-baabb2f67277",
        "colab": {
          "base_uri": "https://localhost:8080/",
          "height": 266
        }
      },
      "outputs": [
        {
          "output_type": "execute_result",
          "data": {
            "text/plain": [
              "[<matplotlib.lines.Line2D at 0x7f2cad734e10>]"
            ]
          },
          "metadata": {},
          "execution_count": 28
        },
        {
          "output_type": "display_data",
          "data": {
            "text/plain": [
              "<Figure size 432x288 with 1 Axes>"
            ],
            "image/png": "[encoded data removed]"
          },
          "metadata": {
            "needs_background": "light"
          }
        }
      ],
      "source": [
        "plt.axis('equal')\n",
        "plt.axis('off')\n",
        "plt.plot(x, y, c='r', lw=2)"
      ]
    },
    {
      "cell_type": "markdown",
      "source": [
        "讓愛心動起來!!"
      ],
      "metadata": {
        "id": "ESIV_v-kt5kE"
      }
    },
    {
      "cell_type": "code",
      "execution_count": 29,
      "metadata": {
        "id": "05KeMs1jpywG"
      },
      "outputs": [],
      "source": [
        "t = np.linspace(0, 2*np.pi, 500)\n",
        "k = np.linspace(0, 2*np.pi, 20)"
      ]
    },
    {
      "cell_type": "code",
      "execution_count": 30,
      "metadata": {
        "id": "o72YV9bqpywG",
        "outputId": "a6cd43da-a642-4659-e0ef-6fbba06d93f0",
        "colab": {
          "base_uri": "https://localhost:8080/",
          "height": 248
        }
      },
      "outputs": [
        {
          "output_type": "display_data",
          "data": {
            "text/plain": [
              "<Figure size 432x288 with 1 Axes>"
            ],
            "image/png": "[encoded data removed]"
          },
          "metadata": {
            "needs_background": "light"
          }
        }
      ],
      "source": [
        "for b in k:\n",
        "    r = 1 - np.sin(t - b)\n",
        "    x = r * np.cos(t)\n",
        "    y = r * np.sin(t)\n",
        "    \n",
        "    plt.axis('equal')\n",
        "    plt.axis('off')\n",
        "    plt.xlim(-3,3)\n",
        "    plt.ylim(-3,3)\n",
        "    plt.plot(x, y, c='r', lw=2)\n",
        "    plt.show()\n",
        "    sleep(0.5)\n",
        "    clear_output(wait=True)"
      ]
    },
    {
      "cell_type": "markdown",
      "source": [
        "### 8. `datetime` 記算我重要的日子\n",
        "\n",
        "假設 2000/12/15 出生的人, 到今天是生命中的第幾天呢?"
      ],
      "metadata": {
        "id": "qoSaoVCp4HIg"
      }
    },
    {
      "cell_type": "code",
      "source": [
        "from datetime import date"
      ],
      "metadata": {
        "id": "s9juGhCy4RYv"
      },
      "execution_count": 31,
      "outputs": []
    },
    {
      "cell_type": "code",
      "source": [
        "d = date.today()-date(2000, 12, 15)"
      ],
      "metadata": {
        "id": "ySXtyWt14TlD"
      },
      "execution_count": 32,
      "outputs": []
    },
    {
      "cell_type": "code",
      "source": [
        "d.days"
      ],
      "metadata": {
        "colab": {
          "base_uri": "https://localhost:8080/"
        },
        "id": "9P_f7P2K4ZxA",
        "outputId": "90120881-a381-4399-f040-542cc88e87b9"
      },
      "execution_count": 33,
      "outputs": [
        {
          "output_type": "execute_result",
          "data": {
            "text/plain": [
              "7957"
            ]
          },
          "metadata": {},
          "execution_count": 33
        }
      ]
    },
    {
      "cell_type": "code",
      "source": [
        "egg = \"我出生到今天一共是 \" + str(d.days) + \" 天。\""
      ],
      "metadata": {
        "id": "1X5ORGOi4687"
      },
      "execution_count": 34,
      "outputs": []
    },
    {
      "cell_type": "code",
      "source": [
        "print(egg)"
      ],
      "metadata": {
        "id": "JcfLXxTt8KuE",
        "outputId": "c913f190-8e32-4759-d5af-421d83b815c1",
        "colab": {
          "base_uri": "https://localhost:8080/"
        }
      },
      "execution_count": 35,
      "outputs": [
        {
          "output_type": "stream",
          "name": "stdout",
          "text": [
            "我出生到今天一共是 7957 天。\n"
          ]
        }
      ]
    }
  ],
  "metadata": {
    "kernelspec": {
      "display_name": "Python 3",
      "language": "python",
      "name": "python3"
    },
    "language_info": {
      "codemirror_mode": {
        "name": "ipython",
        "version": 3
      },
      "file_extension": ".py",
      "mimetype": "text/x-python",
      "name": "python",
      "nbconvert_exporter": "python",
      "pygments_lexer": "ipython3",
      "version": "3.7.3"
    },
    "colab": {
      "provenance": [],
      "include_colab_link": true
    }
  },
  "nbformat": 4,
  "nbformat_minor": 0
}