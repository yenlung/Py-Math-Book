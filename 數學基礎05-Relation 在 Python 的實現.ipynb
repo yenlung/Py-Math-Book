{
 "cells": [
  {
   "cell_type": "code",
   "execution_count": 1,
   "metadata": {},
   "outputs": [],
   "source": [
    "%matplotlib inline\n",
    "\n",
    "import numpy as np\n",
    "import sympy as sp\n",
    "import matplotlib.pyplot as plt"
   ]
  },
  {
   "cell_type": "markdown",
   "metadata": {},
   "source": [
    "### 1. 笛卡兒乘積\n",
    "\n",
    "我們來試試看可不可以用 Python 列出兩個集合的笛卡兒乘積。"
   ]
  },
  {
   "cell_type": "code",
   "execution_count": 2,
   "metadata": {},
   "outputs": [],
   "source": [
    "A = [1, 2, 3]\n",
    "B = list('豬狗猴')"
   ]
  },
  {
   "cell_type": "markdown",
   "metadata": {},
   "source": [
    "這裡用了 Python 快速做 list 的小技巧, 我們看一下 B 的內容。"
   ]
  },
  {
   "cell_type": "code",
   "execution_count": 3,
   "metadata": {},
   "outputs": [
    {
     "data": {
      "text/plain": [
       "['豬', '狗', '猴']"
      ]
     },
     "execution_count": 3,
     "metadata": {},
     "output_type": "execute_result"
    }
   ],
   "source": [
    "B"
   ]
  },
  {
   "cell_type": "markdown",
   "metadata": {},
   "source": [
    "回憶兩個集合笛卡兒乘積的定義:\n",
    "\n",
    "$$ A \\times B = \\{ (a, b) \\mid a \\in A,  b \\in B \\}$$\n",
    "\n",
    "結果用 Python 還真的很像!"
   ]
  },
  {
   "cell_type": "code",
   "execution_count": 4,
   "metadata": {},
   "outputs": [],
   "source": [
    "AB = [(a, b) for a in A for b in B]"
   ]
  },
  {
   "cell_type": "code",
   "execution_count": 5,
   "metadata": {},
   "outputs": [
    {
     "data": {
      "text/plain": [
       "[(1, '豬'),\n",
       " (1, '狗'),\n",
       " (1, '猴'),\n",
       " (2, '豬'),\n",
       " (2, '狗'),\n",
       " (2, '猴'),\n",
       " (3, '豬'),\n",
       " (3, '狗'),\n",
       " (3, '猴')]"
      ]
     },
     "execution_count": 5,
     "metadata": {},
     "output_type": "execute_result"
    }
   ],
   "source": [
    "AB"
   ]
  },
  {
   "cell_type": "markdown",
   "metadata": {},
   "source": [
    "### 2. 建置一個 relation\n",
    "\n",
    "假設\n",
    "\n",
    "$$ Z = \\{m \\in \\mathbb{Z} \\mid -5 \\leq m \\leq 5 \\}$$\n",
    "\n",
    "而\n",
    "\n",
    "$$ N = \\{n \\in \\mathbb{Z} \\mid 0 \\leq n \\leq 25 \\}$$\n",
    "\n",
    "注意 Python 要產生 Z 和 N 的方式。"
   ]
  },
  {
   "cell_type": "code",
   "execution_count": 6,
   "metadata": {},
   "outputs": [],
   "source": [
    "Z = range(-5, 6)"
   ]
  },
  {
   "cell_type": "code",
   "execution_count": 7,
   "metadata": {},
   "outputs": [
    {
     "data": {
      "text/plain": [
       "[-5, -4, -3, -2, -1, 0, 1, 2, 3, 4, 5]"
      ]
     },
     "execution_count": 7,
     "metadata": {},
     "output_type": "execute_result"
    }
   ],
   "source": [
    "list(Z)"
   ]
  },
  {
   "cell_type": "code",
   "execution_count": 8,
   "metadata": {},
   "outputs": [],
   "source": [
    "N = range(26)"
   ]
  },
  {
   "cell_type": "code",
   "execution_count": 9,
   "metadata": {},
   "outputs": [
    {
     "data": {
      "text/plain": [
       "[0,\n",
       " 1,\n",
       " 2,\n",
       " 3,\n",
       " 4,\n",
       " 5,\n",
       " 6,\n",
       " 7,\n",
       " 8,\n",
       " 9,\n",
       " 10,\n",
       " 11,\n",
       " 12,\n",
       " 13,\n",
       " 14,\n",
       " 15,\n",
       " 16,\n",
       " 17,\n",
       " 18,\n",
       " 19,\n",
       " 20,\n",
       " 21,\n",
       " 22,\n",
       " 23,\n",
       " 24,\n",
       " 25]"
      ]
     },
     "execution_count": 9,
     "metadata": {},
     "output_type": "execute_result"
    }
   ],
   "source": [
    "list(N)"
   ]
  },
  {
   "cell_type": "markdown",
   "metadata": {},
   "source": [
    "我們知道, $Z$ 和 $N$ 間的一個關係 $R$, 就是一個 $Z \\times N$ 的子集合。我們定義\n",
    "\n",
    "$$R := \\{(m,n) \\mid m \\in Z, n \\in N, \\mbox{ and } m^2=n\\}$$\n",
    "\n",
    "用 Python 寫真是非常像!"
   ]
  },
  {
   "cell_type": "code",
   "execution_count": 10,
   "metadata": {},
   "outputs": [],
   "source": [
    "R = [(m, n) for m in Z for n in N if m**2 == n]"
   ]
  },
  {
   "cell_type": "code",
   "execution_count": 11,
   "metadata": {},
   "outputs": [
    {
     "data": {
      "text/plain": [
       "[(-5, 25),\n",
       " (-4, 16),\n",
       " (-3, 9),\n",
       " (-2, 4),\n",
       " (-1, 1),\n",
       " (0, 0),\n",
       " (1, 1),\n",
       " (2, 4),\n",
       " (3, 9),\n",
       " (4, 16),\n",
       " (5, 25)]"
      ]
     },
     "execution_count": 11,
     "metadata": {},
     "output_type": "execute_result"
    }
   ],
   "source": [
    "R"
   ]
  },
  {
   "cell_type": "markdown",
   "metadata": {},
   "source": [
    "### 3. 一個關係的 inverse\n",
    "\n",
    "$R$ 是某個在 $A$ 和 $B$ 的關係 (即 $R \\subset A \\times B$), 它的 inverse $R^{-1} \\subset B \\times A$ 是這樣定義的:\n",
    "\n",
    "$$R^{-1} = \\{(b, a) \\mid (a, b) \\in R \\}$$"
   ]
  },
  {
   "cell_type": "code",
   "execution_count": 12,
   "metadata": {},
   "outputs": [],
   "source": [
    "Rinv = [(b, a) for (a, b) in R]"
   ]
  },
  {
   "cell_type": "code",
   "execution_count": 13,
   "metadata": {},
   "outputs": [
    {
     "data": {
      "text/plain": [
       "[(25, -5),\n",
       " (16, -4),\n",
       " (9, -3),\n",
       " (4, -2),\n",
       " (1, -1),\n",
       " (0, 0),\n",
       " (1, 1),\n",
       " (4, 2),\n",
       " (9, 3),\n",
       " (16, 4),\n",
       " (25, 5)]"
      ]
     },
     "execution_count": 13,
     "metadata": {},
     "output_type": "execute_result"
    }
   ],
   "source": [
    "Rinv"
   ]
  },
  {
   "cell_type": "markdown",
   "metadata": {},
   "source": [
    "又一次 Python 和我們的數學真的有夠像! 記得 $R$ 長這樣:"
   ]
  },
  {
   "cell_type": "code",
   "execution_count": 14,
   "metadata": {},
   "outputs": [
    {
     "data": {
      "text/plain": [
       "[(-5, 25),\n",
       " (-4, 16),\n",
       " (-3, 9),\n",
       " (-2, 4),\n",
       " (-1, 1),\n",
       " (0, 0),\n",
       " (1, 1),\n",
       " (2, 4),\n",
       " (3, 9),\n",
       " (4, 16),\n",
       " (5, 25)]"
      ]
     },
     "execution_count": 14,
     "metadata": {},
     "output_type": "execute_result"
    }
   ],
   "source": [
    "R"
   ]
  },
  {
   "cell_type": "markdown",
   "metadata": {},
   "source": [
    "對一個 $a \\in A$, $b \\in B$, 我們可否判斷 $a$ 和 $b$ 是否有關係呢?"
   ]
  },
  {
   "cell_type": "code",
   "execution_count": 15,
   "metadata": {},
   "outputs": [
    {
     "data": {
      "text/plain": [
       "True"
      ]
     },
     "execution_count": 15,
     "metadata": {},
     "output_type": "execute_result"
    }
   ],
   "source": [
    "(1, 1) in R"
   ]
  },
  {
   "cell_type": "code",
   "execution_count": 16,
   "metadata": {},
   "outputs": [
    {
     "data": {
      "text/plain": [
       "False"
      ]
     },
     "execution_count": 16,
     "metadata": {},
     "output_type": "execute_result"
    }
   ],
   "source": [
    "(1, 2) in R"
   ]
  },
  {
   "cell_type": "markdown",
   "metadata": {},
   "source": [
    "我們甚至可以選出一個元素, 列出和它有關係的所有元素!"
   ]
  },
  {
   "cell_type": "code",
   "execution_count": 17,
   "metadata": {},
   "outputs": [],
   "source": [
    "b = 4\n",
    "\n",
    "C = [a  for a in Z if (b, a) in Rinv]"
   ]
  },
  {
   "cell_type": "code",
   "execution_count": 18,
   "metadata": {},
   "outputs": [
    {
     "data": {
      "text/plain": [
       "[-2, 2]"
      ]
     },
     "execution_count": 18,
     "metadata": {},
     "output_type": "execute_result"
    }
   ],
   "source": [
    "C"
   ]
  }
 ],
 "metadata": {
  "kernelspec": {
   "display_name": "Python 3",
   "language": "python",
   "name": "python3"
  },
  "language_info": {
   "codemirror_mode": {
    "name": "ipython",
    "version": 3
   },
   "file_extension": ".py",
   "mimetype": "text/x-python",
   "name": "python",
   "nbconvert_exporter": "python",
   "pygments_lexer": "ipython3",
   "version": "3.7.3"
  }
 },
 "nbformat": 4,
 "nbformat_minor": 4
}
