{
  "cells": [
    {
      "cell_type": "markdown",
      "metadata": {
        "id": "view-in-github",
        "colab_type": "text"
      },
      "source": [
        "<a href=\"https://colab.research.google.com/github/yenlung/Py-Math-Book/blob/main/%E5%86%92%E9%9A%AA10_%E7%AC%A6%E8%99%9F%E5%9E%8B%E9%81%8B%E7%AE%97%E5%92%8C%CF%80%E5%AF%86%E7%A2%BC.ipynb\" target=\"_parent\"><img src=\"https://colab.research.google.com/assets/colab-badge.svg\" alt=\"Open In Colab\"/></a>"
      ]
    },
    {
      "cell_type": "code",
      "execution_count": 1,
      "metadata": {
        "id": "ve2_EAURU0le"
      },
      "outputs": [],
      "source": [
        "%matplotlib inline\n",
        "\n",
        "import numpy as np\n",
        "import sympy as sp\n",
        "import matplotlib.pyplot as plt"
      ]
    },
    {
      "cell_type": "markdown",
      "metadata": {
        "id": "xy1Ria-OU0lh"
      },
      "source": [
        "### 1. 符號型運算\n",
        "\n",
        "開始寫程式, 不久之後我們就會發現, 電腦不太會算我們平常的數學。"
      ]
    },
    {
      "cell_type": "code",
      "execution_count": 2,
      "metadata": {
        "id": "XVkWxJF4U0li",
        "outputId": "de12a8ca-2404-4096-d981-73bd7d511f67",
        "colab": {
          "base_uri": "https://localhost:8080/"
        }
      },
      "outputs": [
        {
          "output_type": "execute_result",
          "data": {
            "text/plain": [
              "0.8333333333333333"
            ]
          },
          "metadata": {},
          "execution_count": 2
        }
      ],
      "source": [
        "1/2 + 1/3"
      ]
    },
    {
      "cell_type": "markdown",
      "metadata": {
        "id": "679tMf4VU0lj"
      },
      "source": [
        "交給 `sympy` 算是這樣。"
      ]
    },
    {
      "cell_type": "code",
      "execution_count": 3,
      "metadata": {
        "id": "9LAjSoftU0lk"
      },
      "outputs": [],
      "source": [
        "a = sp.Rational(1, 2) # 1/2\n",
        "b = sp.Rational(1, 3) # 1/3"
      ]
    },
    {
      "cell_type": "code",
      "execution_count": 4,
      "metadata": {
        "id": "-4KyDn8ZU0lk",
        "outputId": "b8677831-0acd-4db6-b8de-38c33355976a",
        "colab": {
          "base_uri": "https://localhost:8080/",
          "height": 51
        }
      },
      "outputs": [
        {
          "output_type": "execute_result",
          "data": {
            "text/plain": [
              "5/6"
            ],
            "text/latex": "$\\displaystyle \\frac{5}{6}$"
          },
          "metadata": {},
          "execution_count": 4
        }
      ],
      "source": [
        "a + b"
      ]
    },
    {
      "cell_type": "markdown",
      "metadata": {
        "id": "ZYEmE6NBU0lk"
      },
      "source": [
        "### 2. 運用「sympy 化」的技巧"
      ]
    },
    {
      "cell_type": "code",
      "execution_count": 5,
      "metadata": {
        "id": "GAGVSFO4U0ll",
        "outputId": "0b2aab32-51f5-474c-d6ef-566601aabaaa",
        "colab": {
          "base_uri": "https://localhost:8080/",
          "height": 51
        }
      },
      "outputs": [
        {
          "output_type": "execute_result",
          "data": {
            "text/plain": [
              "5/6"
            ],
            "text/latex": "$\\displaystyle \\frac{5}{6}$"
          },
          "metadata": {},
          "execution_count": 5
        }
      ],
      "source": [
        "sp.sympify(1)/2 + sp.sympify(1)/3"
      ]
    },
    {
      "cell_type": "markdown",
      "metadata": {
        "id": "SSmqDRsRU0lm"
      },
      "source": [
        "單獨讀入 `sympify` 的簡化版指令 `S`。"
      ]
    },
    {
      "cell_type": "code",
      "execution_count": 6,
      "metadata": {
        "id": "_EwcuEMfU0lm"
      },
      "outputs": [],
      "source": [
        "from sympy import S"
      ]
    },
    {
      "cell_type": "code",
      "execution_count": 7,
      "metadata": {
        "id": "T-OC_WAFU0ln",
        "outputId": "d98a6fca-f728-4deb-c2bf-bf966684609e",
        "colab": {
          "base_uri": "https://localhost:8080/",
          "height": 51
        }
      },
      "outputs": [
        {
          "output_type": "execute_result",
          "data": {
            "text/plain": [
              "5/6"
            ],
            "text/latex": "$\\displaystyle \\frac{5}{6}$"
          },
          "metadata": {},
          "execution_count": 7
        }
      ],
      "source": [
        "S(1)/2 + S(1)/3"
      ]
    },
    {
      "cell_type": "markdown",
      "metadata": {
        "id": "HOVTFD4tU0ln"
      },
      "source": [
        "### 3. `sympy` 真的像數學課的數學"
      ]
    },
    {
      "cell_type": "code",
      "execution_count": 8,
      "metadata": {
        "id": "h8B9Ln_JU0ln",
        "outputId": "2e6a93d0-6013-4bbd-ceef-1885586c5696",
        "colab": {
          "base_uri": "https://localhost:8080/",
          "height": 55
        }
      },
      "outputs": [
        {
          "output_type": "execute_result",
          "data": {
            "text/plain": [
              "sqrt(2)/2"
            ],
            "text/latex": "$\\displaystyle \\frac{\\sqrt{2}}{2}$"
          },
          "metadata": {},
          "execution_count": 8
        }
      ],
      "source": [
        "sp.cos(sp.pi/4)"
      ]
    },
    {
      "cell_type": "code",
      "execution_count": 9,
      "metadata": {
        "id": "SzVI1ouXU0lo"
      },
      "outputs": [],
      "source": [
        "π = sp.pi"
      ]
    },
    {
      "cell_type": "code",
      "execution_count": 10,
      "metadata": {
        "id": "RUzwN-JjU0lo",
        "outputId": "13a8275d-9cf1-4d8b-c0a1-cad3f7ced4b9",
        "colab": {
          "base_uri": "https://localhost:8080/",
          "height": 55
        }
      },
      "outputs": [
        {
          "output_type": "execute_result",
          "data": {
            "text/plain": [
              "sqrt(2)/2"
            ],
            "text/latex": "$\\displaystyle \\frac{\\sqrt{2}}{2}$"
          },
          "metadata": {},
          "execution_count": 10
        }
      ],
      "source": [
        "sp.cos(π/4)"
      ]
    },
    {
      "cell_type": "markdown",
      "metadata": {
        "id": "Y6Qv4CV0U0lo"
      },
      "source": [
        "### 4. 你知道世界上所有的事都在 π 裡面嗎?"
      ]
    },
    {
      "cell_type": "code",
      "execution_count": 11,
      "metadata": {
        "id": "my_Kvu8DU0lp",
        "outputId": "ddd7df59-cb8c-49e6-c2a9-3710f54f2f17",
        "colab": {
          "base_uri": "https://localhost:8080/",
          "height": 37
        }
      },
      "outputs": [
        {
          "output_type": "execute_result",
          "data": {
            "text/plain": [
              "3.1415926535897932385"
            ],
            "text/latex": "$\\displaystyle 3.1415926535897932385$"
          },
          "metadata": {},
          "execution_count": 11
        }
      ],
      "source": [
        "π.n(20)"
      ]
    },
    {
      "cell_type": "code",
      "execution_count": 12,
      "metadata": {
        "id": "xPqXfYhcU0lp"
      },
      "outputs": [],
      "source": [
        "egg = str(π.n(100000))"
      ]
    },
    {
      "cell_type": "code",
      "execution_count": 13,
      "metadata": {
        "id": "4C_fU4dXU0lp",
        "outputId": "773ee700-7daf-44a4-de36-0b74c3e14aa0",
        "colab": {
          "base_uri": "https://localhost:8080/"
        }
      },
      "outputs": [
        {
          "output_type": "execute_result",
          "data": {
            "text/plain": [
              "True"
            ]
          },
          "metadata": {},
          "execution_count": 13
        }
      ],
      "source": [
        "'1215' in egg"
      ]
    },
    {
      "cell_type": "code",
      "execution_count": 14,
      "metadata": {
        "id": "_0xi7OpvU0lp",
        "outputId": "1934ca07-ee32-4538-ffde-48c85185ff56",
        "colab": {
          "base_uri": "https://localhost:8080/"
        }
      },
      "outputs": [
        {
          "output_type": "stream",
          "name": "stdout",
          "text": [
            "M 77\n",
            "a 97\n",
            "c 99\n"
          ]
        }
      ],
      "source": [
        "print('M', ord('M'))\n",
        "print('a', ord('a'))\n",
        "print('c', ord('c'))"
      ]
    },
    {
      "cell_type": "code",
      "source": [
        "'779799' in egg"
      ],
      "metadata": {
        "colab": {
          "base_uri": "https://localhost:8080/"
        },
        "id": "8sm0vvqyVU96",
        "outputId": "5d086dca-2c2e-4784-dd3e-9642c5842cbd"
      },
      "execution_count": 15,
      "outputs": [
        {
          "output_type": "execute_result",
          "data": {
            "text/plain": [
              "False"
            ]
          },
          "metadata": {},
          "execution_count": 15
        }
      ]
    },
    {
      "cell_type": "markdown",
      "source": [
        "耶, 跟我們廣告的不一樣? 不緊張, 要更多位的 π 試試看!"
      ],
      "metadata": {
        "id": "5qU2-m3ZVw9L"
      }
    },
    {
      "cell_type": "code",
      "source": [
        "egg = str(π.n(300000))"
      ],
      "metadata": {
        "id": "SDy7lLWLVYq-"
      },
      "execution_count": 16,
      "outputs": []
    },
    {
      "cell_type": "code",
      "source": [
        "'779799' in egg"
      ],
      "metadata": {
        "colab": {
          "base_uri": "https://localhost:8080/"
        },
        "id": "j8iYHedyVkJY",
        "outputId": "b818216d-4dd5-465a-f622-e7cc38087b4d"
      },
      "execution_count": 17,
      "outputs": [
        {
          "output_type": "execute_result",
          "data": {
            "text/plain": [
              "True"
            ]
          },
          "metadata": {},
          "execution_count": 17
        }
      ]
    },
    {
      "cell_type": "markdown",
      "metadata": {
        "id": "eyHu3u-ZU0lq"
      },
      "source": [
        "各種運算其實都可以用 `n` 的技巧。"
      ]
    },
    {
      "cell_type": "code",
      "execution_count": 18,
      "metadata": {
        "id": "5eKhEc0QU0lq"
      },
      "outputs": [],
      "source": [
        "k = sp.sqrt(2)"
      ]
    },
    {
      "cell_type": "code",
      "execution_count": 19,
      "metadata": {
        "id": "jQPBWhWaU0lq",
        "outputId": "d6ee2169-8bff-4189-861e-b562e0332b5e",
        "colab": {
          "base_uri": "https://localhost:8080/",
          "height": 37
        }
      },
      "outputs": [
        {
          "output_type": "execute_result",
          "data": {
            "text/plain": [
              "1.414213562373095048801688724209698078569671875376948073176679737990732478462107038850387534327641573"
            ],
            "text/latex": "$\\displaystyle 1.414213562373095048801688724209698078569671875376948073176679737990732478462107038850387534327641573$"
          },
          "metadata": {},
          "execution_count": 19
        }
      ],
      "source": [
        "k.n(100)"
      ]
    },
    {
      "cell_type": "markdown",
      "metadata": {
        "id": "sk7q8UjTU0lq"
      },
      "source": [
        "### 5. 真的可以符號型運算!\n",
        "\n",
        "我們可以用 `sympy` 表示 $\\sin(x)$ 等等函數, 而 $x$ 真的是個數學上的變數!"
      ]
    },
    {
      "cell_type": "markdown",
      "metadata": {
        "id": "64n9sZsxU0lr"
      },
      "source": [
        "#### 方法 1"
      ]
    },
    {
      "cell_type": "code",
      "execution_count": 20,
      "metadata": {
        "id": "n_th9dCPU0lr",
        "outputId": "2b61d695-c937-4171-b45e-cdf6aa6eb223",
        "colab": {
          "base_uri": "https://localhost:8080/",
          "height": 39
        }
      },
      "outputs": [
        {
          "output_type": "execute_result",
          "data": {
            "text/plain": [
              "x"
            ],
            "text/latex": "$\\displaystyle x$"
          },
          "metadata": {},
          "execution_count": 20
        }
      ],
      "source": [
        "sp.var('x')"
      ]
    },
    {
      "cell_type": "code",
      "execution_count": 21,
      "metadata": {
        "id": "7nLysnLfU0lr"
      },
      "outputs": [],
      "source": [
        "expr = x**2"
      ]
    },
    {
      "cell_type": "code",
      "execution_count": 22,
      "metadata": {
        "id": "5SKZ4WE3U0lr",
        "outputId": "bed0c7a4-b572-4ebf-d742-3cc20372be4e",
        "colab": {
          "base_uri": "https://localhost:8080/",
          "height": 39
        }
      },
      "outputs": [
        {
          "output_type": "execute_result",
          "data": {
            "text/plain": [
              "x**2"
            ],
            "text/latex": "$\\displaystyle x^{2}$"
          },
          "metadata": {},
          "execution_count": 22
        }
      ],
      "source": [
        "expr"
      ]
    },
    {
      "cell_type": "code",
      "execution_count": 23,
      "metadata": {
        "id": "lgKcm23tU0lr",
        "outputId": "59c9973d-daec-4838-e836-555cdec4a9a0",
        "colab": {
          "base_uri": "https://localhost:8080/",
          "height": 37
        }
      },
      "outputs": [
        {
          "output_type": "execute_result",
          "data": {
            "text/plain": [
              "4"
            ],
            "text/latex": "$\\displaystyle 4$"
          },
          "metadata": {},
          "execution_count": 23
        }
      ],
      "source": [
        "expr.subs(x,2)"
      ]
    },
    {
      "cell_type": "markdown",
      "metadata": {
        "id": "39SRdWmMU0lr"
      },
      "source": [
        "#### 方法 2"
      ]
    },
    {
      "cell_type": "code",
      "execution_count": 24,
      "metadata": {
        "id": "MXmaV1u1U0lr"
      },
      "outputs": [],
      "source": [
        "x = sp.Symbol('x')"
      ]
    },
    {
      "cell_type": "markdown",
      "metadata": {
        "id": "6fpXdFNNU0lr"
      },
      "source": [
        "#### 方法 3"
      ]
    },
    {
      "cell_type": "code",
      "execution_count": 25,
      "metadata": {
        "id": "Vg9oKk5UU0lr"
      },
      "outputs": [],
      "source": [
        "x = sp.symbols('x')"
      ]
    },
    {
      "cell_type": "markdown",
      "metadata": {
        "id": "32ihCkPXU0lr"
      },
      "source": [
        "和上次的有何不同呢? 原來是可以同時令兩個變數!"
      ]
    },
    {
      "cell_type": "code",
      "execution_count": 26,
      "metadata": {
        "id": "BDOOQmujU0ls"
      },
      "outputs": [],
      "source": [
        "x, y = sp.symbols('x,y')"
      ]
    },
    {
      "cell_type": "code",
      "execution_count": 27,
      "metadata": {
        "id": "5qQzg266U0ls",
        "outputId": "00b43e68-444d-403c-f6ad-c60b0a697808",
        "colab": {
          "base_uri": "https://localhost:8080/",
          "height": 39
        }
      },
      "outputs": [
        {
          "output_type": "execute_result",
          "data": {
            "text/plain": [
              "x"
            ],
            "text/latex": "$\\displaystyle x$"
          },
          "metadata": {},
          "execution_count": 27
        }
      ],
      "source": [
        "x"
      ]
    },
    {
      "cell_type": "code",
      "execution_count": 28,
      "metadata": {
        "id": "8yRl87NPU0ls",
        "outputId": "b9bdcdd7-90e6-446b-ac0b-438e5c6f19a3",
        "colab": {
          "base_uri": "https://localhost:8080/",
          "height": 39
        }
      },
      "outputs": [
        {
          "output_type": "execute_result",
          "data": {
            "text/plain": [
              "y"
            ],
            "text/latex": "$\\displaystyle y$"
          },
          "metadata": {},
          "execution_count": 28
        }
      ],
      "source": [
        "y"
      ]
    },
    {
      "cell_type": "code",
      "execution_count": 29,
      "metadata": {
        "id": "GiRDbSuSU0ls"
      },
      "outputs": [],
      "source": [
        "a, b = sp.symbols(r'\\alpha,\\beta')"
      ]
    },
    {
      "cell_type": "code",
      "execution_count": 30,
      "metadata": {
        "id": "c10JDWSCU0ls",
        "outputId": "9ebf0684-98c8-423c-cc01-5fa0744765ab",
        "colab": {
          "base_uri": "https://localhost:8080/",
          "height": 39
        }
      },
      "outputs": [
        {
          "output_type": "execute_result",
          "data": {
            "text/plain": [
              "\\alpha"
            ],
            "text/latex": "$\\displaystyle \\alpha$"
          },
          "metadata": {},
          "execution_count": 30
        }
      ],
      "source": [
        "a"
      ]
    },
    {
      "cell_type": "code",
      "execution_count": 31,
      "metadata": {
        "id": "kYcUOArTU0ls",
        "outputId": "884c45e7-f78c-4a81-fef5-641e64d4ed42",
        "colab": {
          "base_uri": "https://localhost:8080/",
          "height": 39
        }
      },
      "outputs": [
        {
          "output_type": "execute_result",
          "data": {
            "text/plain": [
              "\\alpha**3 + 3*\\alpha**2*\\beta + 3*\\alpha*\\beta**2 + \\beta**3"
            ],
            "text/latex": "$\\displaystyle \\alpha^{3} + 3 \\alpha^{2} \\beta + 3 \\alpha \\beta^{2} + \\beta^{3}$"
          },
          "metadata": {},
          "execution_count": 31
        }
      ],
      "source": [
        "sp.expand((a+b)**3)"
      ]
    },
    {
      "cell_type": "markdown",
      "metadata": {
        "id": "LpgciKDmU0ls"
      },
      "source": [
        "#### 方法 4"
      ]
    },
    {
      "cell_type": "code",
      "execution_count": 32,
      "metadata": {
        "id": "BtW3U3q5U0ls"
      },
      "outputs": [],
      "source": [
        "from sympy.abc import x, y, z"
      ]
    },
    {
      "cell_type": "code",
      "execution_count": 33,
      "metadata": {
        "id": "84phsnqTU0ls",
        "outputId": "f2adf1fd-beb3-4f47-a27d-0bd84289b75e",
        "colab": {
          "base_uri": "https://localhost:8080/",
          "height": 39
        }
      },
      "outputs": [
        {
          "output_type": "execute_result",
          "data": {
            "text/plain": [
              "z**2"
            ],
            "text/latex": "$\\displaystyle z^{2}$"
          },
          "metadata": {},
          "execution_count": 33
        }
      ],
      "source": [
        "z**2"
      ]
    },
    {
      "cell_type": "code",
      "execution_count": 34,
      "metadata": {
        "id": "tC7jXh5VU0ls",
        "outputId": "8b69f473-06d7-4f2b-b718-c8f4bc5b5167",
        "colab": {
          "base_uri": "https://localhost:8080/",
          "height": 39
        }
      },
      "outputs": [
        {
          "output_type": "execute_result",
          "data": {
            "text/plain": [
              "x**2 + 2*x*y + y**2"
            ],
            "text/latex": "$\\displaystyle x^{2} + 2 x y + y^{2}$"
          },
          "metadata": {},
          "execution_count": 34
        }
      ],
      "source": [
        "sp.expand((x+y)**2)"
      ]
    },
    {
      "cell_type": "code",
      "execution_count": 35,
      "metadata": {
        "id": "t7cxK-nTU0ls"
      },
      "outputs": [],
      "source": [
        "expr = (x+y+z)**2"
      ]
    },
    {
      "cell_type": "code",
      "execution_count": 36,
      "metadata": {
        "id": "b4l36_BCU0lt",
        "outputId": "95b943dc-7efe-41dc-d9ed-574e7a7f38dc",
        "colab": {
          "base_uri": "https://localhost:8080/",
          "height": 37
        }
      },
      "outputs": [
        {
          "output_type": "execute_result",
          "data": {
            "text/plain": [
              "36"
            ],
            "text/latex": "$\\displaystyle 36$"
          },
          "metadata": {},
          "execution_count": 36
        }
      ],
      "source": [
        "expr.subs({x:2,y:3,z:1})"
      ]
    },
    {
      "cell_type": "markdown",
      "metadata": {
        "id": "SH4ZNxGdU0lt"
      },
      "source": [
        "甚至可以做很酷的微積分!"
      ]
    },
    {
      "cell_type": "code",
      "execution_count": 37,
      "metadata": {
        "id": "X9eHRVAqU0lt",
        "outputId": "a55fc719-082d-4fb0-9252-26ebafafb833",
        "colab": {
          "base_uri": "https://localhost:8080/",
          "height": 39
        }
      },
      "outputs": [
        {
          "output_type": "execute_result",
          "data": {
            "text/plain": [
              "-sin(x)"
            ],
            "text/latex": "$\\displaystyle - \\sin{\\left(x \\right)}$"
          },
          "metadata": {},
          "execution_count": 37
        }
      ],
      "source": [
        "sp.diff(sp.cos(x))"
      ]
    },
    {
      "cell_type": "code",
      "execution_count": 38,
      "metadata": {
        "id": "-JZoNyMoU0lt",
        "outputId": "b2764437-5ca2-44f0-dd6b-f870f8cf72b7",
        "colab": {
          "base_uri": "https://localhost:8080/",
          "height": 39
        }
      },
      "outputs": [
        {
          "output_type": "execute_result",
          "data": {
            "text/plain": [
              "log(x)"
            ],
            "text/latex": "$\\displaystyle \\log{\\left(x \\right)}$"
          },
          "metadata": {},
          "execution_count": 38
        }
      ],
      "source": [
        "sp.integrate(1/x)"
      ]
    },
    {
      "cell_type": "markdown",
      "metadata": {
        "id": "ooa1owm2U0lt"
      },
      "source": [
        "### 6. 當初 π 是怎麼算的呢?\n",
        "\n",
        "如果你想到這件事...\n",
        "\n",
        "$$\\tan(\\pi/4) = 1$$\n",
        "\n",
        "那就是說\n",
        "\n",
        "$$4 \\arctan(1) = \\pi$$"
      ]
    },
    {
      "cell_type": "code",
      "execution_count": 39,
      "metadata": {
        "id": "IYEtXcVMU0lt",
        "outputId": "10e44278-e446-4a75-b9f5-fd88b9f555b5",
        "colab": {
          "base_uri": "https://localhost:8080/"
        }
      },
      "outputs": [
        {
          "output_type": "execute_result",
          "data": {
            "text/plain": [
              "3.141592653589793"
            ]
          },
          "metadata": {},
          "execution_count": 39
        }
      ],
      "source": [
        "np.arctan(1)*4"
      ]
    },
    {
      "cell_type": "code",
      "execution_count": 40,
      "metadata": {
        "id": "gq1vzUPIU0lt",
        "outputId": "a9f6b379-53a0-420e-cf0e-da2db7825b48",
        "colab": {
          "base_uri": "https://localhost:8080/",
          "height": 39
        }
      },
      "outputs": [
        {
          "output_type": "execute_result",
          "data": {
            "text/plain": [
              "pi"
            ],
            "text/latex": "$\\displaystyle \\pi$"
          },
          "metadata": {},
          "execution_count": 40
        }
      ],
      "source": [
        "sp.atan(1)*4"
      ]
    },
    {
      "cell_type": "markdown",
      "metadata": {
        "id": "G1wti126U0lt"
      },
      "source": [
        "但是誰知 $\\arctan$ 怎麼算呢? 是不是有種想法, 如果是多項式就好了..."
      ]
    },
    {
      "cell_type": "code",
      "execution_count": 41,
      "metadata": {
        "id": "2KzvvDiGU0lt"
      },
      "outputs": [],
      "source": [
        "expr = sp.series(sp.atan(x),x,n=10)"
      ]
    },
    {
      "cell_type": "code",
      "execution_count": 42,
      "metadata": {
        "id": "PnOEP6MbU0lt",
        "outputId": "b93f7946-2988-4848-d041-ecdecc56cc91",
        "colab": {
          "base_uri": "https://localhost:8080/",
          "height": 54
        }
      },
      "outputs": [
        {
          "output_type": "execute_result",
          "data": {
            "text/plain": [
              "x - x**3/3 + x**5/5 - x**7/7 + x**9/9 + O(x**10)"
            ],
            "text/latex": "$\\displaystyle x - \\frac{x^{3}}{3} + \\frac{x^{5}}{5} - \\frac{x^{7}}{7} + \\frac{x^{9}}{9} + O\\left(x^{10}\\right)$"
          },
          "metadata": {},
          "execution_count": 42
        }
      ],
      "source": [
        "expr"
      ]
    },
    {
      "cell_type": "code",
      "execution_count": 43,
      "metadata": {
        "id": "COS3yaL2U0lt"
      },
      "outputs": [],
      "source": [
        "expr = expr.removeO()"
      ]
    },
    {
      "cell_type": "code",
      "execution_count": 44,
      "metadata": {
        "id": "NaYx2OGbU0lt",
        "outputId": "6bba8b73-2116-412f-d303-a9bb7aafeacb",
        "colab": {
          "base_uri": "https://localhost:8080/",
          "height": 37
        }
      },
      "outputs": [
        {
          "output_type": "execute_result",
          "data": {
            "text/plain": [
              "3.33968253968254"
            ],
            "text/latex": "$\\displaystyle 3.33968253968254$"
          },
          "metadata": {},
          "execution_count": 44
        }
      ],
      "source": [
        "(expr.subs(x,1)*4).evalf()"
      ]
    },
    {
      "cell_type": "code",
      "execution_count": 45,
      "metadata": {
        "id": "fGko5VeeU0lu"
      },
      "outputs": [],
      "source": [
        "expr = sp.series(sp.atan(x),x,n=200)"
      ]
    },
    {
      "cell_type": "code",
      "execution_count": 46,
      "metadata": {
        "id": "EwMjcIpzU0lu"
      },
      "outputs": [],
      "source": [
        "expr = expr.removeO()"
      ]
    },
    {
      "cell_type": "code",
      "execution_count": 47,
      "metadata": {
        "id": "Ia7MZohXU0lu",
        "outputId": "489b1118-b857-44f5-81b1-4a59822f8e20",
        "colab": {
          "base_uri": "https://localhost:8080/",
          "height": 37
        }
      },
      "outputs": [
        {
          "output_type": "execute_result",
          "data": {
            "text/plain": [
              "3.13159290355855"
            ],
            "text/latex": "$\\displaystyle 3.13159290355855$"
          },
          "metadata": {},
          "execution_count": 47
        }
      ],
      "source": [
        "(expr.subs(x,1)*4).evalf()"
      ]
    },
    {
      "cell_type": "markdown",
      "metadata": {
        "id": "S0q12C3LU0lu"
      },
      "source": [
        "方法可行, 但收斂很慢!"
      ]
    },
    {
      "cell_type": "markdown",
      "metadata": {
        "id": "R8kgUP84U0lu"
      },
      "source": [
        "### 7. 蒙地卡羅法計算 π"
      ]
    },
    {
      "cell_type": "code",
      "execution_count": 48,
      "metadata": {
        "id": "Mvg1W5vWU0lu",
        "outputId": "3c0bc001-1884-4a66-b328-ada74653ea33",
        "colab": {
          "base_uri": "https://localhost:8080/",
          "height": 287
        }
      },
      "outputs": [
        {
          "output_type": "execute_result",
          "data": {
            "text/plain": [
              "[<matplotlib.lines.Line2D at 0x7f8d30532090>]"
            ]
          },
          "metadata": {},
          "execution_count": 48
        },
        {
          "output_type": "display_data",
          "data": {
            "text/plain": [
              "<Figure size 432x288 with 1 Axes>"
            ],
            "image/png": "[encoded data removed]"
          },
          "metadata": {
            "needs_background": "light"
          }
        }
      ],
      "source": [
        "π = np.pi\n",
        "θ = np.linspace(0, π/2, 200)\n",
        "x = np.cos(θ)\n",
        "y = np.sin(θ)\n",
        "\n",
        "ax = plt.gca()\n",
        "ax.set_aspect('equal')\n",
        "plt.xlim(0,1)\n",
        "plt.ylim(0,1)\n",
        "plt.plot(x,y,c='k',lw=3)"
      ]
    },
    {
      "cell_type": "code",
      "execution_count": 49,
      "metadata": {
        "id": "96C3-kVoU0lu"
      },
      "outputs": [],
      "source": [
        "n = 200\n",
        "x = np.random.rand(n)\n",
        "y = np.random.rand(n)"
      ]
    },
    {
      "cell_type": "code",
      "execution_count": 50,
      "metadata": {
        "id": "qdfHdeUMU0lu"
      },
      "outputs": [],
      "source": [
        "egg = x**2 + y**2 <= 1"
      ]
    },
    {
      "cell_type": "code",
      "execution_count": 51,
      "metadata": {
        "id": "2xSQ-dTNU0lu"
      },
      "outputs": [],
      "source": [
        "k = len(x[egg])"
      ]
    },
    {
      "cell_type": "code",
      "execution_count": 52,
      "metadata": {
        "id": "MRYw_okvU0lu",
        "outputId": "cf94b1fa-8292-454d-a6d5-6bb69872e850",
        "colab": {
          "base_uri": "https://localhost:8080/"
        }
      },
      "outputs": [
        {
          "output_type": "execute_result",
          "data": {
            "text/plain": [
              "2.98"
            ]
          },
          "metadata": {},
          "execution_count": 52
        }
      ],
      "source": [
        "k/n * 4"
      ]
    },
    {
      "cell_type": "code",
      "execution_count": 53,
      "metadata": {
        "id": "kr9IivbrU0lu"
      },
      "outputs": [],
      "source": [
        "ham = np.invert(egg)"
      ]
    },
    {
      "cell_type": "code",
      "execution_count": 54,
      "metadata": {
        "id": "zcW4LZ2tU0lu",
        "outputId": "43a20d1d-6ad8-4c88-b844-762fede13ef7",
        "colab": {
          "base_uri": "https://localhost:8080/",
          "height": 287
        }
      },
      "outputs": [
        {
          "output_type": "execute_result",
          "data": {
            "text/plain": [
              "<matplotlib.collections.PathCollection at 0x7f8d2f7a1910>"
            ]
          },
          "metadata": {},
          "execution_count": 54
        },
        {
          "output_type": "display_data",
          "data": {
            "text/plain": [
              "<Figure size 432x288 with 1 Axes>"
            ],
            "image/png": "[encoded data removed]"
          },
          "metadata": {
            "needs_background": "light"
          }
        }
      ],
      "source": [
        "π = np.pi\n",
        "θ = np.linspace(0, π/2, 200)\n",
        "xc = np.cos(θ)\n",
        "yc = np.sin(θ)\n",
        "\n",
        "ax = plt.gca()\n",
        "ax.set_aspect('equal')\n",
        "plt.xlim(0,1)\n",
        "plt.ylim(0,1)\n",
        "plt.plot(xc,yc,c='k',lw=3)\n",
        "\n",
        "plt.scatter(x[egg], y[egg], c='r')\n",
        "plt.scatter(x[ham], y[ham], c='b', alpha=0.6)"
      ]
    }
  ],
  "metadata": {
    "kernelspec": {
      "display_name": "Python 3",
      "language": "python",
      "name": "python3"
    },
    "language_info": {
      "codemirror_mode": {
        "name": "ipython",
        "version": 3
      },
      "file_extension": ".py",
      "mimetype": "text/x-python",
      "name": "python",
      "nbconvert_exporter": "python",
      "pygments_lexer": "ipython3",
      "version": "3.7.3"
    },
    "colab": {
      "provenance": [],
      "collapsed_sections": [
        "Y6Qv4CV0U0lo",
        "sk7q8UjTU0lq",
        "64n9sZsxU0lr",
        "39SRdWmMU0lr",
        "6fpXdFNNU0lr",
        "LpgciKDmU0ls",
        "ooa1owm2U0lt",
        "R8kgUP84U0lu"
      ],
      "include_colab_link": true
    }
  },
  "nbformat": 4,
  "nbformat_minor": 0
}